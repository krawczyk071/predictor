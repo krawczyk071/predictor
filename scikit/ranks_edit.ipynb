{
 "cells": [
  {
   "cell_type": "code",
   "execution_count": 2,
   "metadata": {},
   "outputs": [],
   "source": [
    "import pandas as pd\n",
    "\n",
    "def import_files(oldnum,newnum):\n",
    "    old_season = pd.read_csv(r\"C:\\Users\\krawc\\OneDrive\\Documents\\code\\pythons\\predictor\\data\\\\\"+f'ranked_mets_{str(oldnum)}.csv', index_col=[0])\n",
    "    new_season = pd.read_csv(r\"C:\\Users\\krawc\\OneDrive\\Documents\\code\\pythons\\predictor\\data\\\\\"+f\"ranked_mets_{str(newnum)}.csv\", index_col=[0])\n",
    "    return old_season,new_season\n",
    "\n"
   ]
  },
  {
   "cell_type": "code",
   "execution_count": 3,
   "metadata": {},
   "outputs": [],
   "source": [
    "def sim_promoted(new_season,old_season):\n",
    "    r1i=old_season.index\n",
    "    r2i=new_season.index\n",
    "    same=list(set(r1i).intersection(set(r2i)))\n",
    "    promoted=list(set(r2i)-set(r1i))\n",
    "   \n",
    "    real=old_season.loc[same]\n",
    "    estimated=new_season.loc[promoted]\n",
    "\n",
    "    mixed=pd.concat([real,estimated])\n",
    "    return mixed\n"
   ]
  },
  {
   "cell_type": "code",
   "execution_count": 4,
   "metadata": {},
   "outputs": [],
   "source": [
    "def run(startyear):\n",
    "    # startyear=22\n",
    "    old=(startyear-1)*100+startyear\n",
    "    new=startyear*100+(startyear+1)\n",
    "\n",
    "    old_season,new_season=import_files(old,new)\n",
    "    mixed = sim_promoted(new_season,old_season)\n",
    "    # mixed.to_csv(f'ranked_mets_{str(new)}back.csv')\n",
    "    return mixed"
   ]
  },
  {
   "cell_type": "code",
   "execution_count": 5,
   "metadata": {},
   "outputs": [],
   "source": [
    "lst=[]\n",
    "for year in range(19,23):\n",
    "    mixed =run(year)\n",
    "    lst.append(mixed)"
   ]
  },
  {
   "cell_type": "code",
   "execution_count": 7,
   "metadata": {},
   "outputs": [],
   "source": [
    "pd.concat(lst)"
   ]
  }
 ],
 "metadata": {
  "kernelspec": {
   "display_name": ".venv",
   "language": "python",
   "name": "python3"
  },
  "language_info": {
   "codemirror_mode": {
    "name": "ipython",
    "version": 3
   },
   "file_extension": ".py",
   "mimetype": "text/x-python",
   "name": "python",
   "nbconvert_exporter": "python",
   "pygments_lexer": "ipython3",
   "version": "3.11.0"
  }
 },
 "nbformat": 4,
 "nbformat_minor": 2
}
