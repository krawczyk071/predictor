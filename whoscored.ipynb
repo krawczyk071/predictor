{
 "cells": [
  {
   "cell_type": "code",
   "execution_count": 1,
   "metadata": {},
   "outputs": [],
   "source": [
    "from pathlib import Path\n",
    "chpath=r\"C:\\Users\\krawc\\OneDrive\\Documents\\code\\drivers\\geckodriver.exe\"\n",
    "\n",
    "chpath=Path(chpath)"
   ]
  },
  {
   "cell_type": "code",
   "execution_count": 6,
   "metadata": {},
   "outputs": [
    {
     "data": {
      "text/html": [
       "<pre style=\"white-space:pre;overflow-x:auto;line-height:normal;font-family:Menlo,'DejaVu Sans Mono',consolas,'Courier New',monospace\"><span style=\"color: #7fbfbf; text-decoration-color: #7fbfbf\">[10/12/23 10:03:58] </span><span style=\"color: #000080; text-decoration-color: #000080\">INFO    </span> Saving cached data to ~\\soccerdata\\data\\WhoScored                        <a href=\"file://c:\\Users\\krawc\\OneDrive\\Documents\\code\\pythons\\predictor\\.venv\\Lib\\site-packages\\soccerdata\\_common.py\" target=\"_blank\"><span style=\"color: #7f7f7f; text-decoration-color: #7f7f7f\">_common.py</span></a><span style=\"color: #7f7f7f; text-decoration-color: #7f7f7f\">:</span><a href=\"file://c:\\Users\\krawc\\OneDrive\\Documents\\code\\pythons\\predictor\\.venv\\Lib\\site-packages\\soccerdata\\_common.py#89\" target=\"_blank\"><span style=\"color: #7f7f7f; text-decoration-color: #7f7f7f\">89</span></a>\n",
       "</pre>\n"
      ],
      "text/plain": [
       "\u001b[2;36m[10/12/23 10:03:58]\u001b[0m\u001b[2;36m \u001b[0m\u001b[34mINFO    \u001b[0m Saving cached data to ~\\soccerdata\\data\\WhoScored                        \u001b]8;id=297755;file://c:\\Users\\krawc\\OneDrive\\Documents\\code\\pythons\\predictor\\.venv\\Lib\\site-packages\\soccerdata\\_common.py\u001b\\\u001b[2m_common.py\u001b[0m\u001b]8;;\u001b\\\u001b[2m:\u001b[0m\u001b]8;id=627924;file://c:\\Users\\krawc\\OneDrive\\Documents\\code\\pythons\\predictor\\.venv\\Lib\\site-packages\\soccerdata\\_common.py#89\u001b\\\u001b[2m89\u001b[0m\u001b]8;;\u001b\\\n"
      ]
     },
     "metadata": {},
     "output_type": "display_data"
    }
   ],
   "source": [
    "import soccerdata as sd\n",
    "ws = sd.WhoScored(leagues=\"ENG-Premier League\", seasons=2022\n",
    "                #   ,path_to_browser=chpath,headless=False\n",
    "                  )"
   ]
  },
  {
   "cell_type": "code",
   "execution_count": 7,
   "metadata": {},
   "outputs": [
    {
     "data": {
      "text/html": [
       "<pre style=\"white-space:pre;overflow-x:auto;line-height:normal;font-family:Menlo,'DejaVu Sans Mono',consolas,'Courier New',monospace\"><span style=\"color: #7fbfbf; text-decoration-color: #7fbfbf\">[10/12/23 10:06:11] </span><span style=\"color: #000080; text-decoration-color: #000080\">INFO    </span> Scraping game schedule from                                           <a href=\"file://c:\\Users\\krawc\\OneDrive\\Documents\\code\\pythons\\predictor\\.venv\\Lib\\site-packages\\soccerdata\\whoscored.py\" target=\"_blank\"><span style=\"color: #7f7f7f; text-decoration-color: #7f7f7f\">whoscored.py</span></a><span style=\"color: #7f7f7f; text-decoration-color: #7f7f7f\">:</span><a href=\"file://c:\\Users\\krawc\\OneDrive\\Documents\\code\\pythons\\predictor\\.venv\\Lib\\site-packages\\soccerdata\\whoscored.py#427\" target=\"_blank\"><span style=\"color: #7f7f7f; text-decoration-color: #7f7f7f\">427</span></a>\n",
       "<span style=\"color: #7fbfbf; text-decoration-color: #7fbfbf\">                    </span>         <span style=\"color: #0000ff; text-decoration-color: #0000ff; text-decoration: underline\">https://www.whoscored.com/Regions/252/Tournaments/2/Seasons/9075/Engl</span> <span style=\"color: #7f7f7f; text-decoration-color: #7f7f7f\">                </span>\n",
       "<span style=\"color: #7fbfbf; text-decoration-color: #7fbfbf\">                    </span>         <span style=\"color: #0000ff; text-decoration-color: #0000ff; text-decoration: underline\">and-Premier-League</span>                                                    <span style=\"color: #7f7f7f; text-decoration-color: #7f7f7f\">                </span>\n",
       "</pre>\n"
      ],
      "text/plain": [
       "\u001b[2;36m[10/12/23 10:06:11]\u001b[0m\u001b[2;36m \u001b[0m\u001b[34mINFO    \u001b[0m Scraping game schedule from                                           \u001b]8;id=203545;file://c:\\Users\\krawc\\OneDrive\\Documents\\code\\pythons\\predictor\\.venv\\Lib\\site-packages\\soccerdata\\whoscored.py\u001b\\\u001b[2mwhoscored.py\u001b[0m\u001b]8;;\u001b\\\u001b[2m:\u001b[0m\u001b]8;id=708002;file://c:\\Users\\krawc\\OneDrive\\Documents\\code\\pythons\\predictor\\.venv\\Lib\\site-packages\\soccerdata\\whoscored.py#427\u001b\\\u001b[2m427\u001b[0m\u001b]8;;\u001b\\\n",
       "\u001b[2;36m                    \u001b[0m         \u001b[4;94mhttps://www.whoscored.com/Regions/252/Tournaments/2/Seasons/9075/Engl\u001b[0m \u001b[2m                \u001b[0m\n",
       "\u001b[2;36m                    \u001b[0m         \u001b[4;94mand-Premier-League\u001b[0m                                                    \u001b[2m                \u001b[0m\n"
      ]
     },
     "metadata": {},
     "output_type": "display_data"
    },
    {
     "data": {
      "text/html": [
       "<pre style=\"white-space:pre;overflow-x:auto;line-height:normal;font-family:Menlo,'DejaVu Sans Mono',consolas,'Courier New',monospace\"><span style=\"color: #7fbfbf; text-decoration-color: #7fbfbf\">                    </span><span style=\"color: #000080; text-decoration-color: #000080\">INFO    </span> Scraping game schedule for Monday, May <span style=\"color: #008080; text-decoration-color: #008080; font-weight: bold\">1</span> <span style=\"color: #008080; text-decoration-color: #008080; font-weight: bold\">2023</span>                         <a href=\"file://c:\\Users\\krawc\\OneDrive\\Documents\\code\\pythons\\predictor\\.venv\\Lib\\site-packages\\soccerdata\\whoscored.py\" target=\"_blank\"><span style=\"color: #7f7f7f; text-decoration-color: #7f7f7f\">whoscored.py</span></a><span style=\"color: #7f7f7f; text-decoration-color: #7f7f7f\">:</span><a href=\"file://c:\\Users\\krawc\\OneDrive\\Documents\\code\\pythons\\predictor\\.venv\\Lib\\site-packages\\soccerdata\\whoscored.py#327\" target=\"_blank\"><span style=\"color: #7f7f7f; text-decoration-color: #7f7f7f\">327</span></a>\n",
       "</pre>\n"
      ],
      "text/plain": [
       "\u001b[2;36m                   \u001b[0m\u001b[2;36m \u001b[0m\u001b[34mINFO    \u001b[0m Scraping game schedule for Monday, May \u001b[1;36m1\u001b[0m \u001b[1;36m2023\u001b[0m                         \u001b]8;id=536707;file://c:\\Users\\krawc\\OneDrive\\Documents\\code\\pythons\\predictor\\.venv\\Lib\\site-packages\\soccerdata\\whoscored.py\u001b\\\u001b[2mwhoscored.py\u001b[0m\u001b]8;;\u001b\\\u001b[2m:\u001b[0m\u001b]8;id=478002;file://c:\\Users\\krawc\\OneDrive\\Documents\\code\\pythons\\predictor\\.venv\\Lib\\site-packages\\soccerdata\\whoscored.py#327\u001b\\\u001b[2m327\u001b[0m\u001b]8;;\u001b\\\n"
      ]
     },
     "metadata": {},
     "output_type": "display_data"
    },
    {
     "data": {
      "text/html": [
       "<pre style=\"white-space:pre;overflow-x:auto;line-height:normal;font-family:Menlo,'DejaVu Sans Mono',consolas,'Courier New',monospace\"><span style=\"color: #7fbfbf; text-decoration-color: #7fbfbf\">                    </span><span style=\"color: #000080; text-decoration-color: #000080\">INFO    </span> Scraping game schedule for Tuesday, May <span style=\"color: #008080; text-decoration-color: #008080; font-weight: bold\">2</span> <span style=\"color: #008080; text-decoration-color: #008080; font-weight: bold\">2023</span>                        <a href=\"file://c:\\Users\\krawc\\OneDrive\\Documents\\code\\pythons\\predictor\\.venv\\Lib\\site-packages\\soccerdata\\whoscored.py\" target=\"_blank\"><span style=\"color: #7f7f7f; text-decoration-color: #7f7f7f\">whoscored.py</span></a><span style=\"color: #7f7f7f; text-decoration-color: #7f7f7f\">:</span><a href=\"file://c:\\Users\\krawc\\OneDrive\\Documents\\code\\pythons\\predictor\\.venv\\Lib\\site-packages\\soccerdata\\whoscored.py#327\" target=\"_blank\"><span style=\"color: #7f7f7f; text-decoration-color: #7f7f7f\">327</span></a>\n",
       "</pre>\n"
      ],
      "text/plain": [
       "\u001b[2;36m                   \u001b[0m\u001b[2;36m \u001b[0m\u001b[34mINFO    \u001b[0m Scraping game schedule for Tuesday, May \u001b[1;36m2\u001b[0m \u001b[1;36m2023\u001b[0m                        \u001b]8;id=740671;file://c:\\Users\\krawc\\OneDrive\\Documents\\code\\pythons\\predictor\\.venv\\Lib\\site-packages\\soccerdata\\whoscored.py\u001b\\\u001b[2mwhoscored.py\u001b[0m\u001b]8;;\u001b\\\u001b[2m:\u001b[0m\u001b]8;id=269875;file://c:\\Users\\krawc\\OneDrive\\Documents\\code\\pythons\\predictor\\.venv\\Lib\\site-packages\\soccerdata\\whoscored.py#327\u001b\\\u001b[2m327\u001b[0m\u001b]8;;\u001b\\\n"
      ]
     },
     "metadata": {},
     "output_type": "display_data"
    },
    {
     "data": {
      "text/html": [
       "<pre style=\"white-space:pre;overflow-x:auto;line-height:normal;font-family:Menlo,'DejaVu Sans Mono',consolas,'Courier New',monospace\"><span style=\"color: #7fbfbf; text-decoration-color: #7fbfbf\">[10/12/23 10:06:12] </span><span style=\"color: #000080; text-decoration-color: #000080\">INFO    </span> Scraping game schedule for Wednesday, May <span style=\"color: #008080; text-decoration-color: #008080; font-weight: bold\">3</span> <span style=\"color: #008080; text-decoration-color: #008080; font-weight: bold\">2023</span>                      <a href=\"file://c:\\Users\\krawc\\OneDrive\\Documents\\code\\pythons\\predictor\\.venv\\Lib\\site-packages\\soccerdata\\whoscored.py\" target=\"_blank\"><span style=\"color: #7f7f7f; text-decoration-color: #7f7f7f\">whoscored.py</span></a><span style=\"color: #7f7f7f; text-decoration-color: #7f7f7f\">:</span><a href=\"file://c:\\Users\\krawc\\OneDrive\\Documents\\code\\pythons\\predictor\\.venv\\Lib\\site-packages\\soccerdata\\whoscored.py#327\" target=\"_blank\"><span style=\"color: #7f7f7f; text-decoration-color: #7f7f7f\">327</span></a>\n",
       "</pre>\n"
      ],
      "text/plain": [
       "\u001b[2;36m[10/12/23 10:06:12]\u001b[0m\u001b[2;36m \u001b[0m\u001b[34mINFO    \u001b[0m Scraping game schedule for Wednesday, May \u001b[1;36m3\u001b[0m \u001b[1;36m2023\u001b[0m                      \u001b]8;id=799616;file://c:\\Users\\krawc\\OneDrive\\Documents\\code\\pythons\\predictor\\.venv\\Lib\\site-packages\\soccerdata\\whoscored.py\u001b\\\u001b[2mwhoscored.py\u001b[0m\u001b]8;;\u001b\\\u001b[2m:\u001b[0m\u001b]8;id=323499;file://c:\\Users\\krawc\\OneDrive\\Documents\\code\\pythons\\predictor\\.venv\\Lib\\site-packages\\soccerdata\\whoscored.py#327\u001b\\\u001b[2m327\u001b[0m\u001b]8;;\u001b\\\n"
      ]
     },
     "metadata": {},
     "output_type": "display_data"
    },
    {
     "data": {
      "text/html": [
       "<pre style=\"white-space:pre;overflow-x:auto;line-height:normal;font-family:Menlo,'DejaVu Sans Mono',consolas,'Courier New',monospace\"><span style=\"color: #7fbfbf; text-decoration-color: #7fbfbf\">                    </span><span style=\"color: #000080; text-decoration-color: #000080\">INFO    </span> Scraping game schedule for Thursday, May <span style=\"color: #008080; text-decoration-color: #008080; font-weight: bold\">4</span> <span style=\"color: #008080; text-decoration-color: #008080; font-weight: bold\">2023</span>                       <a href=\"file://c:\\Users\\krawc\\OneDrive\\Documents\\code\\pythons\\predictor\\.venv\\Lib\\site-packages\\soccerdata\\whoscored.py\" target=\"_blank\"><span style=\"color: #7f7f7f; text-decoration-color: #7f7f7f\">whoscored.py</span></a><span style=\"color: #7f7f7f; text-decoration-color: #7f7f7f\">:</span><a href=\"file://c:\\Users\\krawc\\OneDrive\\Documents\\code\\pythons\\predictor\\.venv\\Lib\\site-packages\\soccerdata\\whoscored.py#327\" target=\"_blank\"><span style=\"color: #7f7f7f; text-decoration-color: #7f7f7f\">327</span></a>\n",
       "</pre>\n"
      ],
      "text/plain": [
       "\u001b[2;36m                   \u001b[0m\u001b[2;36m \u001b[0m\u001b[34mINFO    \u001b[0m Scraping game schedule for Thursday, May \u001b[1;36m4\u001b[0m \u001b[1;36m2023\u001b[0m                       \u001b]8;id=261834;file://c:\\Users\\krawc\\OneDrive\\Documents\\code\\pythons\\predictor\\.venv\\Lib\\site-packages\\soccerdata\\whoscored.py\u001b\\\u001b[2mwhoscored.py\u001b[0m\u001b]8;;\u001b\\\u001b[2m:\u001b[0m\u001b]8;id=906721;file://c:\\Users\\krawc\\OneDrive\\Documents\\code\\pythons\\predictor\\.venv\\Lib\\site-packages\\soccerdata\\whoscored.py#327\u001b\\\u001b[2m327\u001b[0m\u001b]8;;\u001b\\\n"
      ]
     },
     "metadata": {},
     "output_type": "display_data"
    },
    {
     "data": {
      "text/html": [
       "<pre style=\"white-space:pre;overflow-x:auto;line-height:normal;font-family:Menlo,'DejaVu Sans Mono',consolas,'Courier New',monospace\"><span style=\"color: #7fbfbf; text-decoration-color: #7fbfbf\">[10/12/23 10:06:13] </span><span style=\"color: #000080; text-decoration-color: #000080\">INFO    </span> Scraping game schedule for Saturday, May <span style=\"color: #008080; text-decoration-color: #008080; font-weight: bold\">6</span> <span style=\"color: #008080; text-decoration-color: #008080; font-weight: bold\">2023</span>                       <a href=\"file://c:\\Users\\krawc\\OneDrive\\Documents\\code\\pythons\\predictor\\.venv\\Lib\\site-packages\\soccerdata\\whoscored.py\" target=\"_blank\"><span style=\"color: #7f7f7f; text-decoration-color: #7f7f7f\">whoscored.py</span></a><span style=\"color: #7f7f7f; text-decoration-color: #7f7f7f\">:</span><a href=\"file://c:\\Users\\krawc\\OneDrive\\Documents\\code\\pythons\\predictor\\.venv\\Lib\\site-packages\\soccerdata\\whoscored.py#327\" target=\"_blank\"><span style=\"color: #7f7f7f; text-decoration-color: #7f7f7f\">327</span></a>\n",
       "</pre>\n"
      ],
      "text/plain": [
       "\u001b[2;36m[10/12/23 10:06:13]\u001b[0m\u001b[2;36m \u001b[0m\u001b[34mINFO    \u001b[0m Scraping game schedule for Saturday, May \u001b[1;36m6\u001b[0m \u001b[1;36m2023\u001b[0m                       \u001b]8;id=444600;file://c:\\Users\\krawc\\OneDrive\\Documents\\code\\pythons\\predictor\\.venv\\Lib\\site-packages\\soccerdata\\whoscored.py\u001b\\\u001b[2mwhoscored.py\u001b[0m\u001b]8;;\u001b\\\u001b[2m:\u001b[0m\u001b]8;id=654022;file://c:\\Users\\krawc\\OneDrive\\Documents\\code\\pythons\\predictor\\.venv\\Lib\\site-packages\\soccerdata\\whoscored.py#327\u001b\\\u001b[2m327\u001b[0m\u001b]8;;\u001b\\\n"
      ]
     },
     "metadata": {},
     "output_type": "display_data"
    },
    {
     "data": {
      "text/html": [
       "<pre style=\"white-space:pre;overflow-x:auto;line-height:normal;font-family:Menlo,'DejaVu Sans Mono',consolas,'Courier New',monospace\"><span style=\"color: #7fbfbf; text-decoration-color: #7fbfbf\">[10/12/23 10:06:14] </span><span style=\"color: #000080; text-decoration-color: #000080\">INFO    </span> Scraping game schedule for Sunday, May <span style=\"color: #008080; text-decoration-color: #008080; font-weight: bold\">7</span> <span style=\"color: #008080; text-decoration-color: #008080; font-weight: bold\">2023</span>                         <a href=\"file://c:\\Users\\krawc\\OneDrive\\Documents\\code\\pythons\\predictor\\.venv\\Lib\\site-packages\\soccerdata\\whoscored.py\" target=\"_blank\"><span style=\"color: #7f7f7f; text-decoration-color: #7f7f7f\">whoscored.py</span></a><span style=\"color: #7f7f7f; text-decoration-color: #7f7f7f\">:</span><a href=\"file://c:\\Users\\krawc\\OneDrive\\Documents\\code\\pythons\\predictor\\.venv\\Lib\\site-packages\\soccerdata\\whoscored.py#327\" target=\"_blank\"><span style=\"color: #7f7f7f; text-decoration-color: #7f7f7f\">327</span></a>\n",
       "</pre>\n"
      ],
      "text/plain": [
       "\u001b[2;36m[10/12/23 10:06:14]\u001b[0m\u001b[2;36m \u001b[0m\u001b[34mINFO    \u001b[0m Scraping game schedule for Sunday, May \u001b[1;36m7\u001b[0m \u001b[1;36m2023\u001b[0m                         \u001b]8;id=470288;file://c:\\Users\\krawc\\OneDrive\\Documents\\code\\pythons\\predictor\\.venv\\Lib\\site-packages\\soccerdata\\whoscored.py\u001b\\\u001b[2mwhoscored.py\u001b[0m\u001b]8;;\u001b\\\u001b[2m:\u001b[0m\u001b]8;id=734529;file://c:\\Users\\krawc\\OneDrive\\Documents\\code\\pythons\\predictor\\.venv\\Lib\\site-packages\\soccerdata\\whoscored.py#327\u001b\\\u001b[2m327\u001b[0m\u001b]8;;\u001b\\\n"
      ]
     },
     "metadata": {},
     "output_type": "display_data"
    },
    {
     "data": {
      "text/html": [
       "<pre style=\"white-space:pre;overflow-x:auto;line-height:normal;font-family:Menlo,'DejaVu Sans Mono',consolas,'Courier New',monospace\"><span style=\"color: #7fbfbf; text-decoration-color: #7fbfbf\">[10/12/23 10:06:15] </span><span style=\"color: #000080; text-decoration-color: #000080\">INFO    </span> Scraping game schedule for Monday, May <span style=\"color: #008080; text-decoration-color: #008080; font-weight: bold\">8</span> <span style=\"color: #008080; text-decoration-color: #008080; font-weight: bold\">2023</span>                         <a href=\"file://c:\\Users\\krawc\\OneDrive\\Documents\\code\\pythons\\predictor\\.venv\\Lib\\site-packages\\soccerdata\\whoscored.py\" target=\"_blank\"><span style=\"color: #7f7f7f; text-decoration-color: #7f7f7f\">whoscored.py</span></a><span style=\"color: #7f7f7f; text-decoration-color: #7f7f7f\">:</span><a href=\"file://c:\\Users\\krawc\\OneDrive\\Documents\\code\\pythons\\predictor\\.venv\\Lib\\site-packages\\soccerdata\\whoscored.py#327\" target=\"_blank\"><span style=\"color: #7f7f7f; text-decoration-color: #7f7f7f\">327</span></a>\n",
       "</pre>\n"
      ],
      "text/plain": [
       "\u001b[2;36m[10/12/23 10:06:15]\u001b[0m\u001b[2;36m \u001b[0m\u001b[34mINFO    \u001b[0m Scraping game schedule for Monday, May \u001b[1;36m8\u001b[0m \u001b[1;36m2023\u001b[0m                         \u001b]8;id=720110;file://c:\\Users\\krawc\\OneDrive\\Documents\\code\\pythons\\predictor\\.venv\\Lib\\site-packages\\soccerdata\\whoscored.py\u001b\\\u001b[2mwhoscored.py\u001b[0m\u001b]8;;\u001b\\\u001b[2m:\u001b[0m\u001b]8;id=558278;file://c:\\Users\\krawc\\OneDrive\\Documents\\code\\pythons\\predictor\\.venv\\Lib\\site-packages\\soccerdata\\whoscored.py#327\u001b\\\u001b[2m327\u001b[0m\u001b]8;;\u001b\\\n"
      ]
     },
     "metadata": {},
     "output_type": "display_data"
    },
    {
     "data": {
      "text/html": [
       "<pre style=\"white-space:pre;overflow-x:auto;line-height:normal;font-family:Menlo,'DejaVu Sans Mono',consolas,'Courier New',monospace\"><span style=\"color: #7fbfbf; text-decoration-color: #7fbfbf\">                    </span><span style=\"color: #000080; text-decoration-color: #000080\">INFO    </span> Scraping game schedule for Saturday, May <span style=\"color: #008080; text-decoration-color: #008080; font-weight: bold\">13</span> <span style=\"color: #008080; text-decoration-color: #008080; font-weight: bold\">2023</span>                      <a href=\"file://c:\\Users\\krawc\\OneDrive\\Documents\\code\\pythons\\predictor\\.venv\\Lib\\site-packages\\soccerdata\\whoscored.py\" target=\"_blank\"><span style=\"color: #7f7f7f; text-decoration-color: #7f7f7f\">whoscored.py</span></a><span style=\"color: #7f7f7f; text-decoration-color: #7f7f7f\">:</span><a href=\"file://c:\\Users\\krawc\\OneDrive\\Documents\\code\\pythons\\predictor\\.venv\\Lib\\site-packages\\soccerdata\\whoscored.py#327\" target=\"_blank\"><span style=\"color: #7f7f7f; text-decoration-color: #7f7f7f\">327</span></a>\n",
       "</pre>\n"
      ],
      "text/plain": [
       "\u001b[2;36m                   \u001b[0m\u001b[2;36m \u001b[0m\u001b[34mINFO    \u001b[0m Scraping game schedule for Saturday, May \u001b[1;36m13\u001b[0m \u001b[1;36m2023\u001b[0m                      \u001b]8;id=949554;file://c:\\Users\\krawc\\OneDrive\\Documents\\code\\pythons\\predictor\\.venv\\Lib\\site-packages\\soccerdata\\whoscored.py\u001b\\\u001b[2mwhoscored.py\u001b[0m\u001b]8;;\u001b\\\u001b[2m:\u001b[0m\u001b]8;id=817144;file://c:\\Users\\krawc\\OneDrive\\Documents\\code\\pythons\\predictor\\.venv\\Lib\\site-packages\\soccerdata\\whoscored.py#327\u001b\\\u001b[2m327\u001b[0m\u001b]8;;\u001b\\\n"
      ]
     },
     "metadata": {},
     "output_type": "display_data"
    },
    {
     "data": {
      "text/html": [
       "<pre style=\"white-space:pre;overflow-x:auto;line-height:normal;font-family:Menlo,'DejaVu Sans Mono',consolas,'Courier New',monospace\"><span style=\"color: #7fbfbf; text-decoration-color: #7fbfbf\">[10/12/23 10:06:17] </span><span style=\"color: #000080; text-decoration-color: #000080\">INFO    </span> Scraping game schedule for Sunday, May <span style=\"color: #008080; text-decoration-color: #008080; font-weight: bold\">14</span> <span style=\"color: #008080; text-decoration-color: #008080; font-weight: bold\">2023</span>                        <a href=\"file://c:\\Users\\krawc\\OneDrive\\Documents\\code\\pythons\\predictor\\.venv\\Lib\\site-packages\\soccerdata\\whoscored.py\" target=\"_blank\"><span style=\"color: #7f7f7f; text-decoration-color: #7f7f7f\">whoscored.py</span></a><span style=\"color: #7f7f7f; text-decoration-color: #7f7f7f\">:</span><a href=\"file://c:\\Users\\krawc\\OneDrive\\Documents\\code\\pythons\\predictor\\.venv\\Lib\\site-packages\\soccerdata\\whoscored.py#327\" target=\"_blank\"><span style=\"color: #7f7f7f; text-decoration-color: #7f7f7f\">327</span></a>\n",
       "</pre>\n"
      ],
      "text/plain": [
       "\u001b[2;36m[10/12/23 10:06:17]\u001b[0m\u001b[2;36m \u001b[0m\u001b[34mINFO    \u001b[0m Scraping game schedule for Sunday, May \u001b[1;36m14\u001b[0m \u001b[1;36m2023\u001b[0m                        \u001b]8;id=519315;file://c:\\Users\\krawc\\OneDrive\\Documents\\code\\pythons\\predictor\\.venv\\Lib\\site-packages\\soccerdata\\whoscored.py\u001b\\\u001b[2mwhoscored.py\u001b[0m\u001b]8;;\u001b\\\u001b[2m:\u001b[0m\u001b]8;id=23079;file://c:\\Users\\krawc\\OneDrive\\Documents\\code\\pythons\\predictor\\.venv\\Lib\\site-packages\\soccerdata\\whoscored.py#327\u001b\\\u001b[2m327\u001b[0m\u001b]8;;\u001b\\\n"
      ]
     },
     "metadata": {},
     "output_type": "display_data"
    },
    {
     "data": {
      "text/html": [
       "<pre style=\"white-space:pre;overflow-x:auto;line-height:normal;font-family:Menlo,'DejaVu Sans Mono',consolas,'Courier New',monospace\"><span style=\"color: #7fbfbf; text-decoration-color: #7fbfbf\">[10/12/23 10:06:18] </span><span style=\"color: #000080; text-decoration-color: #000080\">INFO    </span> Scraping game schedule for Monday, May <span style=\"color: #008080; text-decoration-color: #008080; font-weight: bold\">15</span> <span style=\"color: #008080; text-decoration-color: #008080; font-weight: bold\">2023</span>                        <a href=\"file://c:\\Users\\krawc\\OneDrive\\Documents\\code\\pythons\\predictor\\.venv\\Lib\\site-packages\\soccerdata\\whoscored.py\" target=\"_blank\"><span style=\"color: #7f7f7f; text-decoration-color: #7f7f7f\">whoscored.py</span></a><span style=\"color: #7f7f7f; text-decoration-color: #7f7f7f\">:</span><a href=\"file://c:\\Users\\krawc\\OneDrive\\Documents\\code\\pythons\\predictor\\.venv\\Lib\\site-packages\\soccerdata\\whoscored.py#327\" target=\"_blank\"><span style=\"color: #7f7f7f; text-decoration-color: #7f7f7f\">327</span></a>\n",
       "</pre>\n"
      ],
      "text/plain": [
       "\u001b[2;36m[10/12/23 10:06:18]\u001b[0m\u001b[2;36m \u001b[0m\u001b[34mINFO    \u001b[0m Scraping game schedule for Monday, May \u001b[1;36m15\u001b[0m \u001b[1;36m2023\u001b[0m                        \u001b]8;id=127854;file://c:\\Users\\krawc\\OneDrive\\Documents\\code\\pythons\\predictor\\.venv\\Lib\\site-packages\\soccerdata\\whoscored.py\u001b\\\u001b[2mwhoscored.py\u001b[0m\u001b]8;;\u001b\\\u001b[2m:\u001b[0m\u001b]8;id=824183;file://c:\\Users\\krawc\\OneDrive\\Documents\\code\\pythons\\predictor\\.venv\\Lib\\site-packages\\soccerdata\\whoscored.py#327\u001b\\\u001b[2m327\u001b[0m\u001b]8;;\u001b\\\n"
      ]
     },
     "metadata": {},
     "output_type": "display_data"
    },
    {
     "data": {
      "text/html": [
       "<pre style=\"white-space:pre;overflow-x:auto;line-height:normal;font-family:Menlo,'DejaVu Sans Mono',consolas,'Courier New',monospace\"><span style=\"color: #7fbfbf; text-decoration-color: #7fbfbf\">                    </span><span style=\"color: #000080; text-decoration-color: #000080\">INFO    </span> Scraping game schedule for Thursday, May <span style=\"color: #008080; text-decoration-color: #008080; font-weight: bold\">18</span> <span style=\"color: #008080; text-decoration-color: #008080; font-weight: bold\">2023</span>                      <a href=\"file://c:\\Users\\krawc\\OneDrive\\Documents\\code\\pythons\\predictor\\.venv\\Lib\\site-packages\\soccerdata\\whoscored.py\" target=\"_blank\"><span style=\"color: #7f7f7f; text-decoration-color: #7f7f7f\">whoscored.py</span></a><span style=\"color: #7f7f7f; text-decoration-color: #7f7f7f\">:</span><a href=\"file://c:\\Users\\krawc\\OneDrive\\Documents\\code\\pythons\\predictor\\.venv\\Lib\\site-packages\\soccerdata\\whoscored.py#327\" target=\"_blank\"><span style=\"color: #7f7f7f; text-decoration-color: #7f7f7f\">327</span></a>\n",
       "</pre>\n"
      ],
      "text/plain": [
       "\u001b[2;36m                   \u001b[0m\u001b[2;36m \u001b[0m\u001b[34mINFO    \u001b[0m Scraping game schedule for Thursday, May \u001b[1;36m18\u001b[0m \u001b[1;36m2023\u001b[0m                      \u001b]8;id=955277;file://c:\\Users\\krawc\\OneDrive\\Documents\\code\\pythons\\predictor\\.venv\\Lib\\site-packages\\soccerdata\\whoscored.py\u001b\\\u001b[2mwhoscored.py\u001b[0m\u001b]8;;\u001b\\\u001b[2m:\u001b[0m\u001b]8;id=379551;file://c:\\Users\\krawc\\OneDrive\\Documents\\code\\pythons\\predictor\\.venv\\Lib\\site-packages\\soccerdata\\whoscored.py#327\u001b\\\u001b[2m327\u001b[0m\u001b]8;;\u001b\\\n"
      ]
     },
     "metadata": {},
     "output_type": "display_data"
    },
    {
     "data": {
      "text/html": [
       "<pre style=\"white-space:pre;overflow-x:auto;line-height:normal;font-family:Menlo,'DejaVu Sans Mono',consolas,'Courier New',monospace\"><span style=\"color: #7fbfbf; text-decoration-color: #7fbfbf\">                    </span><span style=\"color: #000080; text-decoration-color: #000080\">INFO    </span> Scraping game schedule for Saturday, May <span style=\"color: #008080; text-decoration-color: #008080; font-weight: bold\">20</span> <span style=\"color: #008080; text-decoration-color: #008080; font-weight: bold\">2023</span>                      <a href=\"file://c:\\Users\\krawc\\OneDrive\\Documents\\code\\pythons\\predictor\\.venv\\Lib\\site-packages\\soccerdata\\whoscored.py\" target=\"_blank\"><span style=\"color: #7f7f7f; text-decoration-color: #7f7f7f\">whoscored.py</span></a><span style=\"color: #7f7f7f; text-decoration-color: #7f7f7f\">:</span><a href=\"file://c:\\Users\\krawc\\OneDrive\\Documents\\code\\pythons\\predictor\\.venv\\Lib\\site-packages\\soccerdata\\whoscored.py#327\" target=\"_blank\"><span style=\"color: #7f7f7f; text-decoration-color: #7f7f7f\">327</span></a>\n",
       "</pre>\n"
      ],
      "text/plain": [
       "\u001b[2;36m                   \u001b[0m\u001b[2;36m \u001b[0m\u001b[34mINFO    \u001b[0m Scraping game schedule for Saturday, May \u001b[1;36m20\u001b[0m \u001b[1;36m2023\u001b[0m                      \u001b]8;id=375082;file://c:\\Users\\krawc\\OneDrive\\Documents\\code\\pythons\\predictor\\.venv\\Lib\\site-packages\\soccerdata\\whoscored.py\u001b\\\u001b[2mwhoscored.py\u001b[0m\u001b]8;;\u001b\\\u001b[2m:\u001b[0m\u001b]8;id=528990;file://c:\\Users\\krawc\\OneDrive\\Documents\\code\\pythons\\predictor\\.venv\\Lib\\site-packages\\soccerdata\\whoscored.py#327\u001b\\\u001b[2m327\u001b[0m\u001b]8;;\u001b\\\n"
      ]
     },
     "metadata": {},
     "output_type": "display_data"
    },
    {
     "data": {
      "text/html": [
       "<pre style=\"white-space:pre;overflow-x:auto;line-height:normal;font-family:Menlo,'DejaVu Sans Mono',consolas,'Courier New',monospace\"><span style=\"color: #7fbfbf; text-decoration-color: #7fbfbf\">[10/12/23 10:06:20] </span><span style=\"color: #000080; text-decoration-color: #000080\">INFO    </span> Scraping game schedule for Sunday, May <span style=\"color: #008080; text-decoration-color: #008080; font-weight: bold\">21</span> <span style=\"color: #008080; text-decoration-color: #008080; font-weight: bold\">2023</span>                        <a href=\"file://c:\\Users\\krawc\\OneDrive\\Documents\\code\\pythons\\predictor\\.venv\\Lib\\site-packages\\soccerdata\\whoscored.py\" target=\"_blank\"><span style=\"color: #7f7f7f; text-decoration-color: #7f7f7f\">whoscored.py</span></a><span style=\"color: #7f7f7f; text-decoration-color: #7f7f7f\">:</span><a href=\"file://c:\\Users\\krawc\\OneDrive\\Documents\\code\\pythons\\predictor\\.venv\\Lib\\site-packages\\soccerdata\\whoscored.py#327\" target=\"_blank\"><span style=\"color: #7f7f7f; text-decoration-color: #7f7f7f\">327</span></a>\n",
       "</pre>\n"
      ],
      "text/plain": [
       "\u001b[2;36m[10/12/23 10:06:20]\u001b[0m\u001b[2;36m \u001b[0m\u001b[34mINFO    \u001b[0m Scraping game schedule for Sunday, May \u001b[1;36m21\u001b[0m \u001b[1;36m2023\u001b[0m                        \u001b]8;id=122072;file://c:\\Users\\krawc\\OneDrive\\Documents\\code\\pythons\\predictor\\.venv\\Lib\\site-packages\\soccerdata\\whoscored.py\u001b\\\u001b[2mwhoscored.py\u001b[0m\u001b]8;;\u001b\\\u001b[2m:\u001b[0m\u001b]8;id=177097;file://c:\\Users\\krawc\\OneDrive\\Documents\\code\\pythons\\predictor\\.venv\\Lib\\site-packages\\soccerdata\\whoscored.py#327\u001b\\\u001b[2m327\u001b[0m\u001b]8;;\u001b\\\n"
      ]
     },
     "metadata": {},
     "output_type": "display_data"
    },
    {
     "data": {
      "text/html": [
       "<pre style=\"white-space:pre;overflow-x:auto;line-height:normal;font-family:Menlo,'DejaVu Sans Mono',consolas,'Courier New',monospace\"><span style=\"color: #7fbfbf; text-decoration-color: #7fbfbf\">[10/12/23 10:06:21] </span><span style=\"color: #000080; text-decoration-color: #000080\">INFO    </span> Scraping game schedule for Monday, May <span style=\"color: #008080; text-decoration-color: #008080; font-weight: bold\">22</span> <span style=\"color: #008080; text-decoration-color: #008080; font-weight: bold\">2023</span>                        <a href=\"file://c:\\Users\\krawc\\OneDrive\\Documents\\code\\pythons\\predictor\\.venv\\Lib\\site-packages\\soccerdata\\whoscored.py\" target=\"_blank\"><span style=\"color: #7f7f7f; text-decoration-color: #7f7f7f\">whoscored.py</span></a><span style=\"color: #7f7f7f; text-decoration-color: #7f7f7f\">:</span><a href=\"file://c:\\Users\\krawc\\OneDrive\\Documents\\code\\pythons\\predictor\\.venv\\Lib\\site-packages\\soccerdata\\whoscored.py#327\" target=\"_blank\"><span style=\"color: #7f7f7f; text-decoration-color: #7f7f7f\">327</span></a>\n",
       "</pre>\n"
      ],
      "text/plain": [
       "\u001b[2;36m[10/12/23 10:06:21]\u001b[0m\u001b[2;36m \u001b[0m\u001b[34mINFO    \u001b[0m Scraping game schedule for Monday, May \u001b[1;36m22\u001b[0m \u001b[1;36m2023\u001b[0m                        \u001b]8;id=442270;file://c:\\Users\\krawc\\OneDrive\\Documents\\code\\pythons\\predictor\\.venv\\Lib\\site-packages\\soccerdata\\whoscored.py\u001b\\\u001b[2mwhoscored.py\u001b[0m\u001b]8;;\u001b\\\u001b[2m:\u001b[0m\u001b]8;id=892646;file://c:\\Users\\krawc\\OneDrive\\Documents\\code\\pythons\\predictor\\.venv\\Lib\\site-packages\\soccerdata\\whoscored.py#327\u001b\\\u001b[2m327\u001b[0m\u001b]8;;\u001b\\\n"
      ]
     },
     "metadata": {},
     "output_type": "display_data"
    },
    {
     "data": {
      "text/html": [
       "<pre style=\"white-space:pre;overflow-x:auto;line-height:normal;font-family:Menlo,'DejaVu Sans Mono',consolas,'Courier New',monospace\"><span style=\"color: #7fbfbf; text-decoration-color: #7fbfbf\">                    </span><span style=\"color: #000080; text-decoration-color: #000080\">INFO    </span> Scraping game schedule for Wednesday, May <span style=\"color: #008080; text-decoration-color: #008080; font-weight: bold\">24</span> <span style=\"color: #008080; text-decoration-color: #008080; font-weight: bold\">2023</span>                     <a href=\"file://c:\\Users\\krawc\\OneDrive\\Documents\\code\\pythons\\predictor\\.venv\\Lib\\site-packages\\soccerdata\\whoscored.py\" target=\"_blank\"><span style=\"color: #7f7f7f; text-decoration-color: #7f7f7f\">whoscored.py</span></a><span style=\"color: #7f7f7f; text-decoration-color: #7f7f7f\">:</span><a href=\"file://c:\\Users\\krawc\\OneDrive\\Documents\\code\\pythons\\predictor\\.venv\\Lib\\site-packages\\soccerdata\\whoscored.py#327\" target=\"_blank\"><span style=\"color: #7f7f7f; text-decoration-color: #7f7f7f\">327</span></a>\n",
       "</pre>\n"
      ],
      "text/plain": [
       "\u001b[2;36m                   \u001b[0m\u001b[2;36m \u001b[0m\u001b[34mINFO    \u001b[0m Scraping game schedule for Wednesday, May \u001b[1;36m24\u001b[0m \u001b[1;36m2023\u001b[0m                     \u001b]8;id=27947;file://c:\\Users\\krawc\\OneDrive\\Documents\\code\\pythons\\predictor\\.venv\\Lib\\site-packages\\soccerdata\\whoscored.py\u001b\\\u001b[2mwhoscored.py\u001b[0m\u001b]8;;\u001b\\\u001b[2m:\u001b[0m\u001b]8;id=990644;file://c:\\Users\\krawc\\OneDrive\\Documents\\code\\pythons\\predictor\\.venv\\Lib\\site-packages\\soccerdata\\whoscored.py#327\u001b\\\u001b[2m327\u001b[0m\u001b]8;;\u001b\\\n"
      ]
     },
     "metadata": {},
     "output_type": "display_data"
    },
    {
     "data": {
      "text/html": [
       "<pre style=\"white-space:pre;overflow-x:auto;line-height:normal;font-family:Menlo,'DejaVu Sans Mono',consolas,'Courier New',monospace\"><span style=\"color: #7fbfbf; text-decoration-color: #7fbfbf\">                    </span><span style=\"color: #000080; text-decoration-color: #000080\">INFO    </span> Scraping game schedule for Thursday, May <span style=\"color: #008080; text-decoration-color: #008080; font-weight: bold\">25</span> <span style=\"color: #008080; text-decoration-color: #008080; font-weight: bold\">2023</span>                      <a href=\"file://c:\\Users\\krawc\\OneDrive\\Documents\\code\\pythons\\predictor\\.venv\\Lib\\site-packages\\soccerdata\\whoscored.py\" target=\"_blank\"><span style=\"color: #7f7f7f; text-decoration-color: #7f7f7f\">whoscored.py</span></a><span style=\"color: #7f7f7f; text-decoration-color: #7f7f7f\">:</span><a href=\"file://c:\\Users\\krawc\\OneDrive\\Documents\\code\\pythons\\predictor\\.venv\\Lib\\site-packages\\soccerdata\\whoscored.py#327\" target=\"_blank\"><span style=\"color: #7f7f7f; text-decoration-color: #7f7f7f\">327</span></a>\n",
       "</pre>\n"
      ],
      "text/plain": [
       "\u001b[2;36m                   \u001b[0m\u001b[2;36m \u001b[0m\u001b[34mINFO    \u001b[0m Scraping game schedule for Thursday, May \u001b[1;36m25\u001b[0m \u001b[1;36m2023\u001b[0m                      \u001b]8;id=72499;file://c:\\Users\\krawc\\OneDrive\\Documents\\code\\pythons\\predictor\\.venv\\Lib\\site-packages\\soccerdata\\whoscored.py\u001b\\\u001b[2mwhoscored.py\u001b[0m\u001b]8;;\u001b\\\u001b[2m:\u001b[0m\u001b]8;id=237876;file://c:\\Users\\krawc\\OneDrive\\Documents\\code\\pythons\\predictor\\.venv\\Lib\\site-packages\\soccerdata\\whoscored.py#327\u001b\\\u001b[2m327\u001b[0m\u001b]8;;\u001b\\\n"
      ]
     },
     "metadata": {},
     "output_type": "display_data"
    },
    {
     "data": {
      "text/html": [
       "<pre style=\"white-space:pre;overflow-x:auto;line-height:normal;font-family:Menlo,'DejaVu Sans Mono',consolas,'Courier New',monospace\"><span style=\"color: #7fbfbf; text-decoration-color: #7fbfbf\">[10/12/23 10:06:22] </span><span style=\"color: #000080; text-decoration-color: #000080\">INFO    </span> Scraping game schedule for Sunday, May <span style=\"color: #008080; text-decoration-color: #008080; font-weight: bold\">28</span> <span style=\"color: #008080; text-decoration-color: #008080; font-weight: bold\">2023</span>                        <a href=\"file://c:\\Users\\krawc\\OneDrive\\Documents\\code\\pythons\\predictor\\.venv\\Lib\\site-packages\\soccerdata\\whoscored.py\" target=\"_blank\"><span style=\"color: #7f7f7f; text-decoration-color: #7f7f7f\">whoscored.py</span></a><span style=\"color: #7f7f7f; text-decoration-color: #7f7f7f\">:</span><a href=\"file://c:\\Users\\krawc\\OneDrive\\Documents\\code\\pythons\\predictor\\.venv\\Lib\\site-packages\\soccerdata\\whoscored.py#327\" target=\"_blank\"><span style=\"color: #7f7f7f; text-decoration-color: #7f7f7f\">327</span></a>\n",
       "</pre>\n"
      ],
      "text/plain": [
       "\u001b[2;36m[10/12/23 10:06:22]\u001b[0m\u001b[2;36m \u001b[0m\u001b[34mINFO    \u001b[0m Scraping game schedule for Sunday, May \u001b[1;36m28\u001b[0m \u001b[1;36m2023\u001b[0m                        \u001b]8;id=184889;file://c:\\Users\\krawc\\OneDrive\\Documents\\code\\pythons\\predictor\\.venv\\Lib\\site-packages\\soccerdata\\whoscored.py\u001b\\\u001b[2mwhoscored.py\u001b[0m\u001b]8;;\u001b\\\u001b[2m:\u001b[0m\u001b]8;id=554186;file://c:\\Users\\krawc\\OneDrive\\Documents\\code\\pythons\\predictor\\.venv\\Lib\\site-packages\\soccerdata\\whoscored.py#327\u001b\\\u001b[2m327\u001b[0m\u001b]8;;\u001b\\\n"
      ]
     },
     "metadata": {},
     "output_type": "display_data"
    },
    {
     "data": {
      "text/html": [
       "<pre style=\"white-space:pre;overflow-x:auto;line-height:normal;font-family:Menlo,'DejaVu Sans Mono',consolas,'Courier New',monospace\"><span style=\"color: #7fbfbf; text-decoration-color: #7fbfbf\">[10/12/23 10:06:32] </span><span style=\"color: #000080; text-decoration-color: #000080\">INFO    </span> Scraping game schedule for Monday, May <span style=\"color: #008080; text-decoration-color: #008080; font-weight: bold\">1</span> <span style=\"color: #008080; text-decoration-color: #008080; font-weight: bold\">2023</span>                         <a href=\"file://c:\\Users\\krawc\\OneDrive\\Documents\\code\\pythons\\predictor\\.venv\\Lib\\site-packages\\soccerdata\\whoscored.py\" target=\"_blank\"><span style=\"color: #7f7f7f; text-decoration-color: #7f7f7f\">whoscored.py</span></a><span style=\"color: #7f7f7f; text-decoration-color: #7f7f7f\">:</span><a href=\"file://c:\\Users\\krawc\\OneDrive\\Documents\\code\\pythons\\predictor\\.venv\\Lib\\site-packages\\soccerdata\\whoscored.py#327\" target=\"_blank\"><span style=\"color: #7f7f7f; text-decoration-color: #7f7f7f\">327</span></a>\n",
       "</pre>\n"
      ],
      "text/plain": [
       "\u001b[2;36m[10/12/23 10:06:32]\u001b[0m\u001b[2;36m \u001b[0m\u001b[34mINFO    \u001b[0m Scraping game schedule for Monday, May \u001b[1;36m1\u001b[0m \u001b[1;36m2023\u001b[0m                         \u001b]8;id=822598;file://c:\\Users\\krawc\\OneDrive\\Documents\\code\\pythons\\predictor\\.venv\\Lib\\site-packages\\soccerdata\\whoscored.py\u001b\\\u001b[2mwhoscored.py\u001b[0m\u001b]8;;\u001b\\\u001b[2m:\u001b[0m\u001b]8;id=809517;file://c:\\Users\\krawc\\OneDrive\\Documents\\code\\pythons\\predictor\\.venv\\Lib\\site-packages\\soccerdata\\whoscored.py#327\u001b\\\u001b[2m327\u001b[0m\u001b]8;;\u001b\\\n"
      ]
     },
     "metadata": {},
     "output_type": "display_data"
    },
    {
     "data": {
      "text/html": [
       "<pre style=\"white-space:pre;overflow-x:auto;line-height:normal;font-family:Menlo,'DejaVu Sans Mono',consolas,'Courier New',monospace\"><span style=\"color: #7fbfbf; text-decoration-color: #7fbfbf\">[10/12/23 10:06:33] </span><span style=\"color: #000080; text-decoration-color: #000080\">INFO    </span> Scraping game schedule for Tuesday, May <span style=\"color: #008080; text-decoration-color: #008080; font-weight: bold\">2</span> <span style=\"color: #008080; text-decoration-color: #008080; font-weight: bold\">2023</span>                        <a href=\"file://c:\\Users\\krawc\\OneDrive\\Documents\\code\\pythons\\predictor\\.venv\\Lib\\site-packages\\soccerdata\\whoscored.py\" target=\"_blank\"><span style=\"color: #7f7f7f; text-decoration-color: #7f7f7f\">whoscored.py</span></a><span style=\"color: #7f7f7f; text-decoration-color: #7f7f7f\">:</span><a href=\"file://c:\\Users\\krawc\\OneDrive\\Documents\\code\\pythons\\predictor\\.venv\\Lib\\site-packages\\soccerdata\\whoscored.py#327\" target=\"_blank\"><span style=\"color: #7f7f7f; text-decoration-color: #7f7f7f\">327</span></a>\n",
       "</pre>\n"
      ],
      "text/plain": [
       "\u001b[2;36m[10/12/23 10:06:33]\u001b[0m\u001b[2;36m \u001b[0m\u001b[34mINFO    \u001b[0m Scraping game schedule for Tuesday, May \u001b[1;36m2\u001b[0m \u001b[1;36m2023\u001b[0m                        \u001b]8;id=498343;file://c:\\Users\\krawc\\OneDrive\\Documents\\code\\pythons\\predictor\\.venv\\Lib\\site-packages\\soccerdata\\whoscored.py\u001b\\\u001b[2mwhoscored.py\u001b[0m\u001b]8;;\u001b\\\u001b[2m:\u001b[0m\u001b]8;id=137624;file://c:\\Users\\krawc\\OneDrive\\Documents\\code\\pythons\\predictor\\.venv\\Lib\\site-packages\\soccerdata\\whoscored.py#327\u001b\\\u001b[2m327\u001b[0m\u001b]8;;\u001b\\\n"
      ]
     },
     "metadata": {},
     "output_type": "display_data"
    },
    {
     "data": {
      "text/html": [
       "<pre style=\"white-space:pre;overflow-x:auto;line-height:normal;font-family:Menlo,'DejaVu Sans Mono',consolas,'Courier New',monospace\"><span style=\"color: #7fbfbf; text-decoration-color: #7fbfbf\">                    </span><span style=\"color: #000080; text-decoration-color: #000080\">INFO    </span> Scraping game schedule for Wednesday, May <span style=\"color: #008080; text-decoration-color: #008080; font-weight: bold\">3</span> <span style=\"color: #008080; text-decoration-color: #008080; font-weight: bold\">2023</span>                      <a href=\"file://c:\\Users\\krawc\\OneDrive\\Documents\\code\\pythons\\predictor\\.venv\\Lib\\site-packages\\soccerdata\\whoscored.py\" target=\"_blank\"><span style=\"color: #7f7f7f; text-decoration-color: #7f7f7f\">whoscored.py</span></a><span style=\"color: #7f7f7f; text-decoration-color: #7f7f7f\">:</span><a href=\"file://c:\\Users\\krawc\\OneDrive\\Documents\\code\\pythons\\predictor\\.venv\\Lib\\site-packages\\soccerdata\\whoscored.py#327\" target=\"_blank\"><span style=\"color: #7f7f7f; text-decoration-color: #7f7f7f\">327</span></a>\n",
       "</pre>\n"
      ],
      "text/plain": [
       "\u001b[2;36m                   \u001b[0m\u001b[2;36m \u001b[0m\u001b[34mINFO    \u001b[0m Scraping game schedule for Wednesday, May \u001b[1;36m3\u001b[0m \u001b[1;36m2023\u001b[0m                      \u001b]8;id=654842;file://c:\\Users\\krawc\\OneDrive\\Documents\\code\\pythons\\predictor\\.venv\\Lib\\site-packages\\soccerdata\\whoscored.py\u001b\\\u001b[2mwhoscored.py\u001b[0m\u001b]8;;\u001b\\\u001b[2m:\u001b[0m\u001b]8;id=394989;file://c:\\Users\\krawc\\OneDrive\\Documents\\code\\pythons\\predictor\\.venv\\Lib\\site-packages\\soccerdata\\whoscored.py#327\u001b\\\u001b[2m327\u001b[0m\u001b]8;;\u001b\\\n"
      ]
     },
     "metadata": {},
     "output_type": "display_data"
    },
    {
     "data": {
      "text/html": [
       "<pre style=\"white-space:pre;overflow-x:auto;line-height:normal;font-family:Menlo,'DejaVu Sans Mono',consolas,'Courier New',monospace\"><span style=\"color: #7fbfbf; text-decoration-color: #7fbfbf\">[10/12/23 10:06:34] </span><span style=\"color: #000080; text-decoration-color: #000080\">INFO    </span> Scraping game schedule for Thursday, May <span style=\"color: #008080; text-decoration-color: #008080; font-weight: bold\">4</span> <span style=\"color: #008080; text-decoration-color: #008080; font-weight: bold\">2023</span>                       <a href=\"file://c:\\Users\\krawc\\OneDrive\\Documents\\code\\pythons\\predictor\\.venv\\Lib\\site-packages\\soccerdata\\whoscored.py\" target=\"_blank\"><span style=\"color: #7f7f7f; text-decoration-color: #7f7f7f\">whoscored.py</span></a><span style=\"color: #7f7f7f; text-decoration-color: #7f7f7f\">:</span><a href=\"file://c:\\Users\\krawc\\OneDrive\\Documents\\code\\pythons\\predictor\\.venv\\Lib\\site-packages\\soccerdata\\whoscored.py#327\" target=\"_blank\"><span style=\"color: #7f7f7f; text-decoration-color: #7f7f7f\">327</span></a>\n",
       "</pre>\n"
      ],
      "text/plain": [
       "\u001b[2;36m[10/12/23 10:06:34]\u001b[0m\u001b[2;36m \u001b[0m\u001b[34mINFO    \u001b[0m Scraping game schedule for Thursday, May \u001b[1;36m4\u001b[0m \u001b[1;36m2023\u001b[0m                       \u001b]8;id=206357;file://c:\\Users\\krawc\\OneDrive\\Documents\\code\\pythons\\predictor\\.venv\\Lib\\site-packages\\soccerdata\\whoscored.py\u001b\\\u001b[2mwhoscored.py\u001b[0m\u001b]8;;\u001b\\\u001b[2m:\u001b[0m\u001b]8;id=24742;file://c:\\Users\\krawc\\OneDrive\\Documents\\code\\pythons\\predictor\\.venv\\Lib\\site-packages\\soccerdata\\whoscored.py#327\u001b\\\u001b[2m327\u001b[0m\u001b]8;;\u001b\\\n"
      ]
     },
     "metadata": {},
     "output_type": "display_data"
    },
    {
     "data": {
      "text/html": [
       "<pre style=\"white-space:pre;overflow-x:auto;line-height:normal;font-family:Menlo,'DejaVu Sans Mono',consolas,'Courier New',monospace\"><span style=\"color: #7fbfbf; text-decoration-color: #7fbfbf\">[10/12/23 10:06:35] </span><span style=\"color: #000080; text-decoration-color: #000080\">INFO    </span> Scraping game schedule for Saturday, May <span style=\"color: #008080; text-decoration-color: #008080; font-weight: bold\">6</span> <span style=\"color: #008080; text-decoration-color: #008080; font-weight: bold\">2023</span>                       <a href=\"file://c:\\Users\\krawc\\OneDrive\\Documents\\code\\pythons\\predictor\\.venv\\Lib\\site-packages\\soccerdata\\whoscored.py\" target=\"_blank\"><span style=\"color: #7f7f7f; text-decoration-color: #7f7f7f\">whoscored.py</span></a><span style=\"color: #7f7f7f; text-decoration-color: #7f7f7f\">:</span><a href=\"file://c:\\Users\\krawc\\OneDrive\\Documents\\code\\pythons\\predictor\\.venv\\Lib\\site-packages\\soccerdata\\whoscored.py#327\" target=\"_blank\"><span style=\"color: #7f7f7f; text-decoration-color: #7f7f7f\">327</span></a>\n",
       "</pre>\n"
      ],
      "text/plain": [
       "\u001b[2;36m[10/12/23 10:06:35]\u001b[0m\u001b[2;36m \u001b[0m\u001b[34mINFO    \u001b[0m Scraping game schedule for Saturday, May \u001b[1;36m6\u001b[0m \u001b[1;36m2023\u001b[0m                       \u001b]8;id=552746;file://c:\\Users\\krawc\\OneDrive\\Documents\\code\\pythons\\predictor\\.venv\\Lib\\site-packages\\soccerdata\\whoscored.py\u001b\\\u001b[2mwhoscored.py\u001b[0m\u001b]8;;\u001b\\\u001b[2m:\u001b[0m\u001b]8;id=796206;file://c:\\Users\\krawc\\OneDrive\\Documents\\code\\pythons\\predictor\\.venv\\Lib\\site-packages\\soccerdata\\whoscored.py#327\u001b\\\u001b[2m327\u001b[0m\u001b]8;;\u001b\\\n"
      ]
     },
     "metadata": {},
     "output_type": "display_data"
    },
    {
     "data": {
      "text/html": [
       "<pre style=\"white-space:pre;overflow-x:auto;line-height:normal;font-family:Menlo,'DejaVu Sans Mono',consolas,'Courier New',monospace\"><span style=\"color: #7fbfbf; text-decoration-color: #7fbfbf\">[10/12/23 10:06:37] </span><span style=\"color: #000080; text-decoration-color: #000080\">INFO    </span> Scraping game schedule for Sunday, May <span style=\"color: #008080; text-decoration-color: #008080; font-weight: bold\">7</span> <span style=\"color: #008080; text-decoration-color: #008080; font-weight: bold\">2023</span>                         <a href=\"file://c:\\Users\\krawc\\OneDrive\\Documents\\code\\pythons\\predictor\\.venv\\Lib\\site-packages\\soccerdata\\whoscored.py\" target=\"_blank\"><span style=\"color: #7f7f7f; text-decoration-color: #7f7f7f\">whoscored.py</span></a><span style=\"color: #7f7f7f; text-decoration-color: #7f7f7f\">:</span><a href=\"file://c:\\Users\\krawc\\OneDrive\\Documents\\code\\pythons\\predictor\\.venv\\Lib\\site-packages\\soccerdata\\whoscored.py#327\" target=\"_blank\"><span style=\"color: #7f7f7f; text-decoration-color: #7f7f7f\">327</span></a>\n",
       "</pre>\n"
      ],
      "text/plain": [
       "\u001b[2;36m[10/12/23 10:06:37]\u001b[0m\u001b[2;36m \u001b[0m\u001b[34mINFO    \u001b[0m Scraping game schedule for Sunday, May \u001b[1;36m7\u001b[0m \u001b[1;36m2023\u001b[0m                         \u001b]8;id=946516;file://c:\\Users\\krawc\\OneDrive\\Documents\\code\\pythons\\predictor\\.venv\\Lib\\site-packages\\soccerdata\\whoscored.py\u001b\\\u001b[2mwhoscored.py\u001b[0m\u001b]8;;\u001b\\\u001b[2m:\u001b[0m\u001b]8;id=592400;file://c:\\Users\\krawc\\OneDrive\\Documents\\code\\pythons\\predictor\\.venv\\Lib\\site-packages\\soccerdata\\whoscored.py#327\u001b\\\u001b[2m327\u001b[0m\u001b]8;;\u001b\\\n"
      ]
     },
     "metadata": {},
     "output_type": "display_data"
    },
    {
     "data": {
      "text/html": [
       "<pre style=\"white-space:pre;overflow-x:auto;line-height:normal;font-family:Menlo,'DejaVu Sans Mono',consolas,'Courier New',monospace\"><span style=\"color: #7fbfbf; text-decoration-color: #7fbfbf\">[10/12/23 10:06:38] </span><span style=\"color: #000080; text-decoration-color: #000080\">INFO    </span> Scraping game schedule for Monday, May <span style=\"color: #008080; text-decoration-color: #008080; font-weight: bold\">8</span> <span style=\"color: #008080; text-decoration-color: #008080; font-weight: bold\">2023</span>                         <a href=\"file://c:\\Users\\krawc\\OneDrive\\Documents\\code\\pythons\\predictor\\.venv\\Lib\\site-packages\\soccerdata\\whoscored.py\" target=\"_blank\"><span style=\"color: #7f7f7f; text-decoration-color: #7f7f7f\">whoscored.py</span></a><span style=\"color: #7f7f7f; text-decoration-color: #7f7f7f\">:</span><a href=\"file://c:\\Users\\krawc\\OneDrive\\Documents\\code\\pythons\\predictor\\.venv\\Lib\\site-packages\\soccerdata\\whoscored.py#327\" target=\"_blank\"><span style=\"color: #7f7f7f; text-decoration-color: #7f7f7f\">327</span></a>\n",
       "</pre>\n"
      ],
      "text/plain": [
       "\u001b[2;36m[10/12/23 10:06:38]\u001b[0m\u001b[2;36m \u001b[0m\u001b[34mINFO    \u001b[0m Scraping game schedule for Monday, May \u001b[1;36m8\u001b[0m \u001b[1;36m2023\u001b[0m                         \u001b]8;id=659998;file://c:\\Users\\krawc\\OneDrive\\Documents\\code\\pythons\\predictor\\.venv\\Lib\\site-packages\\soccerdata\\whoscored.py\u001b\\\u001b[2mwhoscored.py\u001b[0m\u001b]8;;\u001b\\\u001b[2m:\u001b[0m\u001b]8;id=861706;file://c:\\Users\\krawc\\OneDrive\\Documents\\code\\pythons\\predictor\\.venv\\Lib\\site-packages\\soccerdata\\whoscored.py#327\u001b\\\u001b[2m327\u001b[0m\u001b]8;;\u001b\\\n"
      ]
     },
     "metadata": {},
     "output_type": "display_data"
    },
    {
     "data": {
      "text/html": [
       "<pre style=\"white-space:pre;overflow-x:auto;line-height:normal;font-family:Menlo,'DejaVu Sans Mono',consolas,'Courier New',monospace\"><span style=\"color: #7fbfbf; text-decoration-color: #7fbfbf\">[10/12/23 10:06:40] </span><span style=\"color: #000080; text-decoration-color: #000080\">INFO    </span> Scraping game schedule for Saturday, May <span style=\"color: #008080; text-decoration-color: #008080; font-weight: bold\">13</span> <span style=\"color: #008080; text-decoration-color: #008080; font-weight: bold\">2023</span>                      <a href=\"file://c:\\Users\\krawc\\OneDrive\\Documents\\code\\pythons\\predictor\\.venv\\Lib\\site-packages\\soccerdata\\whoscored.py\" target=\"_blank\"><span style=\"color: #7f7f7f; text-decoration-color: #7f7f7f\">whoscored.py</span></a><span style=\"color: #7f7f7f; text-decoration-color: #7f7f7f\">:</span><a href=\"file://c:\\Users\\krawc\\OneDrive\\Documents\\code\\pythons\\predictor\\.venv\\Lib\\site-packages\\soccerdata\\whoscored.py#327\" target=\"_blank\"><span style=\"color: #7f7f7f; text-decoration-color: #7f7f7f\">327</span></a>\n",
       "</pre>\n"
      ],
      "text/plain": [
       "\u001b[2;36m[10/12/23 10:06:40]\u001b[0m\u001b[2;36m \u001b[0m\u001b[34mINFO    \u001b[0m Scraping game schedule for Saturday, May \u001b[1;36m13\u001b[0m \u001b[1;36m2023\u001b[0m                      \u001b]8;id=460603;file://c:\\Users\\krawc\\OneDrive\\Documents\\code\\pythons\\predictor\\.venv\\Lib\\site-packages\\soccerdata\\whoscored.py\u001b\\\u001b[2mwhoscored.py\u001b[0m\u001b]8;;\u001b\\\u001b[2m:\u001b[0m\u001b]8;id=823751;file://c:\\Users\\krawc\\OneDrive\\Documents\\code\\pythons\\predictor\\.venv\\Lib\\site-packages\\soccerdata\\whoscored.py#327\u001b\\\u001b[2m327\u001b[0m\u001b]8;;\u001b\\\n"
      ]
     },
     "metadata": {},
     "output_type": "display_data"
    },
    {
     "data": {
      "text/html": [
       "<pre style=\"white-space:pre;overflow-x:auto;line-height:normal;font-family:Menlo,'DejaVu Sans Mono',consolas,'Courier New',monospace\"><span style=\"color: #7fbfbf; text-decoration-color: #7fbfbf\">[10/12/23 10:06:42] </span><span style=\"color: #000080; text-decoration-color: #000080\">INFO    </span> Scraping game schedule for Sunday, May <span style=\"color: #008080; text-decoration-color: #008080; font-weight: bold\">14</span> <span style=\"color: #008080; text-decoration-color: #008080; font-weight: bold\">2023</span>                        <a href=\"file://c:\\Users\\krawc\\OneDrive\\Documents\\code\\pythons\\predictor\\.venv\\Lib\\site-packages\\soccerdata\\whoscored.py\" target=\"_blank\"><span style=\"color: #7f7f7f; text-decoration-color: #7f7f7f\">whoscored.py</span></a><span style=\"color: #7f7f7f; text-decoration-color: #7f7f7f\">:</span><a href=\"file://c:\\Users\\krawc\\OneDrive\\Documents\\code\\pythons\\predictor\\.venv\\Lib\\site-packages\\soccerdata\\whoscored.py#327\" target=\"_blank\"><span style=\"color: #7f7f7f; text-decoration-color: #7f7f7f\">327</span></a>\n",
       "</pre>\n"
      ],
      "text/plain": [
       "\u001b[2;36m[10/12/23 10:06:42]\u001b[0m\u001b[2;36m \u001b[0m\u001b[34mINFO    \u001b[0m Scraping game schedule for Sunday, May \u001b[1;36m14\u001b[0m \u001b[1;36m2023\u001b[0m                        \u001b]8;id=559466;file://c:\\Users\\krawc\\OneDrive\\Documents\\code\\pythons\\predictor\\.venv\\Lib\\site-packages\\soccerdata\\whoscored.py\u001b\\\u001b[2mwhoscored.py\u001b[0m\u001b]8;;\u001b\\\u001b[2m:\u001b[0m\u001b]8;id=119047;file://c:\\Users\\krawc\\OneDrive\\Documents\\code\\pythons\\predictor\\.venv\\Lib\\site-packages\\soccerdata\\whoscored.py#327\u001b\\\u001b[2m327\u001b[0m\u001b]8;;\u001b\\\n"
      ]
     },
     "metadata": {},
     "output_type": "display_data"
    },
    {
     "data": {
      "text/html": [
       "<pre style=\"white-space:pre;overflow-x:auto;line-height:normal;font-family:Menlo,'DejaVu Sans Mono',consolas,'Courier New',monospace\"><span style=\"color: #7fbfbf; text-decoration-color: #7fbfbf\">[10/12/23 10:06:43] </span><span style=\"color: #000080; text-decoration-color: #000080\">INFO    </span> Scraping game schedule for Monday, May <span style=\"color: #008080; text-decoration-color: #008080; font-weight: bold\">15</span> <span style=\"color: #008080; text-decoration-color: #008080; font-weight: bold\">2023</span>                        <a href=\"file://c:\\Users\\krawc\\OneDrive\\Documents\\code\\pythons\\predictor\\.venv\\Lib\\site-packages\\soccerdata\\whoscored.py\" target=\"_blank\"><span style=\"color: #7f7f7f; text-decoration-color: #7f7f7f\">whoscored.py</span></a><span style=\"color: #7f7f7f; text-decoration-color: #7f7f7f\">:</span><a href=\"file://c:\\Users\\krawc\\OneDrive\\Documents\\code\\pythons\\predictor\\.venv\\Lib\\site-packages\\soccerdata\\whoscored.py#327\" target=\"_blank\"><span style=\"color: #7f7f7f; text-decoration-color: #7f7f7f\">327</span></a>\n",
       "</pre>\n"
      ],
      "text/plain": [
       "\u001b[2;36m[10/12/23 10:06:43]\u001b[0m\u001b[2;36m \u001b[0m\u001b[34mINFO    \u001b[0m Scraping game schedule for Monday, May \u001b[1;36m15\u001b[0m \u001b[1;36m2023\u001b[0m                        \u001b]8;id=311596;file://c:\\Users\\krawc\\OneDrive\\Documents\\code\\pythons\\predictor\\.venv\\Lib\\site-packages\\soccerdata\\whoscored.py\u001b\\\u001b[2mwhoscored.py\u001b[0m\u001b]8;;\u001b\\\u001b[2m:\u001b[0m\u001b]8;id=541142;file://c:\\Users\\krawc\\OneDrive\\Documents\\code\\pythons\\predictor\\.venv\\Lib\\site-packages\\soccerdata\\whoscored.py#327\u001b\\\u001b[2m327\u001b[0m\u001b]8;;\u001b\\\n"
      ]
     },
     "metadata": {},
     "output_type": "display_data"
    },
    {
     "data": {
      "text/html": [
       "<pre style=\"white-space:pre;overflow-x:auto;line-height:normal;font-family:Menlo,'DejaVu Sans Mono',consolas,'Courier New',monospace\"><span style=\"color: #7fbfbf; text-decoration-color: #7fbfbf\">                    </span><span style=\"color: #000080; text-decoration-color: #000080\">INFO    </span> Scraping game schedule for Thursday, May <span style=\"color: #008080; text-decoration-color: #008080; font-weight: bold\">18</span> <span style=\"color: #008080; text-decoration-color: #008080; font-weight: bold\">2023</span>                      <a href=\"file://c:\\Users\\krawc\\OneDrive\\Documents\\code\\pythons\\predictor\\.venv\\Lib\\site-packages\\soccerdata\\whoscored.py\" target=\"_blank\"><span style=\"color: #7f7f7f; text-decoration-color: #7f7f7f\">whoscored.py</span></a><span style=\"color: #7f7f7f; text-decoration-color: #7f7f7f\">:</span><a href=\"file://c:\\Users\\krawc\\OneDrive\\Documents\\code\\pythons\\predictor\\.venv\\Lib\\site-packages\\soccerdata\\whoscored.py#327\" target=\"_blank\"><span style=\"color: #7f7f7f; text-decoration-color: #7f7f7f\">327</span></a>\n",
       "</pre>\n"
      ],
      "text/plain": [
       "\u001b[2;36m                   \u001b[0m\u001b[2;36m \u001b[0m\u001b[34mINFO    \u001b[0m Scraping game schedule for Thursday, May \u001b[1;36m18\u001b[0m \u001b[1;36m2023\u001b[0m                      \u001b]8;id=953920;file://c:\\Users\\krawc\\OneDrive\\Documents\\code\\pythons\\predictor\\.venv\\Lib\\site-packages\\soccerdata\\whoscored.py\u001b\\\u001b[2mwhoscored.py\u001b[0m\u001b]8;;\u001b\\\u001b[2m:\u001b[0m\u001b]8;id=392480;file://c:\\Users\\krawc\\OneDrive\\Documents\\code\\pythons\\predictor\\.venv\\Lib\\site-packages\\soccerdata\\whoscored.py#327\u001b\\\u001b[2m327\u001b[0m\u001b]8;;\u001b\\\n"
      ]
     },
     "metadata": {},
     "output_type": "display_data"
    },
    {
     "data": {
      "text/html": [
       "<pre style=\"white-space:pre;overflow-x:auto;line-height:normal;font-family:Menlo,'DejaVu Sans Mono',consolas,'Courier New',monospace\"><span style=\"color: #7fbfbf; text-decoration-color: #7fbfbf\">[10/12/23 10:06:44] </span><span style=\"color: #000080; text-decoration-color: #000080\">INFO    </span> Scraping game schedule for Saturday, May <span style=\"color: #008080; text-decoration-color: #008080; font-weight: bold\">20</span> <span style=\"color: #008080; text-decoration-color: #008080; font-weight: bold\">2023</span>                      <a href=\"file://c:\\Users\\krawc\\OneDrive\\Documents\\code\\pythons\\predictor\\.venv\\Lib\\site-packages\\soccerdata\\whoscored.py\" target=\"_blank\"><span style=\"color: #7f7f7f; text-decoration-color: #7f7f7f\">whoscored.py</span></a><span style=\"color: #7f7f7f; text-decoration-color: #7f7f7f\">:</span><a href=\"file://c:\\Users\\krawc\\OneDrive\\Documents\\code\\pythons\\predictor\\.venv\\Lib\\site-packages\\soccerdata\\whoscored.py#327\" target=\"_blank\"><span style=\"color: #7f7f7f; text-decoration-color: #7f7f7f\">327</span></a>\n",
       "</pre>\n"
      ],
      "text/plain": [
       "\u001b[2;36m[10/12/23 10:06:44]\u001b[0m\u001b[2;36m \u001b[0m\u001b[34mINFO    \u001b[0m Scraping game schedule for Saturday, May \u001b[1;36m20\u001b[0m \u001b[1;36m2023\u001b[0m                      \u001b]8;id=79891;file://c:\\Users\\krawc\\OneDrive\\Documents\\code\\pythons\\predictor\\.venv\\Lib\\site-packages\\soccerdata\\whoscored.py\u001b\\\u001b[2mwhoscored.py\u001b[0m\u001b]8;;\u001b\\\u001b[2m:\u001b[0m\u001b]8;id=234369;file://c:\\Users\\krawc\\OneDrive\\Documents\\code\\pythons\\predictor\\.venv\\Lib\\site-packages\\soccerdata\\whoscored.py#327\u001b\\\u001b[2m327\u001b[0m\u001b]8;;\u001b\\\n"
      ]
     },
     "metadata": {},
     "output_type": "display_data"
    },
    {
     "data": {
      "text/html": [
       "<pre style=\"white-space:pre;overflow-x:auto;line-height:normal;font-family:Menlo,'DejaVu Sans Mono',consolas,'Courier New',monospace\"><span style=\"color: #7fbfbf; text-decoration-color: #7fbfbf\">[10/12/23 10:06:45] </span><span style=\"color: #000080; text-decoration-color: #000080\">INFO    </span> Scraping game schedule for Sunday, May <span style=\"color: #008080; text-decoration-color: #008080; font-weight: bold\">21</span> <span style=\"color: #008080; text-decoration-color: #008080; font-weight: bold\">2023</span>                        <a href=\"file://c:\\Users\\krawc\\OneDrive\\Documents\\code\\pythons\\predictor\\.venv\\Lib\\site-packages\\soccerdata\\whoscored.py\" target=\"_blank\"><span style=\"color: #7f7f7f; text-decoration-color: #7f7f7f\">whoscored.py</span></a><span style=\"color: #7f7f7f; text-decoration-color: #7f7f7f\">:</span><a href=\"file://c:\\Users\\krawc\\OneDrive\\Documents\\code\\pythons\\predictor\\.venv\\Lib\\site-packages\\soccerdata\\whoscored.py#327\" target=\"_blank\"><span style=\"color: #7f7f7f; text-decoration-color: #7f7f7f\">327</span></a>\n",
       "</pre>\n"
      ],
      "text/plain": [
       "\u001b[2;36m[10/12/23 10:06:45]\u001b[0m\u001b[2;36m \u001b[0m\u001b[34mINFO    \u001b[0m Scraping game schedule for Sunday, May \u001b[1;36m21\u001b[0m \u001b[1;36m2023\u001b[0m                        \u001b]8;id=473295;file://c:\\Users\\krawc\\OneDrive\\Documents\\code\\pythons\\predictor\\.venv\\Lib\\site-packages\\soccerdata\\whoscored.py\u001b\\\u001b[2mwhoscored.py\u001b[0m\u001b]8;;\u001b\\\u001b[2m:\u001b[0m\u001b]8;id=670515;file://c:\\Users\\krawc\\OneDrive\\Documents\\code\\pythons\\predictor\\.venv\\Lib\\site-packages\\soccerdata\\whoscored.py#327\u001b\\\u001b[2m327\u001b[0m\u001b]8;;\u001b\\\n"
      ]
     },
     "metadata": {},
     "output_type": "display_data"
    },
    {
     "data": {
      "text/html": [
       "<pre style=\"white-space:pre;overflow-x:auto;line-height:normal;font-family:Menlo,'DejaVu Sans Mono',consolas,'Courier New',monospace\"><span style=\"color: #7fbfbf; text-decoration-color: #7fbfbf\">[10/12/23 10:06:46] </span><span style=\"color: #000080; text-decoration-color: #000080\">INFO    </span> Scraping game schedule for Monday, May <span style=\"color: #008080; text-decoration-color: #008080; font-weight: bold\">22</span> <span style=\"color: #008080; text-decoration-color: #008080; font-weight: bold\">2023</span>                        <a href=\"file://c:\\Users\\krawc\\OneDrive\\Documents\\code\\pythons\\predictor\\.venv\\Lib\\site-packages\\soccerdata\\whoscored.py\" target=\"_blank\"><span style=\"color: #7f7f7f; text-decoration-color: #7f7f7f\">whoscored.py</span></a><span style=\"color: #7f7f7f; text-decoration-color: #7f7f7f\">:</span><a href=\"file://c:\\Users\\krawc\\OneDrive\\Documents\\code\\pythons\\predictor\\.venv\\Lib\\site-packages\\soccerdata\\whoscored.py#327\" target=\"_blank\"><span style=\"color: #7f7f7f; text-decoration-color: #7f7f7f\">327</span></a>\n",
       "</pre>\n"
      ],
      "text/plain": [
       "\u001b[2;36m[10/12/23 10:06:46]\u001b[0m\u001b[2;36m \u001b[0m\u001b[34mINFO    \u001b[0m Scraping game schedule for Monday, May \u001b[1;36m22\u001b[0m \u001b[1;36m2023\u001b[0m                        \u001b]8;id=521661;file://c:\\Users\\krawc\\OneDrive\\Documents\\code\\pythons\\predictor\\.venv\\Lib\\site-packages\\soccerdata\\whoscored.py\u001b\\\u001b[2mwhoscored.py\u001b[0m\u001b]8;;\u001b\\\u001b[2m:\u001b[0m\u001b]8;id=392634;file://c:\\Users\\krawc\\OneDrive\\Documents\\code\\pythons\\predictor\\.venv\\Lib\\site-packages\\soccerdata\\whoscored.py#327\u001b\\\u001b[2m327\u001b[0m\u001b]8;;\u001b\\\n"
      ]
     },
     "metadata": {},
     "output_type": "display_data"
    },
    {
     "data": {
      "text/html": [
       "<pre style=\"white-space:pre;overflow-x:auto;line-height:normal;font-family:Menlo,'DejaVu Sans Mono',consolas,'Courier New',monospace\"><span style=\"color: #7fbfbf; text-decoration-color: #7fbfbf\">[10/12/23 10:06:47] </span><span style=\"color: #000080; text-decoration-color: #000080\">INFO    </span> Scraping game schedule for Wednesday, May <span style=\"color: #008080; text-decoration-color: #008080; font-weight: bold\">24</span> <span style=\"color: #008080; text-decoration-color: #008080; font-weight: bold\">2023</span>                     <a href=\"file://c:\\Users\\krawc\\OneDrive\\Documents\\code\\pythons\\predictor\\.venv\\Lib\\site-packages\\soccerdata\\whoscored.py\" target=\"_blank\"><span style=\"color: #7f7f7f; text-decoration-color: #7f7f7f\">whoscored.py</span></a><span style=\"color: #7f7f7f; text-decoration-color: #7f7f7f\">:</span><a href=\"file://c:\\Users\\krawc\\OneDrive\\Documents\\code\\pythons\\predictor\\.venv\\Lib\\site-packages\\soccerdata\\whoscored.py#327\" target=\"_blank\"><span style=\"color: #7f7f7f; text-decoration-color: #7f7f7f\">327</span></a>\n",
       "</pre>\n"
      ],
      "text/plain": [
       "\u001b[2;36m[10/12/23 10:06:47]\u001b[0m\u001b[2;36m \u001b[0m\u001b[34mINFO    \u001b[0m Scraping game schedule for Wednesday, May \u001b[1;36m24\u001b[0m \u001b[1;36m2023\u001b[0m                     \u001b]8;id=13502;file://c:\\Users\\krawc\\OneDrive\\Documents\\code\\pythons\\predictor\\.venv\\Lib\\site-packages\\soccerdata\\whoscored.py\u001b\\\u001b[2mwhoscored.py\u001b[0m\u001b]8;;\u001b\\\u001b[2m:\u001b[0m\u001b]8;id=212029;file://c:\\Users\\krawc\\OneDrive\\Documents\\code\\pythons\\predictor\\.venv\\Lib\\site-packages\\soccerdata\\whoscored.py#327\u001b\\\u001b[2m327\u001b[0m\u001b]8;;\u001b\\\n"
      ]
     },
     "metadata": {},
     "output_type": "display_data"
    },
    {
     "data": {
      "text/html": [
       "<pre style=\"white-space:pre;overflow-x:auto;line-height:normal;font-family:Menlo,'DejaVu Sans Mono',consolas,'Courier New',monospace\"><span style=\"color: #7fbfbf; text-decoration-color: #7fbfbf\">                    </span><span style=\"color: #000080; text-decoration-color: #000080\">INFO    </span> Scraping game schedule for Thursday, May <span style=\"color: #008080; text-decoration-color: #008080; font-weight: bold\">25</span> <span style=\"color: #008080; text-decoration-color: #008080; font-weight: bold\">2023</span>                      <a href=\"file://c:\\Users\\krawc\\OneDrive\\Documents\\code\\pythons\\predictor\\.venv\\Lib\\site-packages\\soccerdata\\whoscored.py\" target=\"_blank\"><span style=\"color: #7f7f7f; text-decoration-color: #7f7f7f\">whoscored.py</span></a><span style=\"color: #7f7f7f; text-decoration-color: #7f7f7f\">:</span><a href=\"file://c:\\Users\\krawc\\OneDrive\\Documents\\code\\pythons\\predictor\\.venv\\Lib\\site-packages\\soccerdata\\whoscored.py#327\" target=\"_blank\"><span style=\"color: #7f7f7f; text-decoration-color: #7f7f7f\">327</span></a>\n",
       "</pre>\n"
      ],
      "text/plain": [
       "\u001b[2;36m                   \u001b[0m\u001b[2;36m \u001b[0m\u001b[34mINFO    \u001b[0m Scraping game schedule for Thursday, May \u001b[1;36m25\u001b[0m \u001b[1;36m2023\u001b[0m                      \u001b]8;id=845099;file://c:\\Users\\krawc\\OneDrive\\Documents\\code\\pythons\\predictor\\.venv\\Lib\\site-packages\\soccerdata\\whoscored.py\u001b\\\u001b[2mwhoscored.py\u001b[0m\u001b]8;;\u001b\\\u001b[2m:\u001b[0m\u001b]8;id=36066;file://c:\\Users\\krawc\\OneDrive\\Documents\\code\\pythons\\predictor\\.venv\\Lib\\site-packages\\soccerdata\\whoscored.py#327\u001b\\\u001b[2m327\u001b[0m\u001b]8;;\u001b\\\n"
      ]
     },
     "metadata": {},
     "output_type": "display_data"
    },
    {
     "data": {
      "text/html": [
       "<pre style=\"white-space:pre;overflow-x:auto;line-height:normal;font-family:Menlo,'DejaVu Sans Mono',consolas,'Courier New',monospace\"><span style=\"color: #7fbfbf; text-decoration-color: #7fbfbf\">                    </span><span style=\"color: #000080; text-decoration-color: #000080\">INFO    </span> Scraping game schedule for Sunday, May <span style=\"color: #008080; text-decoration-color: #008080; font-weight: bold\">28</span> <span style=\"color: #008080; text-decoration-color: #008080; font-weight: bold\">2023</span>                        <a href=\"file://c:\\Users\\krawc\\OneDrive\\Documents\\code\\pythons\\predictor\\.venv\\Lib\\site-packages\\soccerdata\\whoscored.py\" target=\"_blank\"><span style=\"color: #7f7f7f; text-decoration-color: #7f7f7f\">whoscored.py</span></a><span style=\"color: #7f7f7f; text-decoration-color: #7f7f7f\">:</span><a href=\"file://c:\\Users\\krawc\\OneDrive\\Documents\\code\\pythons\\predictor\\.venv\\Lib\\site-packages\\soccerdata\\whoscored.py#327\" target=\"_blank\"><span style=\"color: #7f7f7f; text-decoration-color: #7f7f7f\">327</span></a>\n",
       "</pre>\n"
      ],
      "text/plain": [
       "\u001b[2;36m                   \u001b[0m\u001b[2;36m \u001b[0m\u001b[34mINFO    \u001b[0m Scraping game schedule for Sunday, May \u001b[1;36m28\u001b[0m \u001b[1;36m2023\u001b[0m                        \u001b]8;id=466603;file://c:\\Users\\krawc\\OneDrive\\Documents\\code\\pythons\\predictor\\.venv\\Lib\\site-packages\\soccerdata\\whoscored.py\u001b\\\u001b[2mwhoscored.py\u001b[0m\u001b]8;;\u001b\\\u001b[2m:\u001b[0m\u001b]8;id=603721;file://c:\\Users\\krawc\\OneDrive\\Documents\\code\\pythons\\predictor\\.venv\\Lib\\site-packages\\soccerdata\\whoscored.py#327\u001b\\\u001b[2m327\u001b[0m\u001b]8;;\u001b\\\n"
      ]
     },
     "metadata": {},
     "output_type": "display_data"
    },
    {
     "data": {
      "text/html": [
       "<pre style=\"white-space:pre;overflow-x:auto;line-height:normal;font-family:Menlo,'DejaVu Sans Mono',consolas,'Courier New',monospace\"><span style=\"color: #7fbfbf; text-decoration-color: #7fbfbf\">[10/12/23 10:06:55] </span><span style=\"color: #000080; text-decoration-color: #000080\">INFO    </span> Scraping game schedule for Saturday, Apr <span style=\"color: #008080; text-decoration-color: #008080; font-weight: bold\">1</span> <span style=\"color: #008080; text-decoration-color: #008080; font-weight: bold\">2023</span>                       <a href=\"file://c:\\Users\\krawc\\OneDrive\\Documents\\code\\pythons\\predictor\\.venv\\Lib\\site-packages\\soccerdata\\whoscored.py\" target=\"_blank\"><span style=\"color: #7f7f7f; text-decoration-color: #7f7f7f\">whoscored.py</span></a><span style=\"color: #7f7f7f; text-decoration-color: #7f7f7f\">:</span><a href=\"file://c:\\Users\\krawc\\OneDrive\\Documents\\code\\pythons\\predictor\\.venv\\Lib\\site-packages\\soccerdata\\whoscored.py#327\" target=\"_blank\"><span style=\"color: #7f7f7f; text-decoration-color: #7f7f7f\">327</span></a>\n",
       "</pre>\n"
      ],
      "text/plain": [
       "\u001b[2;36m[10/12/23 10:06:55]\u001b[0m\u001b[2;36m \u001b[0m\u001b[34mINFO    \u001b[0m Scraping game schedule for Saturday, Apr \u001b[1;36m1\u001b[0m \u001b[1;36m2023\u001b[0m                       \u001b]8;id=374101;file://c:\\Users\\krawc\\OneDrive\\Documents\\code\\pythons\\predictor\\.venv\\Lib\\site-packages\\soccerdata\\whoscored.py\u001b\\\u001b[2mwhoscored.py\u001b[0m\u001b]8;;\u001b\\\u001b[2m:\u001b[0m\u001b]8;id=230672;file://c:\\Users\\krawc\\OneDrive\\Documents\\code\\pythons\\predictor\\.venv\\Lib\\site-packages\\soccerdata\\whoscored.py#327\u001b\\\u001b[2m327\u001b[0m\u001b]8;;\u001b\\\n"
      ]
     },
     "metadata": {},
     "output_type": "display_data"
    },
    {
     "data": {
      "text/html": [
       "<pre style=\"white-space:pre;overflow-x:auto;line-height:normal;font-family:Menlo,'DejaVu Sans Mono',consolas,'Courier New',monospace\"><span style=\"color: #7fbfbf; text-decoration-color: #7fbfbf\">[10/12/23 10:06:57] </span><span style=\"color: #000080; text-decoration-color: #000080\">INFO    </span> Scraping game schedule for Sunday, Apr <span style=\"color: #008080; text-decoration-color: #008080; font-weight: bold\">2</span> <span style=\"color: #008080; text-decoration-color: #008080; font-weight: bold\">2023</span>                         <a href=\"file://c:\\Users\\krawc\\OneDrive\\Documents\\code\\pythons\\predictor\\.venv\\Lib\\site-packages\\soccerdata\\whoscored.py\" target=\"_blank\"><span style=\"color: #7f7f7f; text-decoration-color: #7f7f7f\">whoscored.py</span></a><span style=\"color: #7f7f7f; text-decoration-color: #7f7f7f\">:</span><a href=\"file://c:\\Users\\krawc\\OneDrive\\Documents\\code\\pythons\\predictor\\.venv\\Lib\\site-packages\\soccerdata\\whoscored.py#327\" target=\"_blank\"><span style=\"color: #7f7f7f; text-decoration-color: #7f7f7f\">327</span></a>\n",
       "</pre>\n"
      ],
      "text/plain": [
       "\u001b[2;36m[10/12/23 10:06:57]\u001b[0m\u001b[2;36m \u001b[0m\u001b[34mINFO    \u001b[0m Scraping game schedule for Sunday, Apr \u001b[1;36m2\u001b[0m \u001b[1;36m2023\u001b[0m                         \u001b]8;id=692905;file://c:\\Users\\krawc\\OneDrive\\Documents\\code\\pythons\\predictor\\.venv\\Lib\\site-packages\\soccerdata\\whoscored.py\u001b\\\u001b[2mwhoscored.py\u001b[0m\u001b]8;;\u001b\\\u001b[2m:\u001b[0m\u001b]8;id=356235;file://c:\\Users\\krawc\\OneDrive\\Documents\\code\\pythons\\predictor\\.venv\\Lib\\site-packages\\soccerdata\\whoscored.py#327\u001b\\\u001b[2m327\u001b[0m\u001b]8;;\u001b\\\n"
      ]
     },
     "metadata": {},
     "output_type": "display_data"
    },
    {
     "data": {
      "text/html": [
       "<pre style=\"white-space:pre;overflow-x:auto;line-height:normal;font-family:Menlo,'DejaVu Sans Mono',consolas,'Courier New',monospace\"><span style=\"color: #7fbfbf; text-decoration-color: #7fbfbf\">[10/12/23 10:06:58] </span><span style=\"color: #000080; text-decoration-color: #000080\">INFO    </span> Scraping game schedule for Monday, Apr <span style=\"color: #008080; text-decoration-color: #008080; font-weight: bold\">3</span> <span style=\"color: #008080; text-decoration-color: #008080; font-weight: bold\">2023</span>                         <a href=\"file://c:\\Users\\krawc\\OneDrive\\Documents\\code\\pythons\\predictor\\.venv\\Lib\\site-packages\\soccerdata\\whoscored.py\" target=\"_blank\"><span style=\"color: #7f7f7f; text-decoration-color: #7f7f7f\">whoscored.py</span></a><span style=\"color: #7f7f7f; text-decoration-color: #7f7f7f\">:</span><a href=\"file://c:\\Users\\krawc\\OneDrive\\Documents\\code\\pythons\\predictor\\.venv\\Lib\\site-packages\\soccerdata\\whoscored.py#327\" target=\"_blank\"><span style=\"color: #7f7f7f; text-decoration-color: #7f7f7f\">327</span></a>\n",
       "</pre>\n"
      ],
      "text/plain": [
       "\u001b[2;36m[10/12/23 10:06:58]\u001b[0m\u001b[2;36m \u001b[0m\u001b[34mINFO    \u001b[0m Scraping game schedule for Monday, Apr \u001b[1;36m3\u001b[0m \u001b[1;36m2023\u001b[0m                         \u001b]8;id=964434;file://c:\\Users\\krawc\\OneDrive\\Documents\\code\\pythons\\predictor\\.venv\\Lib\\site-packages\\soccerdata\\whoscored.py\u001b\\\u001b[2mwhoscored.py\u001b[0m\u001b]8;;\u001b\\\u001b[2m:\u001b[0m\u001b]8;id=452489;file://c:\\Users\\krawc\\OneDrive\\Documents\\code\\pythons\\predictor\\.venv\\Lib\\site-packages\\soccerdata\\whoscored.py#327\u001b\\\u001b[2m327\u001b[0m\u001b]8;;\u001b\\\n"
      ]
     },
     "metadata": {},
     "output_type": "display_data"
    },
    {
     "data": {
      "text/html": [
       "<pre style=\"white-space:pre;overflow-x:auto;line-height:normal;font-family:Menlo,'DejaVu Sans Mono',consolas,'Courier New',monospace\"><span style=\"color: #7fbfbf; text-decoration-color: #7fbfbf\">                    </span><span style=\"color: #000080; text-decoration-color: #000080\">INFO    </span> Scraping game schedule for Tuesday, Apr <span style=\"color: #008080; text-decoration-color: #008080; font-weight: bold\">4</span> <span style=\"color: #008080; text-decoration-color: #008080; font-weight: bold\">2023</span>                        <a href=\"file://c:\\Users\\krawc\\OneDrive\\Documents\\code\\pythons\\predictor\\.venv\\Lib\\site-packages\\soccerdata\\whoscored.py\" target=\"_blank\"><span style=\"color: #7f7f7f; text-decoration-color: #7f7f7f\">whoscored.py</span></a><span style=\"color: #7f7f7f; text-decoration-color: #7f7f7f\">:</span><a href=\"file://c:\\Users\\krawc\\OneDrive\\Documents\\code\\pythons\\predictor\\.venv\\Lib\\site-packages\\soccerdata\\whoscored.py#327\" target=\"_blank\"><span style=\"color: #7f7f7f; text-decoration-color: #7f7f7f\">327</span></a>\n",
       "</pre>\n"
      ],
      "text/plain": [
       "\u001b[2;36m                   \u001b[0m\u001b[2;36m \u001b[0m\u001b[34mINFO    \u001b[0m Scraping game schedule for Tuesday, Apr \u001b[1;36m4\u001b[0m \u001b[1;36m2023\u001b[0m                        \u001b]8;id=731429;file://c:\\Users\\krawc\\OneDrive\\Documents\\code\\pythons\\predictor\\.venv\\Lib\\site-packages\\soccerdata\\whoscored.py\u001b\\\u001b[2mwhoscored.py\u001b[0m\u001b]8;;\u001b\\\u001b[2m:\u001b[0m\u001b]8;id=713869;file://c:\\Users\\krawc\\OneDrive\\Documents\\code\\pythons\\predictor\\.venv\\Lib\\site-packages\\soccerdata\\whoscored.py#327\u001b\\\u001b[2m327\u001b[0m\u001b]8;;\u001b\\\n"
      ]
     },
     "metadata": {},
     "output_type": "display_data"
    },
    {
     "data": {
      "text/html": [
       "<pre style=\"white-space:pre;overflow-x:auto;line-height:normal;font-family:Menlo,'DejaVu Sans Mono',consolas,'Courier New',monospace\"><span style=\"color: #7fbfbf; text-decoration-color: #7fbfbf\">[10/12/23 10:06:59] </span><span style=\"color: #000080; text-decoration-color: #000080\">INFO    </span> Scraping game schedule for Wednesday, Apr <span style=\"color: #008080; text-decoration-color: #008080; font-weight: bold\">5</span> <span style=\"color: #008080; text-decoration-color: #008080; font-weight: bold\">2023</span>                      <a href=\"file://c:\\Users\\krawc\\OneDrive\\Documents\\code\\pythons\\predictor\\.venv\\Lib\\site-packages\\soccerdata\\whoscored.py\" target=\"_blank\"><span style=\"color: #7f7f7f; text-decoration-color: #7f7f7f\">whoscored.py</span></a><span style=\"color: #7f7f7f; text-decoration-color: #7f7f7f\">:</span><a href=\"file://c:\\Users\\krawc\\OneDrive\\Documents\\code\\pythons\\predictor\\.venv\\Lib\\site-packages\\soccerdata\\whoscored.py#327\" target=\"_blank\"><span style=\"color: #7f7f7f; text-decoration-color: #7f7f7f\">327</span></a>\n",
       "</pre>\n"
      ],
      "text/plain": [
       "\u001b[2;36m[10/12/23 10:06:59]\u001b[0m\u001b[2;36m \u001b[0m\u001b[34mINFO    \u001b[0m Scraping game schedule for Wednesday, Apr \u001b[1;36m5\u001b[0m \u001b[1;36m2023\u001b[0m                      \u001b]8;id=223707;file://c:\\Users\\krawc\\OneDrive\\Documents\\code\\pythons\\predictor\\.venv\\Lib\\site-packages\\soccerdata\\whoscored.py\u001b\\\u001b[2mwhoscored.py\u001b[0m\u001b]8;;\u001b\\\u001b[2m:\u001b[0m\u001b]8;id=275444;file://c:\\Users\\krawc\\OneDrive\\Documents\\code\\pythons\\predictor\\.venv\\Lib\\site-packages\\soccerdata\\whoscored.py#327\u001b\\\u001b[2m327\u001b[0m\u001b]8;;\u001b\\\n"
      ]
     },
     "metadata": {},
     "output_type": "display_data"
    },
    {
     "data": {
      "text/html": [
       "<pre style=\"white-space:pre;overflow-x:auto;line-height:normal;font-family:Menlo,'DejaVu Sans Mono',consolas,'Courier New',monospace\"><span style=\"color: #7fbfbf; text-decoration-color: #7fbfbf\">[10/12/23 10:07:00] </span><span style=\"color: #000080; text-decoration-color: #000080\">INFO    </span> Scraping game schedule for Saturday, Apr <span style=\"color: #008080; text-decoration-color: #008080; font-weight: bold\">8</span> <span style=\"color: #008080; text-decoration-color: #008080; font-weight: bold\">2023</span>                       <a href=\"file://c:\\Users\\krawc\\OneDrive\\Documents\\code\\pythons\\predictor\\.venv\\Lib\\site-packages\\soccerdata\\whoscored.py\" target=\"_blank\"><span style=\"color: #7f7f7f; text-decoration-color: #7f7f7f\">whoscored.py</span></a><span style=\"color: #7f7f7f; text-decoration-color: #7f7f7f\">:</span><a href=\"file://c:\\Users\\krawc\\OneDrive\\Documents\\code\\pythons\\predictor\\.venv\\Lib\\site-packages\\soccerdata\\whoscored.py#327\" target=\"_blank\"><span style=\"color: #7f7f7f; text-decoration-color: #7f7f7f\">327</span></a>\n",
       "</pre>\n"
      ],
      "text/plain": [
       "\u001b[2;36m[10/12/23 10:07:00]\u001b[0m\u001b[2;36m \u001b[0m\u001b[34mINFO    \u001b[0m Scraping game schedule for Saturday, Apr \u001b[1;36m8\u001b[0m \u001b[1;36m2023\u001b[0m                       \u001b]8;id=634293;file://c:\\Users\\krawc\\OneDrive\\Documents\\code\\pythons\\predictor\\.venv\\Lib\\site-packages\\soccerdata\\whoscored.py\u001b\\\u001b[2mwhoscored.py\u001b[0m\u001b]8;;\u001b\\\u001b[2m:\u001b[0m\u001b]8;id=547173;file://c:\\Users\\krawc\\OneDrive\\Documents\\code\\pythons\\predictor\\.venv\\Lib\\site-packages\\soccerdata\\whoscored.py#327\u001b\\\u001b[2m327\u001b[0m\u001b]8;;\u001b\\\n"
      ]
     },
     "metadata": {},
     "output_type": "display_data"
    },
    {
     "data": {
      "text/html": [
       "<pre style=\"white-space:pre;overflow-x:auto;line-height:normal;font-family:Menlo,'DejaVu Sans Mono',consolas,'Courier New',monospace\"><span style=\"color: #7fbfbf; text-decoration-color: #7fbfbf\">[10/12/23 10:07:02] </span><span style=\"color: #000080; text-decoration-color: #000080\">INFO    </span> Scraping game schedule for Sunday, Apr <span style=\"color: #008080; text-decoration-color: #008080; font-weight: bold\">9</span> <span style=\"color: #008080; text-decoration-color: #008080; font-weight: bold\">2023</span>                         <a href=\"file://c:\\Users\\krawc\\OneDrive\\Documents\\code\\pythons\\predictor\\.venv\\Lib\\site-packages\\soccerdata\\whoscored.py\" target=\"_blank\"><span style=\"color: #7f7f7f; text-decoration-color: #7f7f7f\">whoscored.py</span></a><span style=\"color: #7f7f7f; text-decoration-color: #7f7f7f\">:</span><a href=\"file://c:\\Users\\krawc\\OneDrive\\Documents\\code\\pythons\\predictor\\.venv\\Lib\\site-packages\\soccerdata\\whoscored.py#327\" target=\"_blank\"><span style=\"color: #7f7f7f; text-decoration-color: #7f7f7f\">327</span></a>\n",
       "</pre>\n"
      ],
      "text/plain": [
       "\u001b[2;36m[10/12/23 10:07:02]\u001b[0m\u001b[2;36m \u001b[0m\u001b[34mINFO    \u001b[0m Scraping game schedule for Sunday, Apr \u001b[1;36m9\u001b[0m \u001b[1;36m2023\u001b[0m                         \u001b]8;id=712679;file://c:\\Users\\krawc\\OneDrive\\Documents\\code\\pythons\\predictor\\.venv\\Lib\\site-packages\\soccerdata\\whoscored.py\u001b\\\u001b[2mwhoscored.py\u001b[0m\u001b]8;;\u001b\\\u001b[2m:\u001b[0m\u001b]8;id=351377;file://c:\\Users\\krawc\\OneDrive\\Documents\\code\\pythons\\predictor\\.venv\\Lib\\site-packages\\soccerdata\\whoscored.py#327\u001b\\\u001b[2m327\u001b[0m\u001b]8;;\u001b\\\n"
      ]
     },
     "metadata": {},
     "output_type": "display_data"
    },
    {
     "data": {
      "text/html": [
       "<pre style=\"white-space:pre;overflow-x:auto;line-height:normal;font-family:Menlo,'DejaVu Sans Mono',consolas,'Courier New',monospace\"><span style=\"color: #7fbfbf; text-decoration-color: #7fbfbf\">[10/12/23 10:07:03] </span><span style=\"color: #000080; text-decoration-color: #000080\">INFO    </span> Scraping game schedule for Saturday, Apr <span style=\"color: #008080; text-decoration-color: #008080; font-weight: bold\">15</span> <span style=\"color: #008080; text-decoration-color: #008080; font-weight: bold\">2023</span>                      <a href=\"file://c:\\Users\\krawc\\OneDrive\\Documents\\code\\pythons\\predictor\\.venv\\Lib\\site-packages\\soccerdata\\whoscored.py\" target=\"_blank\"><span style=\"color: #7f7f7f; text-decoration-color: #7f7f7f\">whoscored.py</span></a><span style=\"color: #7f7f7f; text-decoration-color: #7f7f7f\">:</span><a href=\"file://c:\\Users\\krawc\\OneDrive\\Documents\\code\\pythons\\predictor\\.venv\\Lib\\site-packages\\soccerdata\\whoscored.py#327\" target=\"_blank\"><span style=\"color: #7f7f7f; text-decoration-color: #7f7f7f\">327</span></a>\n",
       "</pre>\n"
      ],
      "text/plain": [
       "\u001b[2;36m[10/12/23 10:07:03]\u001b[0m\u001b[2;36m \u001b[0m\u001b[34mINFO    \u001b[0m Scraping game schedule for Saturday, Apr \u001b[1;36m15\u001b[0m \u001b[1;36m2023\u001b[0m                      \u001b]8;id=920955;file://c:\\Users\\krawc\\OneDrive\\Documents\\code\\pythons\\predictor\\.venv\\Lib\\site-packages\\soccerdata\\whoscored.py\u001b\\\u001b[2mwhoscored.py\u001b[0m\u001b]8;;\u001b\\\u001b[2m:\u001b[0m\u001b]8;id=558897;file://c:\\Users\\krawc\\OneDrive\\Documents\\code\\pythons\\predictor\\.venv\\Lib\\site-packages\\soccerdata\\whoscored.py#327\u001b\\\u001b[2m327\u001b[0m\u001b]8;;\u001b\\\n"
      ]
     },
     "metadata": {},
     "output_type": "display_data"
    },
    {
     "data": {
      "text/html": [
       "<pre style=\"white-space:pre;overflow-x:auto;line-height:normal;font-family:Menlo,'DejaVu Sans Mono',consolas,'Courier New',monospace\"><span style=\"color: #7fbfbf; text-decoration-color: #7fbfbf\">[10/12/23 10:07:06] </span><span style=\"color: #000080; text-decoration-color: #000080\">INFO    </span> Scraping game schedule for Sunday, Apr <span style=\"color: #008080; text-decoration-color: #008080; font-weight: bold\">16</span> <span style=\"color: #008080; text-decoration-color: #008080; font-weight: bold\">2023</span>                        <a href=\"file://c:\\Users\\krawc\\OneDrive\\Documents\\code\\pythons\\predictor\\.venv\\Lib\\site-packages\\soccerdata\\whoscored.py\" target=\"_blank\"><span style=\"color: #7f7f7f; text-decoration-color: #7f7f7f\">whoscored.py</span></a><span style=\"color: #7f7f7f; text-decoration-color: #7f7f7f\">:</span><a href=\"file://c:\\Users\\krawc\\OneDrive\\Documents\\code\\pythons\\predictor\\.venv\\Lib\\site-packages\\soccerdata\\whoscored.py#327\" target=\"_blank\"><span style=\"color: #7f7f7f; text-decoration-color: #7f7f7f\">327</span></a>\n",
       "</pre>\n"
      ],
      "text/plain": [
       "\u001b[2;36m[10/12/23 10:07:06]\u001b[0m\u001b[2;36m \u001b[0m\u001b[34mINFO    \u001b[0m Scraping game schedule for Sunday, Apr \u001b[1;36m16\u001b[0m \u001b[1;36m2023\u001b[0m                        \u001b]8;id=579939;file://c:\\Users\\krawc\\OneDrive\\Documents\\code\\pythons\\predictor\\.venv\\Lib\\site-packages\\soccerdata\\whoscored.py\u001b\\\u001b[2mwhoscored.py\u001b[0m\u001b]8;;\u001b\\\u001b[2m:\u001b[0m\u001b]8;id=37798;file://c:\\Users\\krawc\\OneDrive\\Documents\\code\\pythons\\predictor\\.venv\\Lib\\site-packages\\soccerdata\\whoscored.py#327\u001b\\\u001b[2m327\u001b[0m\u001b]8;;\u001b\\\n"
      ]
     },
     "metadata": {},
     "output_type": "display_data"
    },
    {
     "data": {
      "text/html": [
       "<pre style=\"white-space:pre;overflow-x:auto;line-height:normal;font-family:Menlo,'DejaVu Sans Mono',consolas,'Courier New',monospace\"><span style=\"color: #7fbfbf; text-decoration-color: #7fbfbf\">                    </span><span style=\"color: #000080; text-decoration-color: #000080\">INFO    </span> Scraping game schedule for Monday, Apr <span style=\"color: #008080; text-decoration-color: #008080; font-weight: bold\">17</span> <span style=\"color: #008080; text-decoration-color: #008080; font-weight: bold\">2023</span>                        <a href=\"file://c:\\Users\\krawc\\OneDrive\\Documents\\code\\pythons\\predictor\\.venv\\Lib\\site-packages\\soccerdata\\whoscored.py\" target=\"_blank\"><span style=\"color: #7f7f7f; text-decoration-color: #7f7f7f\">whoscored.py</span></a><span style=\"color: #7f7f7f; text-decoration-color: #7f7f7f\">:</span><a href=\"file://c:\\Users\\krawc\\OneDrive\\Documents\\code\\pythons\\predictor\\.venv\\Lib\\site-packages\\soccerdata\\whoscored.py#327\" target=\"_blank\"><span style=\"color: #7f7f7f; text-decoration-color: #7f7f7f\">327</span></a>\n",
       "</pre>\n"
      ],
      "text/plain": [
       "\u001b[2;36m                   \u001b[0m\u001b[2;36m \u001b[0m\u001b[34mINFO    \u001b[0m Scraping game schedule for Monday, Apr \u001b[1;36m17\u001b[0m \u001b[1;36m2023\u001b[0m                        \u001b]8;id=269936;file://c:\\Users\\krawc\\OneDrive\\Documents\\code\\pythons\\predictor\\.venv\\Lib\\site-packages\\soccerdata\\whoscored.py\u001b\\\u001b[2mwhoscored.py\u001b[0m\u001b]8;;\u001b\\\u001b[2m:\u001b[0m\u001b]8;id=991401;file://c:\\Users\\krawc\\OneDrive\\Documents\\code\\pythons\\predictor\\.venv\\Lib\\site-packages\\soccerdata\\whoscored.py#327\u001b\\\u001b[2m327\u001b[0m\u001b]8;;\u001b\\\n"
      ]
     },
     "metadata": {},
     "output_type": "display_data"
    },
    {
     "data": {
      "text/html": [
       "<pre style=\"white-space:pre;overflow-x:auto;line-height:normal;font-family:Menlo,'DejaVu Sans Mono',consolas,'Courier New',monospace\"><span style=\"color: #7fbfbf; text-decoration-color: #7fbfbf\">[10/12/23 10:07:07] </span><span style=\"color: #000080; text-decoration-color: #000080\">INFO    </span> Scraping game schedule for Friday, Apr <span style=\"color: #008080; text-decoration-color: #008080; font-weight: bold\">21</span> <span style=\"color: #008080; text-decoration-color: #008080; font-weight: bold\">2023</span>                        <a href=\"file://c:\\Users\\krawc\\OneDrive\\Documents\\code\\pythons\\predictor\\.venv\\Lib\\site-packages\\soccerdata\\whoscored.py\" target=\"_blank\"><span style=\"color: #7f7f7f; text-decoration-color: #7f7f7f\">whoscored.py</span></a><span style=\"color: #7f7f7f; text-decoration-color: #7f7f7f\">:</span><a href=\"file://c:\\Users\\krawc\\OneDrive\\Documents\\code\\pythons\\predictor\\.venv\\Lib\\site-packages\\soccerdata\\whoscored.py#327\" target=\"_blank\"><span style=\"color: #7f7f7f; text-decoration-color: #7f7f7f\">327</span></a>\n",
       "</pre>\n"
      ],
      "text/plain": [
       "\u001b[2;36m[10/12/23 10:07:07]\u001b[0m\u001b[2;36m \u001b[0m\u001b[34mINFO    \u001b[0m Scraping game schedule for Friday, Apr \u001b[1;36m21\u001b[0m \u001b[1;36m2023\u001b[0m                        \u001b]8;id=285846;file://c:\\Users\\krawc\\OneDrive\\Documents\\code\\pythons\\predictor\\.venv\\Lib\\site-packages\\soccerdata\\whoscored.py\u001b\\\u001b[2mwhoscored.py\u001b[0m\u001b]8;;\u001b\\\u001b[2m:\u001b[0m\u001b]8;id=374816;file://c:\\Users\\krawc\\OneDrive\\Documents\\code\\pythons\\predictor\\.venv\\Lib\\site-packages\\soccerdata\\whoscored.py#327\u001b\\\u001b[2m327\u001b[0m\u001b]8;;\u001b\\\n"
      ]
     },
     "metadata": {},
     "output_type": "display_data"
    },
    {
     "data": {
      "text/html": [
       "<pre style=\"white-space:pre;overflow-x:auto;line-height:normal;font-family:Menlo,'DejaVu Sans Mono',consolas,'Courier New',monospace\"><span style=\"color: #7fbfbf; text-decoration-color: #7fbfbf\">                    </span><span style=\"color: #000080; text-decoration-color: #000080\">INFO    </span> Scraping game schedule for Saturday, Apr <span style=\"color: #008080; text-decoration-color: #008080; font-weight: bold\">22</span> <span style=\"color: #008080; text-decoration-color: #008080; font-weight: bold\">2023</span>                      <a href=\"file://c:\\Users\\krawc\\OneDrive\\Documents\\code\\pythons\\predictor\\.venv\\Lib\\site-packages\\soccerdata\\whoscored.py\" target=\"_blank\"><span style=\"color: #7f7f7f; text-decoration-color: #7f7f7f\">whoscored.py</span></a><span style=\"color: #7f7f7f; text-decoration-color: #7f7f7f\">:</span><a href=\"file://c:\\Users\\krawc\\OneDrive\\Documents\\code\\pythons\\predictor\\.venv\\Lib\\site-packages\\soccerdata\\whoscored.py#327\" target=\"_blank\"><span style=\"color: #7f7f7f; text-decoration-color: #7f7f7f\">327</span></a>\n",
       "</pre>\n"
      ],
      "text/plain": [
       "\u001b[2;36m                   \u001b[0m\u001b[2;36m \u001b[0m\u001b[34mINFO    \u001b[0m Scraping game schedule for Saturday, Apr \u001b[1;36m22\u001b[0m \u001b[1;36m2023\u001b[0m                      \u001b]8;id=319485;file://c:\\Users\\krawc\\OneDrive\\Documents\\code\\pythons\\predictor\\.venv\\Lib\\site-packages\\soccerdata\\whoscored.py\u001b\\\u001b[2mwhoscored.py\u001b[0m\u001b]8;;\u001b\\\u001b[2m:\u001b[0m\u001b]8;id=747057;file://c:\\Users\\krawc\\OneDrive\\Documents\\code\\pythons\\predictor\\.venv\\Lib\\site-packages\\soccerdata\\whoscored.py#327\u001b\\\u001b[2m327\u001b[0m\u001b]8;;\u001b\\\n"
      ]
     },
     "metadata": {},
     "output_type": "display_data"
    },
    {
     "data": {
      "text/html": [
       "<pre style=\"white-space:pre;overflow-x:auto;line-height:normal;font-family:Menlo,'DejaVu Sans Mono',consolas,'Courier New',monospace\"><span style=\"color: #7fbfbf; text-decoration-color: #7fbfbf\">[10/12/23 10:07:09] </span><span style=\"color: #000080; text-decoration-color: #000080\">INFO    </span> Scraping game schedule for Sunday, Apr <span style=\"color: #008080; text-decoration-color: #008080; font-weight: bold\">23</span> <span style=\"color: #008080; text-decoration-color: #008080; font-weight: bold\">2023</span>                        <a href=\"file://c:\\Users\\krawc\\OneDrive\\Documents\\code\\pythons\\predictor\\.venv\\Lib\\site-packages\\soccerdata\\whoscored.py\" target=\"_blank\"><span style=\"color: #7f7f7f; text-decoration-color: #7f7f7f\">whoscored.py</span></a><span style=\"color: #7f7f7f; text-decoration-color: #7f7f7f\">:</span><a href=\"file://c:\\Users\\krawc\\OneDrive\\Documents\\code\\pythons\\predictor\\.venv\\Lib\\site-packages\\soccerdata\\whoscored.py#327\" target=\"_blank\"><span style=\"color: #7f7f7f; text-decoration-color: #7f7f7f\">327</span></a>\n",
       "</pre>\n"
      ],
      "text/plain": [
       "\u001b[2;36m[10/12/23 10:07:09]\u001b[0m\u001b[2;36m \u001b[0m\u001b[34mINFO    \u001b[0m Scraping game schedule for Sunday, Apr \u001b[1;36m23\u001b[0m \u001b[1;36m2023\u001b[0m                        \u001b]8;id=611547;file://c:\\Users\\krawc\\OneDrive\\Documents\\code\\pythons\\predictor\\.venv\\Lib\\site-packages\\soccerdata\\whoscored.py\u001b\\\u001b[2mwhoscored.py\u001b[0m\u001b]8;;\u001b\\\u001b[2m:\u001b[0m\u001b]8;id=518553;file://c:\\Users\\krawc\\OneDrive\\Documents\\code\\pythons\\predictor\\.venv\\Lib\\site-packages\\soccerdata\\whoscored.py#327\u001b\\\u001b[2m327\u001b[0m\u001b]8;;\u001b\\\n"
      ]
     },
     "metadata": {},
     "output_type": "display_data"
    },
    {
     "data": {
      "text/html": [
       "<pre style=\"white-space:pre;overflow-x:auto;line-height:normal;font-family:Menlo,'DejaVu Sans Mono',consolas,'Courier New',monospace\"><span style=\"color: #7fbfbf; text-decoration-color: #7fbfbf\">                    </span><span style=\"color: #000080; text-decoration-color: #000080\">INFO    </span> Scraping game schedule for Tuesday, Apr <span style=\"color: #008080; text-decoration-color: #008080; font-weight: bold\">25</span> <span style=\"color: #008080; text-decoration-color: #008080; font-weight: bold\">2023</span>                       <a href=\"file://c:\\Users\\krawc\\OneDrive\\Documents\\code\\pythons\\predictor\\.venv\\Lib\\site-packages\\soccerdata\\whoscored.py\" target=\"_blank\"><span style=\"color: #7f7f7f; text-decoration-color: #7f7f7f\">whoscored.py</span></a><span style=\"color: #7f7f7f; text-decoration-color: #7f7f7f\">:</span><a href=\"file://c:\\Users\\krawc\\OneDrive\\Documents\\code\\pythons\\predictor\\.venv\\Lib\\site-packages\\soccerdata\\whoscored.py#327\" target=\"_blank\"><span style=\"color: #7f7f7f; text-decoration-color: #7f7f7f\">327</span></a>\n",
       "</pre>\n"
      ],
      "text/plain": [
       "\u001b[2;36m                   \u001b[0m\u001b[2;36m \u001b[0m\u001b[34mINFO    \u001b[0m Scraping game schedule for Tuesday, Apr \u001b[1;36m25\u001b[0m \u001b[1;36m2023\u001b[0m                       \u001b]8;id=287432;file://c:\\Users\\krawc\\OneDrive\\Documents\\code\\pythons\\predictor\\.venv\\Lib\\site-packages\\soccerdata\\whoscored.py\u001b\\\u001b[2mwhoscored.py\u001b[0m\u001b]8;;\u001b\\\u001b[2m:\u001b[0m\u001b]8;id=478972;file://c:\\Users\\krawc\\OneDrive\\Documents\\code\\pythons\\predictor\\.venv\\Lib\\site-packages\\soccerdata\\whoscored.py#327\u001b\\\u001b[2m327\u001b[0m\u001b]8;;\u001b\\\n"
      ]
     },
     "metadata": {},
     "output_type": "display_data"
    },
    {
     "data": {
      "text/html": [
       "<pre style=\"white-space:pre;overflow-x:auto;line-height:normal;font-family:Menlo,'DejaVu Sans Mono',consolas,'Courier New',monospace\"><span style=\"color: #7fbfbf; text-decoration-color: #7fbfbf\">[10/12/23 10:07:10] </span><span style=\"color: #000080; text-decoration-color: #000080\">INFO    </span> Scraping game schedule for Wednesday, Apr <span style=\"color: #008080; text-decoration-color: #008080; font-weight: bold\">26</span> <span style=\"color: #008080; text-decoration-color: #008080; font-weight: bold\">2023</span>                     <a href=\"file://c:\\Users\\krawc\\OneDrive\\Documents\\code\\pythons\\predictor\\.venv\\Lib\\site-packages\\soccerdata\\whoscored.py\" target=\"_blank\"><span style=\"color: #7f7f7f; text-decoration-color: #7f7f7f\">whoscored.py</span></a><span style=\"color: #7f7f7f; text-decoration-color: #7f7f7f\">:</span><a href=\"file://c:\\Users\\krawc\\OneDrive\\Documents\\code\\pythons\\predictor\\.venv\\Lib\\site-packages\\soccerdata\\whoscored.py#327\" target=\"_blank\"><span style=\"color: #7f7f7f; text-decoration-color: #7f7f7f\">327</span></a>\n",
       "</pre>\n"
      ],
      "text/plain": [
       "\u001b[2;36m[10/12/23 10:07:10]\u001b[0m\u001b[2;36m \u001b[0m\u001b[34mINFO    \u001b[0m Scraping game schedule for Wednesday, Apr \u001b[1;36m26\u001b[0m \u001b[1;36m2023\u001b[0m                     \u001b]8;id=115288;file://c:\\Users\\krawc\\OneDrive\\Documents\\code\\pythons\\predictor\\.venv\\Lib\\site-packages\\soccerdata\\whoscored.py\u001b\\\u001b[2mwhoscored.py\u001b[0m\u001b]8;;\u001b\\\u001b[2m:\u001b[0m\u001b]8;id=134531;file://c:\\Users\\krawc\\OneDrive\\Documents\\code\\pythons\\predictor\\.venv\\Lib\\site-packages\\soccerdata\\whoscored.py#327\u001b\\\u001b[2m327\u001b[0m\u001b]8;;\u001b\\\n"
      ]
     },
     "metadata": {},
     "output_type": "display_data"
    },
    {
     "data": {
      "text/html": [
       "<pre style=\"white-space:pre;overflow-x:auto;line-height:normal;font-family:Menlo,'DejaVu Sans Mono',consolas,'Courier New',monospace\"><span style=\"color: #7fbfbf; text-decoration-color: #7fbfbf\">[10/12/23 10:07:12] </span><span style=\"color: #000080; text-decoration-color: #000080\">INFO    </span> Scraping game schedule for Thursday, Apr <span style=\"color: #008080; text-decoration-color: #008080; font-weight: bold\">27</span> <span style=\"color: #008080; text-decoration-color: #008080; font-weight: bold\">2023</span>                      <a href=\"file://c:\\Users\\krawc\\OneDrive\\Documents\\code\\pythons\\predictor\\.venv\\Lib\\site-packages\\soccerdata\\whoscored.py\" target=\"_blank\"><span style=\"color: #7f7f7f; text-decoration-color: #7f7f7f\">whoscored.py</span></a><span style=\"color: #7f7f7f; text-decoration-color: #7f7f7f\">:</span><a href=\"file://c:\\Users\\krawc\\OneDrive\\Documents\\code\\pythons\\predictor\\.venv\\Lib\\site-packages\\soccerdata\\whoscored.py#327\" target=\"_blank\"><span style=\"color: #7f7f7f; text-decoration-color: #7f7f7f\">327</span></a>\n",
       "</pre>\n"
      ],
      "text/plain": [
       "\u001b[2;36m[10/12/23 10:07:12]\u001b[0m\u001b[2;36m \u001b[0m\u001b[34mINFO    \u001b[0m Scraping game schedule for Thursday, Apr \u001b[1;36m27\u001b[0m \u001b[1;36m2023\u001b[0m                      \u001b]8;id=883462;file://c:\\Users\\krawc\\OneDrive\\Documents\\code\\pythons\\predictor\\.venv\\Lib\\site-packages\\soccerdata\\whoscored.py\u001b\\\u001b[2mwhoscored.py\u001b[0m\u001b]8;;\u001b\\\u001b[2m:\u001b[0m\u001b]8;id=382230;file://c:\\Users\\krawc\\OneDrive\\Documents\\code\\pythons\\predictor\\.venv\\Lib\\site-packages\\soccerdata\\whoscored.py#327\u001b\\\u001b[2m327\u001b[0m\u001b]8;;\u001b\\\n"
      ]
     },
     "metadata": {},
     "output_type": "display_data"
    },
    {
     "data": {
      "text/html": [
       "<pre style=\"white-space:pre;overflow-x:auto;line-height:normal;font-family:Menlo,'DejaVu Sans Mono',consolas,'Courier New',monospace\"><span style=\"color: #7fbfbf; text-decoration-color: #7fbfbf\">[10/12/23 10:07:13] </span><span style=\"color: #000080; text-decoration-color: #000080\">INFO    </span> Scraping game schedule for Saturday, Apr <span style=\"color: #008080; text-decoration-color: #008080; font-weight: bold\">29</span> <span style=\"color: #008080; text-decoration-color: #008080; font-weight: bold\">2023</span>                      <a href=\"file://c:\\Users\\krawc\\OneDrive\\Documents\\code\\pythons\\predictor\\.venv\\Lib\\site-packages\\soccerdata\\whoscored.py\" target=\"_blank\"><span style=\"color: #7f7f7f; text-decoration-color: #7f7f7f\">whoscored.py</span></a><span style=\"color: #7f7f7f; text-decoration-color: #7f7f7f\">:</span><a href=\"file://c:\\Users\\krawc\\OneDrive\\Documents\\code\\pythons\\predictor\\.venv\\Lib\\site-packages\\soccerdata\\whoscored.py#327\" target=\"_blank\"><span style=\"color: #7f7f7f; text-decoration-color: #7f7f7f\">327</span></a>\n",
       "</pre>\n"
      ],
      "text/plain": [
       "\u001b[2;36m[10/12/23 10:07:13]\u001b[0m\u001b[2;36m \u001b[0m\u001b[34mINFO    \u001b[0m Scraping game schedule for Saturday, Apr \u001b[1;36m29\u001b[0m \u001b[1;36m2023\u001b[0m                      \u001b]8;id=232968;file://c:\\Users\\krawc\\OneDrive\\Documents\\code\\pythons\\predictor\\.venv\\Lib\\site-packages\\soccerdata\\whoscored.py\u001b\\\u001b[2mwhoscored.py\u001b[0m\u001b]8;;\u001b\\\u001b[2m:\u001b[0m\u001b]8;id=479774;file://c:\\Users\\krawc\\OneDrive\\Documents\\code\\pythons\\predictor\\.venv\\Lib\\site-packages\\soccerdata\\whoscored.py#327\u001b\\\u001b[2m327\u001b[0m\u001b]8;;\u001b\\\n"
      ]
     },
     "metadata": {},
     "output_type": "display_data"
    },
    {
     "data": {
      "text/html": [
       "<pre style=\"white-space:pre;overflow-x:auto;line-height:normal;font-family:Menlo,'DejaVu Sans Mono',consolas,'Courier New',monospace\"><span style=\"color: #7fbfbf; text-decoration-color: #7fbfbf\">[10/12/23 10:07:14] </span><span style=\"color: #000080; text-decoration-color: #000080\">INFO    </span> Scraping game schedule for Sunday, Apr <span style=\"color: #008080; text-decoration-color: #008080; font-weight: bold\">30</span> <span style=\"color: #008080; text-decoration-color: #008080; font-weight: bold\">2023</span>                        <a href=\"file://c:\\Users\\krawc\\OneDrive\\Documents\\code\\pythons\\predictor\\.venv\\Lib\\site-packages\\soccerdata\\whoscored.py\" target=\"_blank\"><span style=\"color: #7f7f7f; text-decoration-color: #7f7f7f\">whoscored.py</span></a><span style=\"color: #7f7f7f; text-decoration-color: #7f7f7f\">:</span><a href=\"file://c:\\Users\\krawc\\OneDrive\\Documents\\code\\pythons\\predictor\\.venv\\Lib\\site-packages\\soccerdata\\whoscored.py#327\" target=\"_blank\"><span style=\"color: #7f7f7f; text-decoration-color: #7f7f7f\">327</span></a>\n",
       "</pre>\n"
      ],
      "text/plain": [
       "\u001b[2;36m[10/12/23 10:07:14]\u001b[0m\u001b[2;36m \u001b[0m\u001b[34mINFO    \u001b[0m Scraping game schedule for Sunday, Apr \u001b[1;36m30\u001b[0m \u001b[1;36m2023\u001b[0m                        \u001b]8;id=765278;file://c:\\Users\\krawc\\OneDrive\\Documents\\code\\pythons\\predictor\\.venv\\Lib\\site-packages\\soccerdata\\whoscored.py\u001b\\\u001b[2mwhoscored.py\u001b[0m\u001b]8;;\u001b\\\u001b[2m:\u001b[0m\u001b]8;id=506459;file://c:\\Users\\krawc\\OneDrive\\Documents\\code\\pythons\\predictor\\.venv\\Lib\\site-packages\\soccerdata\\whoscored.py#327\u001b\\\u001b[2m327\u001b[0m\u001b]8;;\u001b\\\n"
      ]
     },
     "metadata": {},
     "output_type": "display_data"
    },
    {
     "data": {
      "text/html": [
       "<pre style=\"white-space:pre;overflow-x:auto;line-height:normal;font-family:Menlo,'DejaVu Sans Mono',consolas,'Courier New',monospace\"><span style=\"color: #7fbfbf; text-decoration-color: #7fbfbf\">[10/12/23 10:07:21] </span><span style=\"color: #000080; text-decoration-color: #000080\">INFO    </span> Scraping game schedule for Wednesday, Mar <span style=\"color: #008080; text-decoration-color: #008080; font-weight: bold\">1</span> <span style=\"color: #008080; text-decoration-color: #008080; font-weight: bold\">2023</span>                      <a href=\"file://c:\\Users\\krawc\\OneDrive\\Documents\\code\\pythons\\predictor\\.venv\\Lib\\site-packages\\soccerdata\\whoscored.py\" target=\"_blank\"><span style=\"color: #7f7f7f; text-decoration-color: #7f7f7f\">whoscored.py</span></a><span style=\"color: #7f7f7f; text-decoration-color: #7f7f7f\">:</span><a href=\"file://c:\\Users\\krawc\\OneDrive\\Documents\\code\\pythons\\predictor\\.venv\\Lib\\site-packages\\soccerdata\\whoscored.py#327\" target=\"_blank\"><span style=\"color: #7f7f7f; text-decoration-color: #7f7f7f\">327</span></a>\n",
       "</pre>\n"
      ],
      "text/plain": [
       "\u001b[2;36m[10/12/23 10:07:21]\u001b[0m\u001b[2;36m \u001b[0m\u001b[34mINFO    \u001b[0m Scraping game schedule for Wednesday, Mar \u001b[1;36m1\u001b[0m \u001b[1;36m2023\u001b[0m                      \u001b]8;id=771483;file://c:\\Users\\krawc\\OneDrive\\Documents\\code\\pythons\\predictor\\.venv\\Lib\\site-packages\\soccerdata\\whoscored.py\u001b\\\u001b[2mwhoscored.py\u001b[0m\u001b]8;;\u001b\\\u001b[2m:\u001b[0m\u001b]8;id=359217;file://c:\\Users\\krawc\\OneDrive\\Documents\\code\\pythons\\predictor\\.venv\\Lib\\site-packages\\soccerdata\\whoscored.py#327\u001b\\\u001b[2m327\u001b[0m\u001b]8;;\u001b\\\n"
      ]
     },
     "metadata": {},
     "output_type": "display_data"
    },
    {
     "data": {
      "text/html": [
       "<pre style=\"white-space:pre;overflow-x:auto;line-height:normal;font-family:Menlo,'DejaVu Sans Mono',consolas,'Courier New',monospace\"><span style=\"color: #7fbfbf; text-decoration-color: #7fbfbf\">                    </span><span style=\"color: #000080; text-decoration-color: #000080\">INFO    </span> Scraping game schedule for Saturday, Mar <span style=\"color: #008080; text-decoration-color: #008080; font-weight: bold\">4</span> <span style=\"color: #008080; text-decoration-color: #008080; font-weight: bold\">2023</span>                       <a href=\"file://c:\\Users\\krawc\\OneDrive\\Documents\\code\\pythons\\predictor\\.venv\\Lib\\site-packages\\soccerdata\\whoscored.py\" target=\"_blank\"><span style=\"color: #7f7f7f; text-decoration-color: #7f7f7f\">whoscored.py</span></a><span style=\"color: #7f7f7f; text-decoration-color: #7f7f7f\">:</span><a href=\"file://c:\\Users\\krawc\\OneDrive\\Documents\\code\\pythons\\predictor\\.venv\\Lib\\site-packages\\soccerdata\\whoscored.py#327\" target=\"_blank\"><span style=\"color: #7f7f7f; text-decoration-color: #7f7f7f\">327</span></a>\n",
       "</pre>\n"
      ],
      "text/plain": [
       "\u001b[2;36m                   \u001b[0m\u001b[2;36m \u001b[0m\u001b[34mINFO    \u001b[0m Scraping game schedule for Saturday, Mar \u001b[1;36m4\u001b[0m \u001b[1;36m2023\u001b[0m                       \u001b]8;id=133872;file://c:\\Users\\krawc\\OneDrive\\Documents\\code\\pythons\\predictor\\.venv\\Lib\\site-packages\\soccerdata\\whoscored.py\u001b\\\u001b[2mwhoscored.py\u001b[0m\u001b]8;;\u001b\\\u001b[2m:\u001b[0m\u001b]8;id=897937;file://c:\\Users\\krawc\\OneDrive\\Documents\\code\\pythons\\predictor\\.venv\\Lib\\site-packages\\soccerdata\\whoscored.py#327\u001b\\\u001b[2m327\u001b[0m\u001b]8;;\u001b\\\n"
      ]
     },
     "metadata": {},
     "output_type": "display_data"
    },
    {
     "data": {
      "text/html": [
       "<pre style=\"white-space:pre;overflow-x:auto;line-height:normal;font-family:Menlo,'DejaVu Sans Mono',consolas,'Courier New',monospace\"><span style=\"color: #7fbfbf; text-decoration-color: #7fbfbf\">[10/12/23 10:07:23] </span><span style=\"color: #000080; text-decoration-color: #000080\">INFO    </span> Scraping game schedule for Sunday, Mar <span style=\"color: #008080; text-decoration-color: #008080; font-weight: bold\">5</span> <span style=\"color: #008080; text-decoration-color: #008080; font-weight: bold\">2023</span>                         <a href=\"file://c:\\Users\\krawc\\OneDrive\\Documents\\code\\pythons\\predictor\\.venv\\Lib\\site-packages\\soccerdata\\whoscored.py\" target=\"_blank\"><span style=\"color: #7f7f7f; text-decoration-color: #7f7f7f\">whoscored.py</span></a><span style=\"color: #7f7f7f; text-decoration-color: #7f7f7f\">:</span><a href=\"file://c:\\Users\\krawc\\OneDrive\\Documents\\code\\pythons\\predictor\\.venv\\Lib\\site-packages\\soccerdata\\whoscored.py#327\" target=\"_blank\"><span style=\"color: #7f7f7f; text-decoration-color: #7f7f7f\">327</span></a>\n",
       "</pre>\n"
      ],
      "text/plain": [
       "\u001b[2;36m[10/12/23 10:07:23]\u001b[0m\u001b[2;36m \u001b[0m\u001b[34mINFO    \u001b[0m Scraping game schedule for Sunday, Mar \u001b[1;36m5\u001b[0m \u001b[1;36m2023\u001b[0m                         \u001b]8;id=455585;file://c:\\Users\\krawc\\OneDrive\\Documents\\code\\pythons\\predictor\\.venv\\Lib\\site-packages\\soccerdata\\whoscored.py\u001b\\\u001b[2mwhoscored.py\u001b[0m\u001b]8;;\u001b\\\u001b[2m:\u001b[0m\u001b]8;id=513711;file://c:\\Users\\krawc\\OneDrive\\Documents\\code\\pythons\\predictor\\.venv\\Lib\\site-packages\\soccerdata\\whoscored.py#327\u001b\\\u001b[2m327\u001b[0m\u001b]8;;\u001b\\\n"
      ]
     },
     "metadata": {},
     "output_type": "display_data"
    },
    {
     "data": {
      "text/html": [
       "<pre style=\"white-space:pre;overflow-x:auto;line-height:normal;font-family:Menlo,'DejaVu Sans Mono',consolas,'Courier New',monospace\"><span style=\"color: #7fbfbf; text-decoration-color: #7fbfbf\">[10/12/23 10:07:24] </span><span style=\"color: #000080; text-decoration-color: #000080\">INFO    </span> Scraping game schedule for Monday, Mar <span style=\"color: #008080; text-decoration-color: #008080; font-weight: bold\">6</span> <span style=\"color: #008080; text-decoration-color: #008080; font-weight: bold\">2023</span>                         <a href=\"file://c:\\Users\\krawc\\OneDrive\\Documents\\code\\pythons\\predictor\\.venv\\Lib\\site-packages\\soccerdata\\whoscored.py\" target=\"_blank\"><span style=\"color: #7f7f7f; text-decoration-color: #7f7f7f\">whoscored.py</span></a><span style=\"color: #7f7f7f; text-decoration-color: #7f7f7f\">:</span><a href=\"file://c:\\Users\\krawc\\OneDrive\\Documents\\code\\pythons\\predictor\\.venv\\Lib\\site-packages\\soccerdata\\whoscored.py#327\" target=\"_blank\"><span style=\"color: #7f7f7f; text-decoration-color: #7f7f7f\">327</span></a>\n",
       "</pre>\n"
      ],
      "text/plain": [
       "\u001b[2;36m[10/12/23 10:07:24]\u001b[0m\u001b[2;36m \u001b[0m\u001b[34mINFO    \u001b[0m Scraping game schedule for Monday, Mar \u001b[1;36m6\u001b[0m \u001b[1;36m2023\u001b[0m                         \u001b]8;id=988269;file://c:\\Users\\krawc\\OneDrive\\Documents\\code\\pythons\\predictor\\.venv\\Lib\\site-packages\\soccerdata\\whoscored.py\u001b\\\u001b[2mwhoscored.py\u001b[0m\u001b]8;;\u001b\\\u001b[2m:\u001b[0m\u001b]8;id=657080;file://c:\\Users\\krawc\\OneDrive\\Documents\\code\\pythons\\predictor\\.venv\\Lib\\site-packages\\soccerdata\\whoscored.py#327\u001b\\\u001b[2m327\u001b[0m\u001b]8;;\u001b\\\n"
      ]
     },
     "metadata": {},
     "output_type": "display_data"
    },
    {
     "data": {
      "text/html": [
       "<pre style=\"white-space:pre;overflow-x:auto;line-height:normal;font-family:Menlo,'DejaVu Sans Mono',consolas,'Courier New',monospace\"><span style=\"color: #7fbfbf; text-decoration-color: #7fbfbf\">[10/12/23 10:07:25] </span><span style=\"color: #000080; text-decoration-color: #000080\">INFO    </span> Scraping game schedule for Saturday, Mar <span style=\"color: #008080; text-decoration-color: #008080; font-weight: bold\">11</span> <span style=\"color: #008080; text-decoration-color: #008080; font-weight: bold\">2023</span>                      <a href=\"file://c:\\Users\\krawc\\OneDrive\\Documents\\code\\pythons\\predictor\\.venv\\Lib\\site-packages\\soccerdata\\whoscored.py\" target=\"_blank\"><span style=\"color: #7f7f7f; text-decoration-color: #7f7f7f\">whoscored.py</span></a><span style=\"color: #7f7f7f; text-decoration-color: #7f7f7f\">:</span><a href=\"file://c:\\Users\\krawc\\OneDrive\\Documents\\code\\pythons\\predictor\\.venv\\Lib\\site-packages\\soccerdata\\whoscored.py#327\" target=\"_blank\"><span style=\"color: #7f7f7f; text-decoration-color: #7f7f7f\">327</span></a>\n",
       "</pre>\n"
      ],
      "text/plain": [
       "\u001b[2;36m[10/12/23 10:07:25]\u001b[0m\u001b[2;36m \u001b[0m\u001b[34mINFO    \u001b[0m Scraping game schedule for Saturday, Mar \u001b[1;36m11\u001b[0m \u001b[1;36m2023\u001b[0m                      \u001b]8;id=514351;file://c:\\Users\\krawc\\OneDrive\\Documents\\code\\pythons\\predictor\\.venv\\Lib\\site-packages\\soccerdata\\whoscored.py\u001b\\\u001b[2mwhoscored.py\u001b[0m\u001b]8;;\u001b\\\u001b[2m:\u001b[0m\u001b]8;id=117112;file://c:\\Users\\krawc\\OneDrive\\Documents\\code\\pythons\\predictor\\.venv\\Lib\\site-packages\\soccerdata\\whoscored.py#327\u001b\\\u001b[2m327\u001b[0m\u001b]8;;\u001b\\\n"
      ]
     },
     "metadata": {},
     "output_type": "display_data"
    },
    {
     "data": {
      "text/html": [
       "<pre style=\"white-space:pre;overflow-x:auto;line-height:normal;font-family:Menlo,'DejaVu Sans Mono',consolas,'Courier New',monospace\"><span style=\"color: #7fbfbf; text-decoration-color: #7fbfbf\">[10/12/23 10:07:26] </span><span style=\"color: #000080; text-decoration-color: #000080\">INFO    </span> Scraping game schedule for Sunday, Mar <span style=\"color: #008080; text-decoration-color: #008080; font-weight: bold\">12</span> <span style=\"color: #008080; text-decoration-color: #008080; font-weight: bold\">2023</span>                        <a href=\"file://c:\\Users\\krawc\\OneDrive\\Documents\\code\\pythons\\predictor\\.venv\\Lib\\site-packages\\soccerdata\\whoscored.py\" target=\"_blank\"><span style=\"color: #7f7f7f; text-decoration-color: #7f7f7f\">whoscored.py</span></a><span style=\"color: #7f7f7f; text-decoration-color: #7f7f7f\">:</span><a href=\"file://c:\\Users\\krawc\\OneDrive\\Documents\\code\\pythons\\predictor\\.venv\\Lib\\site-packages\\soccerdata\\whoscored.py#327\" target=\"_blank\"><span style=\"color: #7f7f7f; text-decoration-color: #7f7f7f\">327</span></a>\n",
       "</pre>\n"
      ],
      "text/plain": [
       "\u001b[2;36m[10/12/23 10:07:26]\u001b[0m\u001b[2;36m \u001b[0m\u001b[34mINFO    \u001b[0m Scraping game schedule for Sunday, Mar \u001b[1;36m12\u001b[0m \u001b[1;36m2023\u001b[0m                        \u001b]8;id=222175;file://c:\\Users\\krawc\\OneDrive\\Documents\\code\\pythons\\predictor\\.venv\\Lib\\site-packages\\soccerdata\\whoscored.py\u001b\\\u001b[2mwhoscored.py\u001b[0m\u001b]8;;\u001b\\\u001b[2m:\u001b[0m\u001b]8;id=370487;file://c:\\Users\\krawc\\OneDrive\\Documents\\code\\pythons\\predictor\\.venv\\Lib\\site-packages\\soccerdata\\whoscored.py#327\u001b\\\u001b[2m327\u001b[0m\u001b]8;;\u001b\\\n"
      ]
     },
     "metadata": {},
     "output_type": "display_data"
    },
    {
     "data": {
      "text/html": [
       "<pre style=\"white-space:pre;overflow-x:auto;line-height:normal;font-family:Menlo,'DejaVu Sans Mono',consolas,'Courier New',monospace\"><span style=\"color: #7fbfbf; text-decoration-color: #7fbfbf\">[10/12/23 10:07:28] </span><span style=\"color: #000080; text-decoration-color: #000080\">INFO    </span> Scraping game schedule for Wednesday, Mar <span style=\"color: #008080; text-decoration-color: #008080; font-weight: bold\">15</span> <span style=\"color: #008080; text-decoration-color: #008080; font-weight: bold\">2023</span>                     <a href=\"file://c:\\Users\\krawc\\OneDrive\\Documents\\code\\pythons\\predictor\\.venv\\Lib\\site-packages\\soccerdata\\whoscored.py\" target=\"_blank\"><span style=\"color: #7f7f7f; text-decoration-color: #7f7f7f\">whoscored.py</span></a><span style=\"color: #7f7f7f; text-decoration-color: #7f7f7f\">:</span><a href=\"file://c:\\Users\\krawc\\OneDrive\\Documents\\code\\pythons\\predictor\\.venv\\Lib\\site-packages\\soccerdata\\whoscored.py#327\" target=\"_blank\"><span style=\"color: #7f7f7f; text-decoration-color: #7f7f7f\">327</span></a>\n",
       "</pre>\n"
      ],
      "text/plain": [
       "\u001b[2;36m[10/12/23 10:07:28]\u001b[0m\u001b[2;36m \u001b[0m\u001b[34mINFO    \u001b[0m Scraping game schedule for Wednesday, Mar \u001b[1;36m15\u001b[0m \u001b[1;36m2023\u001b[0m                     \u001b]8;id=808522;file://c:\\Users\\krawc\\OneDrive\\Documents\\code\\pythons\\predictor\\.venv\\Lib\\site-packages\\soccerdata\\whoscored.py\u001b\\\u001b[2mwhoscored.py\u001b[0m\u001b]8;;\u001b\\\u001b[2m:\u001b[0m\u001b]8;id=835599;file://c:\\Users\\krawc\\OneDrive\\Documents\\code\\pythons\\predictor\\.venv\\Lib\\site-packages\\soccerdata\\whoscored.py#327\u001b\\\u001b[2m327\u001b[0m\u001b]8;;\u001b\\\n"
      ]
     },
     "metadata": {},
     "output_type": "display_data"
    },
    {
     "data": {
      "text/html": [
       "<pre style=\"white-space:pre;overflow-x:auto;line-height:normal;font-family:Menlo,'DejaVu Sans Mono',consolas,'Courier New',monospace\"><span style=\"color: #7fbfbf; text-decoration-color: #7fbfbf\">                    </span><span style=\"color: #000080; text-decoration-color: #000080\">INFO    </span> Scraping game schedule for Friday, Mar <span style=\"color: #008080; text-decoration-color: #008080; font-weight: bold\">17</span> <span style=\"color: #008080; text-decoration-color: #008080; font-weight: bold\">2023</span>                        <a href=\"file://c:\\Users\\krawc\\OneDrive\\Documents\\code\\pythons\\predictor\\.venv\\Lib\\site-packages\\soccerdata\\whoscored.py\" target=\"_blank\"><span style=\"color: #7f7f7f; text-decoration-color: #7f7f7f\">whoscored.py</span></a><span style=\"color: #7f7f7f; text-decoration-color: #7f7f7f\">:</span><a href=\"file://c:\\Users\\krawc\\OneDrive\\Documents\\code\\pythons\\predictor\\.venv\\Lib\\site-packages\\soccerdata\\whoscored.py#327\" target=\"_blank\"><span style=\"color: #7f7f7f; text-decoration-color: #7f7f7f\">327</span></a>\n",
       "</pre>\n"
      ],
      "text/plain": [
       "\u001b[2;36m                   \u001b[0m\u001b[2;36m \u001b[0m\u001b[34mINFO    \u001b[0m Scraping game schedule for Friday, Mar \u001b[1;36m17\u001b[0m \u001b[1;36m2023\u001b[0m                        \u001b]8;id=300942;file://c:\\Users\\krawc\\OneDrive\\Documents\\code\\pythons\\predictor\\.venv\\Lib\\site-packages\\soccerdata\\whoscored.py\u001b\\\u001b[2mwhoscored.py\u001b[0m\u001b]8;;\u001b\\\u001b[2m:\u001b[0m\u001b]8;id=161734;file://c:\\Users\\krawc\\OneDrive\\Documents\\code\\pythons\\predictor\\.venv\\Lib\\site-packages\\soccerdata\\whoscored.py#327\u001b\\\u001b[2m327\u001b[0m\u001b]8;;\u001b\\\n"
      ]
     },
     "metadata": {},
     "output_type": "display_data"
    },
    {
     "data": {
      "text/html": [
       "<pre style=\"white-space:pre;overflow-x:auto;line-height:normal;font-family:Menlo,'DejaVu Sans Mono',consolas,'Courier New',monospace\"><span style=\"color: #7fbfbf; text-decoration-color: #7fbfbf\">[10/12/23 10:07:29] </span><span style=\"color: #000080; text-decoration-color: #000080\">INFO    </span> Scraping game schedule for Saturday, Mar <span style=\"color: #008080; text-decoration-color: #008080; font-weight: bold\">18</span> <span style=\"color: #008080; text-decoration-color: #008080; font-weight: bold\">2023</span>                      <a href=\"file://c:\\Users\\krawc\\OneDrive\\Documents\\code\\pythons\\predictor\\.venv\\Lib\\site-packages\\soccerdata\\whoscored.py\" target=\"_blank\"><span style=\"color: #7f7f7f; text-decoration-color: #7f7f7f\">whoscored.py</span></a><span style=\"color: #7f7f7f; text-decoration-color: #7f7f7f\">:</span><a href=\"file://c:\\Users\\krawc\\OneDrive\\Documents\\code\\pythons\\predictor\\.venv\\Lib\\site-packages\\soccerdata\\whoscored.py#327\" target=\"_blank\"><span style=\"color: #7f7f7f; text-decoration-color: #7f7f7f\">327</span></a>\n",
       "</pre>\n"
      ],
      "text/plain": [
       "\u001b[2;36m[10/12/23 10:07:29]\u001b[0m\u001b[2;36m \u001b[0m\u001b[34mINFO    \u001b[0m Scraping game schedule for Saturday, Mar \u001b[1;36m18\u001b[0m \u001b[1;36m2023\u001b[0m                      \u001b]8;id=236240;file://c:\\Users\\krawc\\OneDrive\\Documents\\code\\pythons\\predictor\\.venv\\Lib\\site-packages\\soccerdata\\whoscored.py\u001b\\\u001b[2mwhoscored.py\u001b[0m\u001b]8;;\u001b\\\u001b[2m:\u001b[0m\u001b]8;id=840934;file://c:\\Users\\krawc\\OneDrive\\Documents\\code\\pythons\\predictor\\.venv\\Lib\\site-packages\\soccerdata\\whoscored.py#327\u001b\\\u001b[2m327\u001b[0m\u001b]8;;\u001b\\\n"
      ]
     },
     "metadata": {},
     "output_type": "display_data"
    },
    {
     "data": {
      "text/html": [
       "<pre style=\"white-space:pre;overflow-x:auto;line-height:normal;font-family:Menlo,'DejaVu Sans Mono',consolas,'Courier New',monospace\"><span style=\"color: #7fbfbf; text-decoration-color: #7fbfbf\">[10/12/23 10:07:31] </span><span style=\"color: #000080; text-decoration-color: #000080\">INFO    </span> Scraping game schedule for Sunday, Mar <span style=\"color: #008080; text-decoration-color: #008080; font-weight: bold\">19</span> <span style=\"color: #008080; text-decoration-color: #008080; font-weight: bold\">2023</span>                        <a href=\"file://c:\\Users\\krawc\\OneDrive\\Documents\\code\\pythons\\predictor\\.venv\\Lib\\site-packages\\soccerdata\\whoscored.py\" target=\"_blank\"><span style=\"color: #7f7f7f; text-decoration-color: #7f7f7f\">whoscored.py</span></a><span style=\"color: #7f7f7f; text-decoration-color: #7f7f7f\">:</span><a href=\"file://c:\\Users\\krawc\\OneDrive\\Documents\\code\\pythons\\predictor\\.venv\\Lib\\site-packages\\soccerdata\\whoscored.py#327\" target=\"_blank\"><span style=\"color: #7f7f7f; text-decoration-color: #7f7f7f\">327</span></a>\n",
       "</pre>\n"
      ],
      "text/plain": [
       "\u001b[2;36m[10/12/23 10:07:31]\u001b[0m\u001b[2;36m \u001b[0m\u001b[34mINFO    \u001b[0m Scraping game schedule for Sunday, Mar \u001b[1;36m19\u001b[0m \u001b[1;36m2023\u001b[0m                        \u001b]8;id=115584;file://c:\\Users\\krawc\\OneDrive\\Documents\\code\\pythons\\predictor\\.venv\\Lib\\site-packages\\soccerdata\\whoscored.py\u001b\\\u001b[2mwhoscored.py\u001b[0m\u001b]8;;\u001b\\\u001b[2m:\u001b[0m\u001b]8;id=226091;file://c:\\Users\\krawc\\OneDrive\\Documents\\code\\pythons\\predictor\\.venv\\Lib\\site-packages\\soccerdata\\whoscored.py#327\u001b\\\u001b[2m327\u001b[0m\u001b]8;;\u001b\\\n"
      ]
     },
     "metadata": {},
     "output_type": "display_data"
    },
    {
     "data": {
      "text/html": [
       "<pre style=\"white-space:pre;overflow-x:auto;line-height:normal;font-family:Menlo,'DejaVu Sans Mono',consolas,'Courier New',monospace\"><span style=\"color: #7fbfbf; text-decoration-color: #7fbfbf\">[10/12/23 10:07:37] </span><span style=\"color: #000080; text-decoration-color: #000080\">INFO    </span> Scraping game schedule for Friday, Feb <span style=\"color: #008080; text-decoration-color: #008080; font-weight: bold\">3</span> <span style=\"color: #008080; text-decoration-color: #008080; font-weight: bold\">2023</span>                         <a href=\"file://c:\\Users\\krawc\\OneDrive\\Documents\\code\\pythons\\predictor\\.venv\\Lib\\site-packages\\soccerdata\\whoscored.py\" target=\"_blank\"><span style=\"color: #7f7f7f; text-decoration-color: #7f7f7f\">whoscored.py</span></a><span style=\"color: #7f7f7f; text-decoration-color: #7f7f7f\">:</span><a href=\"file://c:\\Users\\krawc\\OneDrive\\Documents\\code\\pythons\\predictor\\.venv\\Lib\\site-packages\\soccerdata\\whoscored.py#327\" target=\"_blank\"><span style=\"color: #7f7f7f; text-decoration-color: #7f7f7f\">327</span></a>\n",
       "</pre>\n"
      ],
      "text/plain": [
       "\u001b[2;36m[10/12/23 10:07:37]\u001b[0m\u001b[2;36m \u001b[0m\u001b[34mINFO    \u001b[0m Scraping game schedule for Friday, Feb \u001b[1;36m3\u001b[0m \u001b[1;36m2023\u001b[0m                         \u001b]8;id=832836;file://c:\\Users\\krawc\\OneDrive\\Documents\\code\\pythons\\predictor\\.venv\\Lib\\site-packages\\soccerdata\\whoscored.py\u001b\\\u001b[2mwhoscored.py\u001b[0m\u001b]8;;\u001b\\\u001b[2m:\u001b[0m\u001b]8;id=909701;file://c:\\Users\\krawc\\OneDrive\\Documents\\code\\pythons\\predictor\\.venv\\Lib\\site-packages\\soccerdata\\whoscored.py#327\u001b\\\u001b[2m327\u001b[0m\u001b]8;;\u001b\\\n"
      ]
     },
     "metadata": {},
     "output_type": "display_data"
    },
    {
     "data": {
      "text/html": [
       "<pre style=\"white-space:pre;overflow-x:auto;line-height:normal;font-family:Menlo,'DejaVu Sans Mono',consolas,'Courier New',monospace\"><span style=\"color: #7fbfbf; text-decoration-color: #7fbfbf\">                    </span><span style=\"color: #000080; text-decoration-color: #000080\">INFO    </span> Scraping game schedule for Saturday, Feb <span style=\"color: #008080; text-decoration-color: #008080; font-weight: bold\">4</span> <span style=\"color: #008080; text-decoration-color: #008080; font-weight: bold\">2023</span>                       <a href=\"file://c:\\Users\\krawc\\OneDrive\\Documents\\code\\pythons\\predictor\\.venv\\Lib\\site-packages\\soccerdata\\whoscored.py\" target=\"_blank\"><span style=\"color: #7f7f7f; text-decoration-color: #7f7f7f\">whoscored.py</span></a><span style=\"color: #7f7f7f; text-decoration-color: #7f7f7f\">:</span><a href=\"file://c:\\Users\\krawc\\OneDrive\\Documents\\code\\pythons\\predictor\\.venv\\Lib\\site-packages\\soccerdata\\whoscored.py#327\" target=\"_blank\"><span style=\"color: #7f7f7f; text-decoration-color: #7f7f7f\">327</span></a>\n",
       "</pre>\n"
      ],
      "text/plain": [
       "\u001b[2;36m                   \u001b[0m\u001b[2;36m \u001b[0m\u001b[34mINFO    \u001b[0m Scraping game schedule for Saturday, Feb \u001b[1;36m4\u001b[0m \u001b[1;36m2023\u001b[0m                       \u001b]8;id=425503;file://c:\\Users\\krawc\\OneDrive\\Documents\\code\\pythons\\predictor\\.venv\\Lib\\site-packages\\soccerdata\\whoscored.py\u001b\\\u001b[2mwhoscored.py\u001b[0m\u001b]8;;\u001b\\\u001b[2m:\u001b[0m\u001b]8;id=823567;file://c:\\Users\\krawc\\OneDrive\\Documents\\code\\pythons\\predictor\\.venv\\Lib\\site-packages\\soccerdata\\whoscored.py#327\u001b\\\u001b[2m327\u001b[0m\u001b]8;;\u001b\\\n"
      ]
     },
     "metadata": {},
     "output_type": "display_data"
    },
    {
     "data": {
      "text/html": [
       "<pre style=\"white-space:pre;overflow-x:auto;line-height:normal;font-family:Menlo,'DejaVu Sans Mono',consolas,'Courier New',monospace\"><span style=\"color: #7fbfbf; text-decoration-color: #7fbfbf\">[10/12/23 10:07:39] </span><span style=\"color: #000080; text-decoration-color: #000080\">INFO    </span> Scraping game schedule for Sunday, Feb <span style=\"color: #008080; text-decoration-color: #008080; font-weight: bold\">5</span> <span style=\"color: #008080; text-decoration-color: #008080; font-weight: bold\">2023</span>                         <a href=\"file://c:\\Users\\krawc\\OneDrive\\Documents\\code\\pythons\\predictor\\.venv\\Lib\\site-packages\\soccerdata\\whoscored.py\" target=\"_blank\"><span style=\"color: #7f7f7f; text-decoration-color: #7f7f7f\">whoscored.py</span></a><span style=\"color: #7f7f7f; text-decoration-color: #7f7f7f\">:</span><a href=\"file://c:\\Users\\krawc\\OneDrive\\Documents\\code\\pythons\\predictor\\.venv\\Lib\\site-packages\\soccerdata\\whoscored.py#327\" target=\"_blank\"><span style=\"color: #7f7f7f; text-decoration-color: #7f7f7f\">327</span></a>\n",
       "</pre>\n"
      ],
      "text/plain": [
       "\u001b[2;36m[10/12/23 10:07:39]\u001b[0m\u001b[2;36m \u001b[0m\u001b[34mINFO    \u001b[0m Scraping game schedule for Sunday, Feb \u001b[1;36m5\u001b[0m \u001b[1;36m2023\u001b[0m                         \u001b]8;id=309085;file://c:\\Users\\krawc\\OneDrive\\Documents\\code\\pythons\\predictor\\.venv\\Lib\\site-packages\\soccerdata\\whoscored.py\u001b\\\u001b[2mwhoscored.py\u001b[0m\u001b]8;;\u001b\\\u001b[2m:\u001b[0m\u001b]8;id=486040;file://c:\\Users\\krawc\\OneDrive\\Documents\\code\\pythons\\predictor\\.venv\\Lib\\site-packages\\soccerdata\\whoscored.py#327\u001b\\\u001b[2m327\u001b[0m\u001b]8;;\u001b\\\n"
      ]
     },
     "metadata": {},
     "output_type": "display_data"
    },
    {
     "data": {
      "text/html": [
       "<pre style=\"white-space:pre;overflow-x:auto;line-height:normal;font-family:Menlo,'DejaVu Sans Mono',consolas,'Courier New',monospace\"><span style=\"color: #7fbfbf; text-decoration-color: #7fbfbf\">                    </span><span style=\"color: #000080; text-decoration-color: #000080\">INFO    </span> Scraping game schedule for Wednesday, Feb <span style=\"color: #008080; text-decoration-color: #008080; font-weight: bold\">8</span> <span style=\"color: #008080; text-decoration-color: #008080; font-weight: bold\">2023</span>                      <a href=\"file://c:\\Users\\krawc\\OneDrive\\Documents\\code\\pythons\\predictor\\.venv\\Lib\\site-packages\\soccerdata\\whoscored.py\" target=\"_blank\"><span style=\"color: #7f7f7f; text-decoration-color: #7f7f7f\">whoscored.py</span></a><span style=\"color: #7f7f7f; text-decoration-color: #7f7f7f\">:</span><a href=\"file://c:\\Users\\krawc\\OneDrive\\Documents\\code\\pythons\\predictor\\.venv\\Lib\\site-packages\\soccerdata\\whoscored.py#327\" target=\"_blank\"><span style=\"color: #7f7f7f; text-decoration-color: #7f7f7f\">327</span></a>\n",
       "</pre>\n"
      ],
      "text/plain": [
       "\u001b[2;36m                   \u001b[0m\u001b[2;36m \u001b[0m\u001b[34mINFO    \u001b[0m Scraping game schedule for Wednesday, Feb \u001b[1;36m8\u001b[0m \u001b[1;36m2023\u001b[0m                      \u001b]8;id=430811;file://c:\\Users\\krawc\\OneDrive\\Documents\\code\\pythons\\predictor\\.venv\\Lib\\site-packages\\soccerdata\\whoscored.py\u001b\\\u001b[2mwhoscored.py\u001b[0m\u001b]8;;\u001b\\\u001b[2m:\u001b[0m\u001b]8;id=341416;file://c:\\Users\\krawc\\OneDrive\\Documents\\code\\pythons\\predictor\\.venv\\Lib\\site-packages\\soccerdata\\whoscored.py#327\u001b\\\u001b[2m327\u001b[0m\u001b]8;;\u001b\\\n"
      ]
     },
     "metadata": {},
     "output_type": "display_data"
    },
    {
     "data": {
      "text/html": [
       "<pre style=\"white-space:pre;overflow-x:auto;line-height:normal;font-family:Menlo,'DejaVu Sans Mono',consolas,'Courier New',monospace\"><span style=\"color: #7fbfbf; text-decoration-color: #7fbfbf\">[10/12/23 10:07:40] </span><span style=\"color: #000080; text-decoration-color: #000080\">INFO    </span> Scraping game schedule for Saturday, Feb <span style=\"color: #008080; text-decoration-color: #008080; font-weight: bold\">11</span> <span style=\"color: #008080; text-decoration-color: #008080; font-weight: bold\">2023</span>                      <a href=\"file://c:\\Users\\krawc\\OneDrive\\Documents\\code\\pythons\\predictor\\.venv\\Lib\\site-packages\\soccerdata\\whoscored.py\" target=\"_blank\"><span style=\"color: #7f7f7f; text-decoration-color: #7f7f7f\">whoscored.py</span></a><span style=\"color: #7f7f7f; text-decoration-color: #7f7f7f\">:</span><a href=\"file://c:\\Users\\krawc\\OneDrive\\Documents\\code\\pythons\\predictor\\.venv\\Lib\\site-packages\\soccerdata\\whoscored.py#327\" target=\"_blank\"><span style=\"color: #7f7f7f; text-decoration-color: #7f7f7f\">327</span></a>\n",
       "</pre>\n"
      ],
      "text/plain": [
       "\u001b[2;36m[10/12/23 10:07:40]\u001b[0m\u001b[2;36m \u001b[0m\u001b[34mINFO    \u001b[0m Scraping game schedule for Saturday, Feb \u001b[1;36m11\u001b[0m \u001b[1;36m2023\u001b[0m                      \u001b]8;id=279489;file://c:\\Users\\krawc\\OneDrive\\Documents\\code\\pythons\\predictor\\.venv\\Lib\\site-packages\\soccerdata\\whoscored.py\u001b\\\u001b[2mwhoscored.py\u001b[0m\u001b]8;;\u001b\\\u001b[2m:\u001b[0m\u001b]8;id=704606;file://c:\\Users\\krawc\\OneDrive\\Documents\\code\\pythons\\predictor\\.venv\\Lib\\site-packages\\soccerdata\\whoscored.py#327\u001b\\\u001b[2m327\u001b[0m\u001b]8;;\u001b\\\n"
      ]
     },
     "metadata": {},
     "output_type": "display_data"
    },
    {
     "data": {
      "text/html": [
       "<pre style=\"white-space:pre;overflow-x:auto;line-height:normal;font-family:Menlo,'DejaVu Sans Mono',consolas,'Courier New',monospace\"><span style=\"color: #7fbfbf; text-decoration-color: #7fbfbf\">[10/12/23 10:07:41] </span><span style=\"color: #000080; text-decoration-color: #000080\">INFO    </span> Scraping game schedule for Sunday, Feb <span style=\"color: #008080; text-decoration-color: #008080; font-weight: bold\">12</span> <span style=\"color: #008080; text-decoration-color: #008080; font-weight: bold\">2023</span>                        <a href=\"file://c:\\Users\\krawc\\OneDrive\\Documents\\code\\pythons\\predictor\\.venv\\Lib\\site-packages\\soccerdata\\whoscored.py\" target=\"_blank\"><span style=\"color: #7f7f7f; text-decoration-color: #7f7f7f\">whoscored.py</span></a><span style=\"color: #7f7f7f; text-decoration-color: #7f7f7f\">:</span><a href=\"file://c:\\Users\\krawc\\OneDrive\\Documents\\code\\pythons\\predictor\\.venv\\Lib\\site-packages\\soccerdata\\whoscored.py#327\" target=\"_blank\"><span style=\"color: #7f7f7f; text-decoration-color: #7f7f7f\">327</span></a>\n",
       "</pre>\n"
      ],
      "text/plain": [
       "\u001b[2;36m[10/12/23 10:07:41]\u001b[0m\u001b[2;36m \u001b[0m\u001b[34mINFO    \u001b[0m Scraping game schedule for Sunday, Feb \u001b[1;36m12\u001b[0m \u001b[1;36m2023\u001b[0m                        \u001b]8;id=74750;file://c:\\Users\\krawc\\OneDrive\\Documents\\code\\pythons\\predictor\\.venv\\Lib\\site-packages\\soccerdata\\whoscored.py\u001b\\\u001b[2mwhoscored.py\u001b[0m\u001b]8;;\u001b\\\u001b[2m:\u001b[0m\u001b]8;id=147686;file://c:\\Users\\krawc\\OneDrive\\Documents\\code\\pythons\\predictor\\.venv\\Lib\\site-packages\\soccerdata\\whoscored.py#327\u001b\\\u001b[2m327\u001b[0m\u001b]8;;\u001b\\\n"
      ]
     },
     "metadata": {},
     "output_type": "display_data"
    },
    {
     "data": {
      "text/html": [
       "<pre style=\"white-space:pre;overflow-x:auto;line-height:normal;font-family:Menlo,'DejaVu Sans Mono',consolas,'Courier New',monospace\"><span style=\"color: #7fbfbf; text-decoration-color: #7fbfbf\">[10/12/23 10:07:42] </span><span style=\"color: #000080; text-decoration-color: #000080\">INFO    </span> Scraping game schedule for Monday, Feb <span style=\"color: #008080; text-decoration-color: #008080; font-weight: bold\">13</span> <span style=\"color: #008080; text-decoration-color: #008080; font-weight: bold\">2023</span>                        <a href=\"file://c:\\Users\\krawc\\OneDrive\\Documents\\code\\pythons\\predictor\\.venv\\Lib\\site-packages\\soccerdata\\whoscored.py\" target=\"_blank\"><span style=\"color: #7f7f7f; text-decoration-color: #7f7f7f\">whoscored.py</span></a><span style=\"color: #7f7f7f; text-decoration-color: #7f7f7f\">:</span><a href=\"file://c:\\Users\\krawc\\OneDrive\\Documents\\code\\pythons\\predictor\\.venv\\Lib\\site-packages\\soccerdata\\whoscored.py#327\" target=\"_blank\"><span style=\"color: #7f7f7f; text-decoration-color: #7f7f7f\">327</span></a>\n",
       "</pre>\n"
      ],
      "text/plain": [
       "\u001b[2;36m[10/12/23 10:07:42]\u001b[0m\u001b[2;36m \u001b[0m\u001b[34mINFO    \u001b[0m Scraping game schedule for Monday, Feb \u001b[1;36m13\u001b[0m \u001b[1;36m2023\u001b[0m                        \u001b]8;id=329466;file://c:\\Users\\krawc\\OneDrive\\Documents\\code\\pythons\\predictor\\.venv\\Lib\\site-packages\\soccerdata\\whoscored.py\u001b\\\u001b[2mwhoscored.py\u001b[0m\u001b]8;;\u001b\\\u001b[2m:\u001b[0m\u001b]8;id=145119;file://c:\\Users\\krawc\\OneDrive\\Documents\\code\\pythons\\predictor\\.venv\\Lib\\site-packages\\soccerdata\\whoscored.py#327\u001b\\\u001b[2m327\u001b[0m\u001b]8;;\u001b\\\n"
      ]
     },
     "metadata": {},
     "output_type": "display_data"
    },
    {
     "data": {
      "text/html": [
       "<pre style=\"white-space:pre;overflow-x:auto;line-height:normal;font-family:Menlo,'DejaVu Sans Mono',consolas,'Courier New',monospace\"><span style=\"color: #7fbfbf; text-decoration-color: #7fbfbf\">                    </span><span style=\"color: #000080; text-decoration-color: #000080\">INFO    </span> Scraping game schedule for Wednesday, Feb <span style=\"color: #008080; text-decoration-color: #008080; font-weight: bold\">15</span> <span style=\"color: #008080; text-decoration-color: #008080; font-weight: bold\">2023</span>                     <a href=\"file://c:\\Users\\krawc\\OneDrive\\Documents\\code\\pythons\\predictor\\.venv\\Lib\\site-packages\\soccerdata\\whoscored.py\" target=\"_blank\"><span style=\"color: #7f7f7f; text-decoration-color: #7f7f7f\">whoscored.py</span></a><span style=\"color: #7f7f7f; text-decoration-color: #7f7f7f\">:</span><a href=\"file://c:\\Users\\krawc\\OneDrive\\Documents\\code\\pythons\\predictor\\.venv\\Lib\\site-packages\\soccerdata\\whoscored.py#327\" target=\"_blank\"><span style=\"color: #7f7f7f; text-decoration-color: #7f7f7f\">327</span></a>\n",
       "</pre>\n"
      ],
      "text/plain": [
       "\u001b[2;36m                   \u001b[0m\u001b[2;36m \u001b[0m\u001b[34mINFO    \u001b[0m Scraping game schedule for Wednesday, Feb \u001b[1;36m15\u001b[0m \u001b[1;36m2023\u001b[0m                     \u001b]8;id=488596;file://c:\\Users\\krawc\\OneDrive\\Documents\\code\\pythons\\predictor\\.venv\\Lib\\site-packages\\soccerdata\\whoscored.py\u001b\\\u001b[2mwhoscored.py\u001b[0m\u001b]8;;\u001b\\\u001b[2m:\u001b[0m\u001b]8;id=584786;file://c:\\Users\\krawc\\OneDrive\\Documents\\code\\pythons\\predictor\\.venv\\Lib\\site-packages\\soccerdata\\whoscored.py#327\u001b\\\u001b[2m327\u001b[0m\u001b]8;;\u001b\\\n"
      ]
     },
     "metadata": {},
     "output_type": "display_data"
    },
    {
     "data": {
      "text/html": [
       "<pre style=\"white-space:pre;overflow-x:auto;line-height:normal;font-family:Menlo,'DejaVu Sans Mono',consolas,'Courier New',monospace\"><span style=\"color: #7fbfbf; text-decoration-color: #7fbfbf\">                    </span><span style=\"color: #000080; text-decoration-color: #000080\">INFO    </span> Scraping game schedule for Saturday, Feb <span style=\"color: #008080; text-decoration-color: #008080; font-weight: bold\">18</span> <span style=\"color: #008080; text-decoration-color: #008080; font-weight: bold\">2023</span>                      <a href=\"file://c:\\Users\\krawc\\OneDrive\\Documents\\code\\pythons\\predictor\\.venv\\Lib\\site-packages\\soccerdata\\whoscored.py\" target=\"_blank\"><span style=\"color: #7f7f7f; text-decoration-color: #7f7f7f\">whoscored.py</span></a><span style=\"color: #7f7f7f; text-decoration-color: #7f7f7f\">:</span><a href=\"file://c:\\Users\\krawc\\OneDrive\\Documents\\code\\pythons\\predictor\\.venv\\Lib\\site-packages\\soccerdata\\whoscored.py#327\" target=\"_blank\"><span style=\"color: #7f7f7f; text-decoration-color: #7f7f7f\">327</span></a>\n",
       "</pre>\n"
      ],
      "text/plain": [
       "\u001b[2;36m                   \u001b[0m\u001b[2;36m \u001b[0m\u001b[34mINFO    \u001b[0m Scraping game schedule for Saturday, Feb \u001b[1;36m18\u001b[0m \u001b[1;36m2023\u001b[0m                      \u001b]8;id=122413;file://c:\\Users\\krawc\\OneDrive\\Documents\\code\\pythons\\predictor\\.venv\\Lib\\site-packages\\soccerdata\\whoscored.py\u001b\\\u001b[2mwhoscored.py\u001b[0m\u001b]8;;\u001b\\\u001b[2m:\u001b[0m\u001b]8;id=306473;file://c:\\Users\\krawc\\OneDrive\\Documents\\code\\pythons\\predictor\\.venv\\Lib\\site-packages\\soccerdata\\whoscored.py#327\u001b\\\u001b[2m327\u001b[0m\u001b]8;;\u001b\\\n"
      ]
     },
     "metadata": {},
     "output_type": "display_data"
    },
    {
     "data": {
      "text/html": [
       "<pre style=\"white-space:pre;overflow-x:auto;line-height:normal;font-family:Menlo,'DejaVu Sans Mono',consolas,'Courier New',monospace\"><span style=\"color: #7fbfbf; text-decoration-color: #7fbfbf\">[10/12/23 10:07:44] </span><span style=\"color: #000080; text-decoration-color: #000080\">INFO    </span> Scraping game schedule for Sunday, Feb <span style=\"color: #008080; text-decoration-color: #008080; font-weight: bold\">19</span> <span style=\"color: #008080; text-decoration-color: #008080; font-weight: bold\">2023</span>                        <a href=\"file://c:\\Users\\krawc\\OneDrive\\Documents\\code\\pythons\\predictor\\.venv\\Lib\\site-packages\\soccerdata\\whoscored.py\" target=\"_blank\"><span style=\"color: #7f7f7f; text-decoration-color: #7f7f7f\">whoscored.py</span></a><span style=\"color: #7f7f7f; text-decoration-color: #7f7f7f\">:</span><a href=\"file://c:\\Users\\krawc\\OneDrive\\Documents\\code\\pythons\\predictor\\.venv\\Lib\\site-packages\\soccerdata\\whoscored.py#327\" target=\"_blank\"><span style=\"color: #7f7f7f; text-decoration-color: #7f7f7f\">327</span></a>\n",
       "</pre>\n"
      ],
      "text/plain": [
       "\u001b[2;36m[10/12/23 10:07:44]\u001b[0m\u001b[2;36m \u001b[0m\u001b[34mINFO    \u001b[0m Scraping game schedule for Sunday, Feb \u001b[1;36m19\u001b[0m \u001b[1;36m2023\u001b[0m                        \u001b]8;id=159634;file://c:\\Users\\krawc\\OneDrive\\Documents\\code\\pythons\\predictor\\.venv\\Lib\\site-packages\\soccerdata\\whoscored.py\u001b\\\u001b[2mwhoscored.py\u001b[0m\u001b]8;;\u001b\\\u001b[2m:\u001b[0m\u001b]8;id=317520;file://c:\\Users\\krawc\\OneDrive\\Documents\\code\\pythons\\predictor\\.venv\\Lib\\site-packages\\soccerdata\\whoscored.py#327\u001b\\\u001b[2m327\u001b[0m\u001b]8;;\u001b\\\n"
      ]
     },
     "metadata": {},
     "output_type": "display_data"
    },
    {
     "data": {
      "text/html": [
       "<pre style=\"white-space:pre;overflow-x:auto;line-height:normal;font-family:Menlo,'DejaVu Sans Mono',consolas,'Courier New',monospace\"><span style=\"color: #7fbfbf; text-decoration-color: #7fbfbf\">                    </span><span style=\"color: #000080; text-decoration-color: #000080\">INFO    </span> Scraping game schedule for Friday, Feb <span style=\"color: #008080; text-decoration-color: #008080; font-weight: bold\">24</span> <span style=\"color: #008080; text-decoration-color: #008080; font-weight: bold\">2023</span>                        <a href=\"file://c:\\Users\\krawc\\OneDrive\\Documents\\code\\pythons\\predictor\\.venv\\Lib\\site-packages\\soccerdata\\whoscored.py\" target=\"_blank\"><span style=\"color: #7f7f7f; text-decoration-color: #7f7f7f\">whoscored.py</span></a><span style=\"color: #7f7f7f; text-decoration-color: #7f7f7f\">:</span><a href=\"file://c:\\Users\\krawc\\OneDrive\\Documents\\code\\pythons\\predictor\\.venv\\Lib\\site-packages\\soccerdata\\whoscored.py#327\" target=\"_blank\"><span style=\"color: #7f7f7f; text-decoration-color: #7f7f7f\">327</span></a>\n",
       "</pre>\n"
      ],
      "text/plain": [
       "\u001b[2;36m                   \u001b[0m\u001b[2;36m \u001b[0m\u001b[34mINFO    \u001b[0m Scraping game schedule for Friday, Feb \u001b[1;36m24\u001b[0m \u001b[1;36m2023\u001b[0m                        \u001b]8;id=794453;file://c:\\Users\\krawc\\OneDrive\\Documents\\code\\pythons\\predictor\\.venv\\Lib\\site-packages\\soccerdata\\whoscored.py\u001b\\\u001b[2mwhoscored.py\u001b[0m\u001b]8;;\u001b\\\u001b[2m:\u001b[0m\u001b]8;id=42860;file://c:\\Users\\krawc\\OneDrive\\Documents\\code\\pythons\\predictor\\.venv\\Lib\\site-packages\\soccerdata\\whoscored.py#327\u001b\\\u001b[2m327\u001b[0m\u001b]8;;\u001b\\\n"
      ]
     },
     "metadata": {},
     "output_type": "display_data"
    },
    {
     "data": {
      "text/html": [
       "<pre style=\"white-space:pre;overflow-x:auto;line-height:normal;font-family:Menlo,'DejaVu Sans Mono',consolas,'Courier New',monospace\"><span style=\"color: #7fbfbf; text-decoration-color: #7fbfbf\">[10/12/23 10:07:45] </span><span style=\"color: #000080; text-decoration-color: #000080\">INFO    </span> Scraping game schedule for Saturday, Feb <span style=\"color: #008080; text-decoration-color: #008080; font-weight: bold\">25</span> <span style=\"color: #008080; text-decoration-color: #008080; font-weight: bold\">2023</span>                      <a href=\"file://c:\\Users\\krawc\\OneDrive\\Documents\\code\\pythons\\predictor\\.venv\\Lib\\site-packages\\soccerdata\\whoscored.py\" target=\"_blank\"><span style=\"color: #7f7f7f; text-decoration-color: #7f7f7f\">whoscored.py</span></a><span style=\"color: #7f7f7f; text-decoration-color: #7f7f7f\">:</span><a href=\"file://c:\\Users\\krawc\\OneDrive\\Documents\\code\\pythons\\predictor\\.venv\\Lib\\site-packages\\soccerdata\\whoscored.py#327\" target=\"_blank\"><span style=\"color: #7f7f7f; text-decoration-color: #7f7f7f\">327</span></a>\n",
       "</pre>\n"
      ],
      "text/plain": [
       "\u001b[2;36m[10/12/23 10:07:45]\u001b[0m\u001b[2;36m \u001b[0m\u001b[34mINFO    \u001b[0m Scraping game schedule for Saturday, Feb \u001b[1;36m25\u001b[0m \u001b[1;36m2023\u001b[0m                      \u001b]8;id=505443;file://c:\\Users\\krawc\\OneDrive\\Documents\\code\\pythons\\predictor\\.venv\\Lib\\site-packages\\soccerdata\\whoscored.py\u001b\\\u001b[2mwhoscored.py\u001b[0m\u001b]8;;\u001b\\\u001b[2m:\u001b[0m\u001b]8;id=476227;file://c:\\Users\\krawc\\OneDrive\\Documents\\code\\pythons\\predictor\\.venv\\Lib\\site-packages\\soccerdata\\whoscored.py#327\u001b\\\u001b[2m327\u001b[0m\u001b]8;;\u001b\\\n"
      ]
     },
     "metadata": {},
     "output_type": "display_data"
    },
    {
     "data": {
      "text/html": [
       "<pre style=\"white-space:pre;overflow-x:auto;line-height:normal;font-family:Menlo,'DejaVu Sans Mono',consolas,'Courier New',monospace\"><span style=\"color: #7fbfbf; text-decoration-color: #7fbfbf\">[10/12/23 10:07:46] </span><span style=\"color: #000080; text-decoration-color: #000080\">INFO    </span> Scraping game schedule for Sunday, Feb <span style=\"color: #008080; text-decoration-color: #008080; font-weight: bold\">26</span> <span style=\"color: #008080; text-decoration-color: #008080; font-weight: bold\">2023</span>                        <a href=\"file://c:\\Users\\krawc\\OneDrive\\Documents\\code\\pythons\\predictor\\.venv\\Lib\\site-packages\\soccerdata\\whoscored.py\" target=\"_blank\"><span style=\"color: #7f7f7f; text-decoration-color: #7f7f7f\">whoscored.py</span></a><span style=\"color: #7f7f7f; text-decoration-color: #7f7f7f\">:</span><a href=\"file://c:\\Users\\krawc\\OneDrive\\Documents\\code\\pythons\\predictor\\.venv\\Lib\\site-packages\\soccerdata\\whoscored.py#327\" target=\"_blank\"><span style=\"color: #7f7f7f; text-decoration-color: #7f7f7f\">327</span></a>\n",
       "</pre>\n"
      ],
      "text/plain": [
       "\u001b[2;36m[10/12/23 10:07:46]\u001b[0m\u001b[2;36m \u001b[0m\u001b[34mINFO    \u001b[0m Scraping game schedule for Sunday, Feb \u001b[1;36m26\u001b[0m \u001b[1;36m2023\u001b[0m                        \u001b]8;id=578864;file://c:\\Users\\krawc\\OneDrive\\Documents\\code\\pythons\\predictor\\.venv\\Lib\\site-packages\\soccerdata\\whoscored.py\u001b\\\u001b[2mwhoscored.py\u001b[0m\u001b]8;;\u001b\\\u001b[2m:\u001b[0m\u001b]8;id=467663;file://c:\\Users\\krawc\\OneDrive\\Documents\\code\\pythons\\predictor\\.venv\\Lib\\site-packages\\soccerdata\\whoscored.py#327\u001b\\\u001b[2m327\u001b[0m\u001b]8;;\u001b\\\n"
      ]
     },
     "metadata": {},
     "output_type": "display_data"
    },
    {
     "data": {
      "text/html": [
       "<pre style=\"white-space:pre;overflow-x:auto;line-height:normal;font-family:Menlo,'DejaVu Sans Mono',consolas,'Courier New',monospace\"><span style=\"color: #7fbfbf; text-decoration-color: #7fbfbf\">[10/12/23 10:07:52] </span><span style=\"color: #000080; text-decoration-color: #000080\">INFO    </span> Scraping game schedule for Sunday, Jan <span style=\"color: #008080; text-decoration-color: #008080; font-weight: bold\">1</span> <span style=\"color: #008080; text-decoration-color: #008080; font-weight: bold\">2023</span>                         <a href=\"file://c:\\Users\\krawc\\OneDrive\\Documents\\code\\pythons\\predictor\\.venv\\Lib\\site-packages\\soccerdata\\whoscored.py\" target=\"_blank\"><span style=\"color: #7f7f7f; text-decoration-color: #7f7f7f\">whoscored.py</span></a><span style=\"color: #7f7f7f; text-decoration-color: #7f7f7f\">:</span><a href=\"file://c:\\Users\\krawc\\OneDrive\\Documents\\code\\pythons\\predictor\\.venv\\Lib\\site-packages\\soccerdata\\whoscored.py#327\" target=\"_blank\"><span style=\"color: #7f7f7f; text-decoration-color: #7f7f7f\">327</span></a>\n",
       "</pre>\n"
      ],
      "text/plain": [
       "\u001b[2;36m[10/12/23 10:07:52]\u001b[0m\u001b[2;36m \u001b[0m\u001b[34mINFO    \u001b[0m Scraping game schedule for Sunday, Jan \u001b[1;36m1\u001b[0m \u001b[1;36m2023\u001b[0m                         \u001b]8;id=12047;file://c:\\Users\\krawc\\OneDrive\\Documents\\code\\pythons\\predictor\\.venv\\Lib\\site-packages\\soccerdata\\whoscored.py\u001b\\\u001b[2mwhoscored.py\u001b[0m\u001b]8;;\u001b\\\u001b[2m:\u001b[0m\u001b]8;id=818915;file://c:\\Users\\krawc\\OneDrive\\Documents\\code\\pythons\\predictor\\.venv\\Lib\\site-packages\\soccerdata\\whoscored.py#327\u001b\\\u001b[2m327\u001b[0m\u001b]8;;\u001b\\\n"
      ]
     },
     "metadata": {},
     "output_type": "display_data"
    },
    {
     "data": {
      "text/html": [
       "<pre style=\"white-space:pre;overflow-x:auto;line-height:normal;font-family:Menlo,'DejaVu Sans Mono',consolas,'Courier New',monospace\"><span style=\"color: #7fbfbf; text-decoration-color: #7fbfbf\">                    </span><span style=\"color: #000080; text-decoration-color: #000080\">INFO    </span> Scraping game schedule for Monday, Jan <span style=\"color: #008080; text-decoration-color: #008080; font-weight: bold\">2</span> <span style=\"color: #008080; text-decoration-color: #008080; font-weight: bold\">2023</span>                         <a href=\"file://c:\\Users\\krawc\\OneDrive\\Documents\\code\\pythons\\predictor\\.venv\\Lib\\site-packages\\soccerdata\\whoscored.py\" target=\"_blank\"><span style=\"color: #7f7f7f; text-decoration-color: #7f7f7f\">whoscored.py</span></a><span style=\"color: #7f7f7f; text-decoration-color: #7f7f7f\">:</span><a href=\"file://c:\\Users\\krawc\\OneDrive\\Documents\\code\\pythons\\predictor\\.venv\\Lib\\site-packages\\soccerdata\\whoscored.py#327\" target=\"_blank\"><span style=\"color: #7f7f7f; text-decoration-color: #7f7f7f\">327</span></a>\n",
       "</pre>\n"
      ],
      "text/plain": [
       "\u001b[2;36m                   \u001b[0m\u001b[2;36m \u001b[0m\u001b[34mINFO    \u001b[0m Scraping game schedule for Monday, Jan \u001b[1;36m2\u001b[0m \u001b[1;36m2023\u001b[0m                         \u001b]8;id=286225;file://c:\\Users\\krawc\\OneDrive\\Documents\\code\\pythons\\predictor\\.venv\\Lib\\site-packages\\soccerdata\\whoscored.py\u001b\\\u001b[2mwhoscored.py\u001b[0m\u001b]8;;\u001b\\\u001b[2m:\u001b[0m\u001b]8;id=657547;file://c:\\Users\\krawc\\OneDrive\\Documents\\code\\pythons\\predictor\\.venv\\Lib\\site-packages\\soccerdata\\whoscored.py#327\u001b\\\u001b[2m327\u001b[0m\u001b]8;;\u001b\\\n"
      ]
     },
     "metadata": {},
     "output_type": "display_data"
    },
    {
     "data": {
      "text/html": [
       "<pre style=\"white-space:pre;overflow-x:auto;line-height:normal;font-family:Menlo,'DejaVu Sans Mono',consolas,'Courier New',monospace\"><span style=\"color: #7fbfbf; text-decoration-color: #7fbfbf\">[10/12/23 10:07:53] </span><span style=\"color: #000080; text-decoration-color: #000080\">INFO    </span> Scraping game schedule for Tuesday, Jan <span style=\"color: #008080; text-decoration-color: #008080; font-weight: bold\">3</span> <span style=\"color: #008080; text-decoration-color: #008080; font-weight: bold\">2023</span>                        <a href=\"file://c:\\Users\\krawc\\OneDrive\\Documents\\code\\pythons\\predictor\\.venv\\Lib\\site-packages\\soccerdata\\whoscored.py\" target=\"_blank\"><span style=\"color: #7f7f7f; text-decoration-color: #7f7f7f\">whoscored.py</span></a><span style=\"color: #7f7f7f; text-decoration-color: #7f7f7f\">:</span><a href=\"file://c:\\Users\\krawc\\OneDrive\\Documents\\code\\pythons\\predictor\\.venv\\Lib\\site-packages\\soccerdata\\whoscored.py#327\" target=\"_blank\"><span style=\"color: #7f7f7f; text-decoration-color: #7f7f7f\">327</span></a>\n",
       "</pre>\n"
      ],
      "text/plain": [
       "\u001b[2;36m[10/12/23 10:07:53]\u001b[0m\u001b[2;36m \u001b[0m\u001b[34mINFO    \u001b[0m Scraping game schedule for Tuesday, Jan \u001b[1;36m3\u001b[0m \u001b[1;36m2023\u001b[0m                        \u001b]8;id=448840;file://c:\\Users\\krawc\\OneDrive\\Documents\\code\\pythons\\predictor\\.venv\\Lib\\site-packages\\soccerdata\\whoscored.py\u001b\\\u001b[2mwhoscored.py\u001b[0m\u001b]8;;\u001b\\\u001b[2m:\u001b[0m\u001b]8;id=358767;file://c:\\Users\\krawc\\OneDrive\\Documents\\code\\pythons\\predictor\\.venv\\Lib\\site-packages\\soccerdata\\whoscored.py#327\u001b\\\u001b[2m327\u001b[0m\u001b]8;;\u001b\\\n"
      ]
     },
     "metadata": {},
     "output_type": "display_data"
    },
    {
     "data": {
      "text/html": [
       "<pre style=\"white-space:pre;overflow-x:auto;line-height:normal;font-family:Menlo,'DejaVu Sans Mono',consolas,'Courier New',monospace\"><span style=\"color: #7fbfbf; text-decoration-color: #7fbfbf\">[10/12/23 10:07:54] </span><span style=\"color: #000080; text-decoration-color: #000080\">INFO    </span> Scraping game schedule for Wednesday, Jan <span style=\"color: #008080; text-decoration-color: #008080; font-weight: bold\">4</span> <span style=\"color: #008080; text-decoration-color: #008080; font-weight: bold\">2023</span>                      <a href=\"file://c:\\Users\\krawc\\OneDrive\\Documents\\code\\pythons\\predictor\\.venv\\Lib\\site-packages\\soccerdata\\whoscored.py\" target=\"_blank\"><span style=\"color: #7f7f7f; text-decoration-color: #7f7f7f\">whoscored.py</span></a><span style=\"color: #7f7f7f; text-decoration-color: #7f7f7f\">:</span><a href=\"file://c:\\Users\\krawc\\OneDrive\\Documents\\code\\pythons\\predictor\\.venv\\Lib\\site-packages\\soccerdata\\whoscored.py#327\" target=\"_blank\"><span style=\"color: #7f7f7f; text-decoration-color: #7f7f7f\">327</span></a>\n",
       "</pre>\n"
      ],
      "text/plain": [
       "\u001b[2;36m[10/12/23 10:07:54]\u001b[0m\u001b[2;36m \u001b[0m\u001b[34mINFO    \u001b[0m Scraping game schedule for Wednesday, Jan \u001b[1;36m4\u001b[0m \u001b[1;36m2023\u001b[0m                      \u001b]8;id=651709;file://c:\\Users\\krawc\\OneDrive\\Documents\\code\\pythons\\predictor\\.venv\\Lib\\site-packages\\soccerdata\\whoscored.py\u001b\\\u001b[2mwhoscored.py\u001b[0m\u001b]8;;\u001b\\\u001b[2m:\u001b[0m\u001b]8;id=545664;file://c:\\Users\\krawc\\OneDrive\\Documents\\code\\pythons\\predictor\\.venv\\Lib\\site-packages\\soccerdata\\whoscored.py#327\u001b\\\u001b[2m327\u001b[0m\u001b]8;;\u001b\\\n"
      ]
     },
     "metadata": {},
     "output_type": "display_data"
    },
    {
     "data": {
      "text/html": [
       "<pre style=\"white-space:pre;overflow-x:auto;line-height:normal;font-family:Menlo,'DejaVu Sans Mono',consolas,'Courier New',monospace\"><span style=\"color: #7fbfbf; text-decoration-color: #7fbfbf\">[10/12/23 10:07:56] </span><span style=\"color: #000080; text-decoration-color: #000080\">INFO    </span> Scraping game schedule for Thursday, Jan <span style=\"color: #008080; text-decoration-color: #008080; font-weight: bold\">5</span> <span style=\"color: #008080; text-decoration-color: #008080; font-weight: bold\">2023</span>                       <a href=\"file://c:\\Users\\krawc\\OneDrive\\Documents\\code\\pythons\\predictor\\.venv\\Lib\\site-packages\\soccerdata\\whoscored.py\" target=\"_blank\"><span style=\"color: #7f7f7f; text-decoration-color: #7f7f7f\">whoscored.py</span></a><span style=\"color: #7f7f7f; text-decoration-color: #7f7f7f\">:</span><a href=\"file://c:\\Users\\krawc\\OneDrive\\Documents\\code\\pythons\\predictor\\.venv\\Lib\\site-packages\\soccerdata\\whoscored.py#327\" target=\"_blank\"><span style=\"color: #7f7f7f; text-decoration-color: #7f7f7f\">327</span></a>\n",
       "</pre>\n"
      ],
      "text/plain": [
       "\u001b[2;36m[10/12/23 10:07:56]\u001b[0m\u001b[2;36m \u001b[0m\u001b[34mINFO    \u001b[0m Scraping game schedule for Thursday, Jan \u001b[1;36m5\u001b[0m \u001b[1;36m2023\u001b[0m                       \u001b]8;id=709873;file://c:\\Users\\krawc\\OneDrive\\Documents\\code\\pythons\\predictor\\.venv\\Lib\\site-packages\\soccerdata\\whoscored.py\u001b\\\u001b[2mwhoscored.py\u001b[0m\u001b]8;;\u001b\\\u001b[2m:\u001b[0m\u001b]8;id=343330;file://c:\\Users\\krawc\\OneDrive\\Documents\\code\\pythons\\predictor\\.venv\\Lib\\site-packages\\soccerdata\\whoscored.py#327\u001b\\\u001b[2m327\u001b[0m\u001b]8;;\u001b\\\n"
      ]
     },
     "metadata": {},
     "output_type": "display_data"
    },
    {
     "data": {
      "text/html": [
       "<pre style=\"white-space:pre;overflow-x:auto;line-height:normal;font-family:Menlo,'DejaVu Sans Mono',consolas,'Courier New',monospace\"><span style=\"color: #7fbfbf; text-decoration-color: #7fbfbf\">                    </span><span style=\"color: #000080; text-decoration-color: #000080\">INFO    </span> Scraping game schedule for Thursday, Jan <span style=\"color: #008080; text-decoration-color: #008080; font-weight: bold\">12</span> <span style=\"color: #008080; text-decoration-color: #008080; font-weight: bold\">2023</span>                      <a href=\"file://c:\\Users\\krawc\\OneDrive\\Documents\\code\\pythons\\predictor\\.venv\\Lib\\site-packages\\soccerdata\\whoscored.py\" target=\"_blank\"><span style=\"color: #7f7f7f; text-decoration-color: #7f7f7f\">whoscored.py</span></a><span style=\"color: #7f7f7f; text-decoration-color: #7f7f7f\">:</span><a href=\"file://c:\\Users\\krawc\\OneDrive\\Documents\\code\\pythons\\predictor\\.venv\\Lib\\site-packages\\soccerdata\\whoscored.py#327\" target=\"_blank\"><span style=\"color: #7f7f7f; text-decoration-color: #7f7f7f\">327</span></a>\n",
       "</pre>\n"
      ],
      "text/plain": [
       "\u001b[2;36m                   \u001b[0m\u001b[2;36m \u001b[0m\u001b[34mINFO    \u001b[0m Scraping game schedule for Thursday, Jan \u001b[1;36m12\u001b[0m \u001b[1;36m2023\u001b[0m                      \u001b]8;id=887496;file://c:\\Users\\krawc\\OneDrive\\Documents\\code\\pythons\\predictor\\.venv\\Lib\\site-packages\\soccerdata\\whoscored.py\u001b\\\u001b[2mwhoscored.py\u001b[0m\u001b]8;;\u001b\\\u001b[2m:\u001b[0m\u001b]8;id=241941;file://c:\\Users\\krawc\\OneDrive\\Documents\\code\\pythons\\predictor\\.venv\\Lib\\site-packages\\soccerdata\\whoscored.py#327\u001b\\\u001b[2m327\u001b[0m\u001b]8;;\u001b\\\n"
      ]
     },
     "metadata": {},
     "output_type": "display_data"
    },
    {
     "data": {
      "text/html": [
       "<pre style=\"white-space:pre;overflow-x:auto;line-height:normal;font-family:Menlo,'DejaVu Sans Mono',consolas,'Courier New',monospace\"><span style=\"color: #7fbfbf; text-decoration-color: #7fbfbf\">                    </span><span style=\"color: #000080; text-decoration-color: #000080\">INFO    </span> Scraping game schedule for Friday, Jan <span style=\"color: #008080; text-decoration-color: #008080; font-weight: bold\">13</span> <span style=\"color: #008080; text-decoration-color: #008080; font-weight: bold\">2023</span>                        <a href=\"file://c:\\Users\\krawc\\OneDrive\\Documents\\code\\pythons\\predictor\\.venv\\Lib\\site-packages\\soccerdata\\whoscored.py\" target=\"_blank\"><span style=\"color: #7f7f7f; text-decoration-color: #7f7f7f\">whoscored.py</span></a><span style=\"color: #7f7f7f; text-decoration-color: #7f7f7f\">:</span><a href=\"file://c:\\Users\\krawc\\OneDrive\\Documents\\code\\pythons\\predictor\\.venv\\Lib\\site-packages\\soccerdata\\whoscored.py#327\" target=\"_blank\"><span style=\"color: #7f7f7f; text-decoration-color: #7f7f7f\">327</span></a>\n",
       "</pre>\n"
      ],
      "text/plain": [
       "\u001b[2;36m                   \u001b[0m\u001b[2;36m \u001b[0m\u001b[34mINFO    \u001b[0m Scraping game schedule for Friday, Jan \u001b[1;36m13\u001b[0m \u001b[1;36m2023\u001b[0m                        \u001b]8;id=68672;file://c:\\Users\\krawc\\OneDrive\\Documents\\code\\pythons\\predictor\\.venv\\Lib\\site-packages\\soccerdata\\whoscored.py\u001b\\\u001b[2mwhoscored.py\u001b[0m\u001b]8;;\u001b\\\u001b[2m:\u001b[0m\u001b]8;id=107710;file://c:\\Users\\krawc\\OneDrive\\Documents\\code\\pythons\\predictor\\.venv\\Lib\\site-packages\\soccerdata\\whoscored.py#327\u001b\\\u001b[2m327\u001b[0m\u001b]8;;\u001b\\\n"
      ]
     },
     "metadata": {},
     "output_type": "display_data"
    },
    {
     "data": {
      "text/html": [
       "<pre style=\"white-space:pre;overflow-x:auto;line-height:normal;font-family:Menlo,'DejaVu Sans Mono',consolas,'Courier New',monospace\"><span style=\"color: #7fbfbf; text-decoration-color: #7fbfbf\">[10/12/23 10:07:57] </span><span style=\"color: #000080; text-decoration-color: #000080\">INFO    </span> Scraping game schedule for Saturday, Jan <span style=\"color: #008080; text-decoration-color: #008080; font-weight: bold\">14</span> <span style=\"color: #008080; text-decoration-color: #008080; font-weight: bold\">2023</span>                      <a href=\"file://c:\\Users\\krawc\\OneDrive\\Documents\\code\\pythons\\predictor\\.venv\\Lib\\site-packages\\soccerdata\\whoscored.py\" target=\"_blank\"><span style=\"color: #7f7f7f; text-decoration-color: #7f7f7f\">whoscored.py</span></a><span style=\"color: #7f7f7f; text-decoration-color: #7f7f7f\">:</span><a href=\"file://c:\\Users\\krawc\\OneDrive\\Documents\\code\\pythons\\predictor\\.venv\\Lib\\site-packages\\soccerdata\\whoscored.py#327\" target=\"_blank\"><span style=\"color: #7f7f7f; text-decoration-color: #7f7f7f\">327</span></a>\n",
       "</pre>\n"
      ],
      "text/plain": [
       "\u001b[2;36m[10/12/23 10:07:57]\u001b[0m\u001b[2;36m \u001b[0m\u001b[34mINFO    \u001b[0m Scraping game schedule for Saturday, Jan \u001b[1;36m14\u001b[0m \u001b[1;36m2023\u001b[0m                      \u001b]8;id=967749;file://c:\\Users\\krawc\\OneDrive\\Documents\\code\\pythons\\predictor\\.venv\\Lib\\site-packages\\soccerdata\\whoscored.py\u001b\\\u001b[2mwhoscored.py\u001b[0m\u001b]8;;\u001b\\\u001b[2m:\u001b[0m\u001b]8;id=520874;file://c:\\Users\\krawc\\OneDrive\\Documents\\code\\pythons\\predictor\\.venv\\Lib\\site-packages\\soccerdata\\whoscored.py#327\u001b\\\u001b[2m327\u001b[0m\u001b]8;;\u001b\\\n"
      ]
     },
     "metadata": {},
     "output_type": "display_data"
    },
    {
     "data": {
      "text/html": [
       "<pre style=\"white-space:pre;overflow-x:auto;line-height:normal;font-family:Menlo,'DejaVu Sans Mono',consolas,'Courier New',monospace\"><span style=\"color: #7fbfbf; text-decoration-color: #7fbfbf\">[10/12/23 10:07:58] </span><span style=\"color: #000080; text-decoration-color: #000080\">INFO    </span> Scraping game schedule for Sunday, Jan <span style=\"color: #008080; text-decoration-color: #008080; font-weight: bold\">15</span> <span style=\"color: #008080; text-decoration-color: #008080; font-weight: bold\">2023</span>                        <a href=\"file://c:\\Users\\krawc\\OneDrive\\Documents\\code\\pythons\\predictor\\.venv\\Lib\\site-packages\\soccerdata\\whoscored.py\" target=\"_blank\"><span style=\"color: #7f7f7f; text-decoration-color: #7f7f7f\">whoscored.py</span></a><span style=\"color: #7f7f7f; text-decoration-color: #7f7f7f\">:</span><a href=\"file://c:\\Users\\krawc\\OneDrive\\Documents\\code\\pythons\\predictor\\.venv\\Lib\\site-packages\\soccerdata\\whoscored.py#327\" target=\"_blank\"><span style=\"color: #7f7f7f; text-decoration-color: #7f7f7f\">327</span></a>\n",
       "</pre>\n"
      ],
      "text/plain": [
       "\u001b[2;36m[10/12/23 10:07:58]\u001b[0m\u001b[2;36m \u001b[0m\u001b[34mINFO    \u001b[0m Scraping game schedule for Sunday, Jan \u001b[1;36m15\u001b[0m \u001b[1;36m2023\u001b[0m                        \u001b]8;id=33004;file://c:\\Users\\krawc\\OneDrive\\Documents\\code\\pythons\\predictor\\.venv\\Lib\\site-packages\\soccerdata\\whoscored.py\u001b\\\u001b[2mwhoscored.py\u001b[0m\u001b]8;;\u001b\\\u001b[2m:\u001b[0m\u001b]8;id=519124;file://c:\\Users\\krawc\\OneDrive\\Documents\\code\\pythons\\predictor\\.venv\\Lib\\site-packages\\soccerdata\\whoscored.py#327\u001b\\\u001b[2m327\u001b[0m\u001b]8;;\u001b\\\n"
      ]
     },
     "metadata": {},
     "output_type": "display_data"
    },
    {
     "data": {
      "text/html": [
       "<pre style=\"white-space:pre;overflow-x:auto;line-height:normal;font-family:Menlo,'DejaVu Sans Mono',consolas,'Courier New',monospace\"><span style=\"color: #7fbfbf; text-decoration-color: #7fbfbf\">[10/12/23 10:07:59] </span><span style=\"color: #000080; text-decoration-color: #000080\">INFO    </span> Scraping game schedule for Wednesday, Jan <span style=\"color: #008080; text-decoration-color: #008080; font-weight: bold\">18</span> <span style=\"color: #008080; text-decoration-color: #008080; font-weight: bold\">2023</span>                     <a href=\"file://c:\\Users\\krawc\\OneDrive\\Documents\\code\\pythons\\predictor\\.venv\\Lib\\site-packages\\soccerdata\\whoscored.py\" target=\"_blank\"><span style=\"color: #7f7f7f; text-decoration-color: #7f7f7f\">whoscored.py</span></a><span style=\"color: #7f7f7f; text-decoration-color: #7f7f7f\">:</span><a href=\"file://c:\\Users\\krawc\\OneDrive\\Documents\\code\\pythons\\predictor\\.venv\\Lib\\site-packages\\soccerdata\\whoscored.py#327\" target=\"_blank\"><span style=\"color: #7f7f7f; text-decoration-color: #7f7f7f\">327</span></a>\n",
       "</pre>\n"
      ],
      "text/plain": [
       "\u001b[2;36m[10/12/23 10:07:59]\u001b[0m\u001b[2;36m \u001b[0m\u001b[34mINFO    \u001b[0m Scraping game schedule for Wednesday, Jan \u001b[1;36m18\u001b[0m \u001b[1;36m2023\u001b[0m                     \u001b]8;id=175717;file://c:\\Users\\krawc\\OneDrive\\Documents\\code\\pythons\\predictor\\.venv\\Lib\\site-packages\\soccerdata\\whoscored.py\u001b\\\u001b[2mwhoscored.py\u001b[0m\u001b]8;;\u001b\\\u001b[2m:\u001b[0m\u001b]8;id=256896;file://c:\\Users\\krawc\\OneDrive\\Documents\\code\\pythons\\predictor\\.venv\\Lib\\site-packages\\soccerdata\\whoscored.py#327\u001b\\\u001b[2m327\u001b[0m\u001b]8;;\u001b\\\n"
      ]
     },
     "metadata": {},
     "output_type": "display_data"
    },
    {
     "data": {
      "text/html": [
       "<pre style=\"white-space:pre;overflow-x:auto;line-height:normal;font-family:Menlo,'DejaVu Sans Mono',consolas,'Courier New',monospace\"><span style=\"color: #7fbfbf; text-decoration-color: #7fbfbf\">[10/12/23 10:08:00] </span><span style=\"color: #000080; text-decoration-color: #000080\">INFO    </span> Scraping game schedule for Thursday, Jan <span style=\"color: #008080; text-decoration-color: #008080; font-weight: bold\">19</span> <span style=\"color: #008080; text-decoration-color: #008080; font-weight: bold\">2023</span>                      <a href=\"file://c:\\Users\\krawc\\OneDrive\\Documents\\code\\pythons\\predictor\\.venv\\Lib\\site-packages\\soccerdata\\whoscored.py\" target=\"_blank\"><span style=\"color: #7f7f7f; text-decoration-color: #7f7f7f\">whoscored.py</span></a><span style=\"color: #7f7f7f; text-decoration-color: #7f7f7f\">:</span><a href=\"file://c:\\Users\\krawc\\OneDrive\\Documents\\code\\pythons\\predictor\\.venv\\Lib\\site-packages\\soccerdata\\whoscored.py#327\" target=\"_blank\"><span style=\"color: #7f7f7f; text-decoration-color: #7f7f7f\">327</span></a>\n",
       "</pre>\n"
      ],
      "text/plain": [
       "\u001b[2;36m[10/12/23 10:08:00]\u001b[0m\u001b[2;36m \u001b[0m\u001b[34mINFO    \u001b[0m Scraping game schedule for Thursday, Jan \u001b[1;36m19\u001b[0m \u001b[1;36m2023\u001b[0m                      \u001b]8;id=161559;file://c:\\Users\\krawc\\OneDrive\\Documents\\code\\pythons\\predictor\\.venv\\Lib\\site-packages\\soccerdata\\whoscored.py\u001b\\\u001b[2mwhoscored.py\u001b[0m\u001b]8;;\u001b\\\u001b[2m:\u001b[0m\u001b]8;id=716651;file://c:\\Users\\krawc\\OneDrive\\Documents\\code\\pythons\\predictor\\.venv\\Lib\\site-packages\\soccerdata\\whoscored.py#327\u001b\\\u001b[2m327\u001b[0m\u001b]8;;\u001b\\\n"
      ]
     },
     "metadata": {},
     "output_type": "display_data"
    },
    {
     "data": {
      "text/html": [
       "<pre style=\"white-space:pre;overflow-x:auto;line-height:normal;font-family:Menlo,'DejaVu Sans Mono',consolas,'Courier New',monospace\"><span style=\"color: #7fbfbf; text-decoration-color: #7fbfbf\">                    </span><span style=\"color: #000080; text-decoration-color: #000080\">INFO    </span> Scraping game schedule for Saturday, Jan <span style=\"color: #008080; text-decoration-color: #008080; font-weight: bold\">21</span> <span style=\"color: #008080; text-decoration-color: #008080; font-weight: bold\">2023</span>                      <a href=\"file://c:\\Users\\krawc\\OneDrive\\Documents\\code\\pythons\\predictor\\.venv\\Lib\\site-packages\\soccerdata\\whoscored.py\" target=\"_blank\"><span style=\"color: #7f7f7f; text-decoration-color: #7f7f7f\">whoscored.py</span></a><span style=\"color: #7f7f7f; text-decoration-color: #7f7f7f\">:</span><a href=\"file://c:\\Users\\krawc\\OneDrive\\Documents\\code\\pythons\\predictor\\.venv\\Lib\\site-packages\\soccerdata\\whoscored.py#327\" target=\"_blank\"><span style=\"color: #7f7f7f; text-decoration-color: #7f7f7f\">327</span></a>\n",
       "</pre>\n"
      ],
      "text/plain": [
       "\u001b[2;36m                   \u001b[0m\u001b[2;36m \u001b[0m\u001b[34mINFO    \u001b[0m Scraping game schedule for Saturday, Jan \u001b[1;36m21\u001b[0m \u001b[1;36m2023\u001b[0m                      \u001b]8;id=44296;file://c:\\Users\\krawc\\OneDrive\\Documents\\code\\pythons\\predictor\\.venv\\Lib\\site-packages\\soccerdata\\whoscored.py\u001b\\\u001b[2mwhoscored.py\u001b[0m\u001b]8;;\u001b\\\u001b[2m:\u001b[0m\u001b]8;id=838872;file://c:\\Users\\krawc\\OneDrive\\Documents\\code\\pythons\\predictor\\.venv\\Lib\\site-packages\\soccerdata\\whoscored.py#327\u001b\\\u001b[2m327\u001b[0m\u001b]8;;\u001b\\\n"
      ]
     },
     "metadata": {},
     "output_type": "display_data"
    },
    {
     "data": {
      "text/html": [
       "<pre style=\"white-space:pre;overflow-x:auto;line-height:normal;font-family:Menlo,'DejaVu Sans Mono',consolas,'Courier New',monospace\"><span style=\"color: #7fbfbf; text-decoration-color: #7fbfbf\">[10/12/23 10:08:01] </span><span style=\"color: #000080; text-decoration-color: #000080\">INFO    </span> Scraping game schedule for Sunday, Jan <span style=\"color: #008080; text-decoration-color: #008080; font-weight: bold\">22</span> <span style=\"color: #008080; text-decoration-color: #008080; font-weight: bold\">2023</span>                        <a href=\"file://c:\\Users\\krawc\\OneDrive\\Documents\\code\\pythons\\predictor\\.venv\\Lib\\site-packages\\soccerdata\\whoscored.py\" target=\"_blank\"><span style=\"color: #7f7f7f; text-decoration-color: #7f7f7f\">whoscored.py</span></a><span style=\"color: #7f7f7f; text-decoration-color: #7f7f7f\">:</span><a href=\"file://c:\\Users\\krawc\\OneDrive\\Documents\\code\\pythons\\predictor\\.venv\\Lib\\site-packages\\soccerdata\\whoscored.py#327\" target=\"_blank\"><span style=\"color: #7f7f7f; text-decoration-color: #7f7f7f\">327</span></a>\n",
       "</pre>\n"
      ],
      "text/plain": [
       "\u001b[2;36m[10/12/23 10:08:01]\u001b[0m\u001b[2;36m \u001b[0m\u001b[34mINFO    \u001b[0m Scraping game schedule for Sunday, Jan \u001b[1;36m22\u001b[0m \u001b[1;36m2023\u001b[0m                        \u001b]8;id=219134;file://c:\\Users\\krawc\\OneDrive\\Documents\\code\\pythons\\predictor\\.venv\\Lib\\site-packages\\soccerdata\\whoscored.py\u001b\\\u001b[2mwhoscored.py\u001b[0m\u001b]8;;\u001b\\\u001b[2m:\u001b[0m\u001b]8;id=64409;file://c:\\Users\\krawc\\OneDrive\\Documents\\code\\pythons\\predictor\\.venv\\Lib\\site-packages\\soccerdata\\whoscored.py#327\u001b\\\u001b[2m327\u001b[0m\u001b]8;;\u001b\\\n"
      ]
     },
     "metadata": {},
     "output_type": "display_data"
    },
    {
     "data": {
      "text/html": [
       "<pre style=\"white-space:pre;overflow-x:auto;line-height:normal;font-family:Menlo,'DejaVu Sans Mono',consolas,'Courier New',monospace\"><span style=\"color: #7fbfbf; text-decoration-color: #7fbfbf\">[10/12/23 10:08:02] </span><span style=\"color: #000080; text-decoration-color: #000080\">INFO    </span> Scraping game schedule for Monday, Jan <span style=\"color: #008080; text-decoration-color: #008080; font-weight: bold\">23</span> <span style=\"color: #008080; text-decoration-color: #008080; font-weight: bold\">2023</span>                        <a href=\"file://c:\\Users\\krawc\\OneDrive\\Documents\\code\\pythons\\predictor\\.venv\\Lib\\site-packages\\soccerdata\\whoscored.py\" target=\"_blank\"><span style=\"color: #7f7f7f; text-decoration-color: #7f7f7f\">whoscored.py</span></a><span style=\"color: #7f7f7f; text-decoration-color: #7f7f7f\">:</span><a href=\"file://c:\\Users\\krawc\\OneDrive\\Documents\\code\\pythons\\predictor\\.venv\\Lib\\site-packages\\soccerdata\\whoscored.py#327\" target=\"_blank\"><span style=\"color: #7f7f7f; text-decoration-color: #7f7f7f\">327</span></a>\n",
       "</pre>\n"
      ],
      "text/plain": [
       "\u001b[2;36m[10/12/23 10:08:02]\u001b[0m\u001b[2;36m \u001b[0m\u001b[34mINFO    \u001b[0m Scraping game schedule for Monday, Jan \u001b[1;36m23\u001b[0m \u001b[1;36m2023\u001b[0m                        \u001b]8;id=243055;file://c:\\Users\\krawc\\OneDrive\\Documents\\code\\pythons\\predictor\\.venv\\Lib\\site-packages\\soccerdata\\whoscored.py\u001b\\\u001b[2mwhoscored.py\u001b[0m\u001b]8;;\u001b\\\u001b[2m:\u001b[0m\u001b]8;id=250749;file://c:\\Users\\krawc\\OneDrive\\Documents\\code\\pythons\\predictor\\.venv\\Lib\\site-packages\\soccerdata\\whoscored.py#327\u001b\\\u001b[2m327\u001b[0m\u001b]8;;\u001b\\\n"
      ]
     },
     "metadata": {},
     "output_type": "display_data"
    },
    {
     "data": {
      "text/html": [
       "<pre style=\"white-space:pre;overflow-x:auto;line-height:normal;font-family:Menlo,'DejaVu Sans Mono',consolas,'Courier New',monospace\"><span style=\"color: #7fbfbf; text-decoration-color: #7fbfbf\">[10/12/23 10:08:08] </span><span style=\"color: #000080; text-decoration-color: #000080\">INFO    </span> Scraping game schedule for Monday, Dec <span style=\"color: #008080; text-decoration-color: #008080; font-weight: bold\">26</span> <span style=\"color: #008080; text-decoration-color: #008080; font-weight: bold\">2022</span>                        <a href=\"file://c:\\Users\\krawc\\OneDrive\\Documents\\code\\pythons\\predictor\\.venv\\Lib\\site-packages\\soccerdata\\whoscored.py\" target=\"_blank\"><span style=\"color: #7f7f7f; text-decoration-color: #7f7f7f\">whoscored.py</span></a><span style=\"color: #7f7f7f; text-decoration-color: #7f7f7f\">:</span><a href=\"file://c:\\Users\\krawc\\OneDrive\\Documents\\code\\pythons\\predictor\\.venv\\Lib\\site-packages\\soccerdata\\whoscored.py#327\" target=\"_blank\"><span style=\"color: #7f7f7f; text-decoration-color: #7f7f7f\">327</span></a>\n",
       "</pre>\n"
      ],
      "text/plain": [
       "\u001b[2;36m[10/12/23 10:08:08]\u001b[0m\u001b[2;36m \u001b[0m\u001b[34mINFO    \u001b[0m Scraping game schedule for Monday, Dec \u001b[1;36m26\u001b[0m \u001b[1;36m2022\u001b[0m                        \u001b]8;id=444776;file://c:\\Users\\krawc\\OneDrive\\Documents\\code\\pythons\\predictor\\.venv\\Lib\\site-packages\\soccerdata\\whoscored.py\u001b\\\u001b[2mwhoscored.py\u001b[0m\u001b]8;;\u001b\\\u001b[2m:\u001b[0m\u001b]8;id=799610;file://c:\\Users\\krawc\\OneDrive\\Documents\\code\\pythons\\predictor\\.venv\\Lib\\site-packages\\soccerdata\\whoscored.py#327\u001b\\\u001b[2m327\u001b[0m\u001b]8;;\u001b\\\n"
      ]
     },
     "metadata": {},
     "output_type": "display_data"
    },
    {
     "data": {
      "text/html": [
       "<pre style=\"white-space:pre;overflow-x:auto;line-height:normal;font-family:Menlo,'DejaVu Sans Mono',consolas,'Courier New',monospace\"><span style=\"color: #7fbfbf; text-decoration-color: #7fbfbf\">[10/12/23 10:08:10] </span><span style=\"color: #000080; text-decoration-color: #000080\">INFO    </span> Scraping game schedule for Tuesday, Dec <span style=\"color: #008080; text-decoration-color: #008080; font-weight: bold\">27</span> <span style=\"color: #008080; text-decoration-color: #008080; font-weight: bold\">2022</span>                       <a href=\"file://c:\\Users\\krawc\\OneDrive\\Documents\\code\\pythons\\predictor\\.venv\\Lib\\site-packages\\soccerdata\\whoscored.py\" target=\"_blank\"><span style=\"color: #7f7f7f; text-decoration-color: #7f7f7f\">whoscored.py</span></a><span style=\"color: #7f7f7f; text-decoration-color: #7f7f7f\">:</span><a href=\"file://c:\\Users\\krawc\\OneDrive\\Documents\\code\\pythons\\predictor\\.venv\\Lib\\site-packages\\soccerdata\\whoscored.py#327\" target=\"_blank\"><span style=\"color: #7f7f7f; text-decoration-color: #7f7f7f\">327</span></a>\n",
       "</pre>\n"
      ],
      "text/plain": [
       "\u001b[2;36m[10/12/23 10:08:10]\u001b[0m\u001b[2;36m \u001b[0m\u001b[34mINFO    \u001b[0m Scraping game schedule for Tuesday, Dec \u001b[1;36m27\u001b[0m \u001b[1;36m2022\u001b[0m                       \u001b]8;id=917740;file://c:\\Users\\krawc\\OneDrive\\Documents\\code\\pythons\\predictor\\.venv\\Lib\\site-packages\\soccerdata\\whoscored.py\u001b\\\u001b[2mwhoscored.py\u001b[0m\u001b]8;;\u001b\\\u001b[2m:\u001b[0m\u001b]8;id=386851;file://c:\\Users\\krawc\\OneDrive\\Documents\\code\\pythons\\predictor\\.venv\\Lib\\site-packages\\soccerdata\\whoscored.py#327\u001b\\\u001b[2m327\u001b[0m\u001b]8;;\u001b\\\n"
      ]
     },
     "metadata": {},
     "output_type": "display_data"
    },
    {
     "data": {
      "text/html": [
       "<pre style=\"white-space:pre;overflow-x:auto;line-height:normal;font-family:Menlo,'DejaVu Sans Mono',consolas,'Courier New',monospace\"><span style=\"color: #7fbfbf; text-decoration-color: #7fbfbf\">[10/12/23 10:08:11] </span><span style=\"color: #000080; text-decoration-color: #000080\">INFO    </span> Scraping game schedule for Wednesday, Dec <span style=\"color: #008080; text-decoration-color: #008080; font-weight: bold\">28</span> <span style=\"color: #008080; text-decoration-color: #008080; font-weight: bold\">2022</span>                     <a href=\"file://c:\\Users\\krawc\\OneDrive\\Documents\\code\\pythons\\predictor\\.venv\\Lib\\site-packages\\soccerdata\\whoscored.py\" target=\"_blank\"><span style=\"color: #7f7f7f; text-decoration-color: #7f7f7f\">whoscored.py</span></a><span style=\"color: #7f7f7f; text-decoration-color: #7f7f7f\">:</span><a href=\"file://c:\\Users\\krawc\\OneDrive\\Documents\\code\\pythons\\predictor\\.venv\\Lib\\site-packages\\soccerdata\\whoscored.py#327\" target=\"_blank\"><span style=\"color: #7f7f7f; text-decoration-color: #7f7f7f\">327</span></a>\n",
       "</pre>\n"
      ],
      "text/plain": [
       "\u001b[2;36m[10/12/23 10:08:11]\u001b[0m\u001b[2;36m \u001b[0m\u001b[34mINFO    \u001b[0m Scraping game schedule for Wednesday, Dec \u001b[1;36m28\u001b[0m \u001b[1;36m2022\u001b[0m                     \u001b]8;id=224378;file://c:\\Users\\krawc\\OneDrive\\Documents\\code\\pythons\\predictor\\.venv\\Lib\\site-packages\\soccerdata\\whoscored.py\u001b\\\u001b[2mwhoscored.py\u001b[0m\u001b]8;;\u001b\\\u001b[2m:\u001b[0m\u001b]8;id=779802;file://c:\\Users\\krawc\\OneDrive\\Documents\\code\\pythons\\predictor\\.venv\\Lib\\site-packages\\soccerdata\\whoscored.py#327\u001b\\\u001b[2m327\u001b[0m\u001b]8;;\u001b\\\n"
      ]
     },
     "metadata": {},
     "output_type": "display_data"
    },
    {
     "data": {
      "text/html": [
       "<pre style=\"white-space:pre;overflow-x:auto;line-height:normal;font-family:Menlo,'DejaVu Sans Mono',consolas,'Courier New',monospace\"><span style=\"color: #7fbfbf; text-decoration-color: #7fbfbf\">                    </span><span style=\"color: #000080; text-decoration-color: #000080\">INFO    </span> Scraping game schedule for Friday, Dec <span style=\"color: #008080; text-decoration-color: #008080; font-weight: bold\">30</span> <span style=\"color: #008080; text-decoration-color: #008080; font-weight: bold\">2022</span>                        <a href=\"file://c:\\Users\\krawc\\OneDrive\\Documents\\code\\pythons\\predictor\\.venv\\Lib\\site-packages\\soccerdata\\whoscored.py\" target=\"_blank\"><span style=\"color: #7f7f7f; text-decoration-color: #7f7f7f\">whoscored.py</span></a><span style=\"color: #7f7f7f; text-decoration-color: #7f7f7f\">:</span><a href=\"file://c:\\Users\\krawc\\OneDrive\\Documents\\code\\pythons\\predictor\\.venv\\Lib\\site-packages\\soccerdata\\whoscored.py#327\" target=\"_blank\"><span style=\"color: #7f7f7f; text-decoration-color: #7f7f7f\">327</span></a>\n",
       "</pre>\n"
      ],
      "text/plain": [
       "\u001b[2;36m                   \u001b[0m\u001b[2;36m \u001b[0m\u001b[34mINFO    \u001b[0m Scraping game schedule for Friday, Dec \u001b[1;36m30\u001b[0m \u001b[1;36m2022\u001b[0m                        \u001b]8;id=52625;file://c:\\Users\\krawc\\OneDrive\\Documents\\code\\pythons\\predictor\\.venv\\Lib\\site-packages\\soccerdata\\whoscored.py\u001b\\\u001b[2mwhoscored.py\u001b[0m\u001b]8;;\u001b\\\u001b[2m:\u001b[0m\u001b]8;id=901736;file://c:\\Users\\krawc\\OneDrive\\Documents\\code\\pythons\\predictor\\.venv\\Lib\\site-packages\\soccerdata\\whoscored.py#327\u001b\\\u001b[2m327\u001b[0m\u001b]8;;\u001b\\\n"
      ]
     },
     "metadata": {},
     "output_type": "display_data"
    },
    {
     "data": {
      "text/html": [
       "<pre style=\"white-space:pre;overflow-x:auto;line-height:normal;font-family:Menlo,'DejaVu Sans Mono',consolas,'Courier New',monospace\"><span style=\"color: #7fbfbf; text-decoration-color: #7fbfbf\">[10/12/23 10:08:13] </span><span style=\"color: #000080; text-decoration-color: #000080\">INFO    </span> Scraping game schedule for Saturday, Dec <span style=\"color: #008080; text-decoration-color: #008080; font-weight: bold\">31</span> <span style=\"color: #008080; text-decoration-color: #008080; font-weight: bold\">2022</span>                      <a href=\"file://c:\\Users\\krawc\\OneDrive\\Documents\\code\\pythons\\predictor\\.venv\\Lib\\site-packages\\soccerdata\\whoscored.py\" target=\"_blank\"><span style=\"color: #7f7f7f; text-decoration-color: #7f7f7f\">whoscored.py</span></a><span style=\"color: #7f7f7f; text-decoration-color: #7f7f7f\">:</span><a href=\"file://c:\\Users\\krawc\\OneDrive\\Documents\\code\\pythons\\predictor\\.venv\\Lib\\site-packages\\soccerdata\\whoscored.py#327\" target=\"_blank\"><span style=\"color: #7f7f7f; text-decoration-color: #7f7f7f\">327</span></a>\n",
       "</pre>\n"
      ],
      "text/plain": [
       "\u001b[2;36m[10/12/23 10:08:13]\u001b[0m\u001b[2;36m \u001b[0m\u001b[34mINFO    \u001b[0m Scraping game schedule for Saturday, Dec \u001b[1;36m31\u001b[0m \u001b[1;36m2022\u001b[0m                      \u001b]8;id=589324;file://c:\\Users\\krawc\\OneDrive\\Documents\\code\\pythons\\predictor\\.venv\\Lib\\site-packages\\soccerdata\\whoscored.py\u001b\\\u001b[2mwhoscored.py\u001b[0m\u001b]8;;\u001b\\\u001b[2m:\u001b[0m\u001b]8;id=521589;file://c:\\Users\\krawc\\OneDrive\\Documents\\code\\pythons\\predictor\\.venv\\Lib\\site-packages\\soccerdata\\whoscored.py#327\u001b\\\u001b[2m327\u001b[0m\u001b]8;;\u001b\\\n"
      ]
     },
     "metadata": {},
     "output_type": "display_data"
    },
    {
     "data": {
      "text/html": [
       "<pre style=\"white-space:pre;overflow-x:auto;line-height:normal;font-family:Menlo,'DejaVu Sans Mono',consolas,'Courier New',monospace\"><span style=\"color: #7fbfbf; text-decoration-color: #7fbfbf\">[10/12/23 10:08:20] </span><span style=\"color: #000080; text-decoration-color: #000080\">INFO    </span> Scraping game schedule for Saturday, Nov <span style=\"color: #008080; text-decoration-color: #008080; font-weight: bold\">5</span> <span style=\"color: #008080; text-decoration-color: #008080; font-weight: bold\">2022</span>                       <a href=\"file://c:\\Users\\krawc\\OneDrive\\Documents\\code\\pythons\\predictor\\.venv\\Lib\\site-packages\\soccerdata\\whoscored.py\" target=\"_blank\"><span style=\"color: #7f7f7f; text-decoration-color: #7f7f7f\">whoscored.py</span></a><span style=\"color: #7f7f7f; text-decoration-color: #7f7f7f\">:</span><a href=\"file://c:\\Users\\krawc\\OneDrive\\Documents\\code\\pythons\\predictor\\.venv\\Lib\\site-packages\\soccerdata\\whoscored.py#327\" target=\"_blank\"><span style=\"color: #7f7f7f; text-decoration-color: #7f7f7f\">327</span></a>\n",
       "</pre>\n"
      ],
      "text/plain": [
       "\u001b[2;36m[10/12/23 10:08:20]\u001b[0m\u001b[2;36m \u001b[0m\u001b[34mINFO    \u001b[0m Scraping game schedule for Saturday, Nov \u001b[1;36m5\u001b[0m \u001b[1;36m2022\u001b[0m                       \u001b]8;id=234054;file://c:\\Users\\krawc\\OneDrive\\Documents\\code\\pythons\\predictor\\.venv\\Lib\\site-packages\\soccerdata\\whoscored.py\u001b\\\u001b[2mwhoscored.py\u001b[0m\u001b]8;;\u001b\\\u001b[2m:\u001b[0m\u001b]8;id=938356;file://c:\\Users\\krawc\\OneDrive\\Documents\\code\\pythons\\predictor\\.venv\\Lib\\site-packages\\soccerdata\\whoscored.py#327\u001b\\\u001b[2m327\u001b[0m\u001b]8;;\u001b\\\n"
      ]
     },
     "metadata": {},
     "output_type": "display_data"
    },
    {
     "data": {
      "text/html": [
       "<pre style=\"white-space:pre;overflow-x:auto;line-height:normal;font-family:Menlo,'DejaVu Sans Mono',consolas,'Courier New',monospace\"><span style=\"color: #7fbfbf; text-decoration-color: #7fbfbf\">[10/12/23 10:08:22] </span><span style=\"color: #000080; text-decoration-color: #000080\">INFO    </span> Scraping game schedule for Sunday, Nov <span style=\"color: #008080; text-decoration-color: #008080; font-weight: bold\">6</span> <span style=\"color: #008080; text-decoration-color: #008080; font-weight: bold\">2022</span>                         <a href=\"file://c:\\Users\\krawc\\OneDrive\\Documents\\code\\pythons\\predictor\\.venv\\Lib\\site-packages\\soccerdata\\whoscored.py\" target=\"_blank\"><span style=\"color: #7f7f7f; text-decoration-color: #7f7f7f\">whoscored.py</span></a><span style=\"color: #7f7f7f; text-decoration-color: #7f7f7f\">:</span><a href=\"file://c:\\Users\\krawc\\OneDrive\\Documents\\code\\pythons\\predictor\\.venv\\Lib\\site-packages\\soccerdata\\whoscored.py#327\" target=\"_blank\"><span style=\"color: #7f7f7f; text-decoration-color: #7f7f7f\">327</span></a>\n",
       "</pre>\n"
      ],
      "text/plain": [
       "\u001b[2;36m[10/12/23 10:08:22]\u001b[0m\u001b[2;36m \u001b[0m\u001b[34mINFO    \u001b[0m Scraping game schedule for Sunday, Nov \u001b[1;36m6\u001b[0m \u001b[1;36m2022\u001b[0m                         \u001b]8;id=527593;file://c:\\Users\\krawc\\OneDrive\\Documents\\code\\pythons\\predictor\\.venv\\Lib\\site-packages\\soccerdata\\whoscored.py\u001b\\\u001b[2mwhoscored.py\u001b[0m\u001b]8;;\u001b\\\u001b[2m:\u001b[0m\u001b]8;id=639692;file://c:\\Users\\krawc\\OneDrive\\Documents\\code\\pythons\\predictor\\.venv\\Lib\\site-packages\\soccerdata\\whoscored.py#327\u001b\\\u001b[2m327\u001b[0m\u001b]8;;\u001b\\\n"
      ]
     },
     "metadata": {},
     "output_type": "display_data"
    },
    {
     "data": {
      "text/html": [
       "<pre style=\"white-space:pre;overflow-x:auto;line-height:normal;font-family:Menlo,'DejaVu Sans Mono',consolas,'Courier New',monospace\"><span style=\"color: #7fbfbf; text-decoration-color: #7fbfbf\">[10/12/23 10:08:23] </span><span style=\"color: #000080; text-decoration-color: #000080\">INFO    </span> Scraping game schedule for Saturday, Nov <span style=\"color: #008080; text-decoration-color: #008080; font-weight: bold\">12</span> <span style=\"color: #008080; text-decoration-color: #008080; font-weight: bold\">2022</span>                      <a href=\"file://c:\\Users\\krawc\\OneDrive\\Documents\\code\\pythons\\predictor\\.venv\\Lib\\site-packages\\soccerdata\\whoscored.py\" target=\"_blank\"><span style=\"color: #7f7f7f; text-decoration-color: #7f7f7f\">whoscored.py</span></a><span style=\"color: #7f7f7f; text-decoration-color: #7f7f7f\">:</span><a href=\"file://c:\\Users\\krawc\\OneDrive\\Documents\\code\\pythons\\predictor\\.venv\\Lib\\site-packages\\soccerdata\\whoscored.py#327\" target=\"_blank\"><span style=\"color: #7f7f7f; text-decoration-color: #7f7f7f\">327</span></a>\n",
       "</pre>\n"
      ],
      "text/plain": [
       "\u001b[2;36m[10/12/23 10:08:23]\u001b[0m\u001b[2;36m \u001b[0m\u001b[34mINFO    \u001b[0m Scraping game schedule for Saturday, Nov \u001b[1;36m12\u001b[0m \u001b[1;36m2022\u001b[0m                      \u001b]8;id=107180;file://c:\\Users\\krawc\\OneDrive\\Documents\\code\\pythons\\predictor\\.venv\\Lib\\site-packages\\soccerdata\\whoscored.py\u001b\\\u001b[2mwhoscored.py\u001b[0m\u001b]8;;\u001b\\\u001b[2m:\u001b[0m\u001b]8;id=6653;file://c:\\Users\\krawc\\OneDrive\\Documents\\code\\pythons\\predictor\\.venv\\Lib\\site-packages\\soccerdata\\whoscored.py#327\u001b\\\u001b[2m327\u001b[0m\u001b]8;;\u001b\\\n"
      ]
     },
     "metadata": {},
     "output_type": "display_data"
    },
    {
     "data": {
      "text/html": [
       "<pre style=\"white-space:pre;overflow-x:auto;line-height:normal;font-family:Menlo,'DejaVu Sans Mono',consolas,'Courier New',monospace\"><span style=\"color: #7fbfbf; text-decoration-color: #7fbfbf\">[10/12/23 10:08:25] </span><span style=\"color: #000080; text-decoration-color: #000080\">INFO    </span> Scraping game schedule for Sunday, Nov <span style=\"color: #008080; text-decoration-color: #008080; font-weight: bold\">13</span> <span style=\"color: #008080; text-decoration-color: #008080; font-weight: bold\">2022</span>                        <a href=\"file://c:\\Users\\krawc\\OneDrive\\Documents\\code\\pythons\\predictor\\.venv\\Lib\\site-packages\\soccerdata\\whoscored.py\" target=\"_blank\"><span style=\"color: #7f7f7f; text-decoration-color: #7f7f7f\">whoscored.py</span></a><span style=\"color: #7f7f7f; text-decoration-color: #7f7f7f\">:</span><a href=\"file://c:\\Users\\krawc\\OneDrive\\Documents\\code\\pythons\\predictor\\.venv\\Lib\\site-packages\\soccerdata\\whoscored.py#327\" target=\"_blank\"><span style=\"color: #7f7f7f; text-decoration-color: #7f7f7f\">327</span></a>\n",
       "</pre>\n"
      ],
      "text/plain": [
       "\u001b[2;36m[10/12/23 10:08:25]\u001b[0m\u001b[2;36m \u001b[0m\u001b[34mINFO    \u001b[0m Scraping game schedule for Sunday, Nov \u001b[1;36m13\u001b[0m \u001b[1;36m2022\u001b[0m                        \u001b]8;id=996613;file://c:\\Users\\krawc\\OneDrive\\Documents\\code\\pythons\\predictor\\.venv\\Lib\\site-packages\\soccerdata\\whoscored.py\u001b\\\u001b[2mwhoscored.py\u001b[0m\u001b]8;;\u001b\\\u001b[2m:\u001b[0m\u001b]8;id=241215;file://c:\\Users\\krawc\\OneDrive\\Documents\\code\\pythons\\predictor\\.venv\\Lib\\site-packages\\soccerdata\\whoscored.py#327\u001b\\\u001b[2m327\u001b[0m\u001b]8;;\u001b\\\n"
      ]
     },
     "metadata": {},
     "output_type": "display_data"
    },
    {
     "data": {
      "text/html": [
       "<pre style=\"white-space:pre;overflow-x:auto;line-height:normal;font-family:Menlo,'DejaVu Sans Mono',consolas,'Courier New',monospace\"><span style=\"color: #7fbfbf; text-decoration-color: #7fbfbf\">[10/12/23 10:08:30] </span><span style=\"color: #000080; text-decoration-color: #000080\">INFO    </span> Scraping game schedule for Saturday, Oct <span style=\"color: #008080; text-decoration-color: #008080; font-weight: bold\">1</span> <span style=\"color: #008080; text-decoration-color: #008080; font-weight: bold\">2022</span>                       <a href=\"file://c:\\Users\\krawc\\OneDrive\\Documents\\code\\pythons\\predictor\\.venv\\Lib\\site-packages\\soccerdata\\whoscored.py\" target=\"_blank\"><span style=\"color: #7f7f7f; text-decoration-color: #7f7f7f\">whoscored.py</span></a><span style=\"color: #7f7f7f; text-decoration-color: #7f7f7f\">:</span><a href=\"file://c:\\Users\\krawc\\OneDrive\\Documents\\code\\pythons\\predictor\\.venv\\Lib\\site-packages\\soccerdata\\whoscored.py#327\" target=\"_blank\"><span style=\"color: #7f7f7f; text-decoration-color: #7f7f7f\">327</span></a>\n",
       "</pre>\n"
      ],
      "text/plain": [
       "\u001b[2;36m[10/12/23 10:08:30]\u001b[0m\u001b[2;36m \u001b[0m\u001b[34mINFO    \u001b[0m Scraping game schedule for Saturday, Oct \u001b[1;36m1\u001b[0m \u001b[1;36m2022\u001b[0m                       \u001b]8;id=98920;file://c:\\Users\\krawc\\OneDrive\\Documents\\code\\pythons\\predictor\\.venv\\Lib\\site-packages\\soccerdata\\whoscored.py\u001b\\\u001b[2mwhoscored.py\u001b[0m\u001b]8;;\u001b\\\u001b[2m:\u001b[0m\u001b]8;id=29948;file://c:\\Users\\krawc\\OneDrive\\Documents\\code\\pythons\\predictor\\.venv\\Lib\\site-packages\\soccerdata\\whoscored.py#327\u001b\\\u001b[2m327\u001b[0m\u001b]8;;\u001b\\\n"
      ]
     },
     "metadata": {},
     "output_type": "display_data"
    },
    {
     "data": {
      "text/html": [
       "<pre style=\"white-space:pre;overflow-x:auto;line-height:normal;font-family:Menlo,'DejaVu Sans Mono',consolas,'Courier New',monospace\"><span style=\"color: #7fbfbf; text-decoration-color: #7fbfbf\">[10/12/23 10:08:32] </span><span style=\"color: #000080; text-decoration-color: #000080\">INFO    </span> Scraping game schedule for Sunday, Oct <span style=\"color: #008080; text-decoration-color: #008080; font-weight: bold\">2</span> <span style=\"color: #008080; text-decoration-color: #008080; font-weight: bold\">2022</span>                         <a href=\"file://c:\\Users\\krawc\\OneDrive\\Documents\\code\\pythons\\predictor\\.venv\\Lib\\site-packages\\soccerdata\\whoscored.py\" target=\"_blank\"><span style=\"color: #7f7f7f; text-decoration-color: #7f7f7f\">whoscored.py</span></a><span style=\"color: #7f7f7f; text-decoration-color: #7f7f7f\">:</span><a href=\"file://c:\\Users\\krawc\\OneDrive\\Documents\\code\\pythons\\predictor\\.venv\\Lib\\site-packages\\soccerdata\\whoscored.py#327\" target=\"_blank\"><span style=\"color: #7f7f7f; text-decoration-color: #7f7f7f\">327</span></a>\n",
       "</pre>\n"
      ],
      "text/plain": [
       "\u001b[2;36m[10/12/23 10:08:32]\u001b[0m\u001b[2;36m \u001b[0m\u001b[34mINFO    \u001b[0m Scraping game schedule for Sunday, Oct \u001b[1;36m2\u001b[0m \u001b[1;36m2022\u001b[0m                         \u001b]8;id=319916;file://c:\\Users\\krawc\\OneDrive\\Documents\\code\\pythons\\predictor\\.venv\\Lib\\site-packages\\soccerdata\\whoscored.py\u001b\\\u001b[2mwhoscored.py\u001b[0m\u001b]8;;\u001b\\\u001b[2m:\u001b[0m\u001b]8;id=229623;file://c:\\Users\\krawc\\OneDrive\\Documents\\code\\pythons\\predictor\\.venv\\Lib\\site-packages\\soccerdata\\whoscored.py#327\u001b\\\u001b[2m327\u001b[0m\u001b]8;;\u001b\\\n"
      ]
     },
     "metadata": {},
     "output_type": "display_data"
    },
    {
     "data": {
      "text/html": [
       "<pre style=\"white-space:pre;overflow-x:auto;line-height:normal;font-family:Menlo,'DejaVu Sans Mono',consolas,'Courier New',monospace\"><span style=\"color: #7fbfbf; text-decoration-color: #7fbfbf\">[10/12/23 10:08:33] </span><span style=\"color: #000080; text-decoration-color: #000080\">INFO    </span> Scraping game schedule for Monday, Oct <span style=\"color: #008080; text-decoration-color: #008080; font-weight: bold\">3</span> <span style=\"color: #008080; text-decoration-color: #008080; font-weight: bold\">2022</span>                         <a href=\"file://c:\\Users\\krawc\\OneDrive\\Documents\\code\\pythons\\predictor\\.venv\\Lib\\site-packages\\soccerdata\\whoscored.py\" target=\"_blank\"><span style=\"color: #7f7f7f; text-decoration-color: #7f7f7f\">whoscored.py</span></a><span style=\"color: #7f7f7f; text-decoration-color: #7f7f7f\">:</span><a href=\"file://c:\\Users\\krawc\\OneDrive\\Documents\\code\\pythons\\predictor\\.venv\\Lib\\site-packages\\soccerdata\\whoscored.py#327\" target=\"_blank\"><span style=\"color: #7f7f7f; text-decoration-color: #7f7f7f\">327</span></a>\n",
       "</pre>\n"
      ],
      "text/plain": [
       "\u001b[2;36m[10/12/23 10:08:33]\u001b[0m\u001b[2;36m \u001b[0m\u001b[34mINFO    \u001b[0m Scraping game schedule for Monday, Oct \u001b[1;36m3\u001b[0m \u001b[1;36m2022\u001b[0m                         \u001b]8;id=518741;file://c:\\Users\\krawc\\OneDrive\\Documents\\code\\pythons\\predictor\\.venv\\Lib\\site-packages\\soccerdata\\whoscored.py\u001b\\\u001b[2mwhoscored.py\u001b[0m\u001b]8;;\u001b\\\u001b[2m:\u001b[0m\u001b]8;id=40626;file://c:\\Users\\krawc\\OneDrive\\Documents\\code\\pythons\\predictor\\.venv\\Lib\\site-packages\\soccerdata\\whoscored.py#327\u001b\\\u001b[2m327\u001b[0m\u001b]8;;\u001b\\\n"
      ]
     },
     "metadata": {},
     "output_type": "display_data"
    },
    {
     "data": {
      "text/html": [
       "<pre style=\"white-space:pre;overflow-x:auto;line-height:normal;font-family:Menlo,'DejaVu Sans Mono',consolas,'Courier New',monospace\"><span style=\"color: #7fbfbf; text-decoration-color: #7fbfbf\">                    </span><span style=\"color: #000080; text-decoration-color: #000080\">INFO    </span> Scraping game schedule for Saturday, Oct <span style=\"color: #008080; text-decoration-color: #008080; font-weight: bold\">8</span> <span style=\"color: #008080; text-decoration-color: #008080; font-weight: bold\">2022</span>                       <a href=\"file://c:\\Users\\krawc\\OneDrive\\Documents\\code\\pythons\\predictor\\.venv\\Lib\\site-packages\\soccerdata\\whoscored.py\" target=\"_blank\"><span style=\"color: #7f7f7f; text-decoration-color: #7f7f7f\">whoscored.py</span></a><span style=\"color: #7f7f7f; text-decoration-color: #7f7f7f\">:</span><a href=\"file://c:\\Users\\krawc\\OneDrive\\Documents\\code\\pythons\\predictor\\.venv\\Lib\\site-packages\\soccerdata\\whoscored.py#327\" target=\"_blank\"><span style=\"color: #7f7f7f; text-decoration-color: #7f7f7f\">327</span></a>\n",
       "</pre>\n"
      ],
      "text/plain": [
       "\u001b[2;36m                   \u001b[0m\u001b[2;36m \u001b[0m\u001b[34mINFO    \u001b[0m Scraping game schedule for Saturday, Oct \u001b[1;36m8\u001b[0m \u001b[1;36m2022\u001b[0m                       \u001b]8;id=25023;file://c:\\Users\\krawc\\OneDrive\\Documents\\code\\pythons\\predictor\\.venv\\Lib\\site-packages\\soccerdata\\whoscored.py\u001b\\\u001b[2mwhoscored.py\u001b[0m\u001b]8;;\u001b\\\u001b[2m:\u001b[0m\u001b]8;id=815753;file://c:\\Users\\krawc\\OneDrive\\Documents\\code\\pythons\\predictor\\.venv\\Lib\\site-packages\\soccerdata\\whoscored.py#327\u001b\\\u001b[2m327\u001b[0m\u001b]8;;\u001b\\\n"
      ]
     },
     "metadata": {},
     "output_type": "display_data"
    },
    {
     "data": {
      "text/html": [
       "<pre style=\"white-space:pre;overflow-x:auto;line-height:normal;font-family:Menlo,'DejaVu Sans Mono',consolas,'Courier New',monospace\"><span style=\"color: #7fbfbf; text-decoration-color: #7fbfbf\">[10/12/23 10:08:36] </span><span style=\"color: #000080; text-decoration-color: #000080\">INFO    </span> Scraping game schedule for Sunday, Oct <span style=\"color: #008080; text-decoration-color: #008080; font-weight: bold\">9</span> <span style=\"color: #008080; text-decoration-color: #008080; font-weight: bold\">2022</span>                         <a href=\"file://c:\\Users\\krawc\\OneDrive\\Documents\\code\\pythons\\predictor\\.venv\\Lib\\site-packages\\soccerdata\\whoscored.py\" target=\"_blank\"><span style=\"color: #7f7f7f; text-decoration-color: #7f7f7f\">whoscored.py</span></a><span style=\"color: #7f7f7f; text-decoration-color: #7f7f7f\">:</span><a href=\"file://c:\\Users\\krawc\\OneDrive\\Documents\\code\\pythons\\predictor\\.venv\\Lib\\site-packages\\soccerdata\\whoscored.py#327\" target=\"_blank\"><span style=\"color: #7f7f7f; text-decoration-color: #7f7f7f\">327</span></a>\n",
       "</pre>\n"
      ],
      "text/plain": [
       "\u001b[2;36m[10/12/23 10:08:36]\u001b[0m\u001b[2;36m \u001b[0m\u001b[34mINFO    \u001b[0m Scraping game schedule for Sunday, Oct \u001b[1;36m9\u001b[0m \u001b[1;36m2022\u001b[0m                         \u001b]8;id=715185;file://c:\\Users\\krawc\\OneDrive\\Documents\\code\\pythons\\predictor\\.venv\\Lib\\site-packages\\soccerdata\\whoscored.py\u001b\\\u001b[2mwhoscored.py\u001b[0m\u001b]8;;\u001b\\\u001b[2m:\u001b[0m\u001b]8;id=413713;file://c:\\Users\\krawc\\OneDrive\\Documents\\code\\pythons\\predictor\\.venv\\Lib\\site-packages\\soccerdata\\whoscored.py#327\u001b\\\u001b[2m327\u001b[0m\u001b]8;;\u001b\\\n"
      ]
     },
     "metadata": {},
     "output_type": "display_data"
    },
    {
     "data": {
      "text/html": [
       "<pre style=\"white-space:pre;overflow-x:auto;line-height:normal;font-family:Menlo,'DejaVu Sans Mono',consolas,'Courier New',monospace\"><span style=\"color: #7fbfbf; text-decoration-color: #7fbfbf\">[10/12/23 10:08:38] </span><span style=\"color: #000080; text-decoration-color: #000080\">INFO    </span> Scraping game schedule for Monday, Oct <span style=\"color: #008080; text-decoration-color: #008080; font-weight: bold\">10</span> <span style=\"color: #008080; text-decoration-color: #008080; font-weight: bold\">2022</span>                        <a href=\"file://c:\\Users\\krawc\\OneDrive\\Documents\\code\\pythons\\predictor\\.venv\\Lib\\site-packages\\soccerdata\\whoscored.py\" target=\"_blank\"><span style=\"color: #7f7f7f; text-decoration-color: #7f7f7f\">whoscored.py</span></a><span style=\"color: #7f7f7f; text-decoration-color: #7f7f7f\">:</span><a href=\"file://c:\\Users\\krawc\\OneDrive\\Documents\\code\\pythons\\predictor\\.venv\\Lib\\site-packages\\soccerdata\\whoscored.py#327\" target=\"_blank\"><span style=\"color: #7f7f7f; text-decoration-color: #7f7f7f\">327</span></a>\n",
       "</pre>\n"
      ],
      "text/plain": [
       "\u001b[2;36m[10/12/23 10:08:38]\u001b[0m\u001b[2;36m \u001b[0m\u001b[34mINFO    \u001b[0m Scraping game schedule for Monday, Oct \u001b[1;36m10\u001b[0m \u001b[1;36m2022\u001b[0m                        \u001b]8;id=85894;file://c:\\Users\\krawc\\OneDrive\\Documents\\code\\pythons\\predictor\\.venv\\Lib\\site-packages\\soccerdata\\whoscored.py\u001b\\\u001b[2mwhoscored.py\u001b[0m\u001b]8;;\u001b\\\u001b[2m:\u001b[0m\u001b]8;id=560363;file://c:\\Users\\krawc\\OneDrive\\Documents\\code\\pythons\\predictor\\.venv\\Lib\\site-packages\\soccerdata\\whoscored.py#327\u001b\\\u001b[2m327\u001b[0m\u001b]8;;\u001b\\\n"
      ]
     },
     "metadata": {},
     "output_type": "display_data"
    },
    {
     "data": {
      "text/html": [
       "<pre style=\"white-space:pre;overflow-x:auto;line-height:normal;font-family:Menlo,'DejaVu Sans Mono',consolas,'Courier New',monospace\"><span style=\"color: #7fbfbf; text-decoration-color: #7fbfbf\">                    </span><span style=\"color: #000080; text-decoration-color: #000080\">INFO    </span> Scraping game schedule for Friday, Oct <span style=\"color: #008080; text-decoration-color: #008080; font-weight: bold\">14</span> <span style=\"color: #008080; text-decoration-color: #008080; font-weight: bold\">2022</span>                        <a href=\"file://c:\\Users\\krawc\\OneDrive\\Documents\\code\\pythons\\predictor\\.venv\\Lib\\site-packages\\soccerdata\\whoscored.py\" target=\"_blank\"><span style=\"color: #7f7f7f; text-decoration-color: #7f7f7f\">whoscored.py</span></a><span style=\"color: #7f7f7f; text-decoration-color: #7f7f7f\">:</span><a href=\"file://c:\\Users\\krawc\\OneDrive\\Documents\\code\\pythons\\predictor\\.venv\\Lib\\site-packages\\soccerdata\\whoscored.py#327\" target=\"_blank\"><span style=\"color: #7f7f7f; text-decoration-color: #7f7f7f\">327</span></a>\n",
       "</pre>\n"
      ],
      "text/plain": [
       "\u001b[2;36m                   \u001b[0m\u001b[2;36m \u001b[0m\u001b[34mINFO    \u001b[0m Scraping game schedule for Friday, Oct \u001b[1;36m14\u001b[0m \u001b[1;36m2022\u001b[0m                        \u001b]8;id=902549;file://c:\\Users\\krawc\\OneDrive\\Documents\\code\\pythons\\predictor\\.venv\\Lib\\site-packages\\soccerdata\\whoscored.py\u001b\\\u001b[2mwhoscored.py\u001b[0m\u001b]8;;\u001b\\\u001b[2m:\u001b[0m\u001b]8;id=445140;file://c:\\Users\\krawc\\OneDrive\\Documents\\code\\pythons\\predictor\\.venv\\Lib\\site-packages\\soccerdata\\whoscored.py#327\u001b\\\u001b[2m327\u001b[0m\u001b]8;;\u001b\\\n"
      ]
     },
     "metadata": {},
     "output_type": "display_data"
    },
    {
     "data": {
      "text/html": [
       "<pre style=\"white-space:pre;overflow-x:auto;line-height:normal;font-family:Menlo,'DejaVu Sans Mono',consolas,'Courier New',monospace\"><span style=\"color: #7fbfbf; text-decoration-color: #7fbfbf\">[10/12/23 10:08:39] </span><span style=\"color: #000080; text-decoration-color: #000080\">INFO    </span> Scraping game schedule for Saturday, Oct <span style=\"color: #008080; text-decoration-color: #008080; font-weight: bold\">15</span> <span style=\"color: #008080; text-decoration-color: #008080; font-weight: bold\">2022</span>                      <a href=\"file://c:\\Users\\krawc\\OneDrive\\Documents\\code\\pythons\\predictor\\.venv\\Lib\\site-packages\\soccerdata\\whoscored.py\" target=\"_blank\"><span style=\"color: #7f7f7f; text-decoration-color: #7f7f7f\">whoscored.py</span></a><span style=\"color: #7f7f7f; text-decoration-color: #7f7f7f\">:</span><a href=\"file://c:\\Users\\krawc\\OneDrive\\Documents\\code\\pythons\\predictor\\.venv\\Lib\\site-packages\\soccerdata\\whoscored.py#327\" target=\"_blank\"><span style=\"color: #7f7f7f; text-decoration-color: #7f7f7f\">327</span></a>\n",
       "</pre>\n"
      ],
      "text/plain": [
       "\u001b[2;36m[10/12/23 10:08:39]\u001b[0m\u001b[2;36m \u001b[0m\u001b[34mINFO    \u001b[0m Scraping game schedule for Saturday, Oct \u001b[1;36m15\u001b[0m \u001b[1;36m2022\u001b[0m                      \u001b]8;id=997152;file://c:\\Users\\krawc\\OneDrive\\Documents\\code\\pythons\\predictor\\.venv\\Lib\\site-packages\\soccerdata\\whoscored.py\u001b\\\u001b[2mwhoscored.py\u001b[0m\u001b]8;;\u001b\\\u001b[2m:\u001b[0m\u001b]8;id=530480;file://c:\\Users\\krawc\\OneDrive\\Documents\\code\\pythons\\predictor\\.venv\\Lib\\site-packages\\soccerdata\\whoscored.py#327\u001b\\\u001b[2m327\u001b[0m\u001b]8;;\u001b\\\n"
      ]
     },
     "metadata": {},
     "output_type": "display_data"
    },
    {
     "data": {
      "text/html": [
       "<pre style=\"white-space:pre;overflow-x:auto;line-height:normal;font-family:Menlo,'DejaVu Sans Mono',consolas,'Courier New',monospace\"><span style=\"color: #7fbfbf; text-decoration-color: #7fbfbf\">[10/12/23 10:08:41] </span><span style=\"color: #000080; text-decoration-color: #000080\">INFO    </span> Scraping game schedule for Sunday, Oct <span style=\"color: #008080; text-decoration-color: #008080; font-weight: bold\">16</span> <span style=\"color: #008080; text-decoration-color: #008080; font-weight: bold\">2022</span>                        <a href=\"file://c:\\Users\\krawc\\OneDrive\\Documents\\code\\pythons\\predictor\\.venv\\Lib\\site-packages\\soccerdata\\whoscored.py\" target=\"_blank\"><span style=\"color: #7f7f7f; text-decoration-color: #7f7f7f\">whoscored.py</span></a><span style=\"color: #7f7f7f; text-decoration-color: #7f7f7f\">:</span><a href=\"file://c:\\Users\\krawc\\OneDrive\\Documents\\code\\pythons\\predictor\\.venv\\Lib\\site-packages\\soccerdata\\whoscored.py#327\" target=\"_blank\"><span style=\"color: #7f7f7f; text-decoration-color: #7f7f7f\">327</span></a>\n",
       "</pre>\n"
      ],
      "text/plain": [
       "\u001b[2;36m[10/12/23 10:08:41]\u001b[0m\u001b[2;36m \u001b[0m\u001b[34mINFO    \u001b[0m Scraping game schedule for Sunday, Oct \u001b[1;36m16\u001b[0m \u001b[1;36m2022\u001b[0m                        \u001b]8;id=142858;file://c:\\Users\\krawc\\OneDrive\\Documents\\code\\pythons\\predictor\\.venv\\Lib\\site-packages\\soccerdata\\whoscored.py\u001b\\\u001b[2mwhoscored.py\u001b[0m\u001b]8;;\u001b\\\u001b[2m:\u001b[0m\u001b]8;id=250216;file://c:\\Users\\krawc\\OneDrive\\Documents\\code\\pythons\\predictor\\.venv\\Lib\\site-packages\\soccerdata\\whoscored.py#327\u001b\\\u001b[2m327\u001b[0m\u001b]8;;\u001b\\\n"
      ]
     },
     "metadata": {},
     "output_type": "display_data"
    },
    {
     "data": {
      "text/html": [
       "<pre style=\"white-space:pre;overflow-x:auto;line-height:normal;font-family:Menlo,'DejaVu Sans Mono',consolas,'Courier New',monospace\"><span style=\"color: #7fbfbf; text-decoration-color: #7fbfbf\">[10/12/23 10:08:44] </span><span style=\"color: #000080; text-decoration-color: #000080\">INFO    </span> Scraping game schedule for Tuesday, Oct <span style=\"color: #008080; text-decoration-color: #008080; font-weight: bold\">18</span> <span style=\"color: #008080; text-decoration-color: #008080; font-weight: bold\">2022</span>                       <a href=\"file://c:\\Users\\krawc\\OneDrive\\Documents\\code\\pythons\\predictor\\.venv\\Lib\\site-packages\\soccerdata\\whoscored.py\" target=\"_blank\"><span style=\"color: #7f7f7f; text-decoration-color: #7f7f7f\">whoscored.py</span></a><span style=\"color: #7f7f7f; text-decoration-color: #7f7f7f\">:</span><a href=\"file://c:\\Users\\krawc\\OneDrive\\Documents\\code\\pythons\\predictor\\.venv\\Lib\\site-packages\\soccerdata\\whoscored.py#327\" target=\"_blank\"><span style=\"color: #7f7f7f; text-decoration-color: #7f7f7f\">327</span></a>\n",
       "</pre>\n"
      ],
      "text/plain": [
       "\u001b[2;36m[10/12/23 10:08:44]\u001b[0m\u001b[2;36m \u001b[0m\u001b[34mINFO    \u001b[0m Scraping game schedule for Tuesday, Oct \u001b[1;36m18\u001b[0m \u001b[1;36m2022\u001b[0m                       \u001b]8;id=373050;file://c:\\Users\\krawc\\OneDrive\\Documents\\code\\pythons\\predictor\\.venv\\Lib\\site-packages\\soccerdata\\whoscored.py\u001b\\\u001b[2mwhoscored.py\u001b[0m\u001b]8;;\u001b\\\u001b[2m:\u001b[0m\u001b]8;id=553944;file://c:\\Users\\krawc\\OneDrive\\Documents\\code\\pythons\\predictor\\.venv\\Lib\\site-packages\\soccerdata\\whoscored.py#327\u001b\\\u001b[2m327\u001b[0m\u001b]8;;\u001b\\\n"
      ]
     },
     "metadata": {},
     "output_type": "display_data"
    },
    {
     "data": {
      "text/html": [
       "<pre style=\"white-space:pre;overflow-x:auto;line-height:normal;font-family:Menlo,'DejaVu Sans Mono',consolas,'Courier New',monospace\"><span style=\"color: #7fbfbf; text-decoration-color: #7fbfbf\">[10/12/23 10:08:45] </span><span style=\"color: #000080; text-decoration-color: #000080\">INFO    </span> Scraping game schedule for Wednesday, Oct <span style=\"color: #008080; text-decoration-color: #008080; font-weight: bold\">19</span> <span style=\"color: #008080; text-decoration-color: #008080; font-weight: bold\">2022</span>                     <a href=\"file://c:\\Users\\krawc\\OneDrive\\Documents\\code\\pythons\\predictor\\.venv\\Lib\\site-packages\\soccerdata\\whoscored.py\" target=\"_blank\"><span style=\"color: #7f7f7f; text-decoration-color: #7f7f7f\">whoscored.py</span></a><span style=\"color: #7f7f7f; text-decoration-color: #7f7f7f\">:</span><a href=\"file://c:\\Users\\krawc\\OneDrive\\Documents\\code\\pythons\\predictor\\.venv\\Lib\\site-packages\\soccerdata\\whoscored.py#327\" target=\"_blank\"><span style=\"color: #7f7f7f; text-decoration-color: #7f7f7f\">327</span></a>\n",
       "</pre>\n"
      ],
      "text/plain": [
       "\u001b[2;36m[10/12/23 10:08:45]\u001b[0m\u001b[2;36m \u001b[0m\u001b[34mINFO    \u001b[0m Scraping game schedule for Wednesday, Oct \u001b[1;36m19\u001b[0m \u001b[1;36m2022\u001b[0m                     \u001b]8;id=401040;file://c:\\Users\\krawc\\OneDrive\\Documents\\code\\pythons\\predictor\\.venv\\Lib\\site-packages\\soccerdata\\whoscored.py\u001b\\\u001b[2mwhoscored.py\u001b[0m\u001b]8;;\u001b\\\u001b[2m:\u001b[0m\u001b]8;id=356891;file://c:\\Users\\krawc\\OneDrive\\Documents\\code\\pythons\\predictor\\.venv\\Lib\\site-packages\\soccerdata\\whoscored.py#327\u001b\\\u001b[2m327\u001b[0m\u001b]8;;\u001b\\\n"
      ]
     },
     "metadata": {},
     "output_type": "display_data"
    },
    {
     "data": {
      "text/html": [
       "<pre style=\"white-space:pre;overflow-x:auto;line-height:normal;font-family:Menlo,'DejaVu Sans Mono',consolas,'Courier New',monospace\"><span style=\"color: #7fbfbf; text-decoration-color: #7fbfbf\">[10/12/23 10:08:47] </span><span style=\"color: #000080; text-decoration-color: #000080\">INFO    </span> Scraping game schedule for Thursday, Oct <span style=\"color: #008080; text-decoration-color: #008080; font-weight: bold\">20</span> <span style=\"color: #008080; text-decoration-color: #008080; font-weight: bold\">2022</span>                      <a href=\"file://c:\\Users\\krawc\\OneDrive\\Documents\\code\\pythons\\predictor\\.venv\\Lib\\site-packages\\soccerdata\\whoscored.py\" target=\"_blank\"><span style=\"color: #7f7f7f; text-decoration-color: #7f7f7f\">whoscored.py</span></a><span style=\"color: #7f7f7f; text-decoration-color: #7f7f7f\">:</span><a href=\"file://c:\\Users\\krawc\\OneDrive\\Documents\\code\\pythons\\predictor\\.venv\\Lib\\site-packages\\soccerdata\\whoscored.py#327\" target=\"_blank\"><span style=\"color: #7f7f7f; text-decoration-color: #7f7f7f\">327</span></a>\n",
       "</pre>\n"
      ],
      "text/plain": [
       "\u001b[2;36m[10/12/23 10:08:47]\u001b[0m\u001b[2;36m \u001b[0m\u001b[34mINFO    \u001b[0m Scraping game schedule for Thursday, Oct \u001b[1;36m20\u001b[0m \u001b[1;36m2022\u001b[0m                      \u001b]8;id=565749;file://c:\\Users\\krawc\\OneDrive\\Documents\\code\\pythons\\predictor\\.venv\\Lib\\site-packages\\soccerdata\\whoscored.py\u001b\\\u001b[2mwhoscored.py\u001b[0m\u001b]8;;\u001b\\\u001b[2m:\u001b[0m\u001b]8;id=971536;file://c:\\Users\\krawc\\OneDrive\\Documents\\code\\pythons\\predictor\\.venv\\Lib\\site-packages\\soccerdata\\whoscored.py#327\u001b\\\u001b[2m327\u001b[0m\u001b]8;;\u001b\\\n"
      ]
     },
     "metadata": {},
     "output_type": "display_data"
    },
    {
     "data": {
      "text/html": [
       "<pre style=\"white-space:pre;overflow-x:auto;line-height:normal;font-family:Menlo,'DejaVu Sans Mono',consolas,'Courier New',monospace\"><span style=\"color: #7fbfbf; text-decoration-color: #7fbfbf\">[10/12/23 10:08:48] </span><span style=\"color: #000080; text-decoration-color: #000080\">INFO    </span> Scraping game schedule for Saturday, Oct <span style=\"color: #008080; text-decoration-color: #008080; font-weight: bold\">22</span> <span style=\"color: #008080; text-decoration-color: #008080; font-weight: bold\">2022</span>                      <a href=\"file://c:\\Users\\krawc\\OneDrive\\Documents\\code\\pythons\\predictor\\.venv\\Lib\\site-packages\\soccerdata\\whoscored.py\" target=\"_blank\"><span style=\"color: #7f7f7f; text-decoration-color: #7f7f7f\">whoscored.py</span></a><span style=\"color: #7f7f7f; text-decoration-color: #7f7f7f\">:</span><a href=\"file://c:\\Users\\krawc\\OneDrive\\Documents\\code\\pythons\\predictor\\.venv\\Lib\\site-packages\\soccerdata\\whoscored.py#327\" target=\"_blank\"><span style=\"color: #7f7f7f; text-decoration-color: #7f7f7f\">327</span></a>\n",
       "</pre>\n"
      ],
      "text/plain": [
       "\u001b[2;36m[10/12/23 10:08:48]\u001b[0m\u001b[2;36m \u001b[0m\u001b[34mINFO    \u001b[0m Scraping game schedule for Saturday, Oct \u001b[1;36m22\u001b[0m \u001b[1;36m2022\u001b[0m                      \u001b]8;id=621869;file://c:\\Users\\krawc\\OneDrive\\Documents\\code\\pythons\\predictor\\.venv\\Lib\\site-packages\\soccerdata\\whoscored.py\u001b\\\u001b[2mwhoscored.py\u001b[0m\u001b]8;;\u001b\\\u001b[2m:\u001b[0m\u001b]8;id=237499;file://c:\\Users\\krawc\\OneDrive\\Documents\\code\\pythons\\predictor\\.venv\\Lib\\site-packages\\soccerdata\\whoscored.py#327\u001b\\\u001b[2m327\u001b[0m\u001b]8;;\u001b\\\n"
      ]
     },
     "metadata": {},
     "output_type": "display_data"
    },
    {
     "data": {
      "text/html": [
       "<pre style=\"white-space:pre;overflow-x:auto;line-height:normal;font-family:Menlo,'DejaVu Sans Mono',consolas,'Courier New',monospace\"><span style=\"color: #7fbfbf; text-decoration-color: #7fbfbf\">[10/12/23 10:08:50] </span><span style=\"color: #000080; text-decoration-color: #000080\">INFO    </span> Scraping game schedule for Sunday, Oct <span style=\"color: #008080; text-decoration-color: #008080; font-weight: bold\">23</span> <span style=\"color: #008080; text-decoration-color: #008080; font-weight: bold\">2022</span>                        <a href=\"file://c:\\Users\\krawc\\OneDrive\\Documents\\code\\pythons\\predictor\\.venv\\Lib\\site-packages\\soccerdata\\whoscored.py\" target=\"_blank\"><span style=\"color: #7f7f7f; text-decoration-color: #7f7f7f\">whoscored.py</span></a><span style=\"color: #7f7f7f; text-decoration-color: #7f7f7f\">:</span><a href=\"file://c:\\Users\\krawc\\OneDrive\\Documents\\code\\pythons\\predictor\\.venv\\Lib\\site-packages\\soccerdata\\whoscored.py#327\" target=\"_blank\"><span style=\"color: #7f7f7f; text-decoration-color: #7f7f7f\">327</span></a>\n",
       "</pre>\n"
      ],
      "text/plain": [
       "\u001b[2;36m[10/12/23 10:08:50]\u001b[0m\u001b[2;36m \u001b[0m\u001b[34mINFO    \u001b[0m Scraping game schedule for Sunday, Oct \u001b[1;36m23\u001b[0m \u001b[1;36m2022\u001b[0m                        \u001b]8;id=692123;file://c:\\Users\\krawc\\OneDrive\\Documents\\code\\pythons\\predictor\\.venv\\Lib\\site-packages\\soccerdata\\whoscored.py\u001b\\\u001b[2mwhoscored.py\u001b[0m\u001b]8;;\u001b\\\u001b[2m:\u001b[0m\u001b]8;id=499006;file://c:\\Users\\krawc\\OneDrive\\Documents\\code\\pythons\\predictor\\.venv\\Lib\\site-packages\\soccerdata\\whoscored.py#327\u001b\\\u001b[2m327\u001b[0m\u001b]8;;\u001b\\\n"
      ]
     },
     "metadata": {},
     "output_type": "display_data"
    },
    {
     "data": {
      "text/html": [
       "<pre style=\"white-space:pre;overflow-x:auto;line-height:normal;font-family:Menlo,'DejaVu Sans Mono',consolas,'Courier New',monospace\"><span style=\"color: #7fbfbf; text-decoration-color: #7fbfbf\">[10/12/23 10:08:52] </span><span style=\"color: #000080; text-decoration-color: #000080\">INFO    </span> Scraping game schedule for Monday, Oct <span style=\"color: #008080; text-decoration-color: #008080; font-weight: bold\">24</span> <span style=\"color: #008080; text-decoration-color: #008080; font-weight: bold\">2022</span>                        <a href=\"file://c:\\Users\\krawc\\OneDrive\\Documents\\code\\pythons\\predictor\\.venv\\Lib\\site-packages\\soccerdata\\whoscored.py\" target=\"_blank\"><span style=\"color: #7f7f7f; text-decoration-color: #7f7f7f\">whoscored.py</span></a><span style=\"color: #7f7f7f; text-decoration-color: #7f7f7f\">:</span><a href=\"file://c:\\Users\\krawc\\OneDrive\\Documents\\code\\pythons\\predictor\\.venv\\Lib\\site-packages\\soccerdata\\whoscored.py#327\" target=\"_blank\"><span style=\"color: #7f7f7f; text-decoration-color: #7f7f7f\">327</span></a>\n",
       "</pre>\n"
      ],
      "text/plain": [
       "\u001b[2;36m[10/12/23 10:08:52]\u001b[0m\u001b[2;36m \u001b[0m\u001b[34mINFO    \u001b[0m Scraping game schedule for Monday, Oct \u001b[1;36m24\u001b[0m \u001b[1;36m2022\u001b[0m                        \u001b]8;id=595533;file://c:\\Users\\krawc\\OneDrive\\Documents\\code\\pythons\\predictor\\.venv\\Lib\\site-packages\\soccerdata\\whoscored.py\u001b\\\u001b[2mwhoscored.py\u001b[0m\u001b]8;;\u001b\\\u001b[2m:\u001b[0m\u001b]8;id=846536;file://c:\\Users\\krawc\\OneDrive\\Documents\\code\\pythons\\predictor\\.venv\\Lib\\site-packages\\soccerdata\\whoscored.py#327\u001b\\\u001b[2m327\u001b[0m\u001b]8;;\u001b\\\n"
      ]
     },
     "metadata": {},
     "output_type": "display_data"
    },
    {
     "data": {
      "text/html": [
       "<pre style=\"white-space:pre;overflow-x:auto;line-height:normal;font-family:Menlo,'DejaVu Sans Mono',consolas,'Courier New',monospace\"><span style=\"color: #7fbfbf; text-decoration-color: #7fbfbf\">                    </span><span style=\"color: #000080; text-decoration-color: #000080\">INFO    </span> Scraping game schedule for Saturday, Oct <span style=\"color: #008080; text-decoration-color: #008080; font-weight: bold\">29</span> <span style=\"color: #008080; text-decoration-color: #008080; font-weight: bold\">2022</span>                      <a href=\"file://c:\\Users\\krawc\\OneDrive\\Documents\\code\\pythons\\predictor\\.venv\\Lib\\site-packages\\soccerdata\\whoscored.py\" target=\"_blank\"><span style=\"color: #7f7f7f; text-decoration-color: #7f7f7f\">whoscored.py</span></a><span style=\"color: #7f7f7f; text-decoration-color: #7f7f7f\">:</span><a href=\"file://c:\\Users\\krawc\\OneDrive\\Documents\\code\\pythons\\predictor\\.venv\\Lib\\site-packages\\soccerdata\\whoscored.py#327\" target=\"_blank\"><span style=\"color: #7f7f7f; text-decoration-color: #7f7f7f\">327</span></a>\n",
       "</pre>\n"
      ],
      "text/plain": [
       "\u001b[2;36m                   \u001b[0m\u001b[2;36m \u001b[0m\u001b[34mINFO    \u001b[0m Scraping game schedule for Saturday, Oct \u001b[1;36m29\u001b[0m \u001b[1;36m2022\u001b[0m                      \u001b]8;id=573217;file://c:\\Users\\krawc\\OneDrive\\Documents\\code\\pythons\\predictor\\.venv\\Lib\\site-packages\\soccerdata\\whoscored.py\u001b\\\u001b[2mwhoscored.py\u001b[0m\u001b]8;;\u001b\\\u001b[2m:\u001b[0m\u001b]8;id=930316;file://c:\\Users\\krawc\\OneDrive\\Documents\\code\\pythons\\predictor\\.venv\\Lib\\site-packages\\soccerdata\\whoscored.py#327\u001b\\\u001b[2m327\u001b[0m\u001b]8;;\u001b\\\n"
      ]
     },
     "metadata": {},
     "output_type": "display_data"
    },
    {
     "data": {
      "text/html": [
       "<pre style=\"white-space:pre;overflow-x:auto;line-height:normal;font-family:Menlo,'DejaVu Sans Mono',consolas,'Courier New',monospace\"><span style=\"color: #7fbfbf; text-decoration-color: #7fbfbf\">[10/12/23 10:08:55] </span><span style=\"color: #000080; text-decoration-color: #000080\">INFO    </span> Scraping game schedule for Sunday, Oct <span style=\"color: #008080; text-decoration-color: #008080; font-weight: bold\">30</span> <span style=\"color: #008080; text-decoration-color: #008080; font-weight: bold\">2022</span>                        <a href=\"file://c:\\Users\\krawc\\OneDrive\\Documents\\code\\pythons\\predictor\\.venv\\Lib\\site-packages\\soccerdata\\whoscored.py\" target=\"_blank\"><span style=\"color: #7f7f7f; text-decoration-color: #7f7f7f\">whoscored.py</span></a><span style=\"color: #7f7f7f; text-decoration-color: #7f7f7f\">:</span><a href=\"file://c:\\Users\\krawc\\OneDrive\\Documents\\code\\pythons\\predictor\\.venv\\Lib\\site-packages\\soccerdata\\whoscored.py#327\" target=\"_blank\"><span style=\"color: #7f7f7f; text-decoration-color: #7f7f7f\">327</span></a>\n",
       "</pre>\n"
      ],
      "text/plain": [
       "\u001b[2;36m[10/12/23 10:08:55]\u001b[0m\u001b[2;36m \u001b[0m\u001b[34mINFO    \u001b[0m Scraping game schedule for Sunday, Oct \u001b[1;36m30\u001b[0m \u001b[1;36m2022\u001b[0m                        \u001b]8;id=660614;file://c:\\Users\\krawc\\OneDrive\\Documents\\code\\pythons\\predictor\\.venv\\Lib\\site-packages\\soccerdata\\whoscored.py\u001b\\\u001b[2mwhoscored.py\u001b[0m\u001b]8;;\u001b\\\u001b[2m:\u001b[0m\u001b]8;id=929135;file://c:\\Users\\krawc\\OneDrive\\Documents\\code\\pythons\\predictor\\.venv\\Lib\\site-packages\\soccerdata\\whoscored.py#327\u001b\\\u001b[2m327\u001b[0m\u001b]8;;\u001b\\\n"
      ]
     },
     "metadata": {},
     "output_type": "display_data"
    },
    {
     "data": {
      "text/html": [
       "<pre style=\"white-space:pre;overflow-x:auto;line-height:normal;font-family:Menlo,'DejaVu Sans Mono',consolas,'Courier New',monospace\"><span style=\"color: #7fbfbf; text-decoration-color: #7fbfbf\">[10/12/23 10:09:01] </span><span style=\"color: #000080; text-decoration-color: #000080\">INFO    </span> Scraping game schedule for Thursday, Sep <span style=\"color: #008080; text-decoration-color: #008080; font-weight: bold\">1</span> <span style=\"color: #008080; text-decoration-color: #008080; font-weight: bold\">2022</span>                       <a href=\"file://c:\\Users\\krawc\\OneDrive\\Documents\\code\\pythons\\predictor\\.venv\\Lib\\site-packages\\soccerdata\\whoscored.py\" target=\"_blank\"><span style=\"color: #7f7f7f; text-decoration-color: #7f7f7f\">whoscored.py</span></a><span style=\"color: #7f7f7f; text-decoration-color: #7f7f7f\">:</span><a href=\"file://c:\\Users\\krawc\\OneDrive\\Documents\\code\\pythons\\predictor\\.venv\\Lib\\site-packages\\soccerdata\\whoscored.py#327\" target=\"_blank\"><span style=\"color: #7f7f7f; text-decoration-color: #7f7f7f\">327</span></a>\n",
       "</pre>\n"
      ],
      "text/plain": [
       "\u001b[2;36m[10/12/23 10:09:01]\u001b[0m\u001b[2;36m \u001b[0m\u001b[34mINFO    \u001b[0m Scraping game schedule for Thursday, Sep \u001b[1;36m1\u001b[0m \u001b[1;36m2022\u001b[0m                       \u001b]8;id=961748;file://c:\\Users\\krawc\\OneDrive\\Documents\\code\\pythons\\predictor\\.venv\\Lib\\site-packages\\soccerdata\\whoscored.py\u001b\\\u001b[2mwhoscored.py\u001b[0m\u001b]8;;\u001b\\\u001b[2m:\u001b[0m\u001b]8;id=438383;file://c:\\Users\\krawc\\OneDrive\\Documents\\code\\pythons\\predictor\\.venv\\Lib\\site-packages\\soccerdata\\whoscored.py#327\u001b\\\u001b[2m327\u001b[0m\u001b]8;;\u001b\\\n"
      ]
     },
     "metadata": {},
     "output_type": "display_data"
    },
    {
     "data": {
      "text/html": [
       "<pre style=\"white-space:pre;overflow-x:auto;line-height:normal;font-family:Menlo,'DejaVu Sans Mono',consolas,'Courier New',monospace\"><span style=\"color: #7fbfbf; text-decoration-color: #7fbfbf\">                    </span><span style=\"color: #000080; text-decoration-color: #000080\">INFO    </span> Scraping game schedule for Saturday, Sep <span style=\"color: #008080; text-decoration-color: #008080; font-weight: bold\">3</span> <span style=\"color: #008080; text-decoration-color: #008080; font-weight: bold\">2022</span>                       <a href=\"file://c:\\Users\\krawc\\OneDrive\\Documents\\code\\pythons\\predictor\\.venv\\Lib\\site-packages\\soccerdata\\whoscored.py\" target=\"_blank\"><span style=\"color: #7f7f7f; text-decoration-color: #7f7f7f\">whoscored.py</span></a><span style=\"color: #7f7f7f; text-decoration-color: #7f7f7f\">:</span><a href=\"file://c:\\Users\\krawc\\OneDrive\\Documents\\code\\pythons\\predictor\\.venv\\Lib\\site-packages\\soccerdata\\whoscored.py#327\" target=\"_blank\"><span style=\"color: #7f7f7f; text-decoration-color: #7f7f7f\">327</span></a>\n",
       "</pre>\n"
      ],
      "text/plain": [
       "\u001b[2;36m                   \u001b[0m\u001b[2;36m \u001b[0m\u001b[34mINFO    \u001b[0m Scraping game schedule for Saturday, Sep \u001b[1;36m3\u001b[0m \u001b[1;36m2022\u001b[0m                       \u001b]8;id=865560;file://c:\\Users\\krawc\\OneDrive\\Documents\\code\\pythons\\predictor\\.venv\\Lib\\site-packages\\soccerdata\\whoscored.py\u001b\\\u001b[2mwhoscored.py\u001b[0m\u001b]8;;\u001b\\\u001b[2m:\u001b[0m\u001b]8;id=328597;file://c:\\Users\\krawc\\OneDrive\\Documents\\code\\pythons\\predictor\\.venv\\Lib\\site-packages\\soccerdata\\whoscored.py#327\u001b\\\u001b[2m327\u001b[0m\u001b]8;;\u001b\\\n"
      ]
     },
     "metadata": {},
     "output_type": "display_data"
    },
    {
     "data": {
      "text/html": [
       "<pre style=\"white-space:pre;overflow-x:auto;line-height:normal;font-family:Menlo,'DejaVu Sans Mono',consolas,'Courier New',monospace\"><span style=\"color: #7fbfbf; text-decoration-color: #7fbfbf\">[10/12/23 10:09:04] </span><span style=\"color: #000080; text-decoration-color: #000080\">INFO    </span> Scraping game schedule for Sunday, Sep <span style=\"color: #008080; text-decoration-color: #008080; font-weight: bold\">4</span> <span style=\"color: #008080; text-decoration-color: #008080; font-weight: bold\">2022</span>                         <a href=\"file://c:\\Users\\krawc\\OneDrive\\Documents\\code\\pythons\\predictor\\.venv\\Lib\\site-packages\\soccerdata\\whoscored.py\" target=\"_blank\"><span style=\"color: #7f7f7f; text-decoration-color: #7f7f7f\">whoscored.py</span></a><span style=\"color: #7f7f7f; text-decoration-color: #7f7f7f\">:</span><a href=\"file://c:\\Users\\krawc\\OneDrive\\Documents\\code\\pythons\\predictor\\.venv\\Lib\\site-packages\\soccerdata\\whoscored.py#327\" target=\"_blank\"><span style=\"color: #7f7f7f; text-decoration-color: #7f7f7f\">327</span></a>\n",
       "</pre>\n"
      ],
      "text/plain": [
       "\u001b[2;36m[10/12/23 10:09:04]\u001b[0m\u001b[2;36m \u001b[0m\u001b[34mINFO    \u001b[0m Scraping game schedule for Sunday, Sep \u001b[1;36m4\u001b[0m \u001b[1;36m2022\u001b[0m                         \u001b]8;id=252193;file://c:\\Users\\krawc\\OneDrive\\Documents\\code\\pythons\\predictor\\.venv\\Lib\\site-packages\\soccerdata\\whoscored.py\u001b\\\u001b[2mwhoscored.py\u001b[0m\u001b]8;;\u001b\\\u001b[2m:\u001b[0m\u001b]8;id=127847;file://c:\\Users\\krawc\\OneDrive\\Documents\\code\\pythons\\predictor\\.venv\\Lib\\site-packages\\soccerdata\\whoscored.py#327\u001b\\\u001b[2m327\u001b[0m\u001b]8;;\u001b\\\n"
      ]
     },
     "metadata": {},
     "output_type": "display_data"
    },
    {
     "data": {
      "text/html": [
       "<pre style=\"white-space:pre;overflow-x:auto;line-height:normal;font-family:Menlo,'DejaVu Sans Mono',consolas,'Courier New',monospace\"><span style=\"color: #7fbfbf; text-decoration-color: #7fbfbf\">[10/12/23 10:09:05] </span><span style=\"color: #000080; text-decoration-color: #000080\">INFO    </span> Scraping game schedule for Friday, Sep <span style=\"color: #008080; text-decoration-color: #008080; font-weight: bold\">16</span> <span style=\"color: #008080; text-decoration-color: #008080; font-weight: bold\">2022</span>                        <a href=\"file://c:\\Users\\krawc\\OneDrive\\Documents\\code\\pythons\\predictor\\.venv\\Lib\\site-packages\\soccerdata\\whoscored.py\" target=\"_blank\"><span style=\"color: #7f7f7f; text-decoration-color: #7f7f7f\">whoscored.py</span></a><span style=\"color: #7f7f7f; text-decoration-color: #7f7f7f\">:</span><a href=\"file://c:\\Users\\krawc\\OneDrive\\Documents\\code\\pythons\\predictor\\.venv\\Lib\\site-packages\\soccerdata\\whoscored.py#327\" target=\"_blank\"><span style=\"color: #7f7f7f; text-decoration-color: #7f7f7f\">327</span></a>\n",
       "</pre>\n"
      ],
      "text/plain": [
       "\u001b[2;36m[10/12/23 10:09:05]\u001b[0m\u001b[2;36m \u001b[0m\u001b[34mINFO    \u001b[0m Scraping game schedule for Friday, Sep \u001b[1;36m16\u001b[0m \u001b[1;36m2022\u001b[0m                        \u001b]8;id=925397;file://c:\\Users\\krawc\\OneDrive\\Documents\\code\\pythons\\predictor\\.venv\\Lib\\site-packages\\soccerdata\\whoscored.py\u001b\\\u001b[2mwhoscored.py\u001b[0m\u001b]8;;\u001b\\\u001b[2m:\u001b[0m\u001b]8;id=488731;file://c:\\Users\\krawc\\OneDrive\\Documents\\code\\pythons\\predictor\\.venv\\Lib\\site-packages\\soccerdata\\whoscored.py#327\u001b\\\u001b[2m327\u001b[0m\u001b]8;;\u001b\\\n"
      ]
     },
     "metadata": {},
     "output_type": "display_data"
    },
    {
     "data": {
      "text/html": [
       "<pre style=\"white-space:pre;overflow-x:auto;line-height:normal;font-family:Menlo,'DejaVu Sans Mono',consolas,'Courier New',monospace\"><span style=\"color: #7fbfbf; text-decoration-color: #7fbfbf\">[10/12/23 10:09:06] </span><span style=\"color: #000080; text-decoration-color: #000080\">INFO    </span> Scraping game schedule for Saturday, Sep <span style=\"color: #008080; text-decoration-color: #008080; font-weight: bold\">17</span> <span style=\"color: #008080; text-decoration-color: #008080; font-weight: bold\">2022</span>                      <a href=\"file://c:\\Users\\krawc\\OneDrive\\Documents\\code\\pythons\\predictor\\.venv\\Lib\\site-packages\\soccerdata\\whoscored.py\" target=\"_blank\"><span style=\"color: #7f7f7f; text-decoration-color: #7f7f7f\">whoscored.py</span></a><span style=\"color: #7f7f7f; text-decoration-color: #7f7f7f\">:</span><a href=\"file://c:\\Users\\krawc\\OneDrive\\Documents\\code\\pythons\\predictor\\.venv\\Lib\\site-packages\\soccerdata\\whoscored.py#327\" target=\"_blank\"><span style=\"color: #7f7f7f; text-decoration-color: #7f7f7f\">327</span></a>\n",
       "</pre>\n"
      ],
      "text/plain": [
       "\u001b[2;36m[10/12/23 10:09:06]\u001b[0m\u001b[2;36m \u001b[0m\u001b[34mINFO    \u001b[0m Scraping game schedule for Saturday, Sep \u001b[1;36m17\u001b[0m \u001b[1;36m2022\u001b[0m                      \u001b]8;id=863282;file://c:\\Users\\krawc\\OneDrive\\Documents\\code\\pythons\\predictor\\.venv\\Lib\\site-packages\\soccerdata\\whoscored.py\u001b\\\u001b[2mwhoscored.py\u001b[0m\u001b]8;;\u001b\\\u001b[2m:\u001b[0m\u001b]8;id=675185;file://c:\\Users\\krawc\\OneDrive\\Documents\\code\\pythons\\predictor\\.venv\\Lib\\site-packages\\soccerdata\\whoscored.py#327\u001b\\\u001b[2m327\u001b[0m\u001b]8;;\u001b\\\n"
      ]
     },
     "metadata": {},
     "output_type": "display_data"
    },
    {
     "data": {
      "text/html": [
       "<pre style=\"white-space:pre;overflow-x:auto;line-height:normal;font-family:Menlo,'DejaVu Sans Mono',consolas,'Courier New',monospace\"><span style=\"color: #7fbfbf; text-decoration-color: #7fbfbf\">[10/12/23 10:09:07] </span><span style=\"color: #000080; text-decoration-color: #000080\">INFO    </span> Scraping game schedule for Sunday, Sep <span style=\"color: #008080; text-decoration-color: #008080; font-weight: bold\">18</span> <span style=\"color: #008080; text-decoration-color: #008080; font-weight: bold\">2022</span>                        <a href=\"file://c:\\Users\\krawc\\OneDrive\\Documents\\code\\pythons\\predictor\\.venv\\Lib\\site-packages\\soccerdata\\whoscored.py\" target=\"_blank\"><span style=\"color: #7f7f7f; text-decoration-color: #7f7f7f\">whoscored.py</span></a><span style=\"color: #7f7f7f; text-decoration-color: #7f7f7f\">:</span><a href=\"file://c:\\Users\\krawc\\OneDrive\\Documents\\code\\pythons\\predictor\\.venv\\Lib\\site-packages\\soccerdata\\whoscored.py#327\" target=\"_blank\"><span style=\"color: #7f7f7f; text-decoration-color: #7f7f7f\">327</span></a>\n",
       "</pre>\n"
      ],
      "text/plain": [
       "\u001b[2;36m[10/12/23 10:09:07]\u001b[0m\u001b[2;36m \u001b[0m\u001b[34mINFO    \u001b[0m Scraping game schedule for Sunday, Sep \u001b[1;36m18\u001b[0m \u001b[1;36m2022\u001b[0m                        \u001b]8;id=23152;file://c:\\Users\\krawc\\OneDrive\\Documents\\code\\pythons\\predictor\\.venv\\Lib\\site-packages\\soccerdata\\whoscored.py\u001b\\\u001b[2mwhoscored.py\u001b[0m\u001b]8;;\u001b\\\u001b[2m:\u001b[0m\u001b]8;id=115599;file://c:\\Users\\krawc\\OneDrive\\Documents\\code\\pythons\\predictor\\.venv\\Lib\\site-packages\\soccerdata\\whoscored.py#327\u001b\\\u001b[2m327\u001b[0m\u001b]8;;\u001b\\\n"
      ]
     },
     "metadata": {},
     "output_type": "display_data"
    },
    {
     "data": {
      "text/html": [
       "<pre style=\"white-space:pre;overflow-x:auto;line-height:normal;font-family:Menlo,'DejaVu Sans Mono',consolas,'Courier New',monospace\"><span style=\"color: #7fbfbf; text-decoration-color: #7fbfbf\">[10/12/23 10:09:13] </span><span style=\"color: #000080; text-decoration-color: #000080\">INFO    </span> Scraping game schedule for Friday, Aug <span style=\"color: #008080; text-decoration-color: #008080; font-weight: bold\">5</span> <span style=\"color: #008080; text-decoration-color: #008080; font-weight: bold\">2022</span>                         <a href=\"file://c:\\Users\\krawc\\OneDrive\\Documents\\code\\pythons\\predictor\\.venv\\Lib\\site-packages\\soccerdata\\whoscored.py\" target=\"_blank\"><span style=\"color: #7f7f7f; text-decoration-color: #7f7f7f\">whoscored.py</span></a><span style=\"color: #7f7f7f; text-decoration-color: #7f7f7f\">:</span><a href=\"file://c:\\Users\\krawc\\OneDrive\\Documents\\code\\pythons\\predictor\\.venv\\Lib\\site-packages\\soccerdata\\whoscored.py#327\" target=\"_blank\"><span style=\"color: #7f7f7f; text-decoration-color: #7f7f7f\">327</span></a>\n",
       "</pre>\n"
      ],
      "text/plain": [
       "\u001b[2;36m[10/12/23 10:09:13]\u001b[0m\u001b[2;36m \u001b[0m\u001b[34mINFO    \u001b[0m Scraping game schedule for Friday, Aug \u001b[1;36m5\u001b[0m \u001b[1;36m2022\u001b[0m                         \u001b]8;id=16775;file://c:\\Users\\krawc\\OneDrive\\Documents\\code\\pythons\\predictor\\.venv\\Lib\\site-packages\\soccerdata\\whoscored.py\u001b\\\u001b[2mwhoscored.py\u001b[0m\u001b]8;;\u001b\\\u001b[2m:\u001b[0m\u001b]8;id=613529;file://c:\\Users\\krawc\\OneDrive\\Documents\\code\\pythons\\predictor\\.venv\\Lib\\site-packages\\soccerdata\\whoscored.py#327\u001b\\\u001b[2m327\u001b[0m\u001b]8;;\u001b\\\n"
      ]
     },
     "metadata": {},
     "output_type": "display_data"
    },
    {
     "data": {
      "text/html": [
       "<pre style=\"white-space:pre;overflow-x:auto;line-height:normal;font-family:Menlo,'DejaVu Sans Mono',consolas,'Courier New',monospace\"><span style=\"color: #7fbfbf; text-decoration-color: #7fbfbf\">                    </span><span style=\"color: #000080; text-decoration-color: #000080\">INFO    </span> Scraping game schedule for Saturday, Aug <span style=\"color: #008080; text-decoration-color: #008080; font-weight: bold\">6</span> <span style=\"color: #008080; text-decoration-color: #008080; font-weight: bold\">2022</span>                       <a href=\"file://c:\\Users\\krawc\\OneDrive\\Documents\\code\\pythons\\predictor\\.venv\\Lib\\site-packages\\soccerdata\\whoscored.py\" target=\"_blank\"><span style=\"color: #7f7f7f; text-decoration-color: #7f7f7f\">whoscored.py</span></a><span style=\"color: #7f7f7f; text-decoration-color: #7f7f7f\">:</span><a href=\"file://c:\\Users\\krawc\\OneDrive\\Documents\\code\\pythons\\predictor\\.venv\\Lib\\site-packages\\soccerdata\\whoscored.py#327\" target=\"_blank\"><span style=\"color: #7f7f7f; text-decoration-color: #7f7f7f\">327</span></a>\n",
       "</pre>\n"
      ],
      "text/plain": [
       "\u001b[2;36m                   \u001b[0m\u001b[2;36m \u001b[0m\u001b[34mINFO    \u001b[0m Scraping game schedule for Saturday, Aug \u001b[1;36m6\u001b[0m \u001b[1;36m2022\u001b[0m                       \u001b]8;id=418927;file://c:\\Users\\krawc\\OneDrive\\Documents\\code\\pythons\\predictor\\.venv\\Lib\\site-packages\\soccerdata\\whoscored.py\u001b\\\u001b[2mwhoscored.py\u001b[0m\u001b]8;;\u001b\\\u001b[2m:\u001b[0m\u001b]8;id=983150;file://c:\\Users\\krawc\\OneDrive\\Documents\\code\\pythons\\predictor\\.venv\\Lib\\site-packages\\soccerdata\\whoscored.py#327\u001b\\\u001b[2m327\u001b[0m\u001b]8;;\u001b\\\n"
      ]
     },
     "metadata": {},
     "output_type": "display_data"
    },
    {
     "data": {
      "text/html": [
       "<pre style=\"white-space:pre;overflow-x:auto;line-height:normal;font-family:Menlo,'DejaVu Sans Mono',consolas,'Courier New',monospace\"><span style=\"color: #7fbfbf; text-decoration-color: #7fbfbf\">[10/12/23 10:09:15] </span><span style=\"color: #000080; text-decoration-color: #000080\">INFO    </span> Scraping game schedule for Sunday, Aug <span style=\"color: #008080; text-decoration-color: #008080; font-weight: bold\">7</span> <span style=\"color: #008080; text-decoration-color: #008080; font-weight: bold\">2022</span>                         <a href=\"file://c:\\Users\\krawc\\OneDrive\\Documents\\code\\pythons\\predictor\\.venv\\Lib\\site-packages\\soccerdata\\whoscored.py\" target=\"_blank\"><span style=\"color: #7f7f7f; text-decoration-color: #7f7f7f\">whoscored.py</span></a><span style=\"color: #7f7f7f; text-decoration-color: #7f7f7f\">:</span><a href=\"file://c:\\Users\\krawc\\OneDrive\\Documents\\code\\pythons\\predictor\\.venv\\Lib\\site-packages\\soccerdata\\whoscored.py#327\" target=\"_blank\"><span style=\"color: #7f7f7f; text-decoration-color: #7f7f7f\">327</span></a>\n",
       "</pre>\n"
      ],
      "text/plain": [
       "\u001b[2;36m[10/12/23 10:09:15]\u001b[0m\u001b[2;36m \u001b[0m\u001b[34mINFO    \u001b[0m Scraping game schedule for Sunday, Aug \u001b[1;36m7\u001b[0m \u001b[1;36m2022\u001b[0m                         \u001b]8;id=850206;file://c:\\Users\\krawc\\OneDrive\\Documents\\code\\pythons\\predictor\\.venv\\Lib\\site-packages\\soccerdata\\whoscored.py\u001b\\\u001b[2mwhoscored.py\u001b[0m\u001b]8;;\u001b\\\u001b[2m:\u001b[0m\u001b]8;id=50835;file://c:\\Users\\krawc\\OneDrive\\Documents\\code\\pythons\\predictor\\.venv\\Lib\\site-packages\\soccerdata\\whoscored.py#327\u001b\\\u001b[2m327\u001b[0m\u001b]8;;\u001b\\\n"
      ]
     },
     "metadata": {},
     "output_type": "display_data"
    },
    {
     "data": {
      "text/html": [
       "<pre style=\"white-space:pre;overflow-x:auto;line-height:normal;font-family:Menlo,'DejaVu Sans Mono',consolas,'Courier New',monospace\"><span style=\"color: #7fbfbf; text-decoration-color: #7fbfbf\">[10/12/23 10:09:16] </span><span style=\"color: #000080; text-decoration-color: #000080\">INFO    </span> Scraping game schedule for Saturday, Aug <span style=\"color: #008080; text-decoration-color: #008080; font-weight: bold\">13</span> <span style=\"color: #008080; text-decoration-color: #008080; font-weight: bold\">2022</span>                      <a href=\"file://c:\\Users\\krawc\\OneDrive\\Documents\\code\\pythons\\predictor\\.venv\\Lib\\site-packages\\soccerdata\\whoscored.py\" target=\"_blank\"><span style=\"color: #7f7f7f; text-decoration-color: #7f7f7f\">whoscored.py</span></a><span style=\"color: #7f7f7f; text-decoration-color: #7f7f7f\">:</span><a href=\"file://c:\\Users\\krawc\\OneDrive\\Documents\\code\\pythons\\predictor\\.venv\\Lib\\site-packages\\soccerdata\\whoscored.py#327\" target=\"_blank\"><span style=\"color: #7f7f7f; text-decoration-color: #7f7f7f\">327</span></a>\n",
       "</pre>\n"
      ],
      "text/plain": [
       "\u001b[2;36m[10/12/23 10:09:16]\u001b[0m\u001b[2;36m \u001b[0m\u001b[34mINFO    \u001b[0m Scraping game schedule for Saturday, Aug \u001b[1;36m13\u001b[0m \u001b[1;36m2022\u001b[0m                      \u001b]8;id=351119;file://c:\\Users\\krawc\\OneDrive\\Documents\\code\\pythons\\predictor\\.venv\\Lib\\site-packages\\soccerdata\\whoscored.py\u001b\\\u001b[2mwhoscored.py\u001b[0m\u001b]8;;\u001b\\\u001b[2m:\u001b[0m\u001b]8;id=787986;file://c:\\Users\\krawc\\OneDrive\\Documents\\code\\pythons\\predictor\\.venv\\Lib\\site-packages\\soccerdata\\whoscored.py#327\u001b\\\u001b[2m327\u001b[0m\u001b]8;;\u001b\\\n"
      ]
     },
     "metadata": {},
     "output_type": "display_data"
    },
    {
     "data": {
      "text/html": [
       "<pre style=\"white-space:pre;overflow-x:auto;line-height:normal;font-family:Menlo,'DejaVu Sans Mono',consolas,'Courier New',monospace\"><span style=\"color: #7fbfbf; text-decoration-color: #7fbfbf\">[10/12/23 10:09:18] </span><span style=\"color: #000080; text-decoration-color: #000080\">INFO    </span> Scraping game schedule for Sunday, Aug <span style=\"color: #008080; text-decoration-color: #008080; font-weight: bold\">14</span> <span style=\"color: #008080; text-decoration-color: #008080; font-weight: bold\">2022</span>                        <a href=\"file://c:\\Users\\krawc\\OneDrive\\Documents\\code\\pythons\\predictor\\.venv\\Lib\\site-packages\\soccerdata\\whoscored.py\" target=\"_blank\"><span style=\"color: #7f7f7f; text-decoration-color: #7f7f7f\">whoscored.py</span></a><span style=\"color: #7f7f7f; text-decoration-color: #7f7f7f\">:</span><a href=\"file://c:\\Users\\krawc\\OneDrive\\Documents\\code\\pythons\\predictor\\.venv\\Lib\\site-packages\\soccerdata\\whoscored.py#327\" target=\"_blank\"><span style=\"color: #7f7f7f; text-decoration-color: #7f7f7f\">327</span></a>\n",
       "</pre>\n"
      ],
      "text/plain": [
       "\u001b[2;36m[10/12/23 10:09:18]\u001b[0m\u001b[2;36m \u001b[0m\u001b[34mINFO    \u001b[0m Scraping game schedule for Sunday, Aug \u001b[1;36m14\u001b[0m \u001b[1;36m2022\u001b[0m                        \u001b]8;id=560763;file://c:\\Users\\krawc\\OneDrive\\Documents\\code\\pythons\\predictor\\.venv\\Lib\\site-packages\\soccerdata\\whoscored.py\u001b\\\u001b[2mwhoscored.py\u001b[0m\u001b]8;;\u001b\\\u001b[2m:\u001b[0m\u001b]8;id=904286;file://c:\\Users\\krawc\\OneDrive\\Documents\\code\\pythons\\predictor\\.venv\\Lib\\site-packages\\soccerdata\\whoscored.py#327\u001b\\\u001b[2m327\u001b[0m\u001b]8;;\u001b\\\n"
      ]
     },
     "metadata": {},
     "output_type": "display_data"
    },
    {
     "data": {
      "text/html": [
       "<pre style=\"white-space:pre;overflow-x:auto;line-height:normal;font-family:Menlo,'DejaVu Sans Mono',consolas,'Courier New',monospace\"><span style=\"color: #7fbfbf; text-decoration-color: #7fbfbf\">                    </span><span style=\"color: #000080; text-decoration-color: #000080\">INFO    </span> Scraping game schedule for Monday, Aug <span style=\"color: #008080; text-decoration-color: #008080; font-weight: bold\">15</span> <span style=\"color: #008080; text-decoration-color: #008080; font-weight: bold\">2022</span>                        <a href=\"file://c:\\Users\\krawc\\OneDrive\\Documents\\code\\pythons\\predictor\\.venv\\Lib\\site-packages\\soccerdata\\whoscored.py\" target=\"_blank\"><span style=\"color: #7f7f7f; text-decoration-color: #7f7f7f\">whoscored.py</span></a><span style=\"color: #7f7f7f; text-decoration-color: #7f7f7f\">:</span><a href=\"file://c:\\Users\\krawc\\OneDrive\\Documents\\code\\pythons\\predictor\\.venv\\Lib\\site-packages\\soccerdata\\whoscored.py#327\" target=\"_blank\"><span style=\"color: #7f7f7f; text-decoration-color: #7f7f7f\">327</span></a>\n",
       "</pre>\n"
      ],
      "text/plain": [
       "\u001b[2;36m                   \u001b[0m\u001b[2;36m \u001b[0m\u001b[34mINFO    \u001b[0m Scraping game schedule for Monday, Aug \u001b[1;36m15\u001b[0m \u001b[1;36m2022\u001b[0m                        \u001b]8;id=412378;file://c:\\Users\\krawc\\OneDrive\\Documents\\code\\pythons\\predictor\\.venv\\Lib\\site-packages\\soccerdata\\whoscored.py\u001b\\\u001b[2mwhoscored.py\u001b[0m\u001b]8;;\u001b\\\u001b[2m:\u001b[0m\u001b]8;id=230559;file://c:\\Users\\krawc\\OneDrive\\Documents\\code\\pythons\\predictor\\.venv\\Lib\\site-packages\\soccerdata\\whoscored.py#327\u001b\\\u001b[2m327\u001b[0m\u001b]8;;\u001b\\\n"
      ]
     },
     "metadata": {},
     "output_type": "display_data"
    },
    {
     "data": {
      "text/html": [
       "<pre style=\"white-space:pre;overflow-x:auto;line-height:normal;font-family:Menlo,'DejaVu Sans Mono',consolas,'Courier New',monospace\"><span style=\"color: #7fbfbf; text-decoration-color: #7fbfbf\">                    </span><span style=\"color: #000080; text-decoration-color: #000080\">INFO    </span> Scraping game schedule for Saturday, Aug <span style=\"color: #008080; text-decoration-color: #008080; font-weight: bold\">20</span> <span style=\"color: #008080; text-decoration-color: #008080; font-weight: bold\">2022</span>                      <a href=\"file://c:\\Users\\krawc\\OneDrive\\Documents\\code\\pythons\\predictor\\.venv\\Lib\\site-packages\\soccerdata\\whoscored.py\" target=\"_blank\"><span style=\"color: #7f7f7f; text-decoration-color: #7f7f7f\">whoscored.py</span></a><span style=\"color: #7f7f7f; text-decoration-color: #7f7f7f\">:</span><a href=\"file://c:\\Users\\krawc\\OneDrive\\Documents\\code\\pythons\\predictor\\.venv\\Lib\\site-packages\\soccerdata\\whoscored.py#327\" target=\"_blank\"><span style=\"color: #7f7f7f; text-decoration-color: #7f7f7f\">327</span></a>\n",
       "</pre>\n"
      ],
      "text/plain": [
       "\u001b[2;36m                   \u001b[0m\u001b[2;36m \u001b[0m\u001b[34mINFO    \u001b[0m Scraping game schedule for Saturday, Aug \u001b[1;36m20\u001b[0m \u001b[1;36m2022\u001b[0m                      \u001b]8;id=520737;file://c:\\Users\\krawc\\OneDrive\\Documents\\code\\pythons\\predictor\\.venv\\Lib\\site-packages\\soccerdata\\whoscored.py\u001b\\\u001b[2mwhoscored.py\u001b[0m\u001b]8;;\u001b\\\u001b[2m:\u001b[0m\u001b]8;id=508796;file://c:\\Users\\krawc\\OneDrive\\Documents\\code\\pythons\\predictor\\.venv\\Lib\\site-packages\\soccerdata\\whoscored.py#327\u001b\\\u001b[2m327\u001b[0m\u001b]8;;\u001b\\\n"
      ]
     },
     "metadata": {},
     "output_type": "display_data"
    },
    {
     "data": {
      "text/html": [
       "<pre style=\"white-space:pre;overflow-x:auto;line-height:normal;font-family:Menlo,'DejaVu Sans Mono',consolas,'Courier New',monospace\"><span style=\"color: #7fbfbf; text-decoration-color: #7fbfbf\">[10/12/23 10:09:39] </span><span style=\"color: #000080; text-decoration-color: #000080\">INFO    </span> Scraping game schedule for Sunday, Aug <span style=\"color: #008080; text-decoration-color: #008080; font-weight: bold\">21</span> <span style=\"color: #008080; text-decoration-color: #008080; font-weight: bold\">2022</span>                        <a href=\"file://c:\\Users\\krawc\\OneDrive\\Documents\\code\\pythons\\predictor\\.venv\\Lib\\site-packages\\soccerdata\\whoscored.py\" target=\"_blank\"><span style=\"color: #7f7f7f; text-decoration-color: #7f7f7f\">whoscored.py</span></a><span style=\"color: #7f7f7f; text-decoration-color: #7f7f7f\">:</span><a href=\"file://c:\\Users\\krawc\\OneDrive\\Documents\\code\\pythons\\predictor\\.venv\\Lib\\site-packages\\soccerdata\\whoscored.py#327\" target=\"_blank\"><span style=\"color: #7f7f7f; text-decoration-color: #7f7f7f\">327</span></a>\n",
       "</pre>\n"
      ],
      "text/plain": [
       "\u001b[2;36m[10/12/23 10:09:39]\u001b[0m\u001b[2;36m \u001b[0m\u001b[34mINFO    \u001b[0m Scraping game schedule for Sunday, Aug \u001b[1;36m21\u001b[0m \u001b[1;36m2022\u001b[0m                        \u001b]8;id=840697;file://c:\\Users\\krawc\\OneDrive\\Documents\\code\\pythons\\predictor\\.venv\\Lib\\site-packages\\soccerdata\\whoscored.py\u001b\\\u001b[2mwhoscored.py\u001b[0m\u001b]8;;\u001b\\\u001b[2m:\u001b[0m\u001b]8;id=18372;file://c:\\Users\\krawc\\OneDrive\\Documents\\code\\pythons\\predictor\\.venv\\Lib\\site-packages\\soccerdata\\whoscored.py#327\u001b\\\u001b[2m327\u001b[0m\u001b]8;;\u001b\\\n"
      ]
     },
     "metadata": {},
     "output_type": "display_data"
    },
    {
     "data": {
      "text/html": [
       "<pre style=\"white-space:pre;overflow-x:auto;line-height:normal;font-family:Menlo,'DejaVu Sans Mono',consolas,'Courier New',monospace\"><span style=\"color: #7fbfbf; text-decoration-color: #7fbfbf\">[10/12/23 10:09:42] </span><span style=\"color: #000080; text-decoration-color: #000080\">INFO    </span> Scraping game schedule for Monday, Aug <span style=\"color: #008080; text-decoration-color: #008080; font-weight: bold\">22</span> <span style=\"color: #008080; text-decoration-color: #008080; font-weight: bold\">2022</span>                        <a href=\"file://c:\\Users\\krawc\\OneDrive\\Documents\\code\\pythons\\predictor\\.venv\\Lib\\site-packages\\soccerdata\\whoscored.py\" target=\"_blank\"><span style=\"color: #7f7f7f; text-decoration-color: #7f7f7f\">whoscored.py</span></a><span style=\"color: #7f7f7f; text-decoration-color: #7f7f7f\">:</span><a href=\"file://c:\\Users\\krawc\\OneDrive\\Documents\\code\\pythons\\predictor\\.venv\\Lib\\site-packages\\soccerdata\\whoscored.py#327\" target=\"_blank\"><span style=\"color: #7f7f7f; text-decoration-color: #7f7f7f\">327</span></a>\n",
       "</pre>\n"
      ],
      "text/plain": [
       "\u001b[2;36m[10/12/23 10:09:42]\u001b[0m\u001b[2;36m \u001b[0m\u001b[34mINFO    \u001b[0m Scraping game schedule for Monday, Aug \u001b[1;36m22\u001b[0m \u001b[1;36m2022\u001b[0m                        \u001b]8;id=324599;file://c:\\Users\\krawc\\OneDrive\\Documents\\code\\pythons\\predictor\\.venv\\Lib\\site-packages\\soccerdata\\whoscored.py\u001b\\\u001b[2mwhoscored.py\u001b[0m\u001b]8;;\u001b\\\u001b[2m:\u001b[0m\u001b]8;id=571040;file://c:\\Users\\krawc\\OneDrive\\Documents\\code\\pythons\\predictor\\.venv\\Lib\\site-packages\\soccerdata\\whoscored.py#327\u001b\\\u001b[2m327\u001b[0m\u001b]8;;\u001b\\\n"
      ]
     },
     "metadata": {},
     "output_type": "display_data"
    },
    {
     "data": {
      "text/html": [
       "<pre style=\"white-space:pre;overflow-x:auto;line-height:normal;font-family:Menlo,'DejaVu Sans Mono',consolas,'Courier New',monospace\"><span style=\"color: #7fbfbf; text-decoration-color: #7fbfbf\">[10/12/23 10:09:48] </span><span style=\"color: #000080; text-decoration-color: #000080\">INFO    </span> Scraping game schedule for Saturday, Aug <span style=\"color: #008080; text-decoration-color: #008080; font-weight: bold\">27</span> <span style=\"color: #008080; text-decoration-color: #008080; font-weight: bold\">2022</span>                      <a href=\"file://c:\\Users\\krawc\\OneDrive\\Documents\\code\\pythons\\predictor\\.venv\\Lib\\site-packages\\soccerdata\\whoscored.py\" target=\"_blank\"><span style=\"color: #7f7f7f; text-decoration-color: #7f7f7f\">whoscored.py</span></a><span style=\"color: #7f7f7f; text-decoration-color: #7f7f7f\">:</span><a href=\"file://c:\\Users\\krawc\\OneDrive\\Documents\\code\\pythons\\predictor\\.venv\\Lib\\site-packages\\soccerdata\\whoscored.py#327\" target=\"_blank\"><span style=\"color: #7f7f7f; text-decoration-color: #7f7f7f\">327</span></a>\n",
       "</pre>\n"
      ],
      "text/plain": [
       "\u001b[2;36m[10/12/23 10:09:48]\u001b[0m\u001b[2;36m \u001b[0m\u001b[34mINFO    \u001b[0m Scraping game schedule for Saturday, Aug \u001b[1;36m27\u001b[0m \u001b[1;36m2022\u001b[0m                      \u001b]8;id=668433;file://c:\\Users\\krawc\\OneDrive\\Documents\\code\\pythons\\predictor\\.venv\\Lib\\site-packages\\soccerdata\\whoscored.py\u001b\\\u001b[2mwhoscored.py\u001b[0m\u001b]8;;\u001b\\\u001b[2m:\u001b[0m\u001b]8;id=193129;file://c:\\Users\\krawc\\OneDrive\\Documents\\code\\pythons\\predictor\\.venv\\Lib\\site-packages\\soccerdata\\whoscored.py#327\u001b\\\u001b[2m327\u001b[0m\u001b]8;;\u001b\\\n"
      ]
     },
     "metadata": {},
     "output_type": "display_data"
    },
    {
     "data": {
      "text/html": [
       "<pre style=\"white-space:pre;overflow-x:auto;line-height:normal;font-family:Menlo,'DejaVu Sans Mono',consolas,'Courier New',monospace\"><span style=\"color: #7fbfbf; text-decoration-color: #7fbfbf\">[10/12/23 10:09:51] </span><span style=\"color: #000080; text-decoration-color: #000080\">INFO    </span> Scraping game schedule for Sunday, Aug <span style=\"color: #008080; text-decoration-color: #008080; font-weight: bold\">28</span> <span style=\"color: #008080; text-decoration-color: #008080; font-weight: bold\">2022</span>                        <a href=\"file://c:\\Users\\krawc\\OneDrive\\Documents\\code\\pythons\\predictor\\.venv\\Lib\\site-packages\\soccerdata\\whoscored.py\" target=\"_blank\"><span style=\"color: #7f7f7f; text-decoration-color: #7f7f7f\">whoscored.py</span></a><span style=\"color: #7f7f7f; text-decoration-color: #7f7f7f\">:</span><a href=\"file://c:\\Users\\krawc\\OneDrive\\Documents\\code\\pythons\\predictor\\.venv\\Lib\\site-packages\\soccerdata\\whoscored.py#327\" target=\"_blank\"><span style=\"color: #7f7f7f; text-decoration-color: #7f7f7f\">327</span></a>\n",
       "</pre>\n"
      ],
      "text/plain": [
       "\u001b[2;36m[10/12/23 10:09:51]\u001b[0m\u001b[2;36m \u001b[0m\u001b[34mINFO    \u001b[0m Scraping game schedule for Sunday, Aug \u001b[1;36m28\u001b[0m \u001b[1;36m2022\u001b[0m                        \u001b]8;id=873196;file://c:\\Users\\krawc\\OneDrive\\Documents\\code\\pythons\\predictor\\.venv\\Lib\\site-packages\\soccerdata\\whoscored.py\u001b\\\u001b[2mwhoscored.py\u001b[0m\u001b]8;;\u001b\\\u001b[2m:\u001b[0m\u001b]8;id=634963;file://c:\\Users\\krawc\\OneDrive\\Documents\\code\\pythons\\predictor\\.venv\\Lib\\site-packages\\soccerdata\\whoscored.py#327\u001b\\\u001b[2m327\u001b[0m\u001b]8;;\u001b\\\n"
      ]
     },
     "metadata": {},
     "output_type": "display_data"
    },
    {
     "data": {
      "text/html": [
       "<pre style=\"white-space:pre;overflow-x:auto;line-height:normal;font-family:Menlo,'DejaVu Sans Mono',consolas,'Courier New',monospace\"><span style=\"color: #7fbfbf; text-decoration-color: #7fbfbf\">                    </span><span style=\"color: #000080; text-decoration-color: #000080\">INFO    </span> Scraping game schedule for Tuesday, Aug <span style=\"color: #008080; text-decoration-color: #008080; font-weight: bold\">30</span> <span style=\"color: #008080; text-decoration-color: #008080; font-weight: bold\">2022</span>                       <a href=\"file://c:\\Users\\krawc\\OneDrive\\Documents\\code\\pythons\\predictor\\.venv\\Lib\\site-packages\\soccerdata\\whoscored.py\" target=\"_blank\"><span style=\"color: #7f7f7f; text-decoration-color: #7f7f7f\">whoscored.py</span></a><span style=\"color: #7f7f7f; text-decoration-color: #7f7f7f\">:</span><a href=\"file://c:\\Users\\krawc\\OneDrive\\Documents\\code\\pythons\\predictor\\.venv\\Lib\\site-packages\\soccerdata\\whoscored.py#327\" target=\"_blank\"><span style=\"color: #7f7f7f; text-decoration-color: #7f7f7f\">327</span></a>\n",
       "</pre>\n"
      ],
      "text/plain": [
       "\u001b[2;36m                   \u001b[0m\u001b[2;36m \u001b[0m\u001b[34mINFO    \u001b[0m Scraping game schedule for Tuesday, Aug \u001b[1;36m30\u001b[0m \u001b[1;36m2022\u001b[0m                       \u001b]8;id=503321;file://c:\\Users\\krawc\\OneDrive\\Documents\\code\\pythons\\predictor\\.venv\\Lib\\site-packages\\soccerdata\\whoscored.py\u001b\\\u001b[2mwhoscored.py\u001b[0m\u001b]8;;\u001b\\\u001b[2m:\u001b[0m\u001b]8;id=901411;file://c:\\Users\\krawc\\OneDrive\\Documents\\code\\pythons\\predictor\\.venv\\Lib\\site-packages\\soccerdata\\whoscored.py#327\u001b\\\u001b[2m327\u001b[0m\u001b]8;;\u001b\\\n"
      ]
     },
     "metadata": {},
     "output_type": "display_data"
    },
    {
     "data": {
      "text/html": [
       "<pre style=\"white-space:pre;overflow-x:auto;line-height:normal;font-family:Menlo,'DejaVu Sans Mono',consolas,'Courier New',monospace\"><span style=\"color: #7fbfbf; text-decoration-color: #7fbfbf\">[10/12/23 10:09:52] </span><span style=\"color: #000080; text-decoration-color: #000080\">INFO    </span> Scraping game schedule for Wednesday, Aug <span style=\"color: #008080; text-decoration-color: #008080; font-weight: bold\">31</span> <span style=\"color: #008080; text-decoration-color: #008080; font-weight: bold\">2022</span>                     <a href=\"file://c:\\Users\\krawc\\OneDrive\\Documents\\code\\pythons\\predictor\\.venv\\Lib\\site-packages\\soccerdata\\whoscored.py\" target=\"_blank\"><span style=\"color: #7f7f7f; text-decoration-color: #7f7f7f\">whoscored.py</span></a><span style=\"color: #7f7f7f; text-decoration-color: #7f7f7f\">:</span><a href=\"file://c:\\Users\\krawc\\OneDrive\\Documents\\code\\pythons\\predictor\\.venv\\Lib\\site-packages\\soccerdata\\whoscored.py#327\" target=\"_blank\"><span style=\"color: #7f7f7f; text-decoration-color: #7f7f7f\">327</span></a>\n",
       "</pre>\n"
      ],
      "text/plain": [
       "\u001b[2;36m[10/12/23 10:09:52]\u001b[0m\u001b[2;36m \u001b[0m\u001b[34mINFO    \u001b[0m Scraping game schedule for Wednesday, Aug \u001b[1;36m31\u001b[0m \u001b[1;36m2022\u001b[0m                     \u001b]8;id=667661;file://c:\\Users\\krawc\\OneDrive\\Documents\\code\\pythons\\predictor\\.venv\\Lib\\site-packages\\soccerdata\\whoscored.py\u001b\\\u001b[2mwhoscored.py\u001b[0m\u001b]8;;\u001b\\\u001b[2m:\u001b[0m\u001b]8;id=833964;file://c:\\Users\\krawc\\OneDrive\\Documents\\code\\pythons\\predictor\\.venv\\Lib\\site-packages\\soccerdata\\whoscored.py#327\u001b\\\u001b[2m327\u001b[0m\u001b]8;;\u001b\\\n"
      ]
     },
     "metadata": {},
     "output_type": "display_data"
    },
    {
     "data": {
      "text/html": [
       "<div>\n",
       "<style scoped>\n",
       "    .dataframe tbody tr th:only-of-type {\n",
       "        vertical-align: middle;\n",
       "    }\n",
       "\n",
       "    .dataframe tbody tr th {\n",
       "        vertical-align: top;\n",
       "    }\n",
       "\n",
       "    .dataframe thead th {\n",
       "        text-align: right;\n",
       "    }\n",
       "</style>\n",
       "<table border=\"1\" class=\"dataframe\">\n",
       "  <thead>\n",
       "    <tr style=\"text-align: right;\">\n",
       "      <th></th>\n",
       "      <th></th>\n",
       "      <th></th>\n",
       "      <th>date</th>\n",
       "      <th>home_team</th>\n",
       "      <th>away_team</th>\n",
       "      <th>game_id</th>\n",
       "      <th>url</th>\n",
       "      <th>stage</th>\n",
       "    </tr>\n",
       "    <tr>\n",
       "      <th>league</th>\n",
       "      <th>season</th>\n",
       "      <th>game</th>\n",
       "      <th></th>\n",
       "      <th></th>\n",
       "      <th></th>\n",
       "      <th></th>\n",
       "      <th></th>\n",
       "      <th></th>\n",
       "    </tr>\n",
       "  </thead>\n",
       "  <tbody>\n",
       "    <tr>\n",
       "      <th rowspan=\"5\" valign=\"top\">ENG-Premier League</th>\n",
       "      <th rowspan=\"5\" valign=\"top\">2223</th>\n",
       "      <th>2022-08-05 Crystal Palace-Arsenal</th>\n",
       "      <td>2022-08-05 20:00:00</td>\n",
       "      <td>Crystal Palace</td>\n",
       "      <td>Arsenal</td>\n",
       "      <td>1640674</td>\n",
       "      <td>https://www.whoscored.com/Matches/1640674/Live...</td>\n",
       "      <td>None</td>\n",
       "    </tr>\n",
       "    <tr>\n",
       "      <th>2022-08-06 Bournemouth-Aston Villa</th>\n",
       "      <td>2022-08-06 15:00:00</td>\n",
       "      <td>Bournemouth</td>\n",
       "      <td>Aston Villa</td>\n",
       "      <td>1640676</td>\n",
       "      <td>https://www.whoscored.com/Matches/1640676/Live...</td>\n",
       "      <td>None</td>\n",
       "    </tr>\n",
       "    <tr>\n",
       "      <th>2022-08-06 Everton-Chelsea</th>\n",
       "      <td>2022-08-06 17:30:00</td>\n",
       "      <td>Everton</td>\n",
       "      <td>Chelsea</td>\n",
       "      <td>1640681</td>\n",
       "      <td>https://www.whoscored.com/Matches/1640681/Live...</td>\n",
       "      <td>None</td>\n",
       "    </tr>\n",
       "    <tr>\n",
       "      <th>2022-08-06 Fulham-Liverpool</th>\n",
       "      <td>2022-08-06 12:30:00</td>\n",
       "      <td>Fulham</td>\n",
       "      <td>Liverpool</td>\n",
       "      <td>1640675</td>\n",
       "      <td>https://www.whoscored.com/Matches/1640675/Live...</td>\n",
       "      <td>None</td>\n",
       "    </tr>\n",
       "    <tr>\n",
       "      <th>2022-08-06 Leeds-Wolves</th>\n",
       "      <td>2022-08-06 15:00:00</td>\n",
       "      <td>Leeds</td>\n",
       "      <td>Wolves</td>\n",
       "      <td>1640677</td>\n",
       "      <td>https://www.whoscored.com/Matches/1640677/Live...</td>\n",
       "      <td>None</td>\n",
       "    </tr>\n",
       "  </tbody>\n",
       "</table>\n",
       "</div>"
      ],
      "text/plain": [
       "                                                                            date  \\\n",
       "league             season game                                                     \n",
       "ENG-Premier League 2223   2022-08-05 Crystal Palace-Arsenal  2022-08-05 20:00:00   \n",
       "                          2022-08-06 Bournemouth-Aston Villa 2022-08-06 15:00:00   \n",
       "                          2022-08-06 Everton-Chelsea         2022-08-06 17:30:00   \n",
       "                          2022-08-06 Fulham-Liverpool        2022-08-06 12:30:00   \n",
       "                          2022-08-06 Leeds-Wolves            2022-08-06 15:00:00   \n",
       "\n",
       "                                                                   home_team  \\\n",
       "league             season game                                                 \n",
       "ENG-Premier League 2223   2022-08-05 Crystal Palace-Arsenal   Crystal Palace   \n",
       "                          2022-08-06 Bournemouth-Aston Villa     Bournemouth   \n",
       "                          2022-08-06 Everton-Chelsea                 Everton   \n",
       "                          2022-08-06 Fulham-Liverpool                 Fulham   \n",
       "                          2022-08-06 Leeds-Wolves                      Leeds   \n",
       "\n",
       "                                                                away_team  \\\n",
       "league             season game                                              \n",
       "ENG-Premier League 2223   2022-08-05 Crystal Palace-Arsenal       Arsenal   \n",
       "                          2022-08-06 Bournemouth-Aston Villa  Aston Villa   \n",
       "                          2022-08-06 Everton-Chelsea              Chelsea   \n",
       "                          2022-08-06 Fulham-Liverpool           Liverpool   \n",
       "                          2022-08-06 Leeds-Wolves                  Wolves   \n",
       "\n",
       "                                                              game_id  \\\n",
       "league             season game                                          \n",
       "ENG-Premier League 2223   2022-08-05 Crystal Palace-Arsenal   1640674   \n",
       "                          2022-08-06 Bournemouth-Aston Villa  1640676   \n",
       "                          2022-08-06 Everton-Chelsea          1640681   \n",
       "                          2022-08-06 Fulham-Liverpool         1640675   \n",
       "                          2022-08-06 Leeds-Wolves             1640677   \n",
       "\n",
       "                                                                                                            url  \\\n",
       "league             season game                                                                                    \n",
       "ENG-Premier League 2223   2022-08-05 Crystal Palace-Arsenal   https://www.whoscored.com/Matches/1640674/Live...   \n",
       "                          2022-08-06 Bournemouth-Aston Villa  https://www.whoscored.com/Matches/1640676/Live...   \n",
       "                          2022-08-06 Everton-Chelsea          https://www.whoscored.com/Matches/1640681/Live...   \n",
       "                          2022-08-06 Fulham-Liverpool         https://www.whoscored.com/Matches/1640675/Live...   \n",
       "                          2022-08-06 Leeds-Wolves             https://www.whoscored.com/Matches/1640677/Live...   \n",
       "\n",
       "                                                             stage  \n",
       "league             season game                                      \n",
       "ENG-Premier League 2223   2022-08-05 Crystal Palace-Arsenal   None  \n",
       "                          2022-08-06 Bournemouth-Aston Villa  None  \n",
       "                          2022-08-06 Everton-Chelsea          None  \n",
       "                          2022-08-06 Fulham-Liverpool         None  \n",
       "                          2022-08-06 Leeds-Wolves             None  "
      ]
     },
     "execution_count": 7,
     "metadata": {},
     "output_type": "execute_result"
    }
   ],
   "source": [
    "epl_schedule = ws.read_schedule()\n",
    "epl_schedule.head()"
   ]
  },
  {
   "cell_type": "code",
   "execution_count": 12,
   "metadata": {},
   "outputs": [
    {
     "data": {
      "text/plain": [
       "{1640674,\n",
       " 1640675,\n",
       " 1640676,\n",
       " 1640677,\n",
       " 1640678,\n",
       " 1640679,\n",
       " 1640680,\n",
       " 1640681,\n",
       " 1640682,\n",
       " 1640683,\n",
       " 1640684,\n",
       " 1640685,\n",
       " 1640686,\n",
       " 1640687,\n",
       " 1640688,\n",
       " 1640689,\n",
       " 1640690,\n",
       " 1640691,\n",
       " 1640692,\n",
       " 1640693,\n",
       " 1640694,\n",
       " 1640695,\n",
       " 1640696,\n",
       " 1640697,\n",
       " 1640698,\n",
       " 1640699,\n",
       " 1640700,\n",
       " 1640701,\n",
       " 1640702,\n",
       " 1640703,\n",
       " 1640704,\n",
       " 1640705,\n",
       " 1640706,\n",
       " 1640707,\n",
       " 1640708,\n",
       " 1640709,\n",
       " 1640710,\n",
       " 1640711,\n",
       " 1640712,\n",
       " 1640713,\n",
       " 1640714,\n",
       " 1640715,\n",
       " 1640716,\n",
       " 1640717,\n",
       " 1640718,\n",
       " 1640719,\n",
       " 1640720,\n",
       " 1640721,\n",
       " 1640722,\n",
       " 1640723,\n",
       " 1640724,\n",
       " 1640725,\n",
       " 1640726,\n",
       " 1640727,\n",
       " 1640728,\n",
       " 1640729,\n",
       " 1640730,\n",
       " 1640731,\n",
       " 1640732,\n",
       " 1640733,\n",
       " 1640734,\n",
       " 1640735,\n",
       " 1640736,\n",
       " 1640737,\n",
       " 1640738,\n",
       " 1640739,\n",
       " 1640740,\n",
       " 1640741,\n",
       " 1640742,\n",
       " 1640743,\n",
       " 1640744,\n",
       " 1640745,\n",
       " 1640746,\n",
       " 1640747,\n",
       " 1640748,\n",
       " 1640749,\n",
       " 1640750,\n",
       " 1640751,\n",
       " 1640752,\n",
       " 1640753,\n",
       " 1640754,\n",
       " 1640755,\n",
       " 1640756,\n",
       " 1640757,\n",
       " 1640758,\n",
       " 1640759,\n",
       " 1640760,\n",
       " 1640761,\n",
       " 1640762,\n",
       " 1640763,\n",
       " 1640764,\n",
       " 1640765,\n",
       " 1640766,\n",
       " 1640767,\n",
       " 1640768,\n",
       " 1640769,\n",
       " 1640770,\n",
       " 1640771,\n",
       " 1640772,\n",
       " 1640773,\n",
       " 1640774,\n",
       " 1640775,\n",
       " 1640776,\n",
       " 1640777,\n",
       " 1640778,\n",
       " 1640779,\n",
       " 1640780,\n",
       " 1640781,\n",
       " 1640782,\n",
       " 1640783,\n",
       " 1640784,\n",
       " 1640785,\n",
       " 1640786,\n",
       " 1640787,\n",
       " 1640788,\n",
       " 1640789,\n",
       " 1640790,\n",
       " 1640791,\n",
       " 1640792,\n",
       " 1640793,\n",
       " 1640794,\n",
       " 1640795,\n",
       " 1640796,\n",
       " 1640797,\n",
       " 1640798,\n",
       " 1640799,\n",
       " 1640800,\n",
       " 1640801,\n",
       " 1640802,\n",
       " 1640803,\n",
       " 1640804,\n",
       " 1640805,\n",
       " 1640806,\n",
       " 1640807,\n",
       " 1640808,\n",
       " 1640809,\n",
       " 1640810,\n",
       " 1640811,\n",
       " 1640812,\n",
       " 1640813,\n",
       " 1640814,\n",
       " 1640815,\n",
       " 1640816,\n",
       " 1640817,\n",
       " 1640818,\n",
       " 1640819,\n",
       " 1640820,\n",
       " 1640821,\n",
       " 1640822,\n",
       " 1640823,\n",
       " 1640824,\n",
       " 1640825,\n",
       " 1640826,\n",
       " 1640827,\n",
       " 1640828,\n",
       " 1640829,\n",
       " 1640830,\n",
       " 1640831,\n",
       " 1640832,\n",
       " 1640833,\n",
       " 1640834,\n",
       " 1640835,\n",
       " 1640836,\n",
       " 1640837,\n",
       " 1640838,\n",
       " 1640839,\n",
       " 1640840,\n",
       " 1640841,\n",
       " 1640842,\n",
       " 1640843,\n",
       " 1640844,\n",
       " 1640845,\n",
       " 1640846,\n",
       " 1640847,\n",
       " 1640848,\n",
       " 1640849,\n",
       " 1640850,\n",
       " 1640851,\n",
       " 1640852,\n",
       " 1640853,\n",
       " 1640854,\n",
       " 1640855,\n",
       " 1640856,\n",
       " 1640857,\n",
       " 1640858,\n",
       " 1640859,\n",
       " 1640860,\n",
       " 1640861,\n",
       " 1640862,\n",
       " 1640863,\n",
       " 1640864,\n",
       " 1640865,\n",
       " 1640866,\n",
       " 1640867,\n",
       " 1640868,\n",
       " 1640869,\n",
       " 1640870,\n",
       " 1640871,\n",
       " 1640872,\n",
       " 1640873,\n",
       " 1640874,\n",
       " 1640875,\n",
       " 1640876,\n",
       " 1640877,\n",
       " 1640878,\n",
       " 1640879,\n",
       " 1640880,\n",
       " 1640881,\n",
       " 1640882,\n",
       " 1640883,\n",
       " 1640884,\n",
       " 1640885,\n",
       " 1640886,\n",
       " 1640887,\n",
       " 1640888,\n",
       " 1640889,\n",
       " 1640890,\n",
       " 1640891,\n",
       " 1640892,\n",
       " 1640893,\n",
       " 1640894,\n",
       " 1640895,\n",
       " 1640896,\n",
       " 1640897,\n",
       " 1640898,\n",
       " 1640899,\n",
       " 1640900,\n",
       " 1640901,\n",
       " 1640902,\n",
       " 1640903,\n",
       " 1640904,\n",
       " 1640905,\n",
       " 1640906,\n",
       " 1640907,\n",
       " 1640908,\n",
       " 1640909,\n",
       " 1640910,\n",
       " 1640911,\n",
       " 1640912,\n",
       " 1640913,\n",
       " 1640914,\n",
       " 1640915,\n",
       " 1640916,\n",
       " 1640917,\n",
       " 1640918,\n",
       " 1640919,\n",
       " 1640920,\n",
       " 1640921,\n",
       " 1640922,\n",
       " 1640923,\n",
       " 1640924,\n",
       " 1640925,\n",
       " 1640926,\n",
       " 1640927,\n",
       " 1640928,\n",
       " 1640929,\n",
       " 1640930,\n",
       " 1640931,\n",
       " 1640932,\n",
       " 1640933,\n",
       " 1640934,\n",
       " 1640935,\n",
       " 1640936,\n",
       " 1640937,\n",
       " 1640938,\n",
       " 1640939,\n",
       " 1640940,\n",
       " 1640941,\n",
       " 1640942,\n",
       " 1640943,\n",
       " 1640944,\n",
       " 1640945,\n",
       " 1640946,\n",
       " 1640947,\n",
       " 1640948,\n",
       " 1640949,\n",
       " 1640950,\n",
       " 1640951,\n",
       " 1640952,\n",
       " 1640953,\n",
       " 1640954,\n",
       " 1640955,\n",
       " 1640956,\n",
       " 1640957,\n",
       " 1640958,\n",
       " 1640959,\n",
       " 1640960,\n",
       " 1640961,\n",
       " 1640962,\n",
       " 1640963,\n",
       " 1640964,\n",
       " 1640965,\n",
       " 1640966,\n",
       " 1640967,\n",
       " 1640968,\n",
       " 1640969,\n",
       " 1640970,\n",
       " 1640971,\n",
       " 1640972,\n",
       " 1640973,\n",
       " 1640974,\n",
       " 1640975,\n",
       " 1640976,\n",
       " 1640977,\n",
       " 1640978,\n",
       " 1640979,\n",
       " 1640980,\n",
       " 1640981,\n",
       " 1640982,\n",
       " 1640983,\n",
       " 1640984,\n",
       " 1640985,\n",
       " 1640986,\n",
       " 1640987,\n",
       " 1640988,\n",
       " 1640989,\n",
       " 1640990,\n",
       " 1640991,\n",
       " 1640992,\n",
       " 1640993,\n",
       " 1640994,\n",
       " 1640995,\n",
       " 1640996,\n",
       " 1640997,\n",
       " 1640998,\n",
       " 1640999,\n",
       " 1641000,\n",
       " 1641001,\n",
       " 1641002,\n",
       " 1641003,\n",
       " 1641004,\n",
       " 1641005,\n",
       " 1641006,\n",
       " 1641007,\n",
       " 1641008,\n",
       " 1641009,\n",
       " 1641010,\n",
       " 1641011,\n",
       " 1641012,\n",
       " 1641013,\n",
       " 1641014,\n",
       " 1641015,\n",
       " 1641016,\n",
       " 1641017,\n",
       " 1641018,\n",
       " 1641019,\n",
       " 1641020,\n",
       " 1641021,\n",
       " 1641022,\n",
       " 1641023,\n",
       " 1641024,\n",
       " 1641025,\n",
       " 1641026,\n",
       " 1641027,\n",
       " 1641028,\n",
       " 1641029,\n",
       " 1641030,\n",
       " 1641031,\n",
       " 1641032,\n",
       " 1641033,\n",
       " 1641034,\n",
       " 1641035,\n",
       " 1641036,\n",
       " 1641037,\n",
       " 1641038,\n",
       " 1641039,\n",
       " 1641040,\n",
       " 1641041,\n",
       " 1641042,\n",
       " 1641043,\n",
       " 1641044,\n",
       " 1641045,\n",
       " 1641046,\n",
       " 1641047,\n",
       " 1641048,\n",
       " 1641049,\n",
       " 1641050,\n",
       " 1641051,\n",
       " 1641052,\n",
       " 1641053}"
      ]
     },
     "execution_count": 12,
     "metadata": {},
     "output_type": "execute_result"
    }
   ],
   "source": [
    "set(epl_schedule.game_id.values)"
   ]
  },
  {
   "cell_type": "code",
   "execution_count": null,
   "metadata": {},
   "outputs": [],
   "source": [
    "missing_players = ws.read_missing_players(match_id=1485184)\n",
    "missing_players.head()"
   ]
  },
  {
   "cell_type": "code",
   "execution_count": 17,
   "metadata": {},
   "outputs": [
    {
     "data": {
      "text/html": [
       "<pre style=\"white-space:pre;overflow-x:auto;line-height:normal;font-family:Menlo,'DejaVu Sans Mono',consolas,'Courier New',monospace\"><span style=\"color: #7fbfbf; text-decoration-color: #7fbfbf\">[10/12/23 10:37:03] </span><span style=\"color: #000080; text-decoration-color: #000080\">INFO    </span> Scraping game schedule from                                           <a href=\"file://c:\\Users\\krawc\\OneDrive\\Documents\\code\\pythons\\predictor\\.venv\\Lib\\site-packages\\soccerdata\\whoscored.py\" target=\"_blank\"><span style=\"color: #7f7f7f; text-decoration-color: #7f7f7f\">whoscored.py</span></a><span style=\"color: #7f7f7f; text-decoration-color: #7f7f7f\">:</span><a href=\"file://c:\\Users\\krawc\\OneDrive\\Documents\\code\\pythons\\predictor\\.venv\\Lib\\site-packages\\soccerdata\\whoscored.py#427\" target=\"_blank\"><span style=\"color: #7f7f7f; text-decoration-color: #7f7f7f\">427</span></a>\n",
       "<span style=\"color: #7fbfbf; text-decoration-color: #7fbfbf\">                    </span>         <span style=\"color: #0000ff; text-decoration-color: #0000ff; text-decoration: underline\">https://www.whoscored.com/Regions/252/Tournaments/2/Seasons/9075/Engl</span> <span style=\"color: #7f7f7f; text-decoration-color: #7f7f7f\">                </span>\n",
       "<span style=\"color: #7fbfbf; text-decoration-color: #7fbfbf\">                    </span>         <span style=\"color: #0000ff; text-decoration-color: #0000ff; text-decoration: underline\">and-Premier-League</span>                                                    <span style=\"color: #7f7f7f; text-decoration-color: #7f7f7f\">                </span>\n",
       "</pre>\n"
      ],
      "text/plain": [
       "\u001b[2;36m[10/12/23 10:37:03]\u001b[0m\u001b[2;36m \u001b[0m\u001b[34mINFO    \u001b[0m Scraping game schedule from                                           \u001b]8;id=105598;file://c:\\Users\\krawc\\OneDrive\\Documents\\code\\pythons\\predictor\\.venv\\Lib\\site-packages\\soccerdata\\whoscored.py\u001b\\\u001b[2mwhoscored.py\u001b[0m\u001b]8;;\u001b\\\u001b[2m:\u001b[0m\u001b]8;id=465895;file://c:\\Users\\krawc\\OneDrive\\Documents\\code\\pythons\\predictor\\.venv\\Lib\\site-packages\\soccerdata\\whoscored.py#427\u001b\\\u001b[2m427\u001b[0m\u001b]8;;\u001b\\\n",
       "\u001b[2;36m                    \u001b[0m         \u001b[4;94mhttps://www.whoscored.com/Regions/252/Tournaments/2/Seasons/9075/Engl\u001b[0m \u001b[2m                \u001b[0m\n",
       "\u001b[2;36m                    \u001b[0m         \u001b[4;94mand-Premier-League\u001b[0m                                                    \u001b[2m                \u001b[0m\n"
      ]
     },
     "metadata": {},
     "output_type": "display_data"
    },
    {
     "data": {
      "text/html": [
       "<pre style=\"white-space:pre;overflow-x:auto;line-height:normal;font-family:Menlo,'DejaVu Sans Mono',consolas,'Courier New',monospace\"><span style=\"color: #7fbfbf; text-decoration-color: #7fbfbf\">[10/12/23 10:37:05] </span><span style=\"color: #000080; text-decoration-color: #000080\">INFO    </span> Scraping game schedule for Monday, May <span style=\"color: #008080; text-decoration-color: #008080; font-weight: bold\">1</span> <span style=\"color: #008080; text-decoration-color: #008080; font-weight: bold\">2023</span>                         <a href=\"file://c:\\Users\\krawc\\OneDrive\\Documents\\code\\pythons\\predictor\\.venv\\Lib\\site-packages\\soccerdata\\whoscored.py\" target=\"_blank\"><span style=\"color: #7f7f7f; text-decoration-color: #7f7f7f\">whoscored.py</span></a><span style=\"color: #7f7f7f; text-decoration-color: #7f7f7f\">:</span><a href=\"file://c:\\Users\\krawc\\OneDrive\\Documents\\code\\pythons\\predictor\\.venv\\Lib\\site-packages\\soccerdata\\whoscored.py#327\" target=\"_blank\"><span style=\"color: #7f7f7f; text-decoration-color: #7f7f7f\">327</span></a>\n",
       "</pre>\n"
      ],
      "text/plain": [
       "\u001b[2;36m[10/12/23 10:37:05]\u001b[0m\u001b[2;36m \u001b[0m\u001b[34mINFO    \u001b[0m Scraping game schedule for Monday, May \u001b[1;36m1\u001b[0m \u001b[1;36m2023\u001b[0m                         \u001b]8;id=541893;file://c:\\Users\\krawc\\OneDrive\\Documents\\code\\pythons\\predictor\\.venv\\Lib\\site-packages\\soccerdata\\whoscored.py\u001b\\\u001b[2mwhoscored.py\u001b[0m\u001b]8;;\u001b\\\u001b[2m:\u001b[0m\u001b]8;id=886173;file://c:\\Users\\krawc\\OneDrive\\Documents\\code\\pythons\\predictor\\.venv\\Lib\\site-packages\\soccerdata\\whoscored.py#327\u001b\\\u001b[2m327\u001b[0m\u001b]8;;\u001b\\\n"
      ]
     },
     "metadata": {},
     "output_type": "display_data"
    },
    {
     "data": {
      "text/html": [
       "<pre style=\"white-space:pre;overflow-x:auto;line-height:normal;font-family:Menlo,'DejaVu Sans Mono',consolas,'Courier New',monospace\"><span style=\"color: #7fbfbf; text-decoration-color: #7fbfbf\">[10/12/23 10:37:06] </span><span style=\"color: #000080; text-decoration-color: #000080\">INFO    </span> Scraping game schedule for Tuesday, May <span style=\"color: #008080; text-decoration-color: #008080; font-weight: bold\">2</span> <span style=\"color: #008080; text-decoration-color: #008080; font-weight: bold\">2023</span>                        <a href=\"file://c:\\Users\\krawc\\OneDrive\\Documents\\code\\pythons\\predictor\\.venv\\Lib\\site-packages\\soccerdata\\whoscored.py\" target=\"_blank\"><span style=\"color: #7f7f7f; text-decoration-color: #7f7f7f\">whoscored.py</span></a><span style=\"color: #7f7f7f; text-decoration-color: #7f7f7f\">:</span><a href=\"file://c:\\Users\\krawc\\OneDrive\\Documents\\code\\pythons\\predictor\\.venv\\Lib\\site-packages\\soccerdata\\whoscored.py#327\" target=\"_blank\"><span style=\"color: #7f7f7f; text-decoration-color: #7f7f7f\">327</span></a>\n",
       "</pre>\n"
      ],
      "text/plain": [
       "\u001b[2;36m[10/12/23 10:37:06]\u001b[0m\u001b[2;36m \u001b[0m\u001b[34mINFO    \u001b[0m Scraping game schedule for Tuesday, May \u001b[1;36m2\u001b[0m \u001b[1;36m2023\u001b[0m                        \u001b]8;id=243717;file://c:\\Users\\krawc\\OneDrive\\Documents\\code\\pythons\\predictor\\.venv\\Lib\\site-packages\\soccerdata\\whoscored.py\u001b\\\u001b[2mwhoscored.py\u001b[0m\u001b]8;;\u001b\\\u001b[2m:\u001b[0m\u001b]8;id=744986;file://c:\\Users\\krawc\\OneDrive\\Documents\\code\\pythons\\predictor\\.venv\\Lib\\site-packages\\soccerdata\\whoscored.py#327\u001b\\\u001b[2m327\u001b[0m\u001b]8;;\u001b\\\n"
      ]
     },
     "metadata": {},
     "output_type": "display_data"
    },
    {
     "data": {
      "text/html": [
       "<pre style=\"white-space:pre;overflow-x:auto;line-height:normal;font-family:Menlo,'DejaVu Sans Mono',consolas,'Courier New',monospace\"><span style=\"color: #7fbfbf; text-decoration-color: #7fbfbf\">[10/12/23 10:37:08] </span><span style=\"color: #000080; text-decoration-color: #000080\">INFO    </span> Scraping game schedule for Wednesday, May <span style=\"color: #008080; text-decoration-color: #008080; font-weight: bold\">3</span> <span style=\"color: #008080; text-decoration-color: #008080; font-weight: bold\">2023</span>                      <a href=\"file://c:\\Users\\krawc\\OneDrive\\Documents\\code\\pythons\\predictor\\.venv\\Lib\\site-packages\\soccerdata\\whoscored.py\" target=\"_blank\"><span style=\"color: #7f7f7f; text-decoration-color: #7f7f7f\">whoscored.py</span></a><span style=\"color: #7f7f7f; text-decoration-color: #7f7f7f\">:</span><a href=\"file://c:\\Users\\krawc\\OneDrive\\Documents\\code\\pythons\\predictor\\.venv\\Lib\\site-packages\\soccerdata\\whoscored.py#327\" target=\"_blank\"><span style=\"color: #7f7f7f; text-decoration-color: #7f7f7f\">327</span></a>\n",
       "</pre>\n"
      ],
      "text/plain": [
       "\u001b[2;36m[10/12/23 10:37:08]\u001b[0m\u001b[2;36m \u001b[0m\u001b[34mINFO    \u001b[0m Scraping game schedule for Wednesday, May \u001b[1;36m3\u001b[0m \u001b[1;36m2023\u001b[0m                      \u001b]8;id=407818;file://c:\\Users\\krawc\\OneDrive\\Documents\\code\\pythons\\predictor\\.venv\\Lib\\site-packages\\soccerdata\\whoscored.py\u001b\\\u001b[2mwhoscored.py\u001b[0m\u001b]8;;\u001b\\\u001b[2m:\u001b[0m\u001b]8;id=148207;file://c:\\Users\\krawc\\OneDrive\\Documents\\code\\pythons\\predictor\\.venv\\Lib\\site-packages\\soccerdata\\whoscored.py#327\u001b\\\u001b[2m327\u001b[0m\u001b]8;;\u001b\\\n"
      ]
     },
     "metadata": {},
     "output_type": "display_data"
    },
    {
     "data": {
      "text/html": [
       "<pre style=\"white-space:pre;overflow-x:auto;line-height:normal;font-family:Menlo,'DejaVu Sans Mono',consolas,'Courier New',monospace\"><span style=\"color: #7fbfbf; text-decoration-color: #7fbfbf\">[10/12/23 10:37:09] </span><span style=\"color: #000080; text-decoration-color: #000080\">INFO    </span> Scraping game schedule for Thursday, May <span style=\"color: #008080; text-decoration-color: #008080; font-weight: bold\">4</span> <span style=\"color: #008080; text-decoration-color: #008080; font-weight: bold\">2023</span>                       <a href=\"file://c:\\Users\\krawc\\OneDrive\\Documents\\code\\pythons\\predictor\\.venv\\Lib\\site-packages\\soccerdata\\whoscored.py\" target=\"_blank\"><span style=\"color: #7f7f7f; text-decoration-color: #7f7f7f\">whoscored.py</span></a><span style=\"color: #7f7f7f; text-decoration-color: #7f7f7f\">:</span><a href=\"file://c:\\Users\\krawc\\OneDrive\\Documents\\code\\pythons\\predictor\\.venv\\Lib\\site-packages\\soccerdata\\whoscored.py#327\" target=\"_blank\"><span style=\"color: #7f7f7f; text-decoration-color: #7f7f7f\">327</span></a>\n",
       "</pre>\n"
      ],
      "text/plain": [
       "\u001b[2;36m[10/12/23 10:37:09]\u001b[0m\u001b[2;36m \u001b[0m\u001b[34mINFO    \u001b[0m Scraping game schedule for Thursday, May \u001b[1;36m4\u001b[0m \u001b[1;36m2023\u001b[0m                       \u001b]8;id=920123;file://c:\\Users\\krawc\\OneDrive\\Documents\\code\\pythons\\predictor\\.venv\\Lib\\site-packages\\soccerdata\\whoscored.py\u001b\\\u001b[2mwhoscored.py\u001b[0m\u001b]8;;\u001b\\\u001b[2m:\u001b[0m\u001b]8;id=832160;file://c:\\Users\\krawc\\OneDrive\\Documents\\code\\pythons\\predictor\\.venv\\Lib\\site-packages\\soccerdata\\whoscored.py#327\u001b\\\u001b[2m327\u001b[0m\u001b]8;;\u001b\\\n"
      ]
     },
     "metadata": {},
     "output_type": "display_data"
    },
    {
     "data": {
      "text/html": [
       "<pre style=\"white-space:pre;overflow-x:auto;line-height:normal;font-family:Menlo,'DejaVu Sans Mono',consolas,'Courier New',monospace\"><span style=\"color: #7fbfbf; text-decoration-color: #7fbfbf\">[10/12/23 10:37:11] </span><span style=\"color: #000080; text-decoration-color: #000080\">INFO    </span> Scraping game schedule for Saturday, May <span style=\"color: #008080; text-decoration-color: #008080; font-weight: bold\">6</span> <span style=\"color: #008080; text-decoration-color: #008080; font-weight: bold\">2023</span>                       <a href=\"file://c:\\Users\\krawc\\OneDrive\\Documents\\code\\pythons\\predictor\\.venv\\Lib\\site-packages\\soccerdata\\whoscored.py\" target=\"_blank\"><span style=\"color: #7f7f7f; text-decoration-color: #7f7f7f\">whoscored.py</span></a><span style=\"color: #7f7f7f; text-decoration-color: #7f7f7f\">:</span><a href=\"file://c:\\Users\\krawc\\OneDrive\\Documents\\code\\pythons\\predictor\\.venv\\Lib\\site-packages\\soccerdata\\whoscored.py#327\" target=\"_blank\"><span style=\"color: #7f7f7f; text-decoration-color: #7f7f7f\">327</span></a>\n",
       "</pre>\n"
      ],
      "text/plain": [
       "\u001b[2;36m[10/12/23 10:37:11]\u001b[0m\u001b[2;36m \u001b[0m\u001b[34mINFO    \u001b[0m Scraping game schedule for Saturday, May \u001b[1;36m6\u001b[0m \u001b[1;36m2023\u001b[0m                       \u001b]8;id=508088;file://c:\\Users\\krawc\\OneDrive\\Documents\\code\\pythons\\predictor\\.venv\\Lib\\site-packages\\soccerdata\\whoscored.py\u001b\\\u001b[2mwhoscored.py\u001b[0m\u001b]8;;\u001b\\\u001b[2m:\u001b[0m\u001b]8;id=774033;file://c:\\Users\\krawc\\OneDrive\\Documents\\code\\pythons\\predictor\\.venv\\Lib\\site-packages\\soccerdata\\whoscored.py#327\u001b\\\u001b[2m327\u001b[0m\u001b]8;;\u001b\\\n"
      ]
     },
     "metadata": {},
     "output_type": "display_data"
    },
    {
     "data": {
      "text/html": [
       "<pre style=\"white-space:pre;overflow-x:auto;line-height:normal;font-family:Menlo,'DejaVu Sans Mono',consolas,'Courier New',monospace\"><span style=\"color: #7fbfbf; text-decoration-color: #7fbfbf\">[10/12/23 10:37:13] </span><span style=\"color: #000080; text-decoration-color: #000080\">INFO    </span> Scraping game schedule for Sunday, May <span style=\"color: #008080; text-decoration-color: #008080; font-weight: bold\">7</span> <span style=\"color: #008080; text-decoration-color: #008080; font-weight: bold\">2023</span>                         <a href=\"file://c:\\Users\\krawc\\OneDrive\\Documents\\code\\pythons\\predictor\\.venv\\Lib\\site-packages\\soccerdata\\whoscored.py\" target=\"_blank\"><span style=\"color: #7f7f7f; text-decoration-color: #7f7f7f\">whoscored.py</span></a><span style=\"color: #7f7f7f; text-decoration-color: #7f7f7f\">:</span><a href=\"file://c:\\Users\\krawc\\OneDrive\\Documents\\code\\pythons\\predictor\\.venv\\Lib\\site-packages\\soccerdata\\whoscored.py#327\" target=\"_blank\"><span style=\"color: #7f7f7f; text-decoration-color: #7f7f7f\">327</span></a>\n",
       "</pre>\n"
      ],
      "text/plain": [
       "\u001b[2;36m[10/12/23 10:37:13]\u001b[0m\u001b[2;36m \u001b[0m\u001b[34mINFO    \u001b[0m Scraping game schedule for Sunday, May \u001b[1;36m7\u001b[0m \u001b[1;36m2023\u001b[0m                         \u001b]8;id=843401;file://c:\\Users\\krawc\\OneDrive\\Documents\\code\\pythons\\predictor\\.venv\\Lib\\site-packages\\soccerdata\\whoscored.py\u001b\\\u001b[2mwhoscored.py\u001b[0m\u001b]8;;\u001b\\\u001b[2m:\u001b[0m\u001b]8;id=568896;file://c:\\Users\\krawc\\OneDrive\\Documents\\code\\pythons\\predictor\\.venv\\Lib\\site-packages\\soccerdata\\whoscored.py#327\u001b\\\u001b[2m327\u001b[0m\u001b]8;;\u001b\\\n"
      ]
     },
     "metadata": {},
     "output_type": "display_data"
    },
    {
     "data": {
      "text/html": [
       "<pre style=\"white-space:pre;overflow-x:auto;line-height:normal;font-family:Menlo,'DejaVu Sans Mono',consolas,'Courier New',monospace\"><span style=\"color: #7fbfbf; text-decoration-color: #7fbfbf\">[10/12/23 10:37:14] </span><span style=\"color: #000080; text-decoration-color: #000080\">INFO    </span> Scraping game schedule for Monday, May <span style=\"color: #008080; text-decoration-color: #008080; font-weight: bold\">8</span> <span style=\"color: #008080; text-decoration-color: #008080; font-weight: bold\">2023</span>                         <a href=\"file://c:\\Users\\krawc\\OneDrive\\Documents\\code\\pythons\\predictor\\.venv\\Lib\\site-packages\\soccerdata\\whoscored.py\" target=\"_blank\"><span style=\"color: #7f7f7f; text-decoration-color: #7f7f7f\">whoscored.py</span></a><span style=\"color: #7f7f7f; text-decoration-color: #7f7f7f\">:</span><a href=\"file://c:\\Users\\krawc\\OneDrive\\Documents\\code\\pythons\\predictor\\.venv\\Lib\\site-packages\\soccerdata\\whoscored.py#327\" target=\"_blank\"><span style=\"color: #7f7f7f; text-decoration-color: #7f7f7f\">327</span></a>\n",
       "</pre>\n"
      ],
      "text/plain": [
       "\u001b[2;36m[10/12/23 10:37:14]\u001b[0m\u001b[2;36m \u001b[0m\u001b[34mINFO    \u001b[0m Scraping game schedule for Monday, May \u001b[1;36m8\u001b[0m \u001b[1;36m2023\u001b[0m                         \u001b]8;id=895118;file://c:\\Users\\krawc\\OneDrive\\Documents\\code\\pythons\\predictor\\.venv\\Lib\\site-packages\\soccerdata\\whoscored.py\u001b\\\u001b[2mwhoscored.py\u001b[0m\u001b]8;;\u001b\\\u001b[2m:\u001b[0m\u001b]8;id=67155;file://c:\\Users\\krawc\\OneDrive\\Documents\\code\\pythons\\predictor\\.venv\\Lib\\site-packages\\soccerdata\\whoscored.py#327\u001b\\\u001b[2m327\u001b[0m\u001b]8;;\u001b\\\n"
      ]
     },
     "metadata": {},
     "output_type": "display_data"
    },
    {
     "data": {
      "text/html": [
       "<pre style=\"white-space:pre;overflow-x:auto;line-height:normal;font-family:Menlo,'DejaVu Sans Mono',consolas,'Courier New',monospace\"><span style=\"color: #7fbfbf; text-decoration-color: #7fbfbf\">[10/12/23 10:37:16] </span><span style=\"color: #000080; text-decoration-color: #000080\">INFO    </span> Scraping game schedule for Saturday, May <span style=\"color: #008080; text-decoration-color: #008080; font-weight: bold\">13</span> <span style=\"color: #008080; text-decoration-color: #008080; font-weight: bold\">2023</span>                      <a href=\"file://c:\\Users\\krawc\\OneDrive\\Documents\\code\\pythons\\predictor\\.venv\\Lib\\site-packages\\soccerdata\\whoscored.py\" target=\"_blank\"><span style=\"color: #7f7f7f; text-decoration-color: #7f7f7f\">whoscored.py</span></a><span style=\"color: #7f7f7f; text-decoration-color: #7f7f7f\">:</span><a href=\"file://c:\\Users\\krawc\\OneDrive\\Documents\\code\\pythons\\predictor\\.venv\\Lib\\site-packages\\soccerdata\\whoscored.py#327\" target=\"_blank\"><span style=\"color: #7f7f7f; text-decoration-color: #7f7f7f\">327</span></a>\n",
       "</pre>\n"
      ],
      "text/plain": [
       "\u001b[2;36m[10/12/23 10:37:16]\u001b[0m\u001b[2;36m \u001b[0m\u001b[34mINFO    \u001b[0m Scraping game schedule for Saturday, May \u001b[1;36m13\u001b[0m \u001b[1;36m2023\u001b[0m                      \u001b]8;id=362901;file://c:\\Users\\krawc\\OneDrive\\Documents\\code\\pythons\\predictor\\.venv\\Lib\\site-packages\\soccerdata\\whoscored.py\u001b\\\u001b[2mwhoscored.py\u001b[0m\u001b]8;;\u001b\\\u001b[2m:\u001b[0m\u001b]8;id=383985;file://c:\\Users\\krawc\\OneDrive\\Documents\\code\\pythons\\predictor\\.venv\\Lib\\site-packages\\soccerdata\\whoscored.py#327\u001b\\\u001b[2m327\u001b[0m\u001b]8;;\u001b\\\n"
      ]
     },
     "metadata": {},
     "output_type": "display_data"
    },
    {
     "data": {
      "text/html": [
       "<pre style=\"white-space:pre;overflow-x:auto;line-height:normal;font-family:Menlo,'DejaVu Sans Mono',consolas,'Courier New',monospace\"><span style=\"color: #7fbfbf; text-decoration-color: #7fbfbf\">[10/12/23 10:37:17] </span><span style=\"color: #000080; text-decoration-color: #000080\">INFO    </span> Scraping game schedule for Sunday, May <span style=\"color: #008080; text-decoration-color: #008080; font-weight: bold\">14</span> <span style=\"color: #008080; text-decoration-color: #008080; font-weight: bold\">2023</span>                        <a href=\"file://c:\\Users\\krawc\\OneDrive\\Documents\\code\\pythons\\predictor\\.venv\\Lib\\site-packages\\soccerdata\\whoscored.py\" target=\"_blank\"><span style=\"color: #7f7f7f; text-decoration-color: #7f7f7f\">whoscored.py</span></a><span style=\"color: #7f7f7f; text-decoration-color: #7f7f7f\">:</span><a href=\"file://c:\\Users\\krawc\\OneDrive\\Documents\\code\\pythons\\predictor\\.venv\\Lib\\site-packages\\soccerdata\\whoscored.py#327\" target=\"_blank\"><span style=\"color: #7f7f7f; text-decoration-color: #7f7f7f\">327</span></a>\n",
       "</pre>\n"
      ],
      "text/plain": [
       "\u001b[2;36m[10/12/23 10:37:17]\u001b[0m\u001b[2;36m \u001b[0m\u001b[34mINFO    \u001b[0m Scraping game schedule for Sunday, May \u001b[1;36m14\u001b[0m \u001b[1;36m2023\u001b[0m                        \u001b]8;id=777802;file://c:\\Users\\krawc\\OneDrive\\Documents\\code\\pythons\\predictor\\.venv\\Lib\\site-packages\\soccerdata\\whoscored.py\u001b\\\u001b[2mwhoscored.py\u001b[0m\u001b]8;;\u001b\\\u001b[2m:\u001b[0m\u001b]8;id=449383;file://c:\\Users\\krawc\\OneDrive\\Documents\\code\\pythons\\predictor\\.venv\\Lib\\site-packages\\soccerdata\\whoscored.py#327\u001b\\\u001b[2m327\u001b[0m\u001b]8;;\u001b\\\n"
      ]
     },
     "metadata": {},
     "output_type": "display_data"
    },
    {
     "data": {
      "text/html": [
       "<pre style=\"white-space:pre;overflow-x:auto;line-height:normal;font-family:Menlo,'DejaVu Sans Mono',consolas,'Courier New',monospace\"><span style=\"color: #7fbfbf; text-decoration-color: #7fbfbf\">[10/12/23 10:37:19] </span><span style=\"color: #000080; text-decoration-color: #000080\">INFO    </span> Scraping game schedule for Monday, May <span style=\"color: #008080; text-decoration-color: #008080; font-weight: bold\">15</span> <span style=\"color: #008080; text-decoration-color: #008080; font-weight: bold\">2023</span>                        <a href=\"file://c:\\Users\\krawc\\OneDrive\\Documents\\code\\pythons\\predictor\\.venv\\Lib\\site-packages\\soccerdata\\whoscored.py\" target=\"_blank\"><span style=\"color: #7f7f7f; text-decoration-color: #7f7f7f\">whoscored.py</span></a><span style=\"color: #7f7f7f; text-decoration-color: #7f7f7f\">:</span><a href=\"file://c:\\Users\\krawc\\OneDrive\\Documents\\code\\pythons\\predictor\\.venv\\Lib\\site-packages\\soccerdata\\whoscored.py#327\" target=\"_blank\"><span style=\"color: #7f7f7f; text-decoration-color: #7f7f7f\">327</span></a>\n",
       "</pre>\n"
      ],
      "text/plain": [
       "\u001b[2;36m[10/12/23 10:37:19]\u001b[0m\u001b[2;36m \u001b[0m\u001b[34mINFO    \u001b[0m Scraping game schedule for Monday, May \u001b[1;36m15\u001b[0m \u001b[1;36m2023\u001b[0m                        \u001b]8;id=73717;file://c:\\Users\\krawc\\OneDrive\\Documents\\code\\pythons\\predictor\\.venv\\Lib\\site-packages\\soccerdata\\whoscored.py\u001b\\\u001b[2mwhoscored.py\u001b[0m\u001b]8;;\u001b\\\u001b[2m:\u001b[0m\u001b]8;id=722887;file://c:\\Users\\krawc\\OneDrive\\Documents\\code\\pythons\\predictor\\.venv\\Lib\\site-packages\\soccerdata\\whoscored.py#327\u001b\\\u001b[2m327\u001b[0m\u001b]8;;\u001b\\\n"
      ]
     },
     "metadata": {},
     "output_type": "display_data"
    },
    {
     "data": {
      "text/html": [
       "<pre style=\"white-space:pre;overflow-x:auto;line-height:normal;font-family:Menlo,'DejaVu Sans Mono',consolas,'Courier New',monospace\"><span style=\"color: #7fbfbf; text-decoration-color: #7fbfbf\">                    </span><span style=\"color: #000080; text-decoration-color: #000080\">INFO    </span> Scraping game schedule for Thursday, May <span style=\"color: #008080; text-decoration-color: #008080; font-weight: bold\">18</span> <span style=\"color: #008080; text-decoration-color: #008080; font-weight: bold\">2023</span>                      <a href=\"file://c:\\Users\\krawc\\OneDrive\\Documents\\code\\pythons\\predictor\\.venv\\Lib\\site-packages\\soccerdata\\whoscored.py\" target=\"_blank\"><span style=\"color: #7f7f7f; text-decoration-color: #7f7f7f\">whoscored.py</span></a><span style=\"color: #7f7f7f; text-decoration-color: #7f7f7f\">:</span><a href=\"file://c:\\Users\\krawc\\OneDrive\\Documents\\code\\pythons\\predictor\\.venv\\Lib\\site-packages\\soccerdata\\whoscored.py#327\" target=\"_blank\"><span style=\"color: #7f7f7f; text-decoration-color: #7f7f7f\">327</span></a>\n",
       "</pre>\n"
      ],
      "text/plain": [
       "\u001b[2;36m                   \u001b[0m\u001b[2;36m \u001b[0m\u001b[34mINFO    \u001b[0m Scraping game schedule for Thursday, May \u001b[1;36m18\u001b[0m \u001b[1;36m2023\u001b[0m                      \u001b]8;id=850688;file://c:\\Users\\krawc\\OneDrive\\Documents\\code\\pythons\\predictor\\.venv\\Lib\\site-packages\\soccerdata\\whoscored.py\u001b\\\u001b[2mwhoscored.py\u001b[0m\u001b]8;;\u001b\\\u001b[2m:\u001b[0m\u001b]8;id=640914;file://c:\\Users\\krawc\\OneDrive\\Documents\\code\\pythons\\predictor\\.venv\\Lib\\site-packages\\soccerdata\\whoscored.py#327\u001b\\\u001b[2m327\u001b[0m\u001b]8;;\u001b\\\n"
      ]
     },
     "metadata": {},
     "output_type": "display_data"
    },
    {
     "data": {
      "text/html": [
       "<pre style=\"white-space:pre;overflow-x:auto;line-height:normal;font-family:Menlo,'DejaVu Sans Mono',consolas,'Courier New',monospace\"><span style=\"color: #7fbfbf; text-decoration-color: #7fbfbf\">                    </span><span style=\"color: #000080; text-decoration-color: #000080\">INFO    </span> Scraping game schedule for Saturday, May <span style=\"color: #008080; text-decoration-color: #008080; font-weight: bold\">20</span> <span style=\"color: #008080; text-decoration-color: #008080; font-weight: bold\">2023</span>                      <a href=\"file://c:\\Users\\krawc\\OneDrive\\Documents\\code\\pythons\\predictor\\.venv\\Lib\\site-packages\\soccerdata\\whoscored.py\" target=\"_blank\"><span style=\"color: #7f7f7f; text-decoration-color: #7f7f7f\">whoscored.py</span></a><span style=\"color: #7f7f7f; text-decoration-color: #7f7f7f\">:</span><a href=\"file://c:\\Users\\krawc\\OneDrive\\Documents\\code\\pythons\\predictor\\.venv\\Lib\\site-packages\\soccerdata\\whoscored.py#327\" target=\"_blank\"><span style=\"color: #7f7f7f; text-decoration-color: #7f7f7f\">327</span></a>\n",
       "</pre>\n"
      ],
      "text/plain": [
       "\u001b[2;36m                   \u001b[0m\u001b[2;36m \u001b[0m\u001b[34mINFO    \u001b[0m Scraping game schedule for Saturday, May \u001b[1;36m20\u001b[0m \u001b[1;36m2023\u001b[0m                      \u001b]8;id=280312;file://c:\\Users\\krawc\\OneDrive\\Documents\\code\\pythons\\predictor\\.venv\\Lib\\site-packages\\soccerdata\\whoscored.py\u001b\\\u001b[2mwhoscored.py\u001b[0m\u001b]8;;\u001b\\\u001b[2m:\u001b[0m\u001b]8;id=232685;file://c:\\Users\\krawc\\OneDrive\\Documents\\code\\pythons\\predictor\\.venv\\Lib\\site-packages\\soccerdata\\whoscored.py#327\u001b\\\u001b[2m327\u001b[0m\u001b]8;;\u001b\\\n"
      ]
     },
     "metadata": {},
     "output_type": "display_data"
    },
    {
     "data": {
      "text/html": [
       "<pre style=\"white-space:pre;overflow-x:auto;line-height:normal;font-family:Menlo,'DejaVu Sans Mono',consolas,'Courier New',monospace\"><span style=\"color: #7fbfbf; text-decoration-color: #7fbfbf\">[10/12/23 10:37:21] </span><span style=\"color: #000080; text-decoration-color: #000080\">INFO    </span> Scraping game schedule for Sunday, May <span style=\"color: #008080; text-decoration-color: #008080; font-weight: bold\">21</span> <span style=\"color: #008080; text-decoration-color: #008080; font-weight: bold\">2023</span>                        <a href=\"file://c:\\Users\\krawc\\OneDrive\\Documents\\code\\pythons\\predictor\\.venv\\Lib\\site-packages\\soccerdata\\whoscored.py\" target=\"_blank\"><span style=\"color: #7f7f7f; text-decoration-color: #7f7f7f\">whoscored.py</span></a><span style=\"color: #7f7f7f; text-decoration-color: #7f7f7f\">:</span><a href=\"file://c:\\Users\\krawc\\OneDrive\\Documents\\code\\pythons\\predictor\\.venv\\Lib\\site-packages\\soccerdata\\whoscored.py#327\" target=\"_blank\"><span style=\"color: #7f7f7f; text-decoration-color: #7f7f7f\">327</span></a>\n",
       "</pre>\n"
      ],
      "text/plain": [
       "\u001b[2;36m[10/12/23 10:37:21]\u001b[0m\u001b[2;36m \u001b[0m\u001b[34mINFO    \u001b[0m Scraping game schedule for Sunday, May \u001b[1;36m21\u001b[0m \u001b[1;36m2023\u001b[0m                        \u001b]8;id=43079;file://c:\\Users\\krawc\\OneDrive\\Documents\\code\\pythons\\predictor\\.venv\\Lib\\site-packages\\soccerdata\\whoscored.py\u001b\\\u001b[2mwhoscored.py\u001b[0m\u001b]8;;\u001b\\\u001b[2m:\u001b[0m\u001b]8;id=835360;file://c:\\Users\\krawc\\OneDrive\\Documents\\code\\pythons\\predictor\\.venv\\Lib\\site-packages\\soccerdata\\whoscored.py#327\u001b\\\u001b[2m327\u001b[0m\u001b]8;;\u001b\\\n"
      ]
     },
     "metadata": {},
     "output_type": "display_data"
    },
    {
     "data": {
      "text/html": [
       "<pre style=\"white-space:pre;overflow-x:auto;line-height:normal;font-family:Menlo,'DejaVu Sans Mono',consolas,'Courier New',monospace\"><span style=\"color: #7fbfbf; text-decoration-color: #7fbfbf\">[10/12/23 10:37:22] </span><span style=\"color: #000080; text-decoration-color: #000080\">INFO    </span> Scraping game schedule for Monday, May <span style=\"color: #008080; text-decoration-color: #008080; font-weight: bold\">22</span> <span style=\"color: #008080; text-decoration-color: #008080; font-weight: bold\">2023</span>                        <a href=\"file://c:\\Users\\krawc\\OneDrive\\Documents\\code\\pythons\\predictor\\.venv\\Lib\\site-packages\\soccerdata\\whoscored.py\" target=\"_blank\"><span style=\"color: #7f7f7f; text-decoration-color: #7f7f7f\">whoscored.py</span></a><span style=\"color: #7f7f7f; text-decoration-color: #7f7f7f\">:</span><a href=\"file://c:\\Users\\krawc\\OneDrive\\Documents\\code\\pythons\\predictor\\.venv\\Lib\\site-packages\\soccerdata\\whoscored.py#327\" target=\"_blank\"><span style=\"color: #7f7f7f; text-decoration-color: #7f7f7f\">327</span></a>\n",
       "</pre>\n"
      ],
      "text/plain": [
       "\u001b[2;36m[10/12/23 10:37:22]\u001b[0m\u001b[2;36m \u001b[0m\u001b[34mINFO    \u001b[0m Scraping game schedule for Monday, May \u001b[1;36m22\u001b[0m \u001b[1;36m2023\u001b[0m                        \u001b]8;id=724811;file://c:\\Users\\krawc\\OneDrive\\Documents\\code\\pythons\\predictor\\.venv\\Lib\\site-packages\\soccerdata\\whoscored.py\u001b\\\u001b[2mwhoscored.py\u001b[0m\u001b]8;;\u001b\\\u001b[2m:\u001b[0m\u001b]8;id=227588;file://c:\\Users\\krawc\\OneDrive\\Documents\\code\\pythons\\predictor\\.venv\\Lib\\site-packages\\soccerdata\\whoscored.py#327\u001b\\\u001b[2m327\u001b[0m\u001b]8;;\u001b\\\n"
      ]
     },
     "metadata": {},
     "output_type": "display_data"
    },
    {
     "data": {
      "text/html": [
       "<pre style=\"white-space:pre;overflow-x:auto;line-height:normal;font-family:Menlo,'DejaVu Sans Mono',consolas,'Courier New',monospace\"><span style=\"color: #7fbfbf; text-decoration-color: #7fbfbf\">                    </span><span style=\"color: #000080; text-decoration-color: #000080\">INFO    </span> Scraping game schedule for Wednesday, May <span style=\"color: #008080; text-decoration-color: #008080; font-weight: bold\">24</span> <span style=\"color: #008080; text-decoration-color: #008080; font-weight: bold\">2023</span>                     <a href=\"file://c:\\Users\\krawc\\OneDrive\\Documents\\code\\pythons\\predictor\\.venv\\Lib\\site-packages\\soccerdata\\whoscored.py\" target=\"_blank\"><span style=\"color: #7f7f7f; text-decoration-color: #7f7f7f\">whoscored.py</span></a><span style=\"color: #7f7f7f; text-decoration-color: #7f7f7f\">:</span><a href=\"file://c:\\Users\\krawc\\OneDrive\\Documents\\code\\pythons\\predictor\\.venv\\Lib\\site-packages\\soccerdata\\whoscored.py#327\" target=\"_blank\"><span style=\"color: #7f7f7f; text-decoration-color: #7f7f7f\">327</span></a>\n",
       "</pre>\n"
      ],
      "text/plain": [
       "\u001b[2;36m                   \u001b[0m\u001b[2;36m \u001b[0m\u001b[34mINFO    \u001b[0m Scraping game schedule for Wednesday, May \u001b[1;36m24\u001b[0m \u001b[1;36m2023\u001b[0m                     \u001b]8;id=627807;file://c:\\Users\\krawc\\OneDrive\\Documents\\code\\pythons\\predictor\\.venv\\Lib\\site-packages\\soccerdata\\whoscored.py\u001b\\\u001b[2mwhoscored.py\u001b[0m\u001b]8;;\u001b\\\u001b[2m:\u001b[0m\u001b]8;id=806244;file://c:\\Users\\krawc\\OneDrive\\Documents\\code\\pythons\\predictor\\.venv\\Lib\\site-packages\\soccerdata\\whoscored.py#327\u001b\\\u001b[2m327\u001b[0m\u001b]8;;\u001b\\\n"
      ]
     },
     "metadata": {},
     "output_type": "display_data"
    },
    {
     "data": {
      "text/html": [
       "<pre style=\"white-space:pre;overflow-x:auto;line-height:normal;font-family:Menlo,'DejaVu Sans Mono',consolas,'Courier New',monospace\"><span style=\"color: #7fbfbf; text-decoration-color: #7fbfbf\">[10/12/23 10:37:23] </span><span style=\"color: #000080; text-decoration-color: #000080\">INFO    </span> Scraping game schedule for Thursday, May <span style=\"color: #008080; text-decoration-color: #008080; font-weight: bold\">25</span> <span style=\"color: #008080; text-decoration-color: #008080; font-weight: bold\">2023</span>                      <a href=\"file://c:\\Users\\krawc\\OneDrive\\Documents\\code\\pythons\\predictor\\.venv\\Lib\\site-packages\\soccerdata\\whoscored.py\" target=\"_blank\"><span style=\"color: #7f7f7f; text-decoration-color: #7f7f7f\">whoscored.py</span></a><span style=\"color: #7f7f7f; text-decoration-color: #7f7f7f\">:</span><a href=\"file://c:\\Users\\krawc\\OneDrive\\Documents\\code\\pythons\\predictor\\.venv\\Lib\\site-packages\\soccerdata\\whoscored.py#327\" target=\"_blank\"><span style=\"color: #7f7f7f; text-decoration-color: #7f7f7f\">327</span></a>\n",
       "</pre>\n"
      ],
      "text/plain": [
       "\u001b[2;36m[10/12/23 10:37:23]\u001b[0m\u001b[2;36m \u001b[0m\u001b[34mINFO    \u001b[0m Scraping game schedule for Thursday, May \u001b[1;36m25\u001b[0m \u001b[1;36m2023\u001b[0m                      \u001b]8;id=144640;file://c:\\Users\\krawc\\OneDrive\\Documents\\code\\pythons\\predictor\\.venv\\Lib\\site-packages\\soccerdata\\whoscored.py\u001b\\\u001b[2mwhoscored.py\u001b[0m\u001b]8;;\u001b\\\u001b[2m:\u001b[0m\u001b]8;id=656914;file://c:\\Users\\krawc\\OneDrive\\Documents\\code\\pythons\\predictor\\.venv\\Lib\\site-packages\\soccerdata\\whoscored.py#327\u001b\\\u001b[2m327\u001b[0m\u001b]8;;\u001b\\\n"
      ]
     },
     "metadata": {},
     "output_type": "display_data"
    },
    {
     "data": {
      "text/html": [
       "<pre style=\"white-space:pre;overflow-x:auto;line-height:normal;font-family:Menlo,'DejaVu Sans Mono',consolas,'Courier New',monospace\"><span style=\"color: #7fbfbf; text-decoration-color: #7fbfbf\">                    </span><span style=\"color: #000080; text-decoration-color: #000080\">INFO    </span> Scraping game schedule for Sunday, May <span style=\"color: #008080; text-decoration-color: #008080; font-weight: bold\">28</span> <span style=\"color: #008080; text-decoration-color: #008080; font-weight: bold\">2023</span>                        <a href=\"file://c:\\Users\\krawc\\OneDrive\\Documents\\code\\pythons\\predictor\\.venv\\Lib\\site-packages\\soccerdata\\whoscored.py\" target=\"_blank\"><span style=\"color: #7f7f7f; text-decoration-color: #7f7f7f\">whoscored.py</span></a><span style=\"color: #7f7f7f; text-decoration-color: #7f7f7f\">:</span><a href=\"file://c:\\Users\\krawc\\OneDrive\\Documents\\code\\pythons\\predictor\\.venv\\Lib\\site-packages\\soccerdata\\whoscored.py#327\" target=\"_blank\"><span style=\"color: #7f7f7f; text-decoration-color: #7f7f7f\">327</span></a>\n",
       "</pre>\n"
      ],
      "text/plain": [
       "\u001b[2;36m                   \u001b[0m\u001b[2;36m \u001b[0m\u001b[34mINFO    \u001b[0m Scraping game schedule for Sunday, May \u001b[1;36m28\u001b[0m \u001b[1;36m2023\u001b[0m                        \u001b]8;id=958305;file://c:\\Users\\krawc\\OneDrive\\Documents\\code\\pythons\\predictor\\.venv\\Lib\\site-packages\\soccerdata\\whoscored.py\u001b\\\u001b[2mwhoscored.py\u001b[0m\u001b]8;;\u001b\\\u001b[2m:\u001b[0m\u001b]8;id=418871;file://c:\\Users\\krawc\\OneDrive\\Documents\\code\\pythons\\predictor\\.venv\\Lib\\site-packages\\soccerdata\\whoscored.py#327\u001b\\\u001b[2m327\u001b[0m\u001b]8;;\u001b\\\n"
      ]
     },
     "metadata": {},
     "output_type": "display_data"
    },
    {
     "data": {
      "text/html": [
       "<pre style=\"white-space:pre;overflow-x:auto;line-height:normal;font-family:Menlo,'DejaVu Sans Mono',consolas,'Courier New',monospace\"><span style=\"color: #7fbfbf; text-decoration-color: #7fbfbf\">[10/12/23 10:37:33] </span><span style=\"color: #000080; text-decoration-color: #000080\">INFO    </span> Scraping game schedule for Saturday, Apr <span style=\"color: #008080; text-decoration-color: #008080; font-weight: bold\">1</span> <span style=\"color: #008080; text-decoration-color: #008080; font-weight: bold\">2023</span>                       <a href=\"file://c:\\Users\\krawc\\OneDrive\\Documents\\code\\pythons\\predictor\\.venv\\Lib\\site-packages\\soccerdata\\whoscored.py\" target=\"_blank\"><span style=\"color: #7f7f7f; text-decoration-color: #7f7f7f\">whoscored.py</span></a><span style=\"color: #7f7f7f; text-decoration-color: #7f7f7f\">:</span><a href=\"file://c:\\Users\\krawc\\OneDrive\\Documents\\code\\pythons\\predictor\\.venv\\Lib\\site-packages\\soccerdata\\whoscored.py#327\" target=\"_blank\"><span style=\"color: #7f7f7f; text-decoration-color: #7f7f7f\">327</span></a>\n",
       "</pre>\n"
      ],
      "text/plain": [
       "\u001b[2;36m[10/12/23 10:37:33]\u001b[0m\u001b[2;36m \u001b[0m\u001b[34mINFO    \u001b[0m Scraping game schedule for Saturday, Apr \u001b[1;36m1\u001b[0m \u001b[1;36m2023\u001b[0m                       \u001b]8;id=59952;file://c:\\Users\\krawc\\OneDrive\\Documents\\code\\pythons\\predictor\\.venv\\Lib\\site-packages\\soccerdata\\whoscored.py\u001b\\\u001b[2mwhoscored.py\u001b[0m\u001b]8;;\u001b\\\u001b[2m:\u001b[0m\u001b]8;id=901;file://c:\\Users\\krawc\\OneDrive\\Documents\\code\\pythons\\predictor\\.venv\\Lib\\site-packages\\soccerdata\\whoscored.py#327\u001b\\\u001b[2m327\u001b[0m\u001b]8;;\u001b\\\n"
      ]
     },
     "metadata": {},
     "output_type": "display_data"
    },
    {
     "data": {
      "text/html": [
       "<pre style=\"white-space:pre;overflow-x:auto;line-height:normal;font-family:Menlo,'DejaVu Sans Mono',consolas,'Courier New',monospace\"><span style=\"color: #7fbfbf; text-decoration-color: #7fbfbf\">[10/12/23 10:37:35] </span><span style=\"color: #000080; text-decoration-color: #000080\">INFO    </span> Scraping game schedule for Sunday, Apr <span style=\"color: #008080; text-decoration-color: #008080; font-weight: bold\">2</span> <span style=\"color: #008080; text-decoration-color: #008080; font-weight: bold\">2023</span>                         <a href=\"file://c:\\Users\\krawc\\OneDrive\\Documents\\code\\pythons\\predictor\\.venv\\Lib\\site-packages\\soccerdata\\whoscored.py\" target=\"_blank\"><span style=\"color: #7f7f7f; text-decoration-color: #7f7f7f\">whoscored.py</span></a><span style=\"color: #7f7f7f; text-decoration-color: #7f7f7f\">:</span><a href=\"file://c:\\Users\\krawc\\OneDrive\\Documents\\code\\pythons\\predictor\\.venv\\Lib\\site-packages\\soccerdata\\whoscored.py#327\" target=\"_blank\"><span style=\"color: #7f7f7f; text-decoration-color: #7f7f7f\">327</span></a>\n",
       "</pre>\n"
      ],
      "text/plain": [
       "\u001b[2;36m[10/12/23 10:37:35]\u001b[0m\u001b[2;36m \u001b[0m\u001b[34mINFO    \u001b[0m Scraping game schedule for Sunday, Apr \u001b[1;36m2\u001b[0m \u001b[1;36m2023\u001b[0m                         \u001b]8;id=540313;file://c:\\Users\\krawc\\OneDrive\\Documents\\code\\pythons\\predictor\\.venv\\Lib\\site-packages\\soccerdata\\whoscored.py\u001b\\\u001b[2mwhoscored.py\u001b[0m\u001b]8;;\u001b\\\u001b[2m:\u001b[0m\u001b]8;id=294781;file://c:\\Users\\krawc\\OneDrive\\Documents\\code\\pythons\\predictor\\.venv\\Lib\\site-packages\\soccerdata\\whoscored.py#327\u001b\\\u001b[2m327\u001b[0m\u001b]8;;\u001b\\\n"
      ]
     },
     "metadata": {},
     "output_type": "display_data"
    },
    {
     "data": {
      "text/html": [
       "<pre style=\"white-space:pre;overflow-x:auto;line-height:normal;font-family:Menlo,'DejaVu Sans Mono',consolas,'Courier New',monospace\"><span style=\"color: #7fbfbf; text-decoration-color: #7fbfbf\">                    </span><span style=\"color: #000080; text-decoration-color: #000080\">INFO    </span> Scraping game schedule for Monday, Apr <span style=\"color: #008080; text-decoration-color: #008080; font-weight: bold\">3</span> <span style=\"color: #008080; text-decoration-color: #008080; font-weight: bold\">2023</span>                         <a href=\"file://c:\\Users\\krawc\\OneDrive\\Documents\\code\\pythons\\predictor\\.venv\\Lib\\site-packages\\soccerdata\\whoscored.py\" target=\"_blank\"><span style=\"color: #7f7f7f; text-decoration-color: #7f7f7f\">whoscored.py</span></a><span style=\"color: #7f7f7f; text-decoration-color: #7f7f7f\">:</span><a href=\"file://c:\\Users\\krawc\\OneDrive\\Documents\\code\\pythons\\predictor\\.venv\\Lib\\site-packages\\soccerdata\\whoscored.py#327\" target=\"_blank\"><span style=\"color: #7f7f7f; text-decoration-color: #7f7f7f\">327</span></a>\n",
       "</pre>\n"
      ],
      "text/plain": [
       "\u001b[2;36m                   \u001b[0m\u001b[2;36m \u001b[0m\u001b[34mINFO    \u001b[0m Scraping game schedule for Monday, Apr \u001b[1;36m3\u001b[0m \u001b[1;36m2023\u001b[0m                         \u001b]8;id=156372;file://c:\\Users\\krawc\\OneDrive\\Documents\\code\\pythons\\predictor\\.venv\\Lib\\site-packages\\soccerdata\\whoscored.py\u001b\\\u001b[2mwhoscored.py\u001b[0m\u001b]8;;\u001b\\\u001b[2m:\u001b[0m\u001b]8;id=970330;file://c:\\Users\\krawc\\OneDrive\\Documents\\code\\pythons\\predictor\\.venv\\Lib\\site-packages\\soccerdata\\whoscored.py#327\u001b\\\u001b[2m327\u001b[0m\u001b]8;;\u001b\\\n"
      ]
     },
     "metadata": {},
     "output_type": "display_data"
    },
    {
     "data": {
      "text/html": [
       "<pre style=\"white-space:pre;overflow-x:auto;line-height:normal;font-family:Menlo,'DejaVu Sans Mono',consolas,'Courier New',monospace\"><span style=\"color: #7fbfbf; text-decoration-color: #7fbfbf\">[10/12/23 10:37:36] </span><span style=\"color: #000080; text-decoration-color: #000080\">INFO    </span> Scraping game schedule for Tuesday, Apr <span style=\"color: #008080; text-decoration-color: #008080; font-weight: bold\">4</span> <span style=\"color: #008080; text-decoration-color: #008080; font-weight: bold\">2023</span>                        <a href=\"file://c:\\Users\\krawc\\OneDrive\\Documents\\code\\pythons\\predictor\\.venv\\Lib\\site-packages\\soccerdata\\whoscored.py\" target=\"_blank\"><span style=\"color: #7f7f7f; text-decoration-color: #7f7f7f\">whoscored.py</span></a><span style=\"color: #7f7f7f; text-decoration-color: #7f7f7f\">:</span><a href=\"file://c:\\Users\\krawc\\OneDrive\\Documents\\code\\pythons\\predictor\\.venv\\Lib\\site-packages\\soccerdata\\whoscored.py#327\" target=\"_blank\"><span style=\"color: #7f7f7f; text-decoration-color: #7f7f7f\">327</span></a>\n",
       "</pre>\n"
      ],
      "text/plain": [
       "\u001b[2;36m[10/12/23 10:37:36]\u001b[0m\u001b[2;36m \u001b[0m\u001b[34mINFO    \u001b[0m Scraping game schedule for Tuesday, Apr \u001b[1;36m4\u001b[0m \u001b[1;36m2023\u001b[0m                        \u001b]8;id=949666;file://c:\\Users\\krawc\\OneDrive\\Documents\\code\\pythons\\predictor\\.venv\\Lib\\site-packages\\soccerdata\\whoscored.py\u001b\\\u001b[2mwhoscored.py\u001b[0m\u001b]8;;\u001b\\\u001b[2m:\u001b[0m\u001b]8;id=553133;file://c:\\Users\\krawc\\OneDrive\\Documents\\code\\pythons\\predictor\\.venv\\Lib\\site-packages\\soccerdata\\whoscored.py#327\u001b\\\u001b[2m327\u001b[0m\u001b]8;;\u001b\\\n"
      ]
     },
     "metadata": {},
     "output_type": "display_data"
    },
    {
     "data": {
      "text/html": [
       "<pre style=\"white-space:pre;overflow-x:auto;line-height:normal;font-family:Menlo,'DejaVu Sans Mono',consolas,'Courier New',monospace\"><span style=\"color: #7fbfbf; text-decoration-color: #7fbfbf\">[10/12/23 10:37:37] </span><span style=\"color: #000080; text-decoration-color: #000080\">INFO    </span> Scraping game schedule for Wednesday, Apr <span style=\"color: #008080; text-decoration-color: #008080; font-weight: bold\">5</span> <span style=\"color: #008080; text-decoration-color: #008080; font-weight: bold\">2023</span>                      <a href=\"file://c:\\Users\\krawc\\OneDrive\\Documents\\code\\pythons\\predictor\\.venv\\Lib\\site-packages\\soccerdata\\whoscored.py\" target=\"_blank\"><span style=\"color: #7f7f7f; text-decoration-color: #7f7f7f\">whoscored.py</span></a><span style=\"color: #7f7f7f; text-decoration-color: #7f7f7f\">:</span><a href=\"file://c:\\Users\\krawc\\OneDrive\\Documents\\code\\pythons\\predictor\\.venv\\Lib\\site-packages\\soccerdata\\whoscored.py#327\" target=\"_blank\"><span style=\"color: #7f7f7f; text-decoration-color: #7f7f7f\">327</span></a>\n",
       "</pre>\n"
      ],
      "text/plain": [
       "\u001b[2;36m[10/12/23 10:37:37]\u001b[0m\u001b[2;36m \u001b[0m\u001b[34mINFO    \u001b[0m Scraping game schedule for Wednesday, Apr \u001b[1;36m5\u001b[0m \u001b[1;36m2023\u001b[0m                      \u001b]8;id=282264;file://c:\\Users\\krawc\\OneDrive\\Documents\\code\\pythons\\predictor\\.venv\\Lib\\site-packages\\soccerdata\\whoscored.py\u001b\\\u001b[2mwhoscored.py\u001b[0m\u001b]8;;\u001b\\\u001b[2m:\u001b[0m\u001b]8;id=246001;file://c:\\Users\\krawc\\OneDrive\\Documents\\code\\pythons\\predictor\\.venv\\Lib\\site-packages\\soccerdata\\whoscored.py#327\u001b\\\u001b[2m327\u001b[0m\u001b]8;;\u001b\\\n"
      ]
     },
     "metadata": {},
     "output_type": "display_data"
    },
    {
     "data": {
      "text/html": [
       "<pre style=\"white-space:pre;overflow-x:auto;line-height:normal;font-family:Menlo,'DejaVu Sans Mono',consolas,'Courier New',monospace\"><span style=\"color: #7fbfbf; text-decoration-color: #7fbfbf\">                    </span><span style=\"color: #000080; text-decoration-color: #000080\">INFO    </span> Scraping game schedule for Saturday, Apr <span style=\"color: #008080; text-decoration-color: #008080; font-weight: bold\">8</span> <span style=\"color: #008080; text-decoration-color: #008080; font-weight: bold\">2023</span>                       <a href=\"file://c:\\Users\\krawc\\OneDrive\\Documents\\code\\pythons\\predictor\\.venv\\Lib\\site-packages\\soccerdata\\whoscored.py\" target=\"_blank\"><span style=\"color: #7f7f7f; text-decoration-color: #7f7f7f\">whoscored.py</span></a><span style=\"color: #7f7f7f; text-decoration-color: #7f7f7f\">:</span><a href=\"file://c:\\Users\\krawc\\OneDrive\\Documents\\code\\pythons\\predictor\\.venv\\Lib\\site-packages\\soccerdata\\whoscored.py#327\" target=\"_blank\"><span style=\"color: #7f7f7f; text-decoration-color: #7f7f7f\">327</span></a>\n",
       "</pre>\n"
      ],
      "text/plain": [
       "\u001b[2;36m                   \u001b[0m\u001b[2;36m \u001b[0m\u001b[34mINFO    \u001b[0m Scraping game schedule for Saturday, Apr \u001b[1;36m8\u001b[0m \u001b[1;36m2023\u001b[0m                       \u001b]8;id=943358;file://c:\\Users\\krawc\\OneDrive\\Documents\\code\\pythons\\predictor\\.venv\\Lib\\site-packages\\soccerdata\\whoscored.py\u001b\\\u001b[2mwhoscored.py\u001b[0m\u001b]8;;\u001b\\\u001b[2m:\u001b[0m\u001b]8;id=385234;file://c:\\Users\\krawc\\OneDrive\\Documents\\code\\pythons\\predictor\\.venv\\Lib\\site-packages\\soccerdata\\whoscored.py#327\u001b\\\u001b[2m327\u001b[0m\u001b]8;;\u001b\\\n"
      ]
     },
     "metadata": {},
     "output_type": "display_data"
    },
    {
     "data": {
      "text/html": [
       "<pre style=\"white-space:pre;overflow-x:auto;line-height:normal;font-family:Menlo,'DejaVu Sans Mono',consolas,'Courier New',monospace\"><span style=\"color: #7fbfbf; text-decoration-color: #7fbfbf\">[10/12/23 10:37:39] </span><span style=\"color: #000080; text-decoration-color: #000080\">INFO    </span> Scraping game schedule for Sunday, Apr <span style=\"color: #008080; text-decoration-color: #008080; font-weight: bold\">9</span> <span style=\"color: #008080; text-decoration-color: #008080; font-weight: bold\">2023</span>                         <a href=\"file://c:\\Users\\krawc\\OneDrive\\Documents\\code\\pythons\\predictor\\.venv\\Lib\\site-packages\\soccerdata\\whoscored.py\" target=\"_blank\"><span style=\"color: #7f7f7f; text-decoration-color: #7f7f7f\">whoscored.py</span></a><span style=\"color: #7f7f7f; text-decoration-color: #7f7f7f\">:</span><a href=\"file://c:\\Users\\krawc\\OneDrive\\Documents\\code\\pythons\\predictor\\.venv\\Lib\\site-packages\\soccerdata\\whoscored.py#327\" target=\"_blank\"><span style=\"color: #7f7f7f; text-decoration-color: #7f7f7f\">327</span></a>\n",
       "</pre>\n"
      ],
      "text/plain": [
       "\u001b[2;36m[10/12/23 10:37:39]\u001b[0m\u001b[2;36m \u001b[0m\u001b[34mINFO    \u001b[0m Scraping game schedule for Sunday, Apr \u001b[1;36m9\u001b[0m \u001b[1;36m2023\u001b[0m                         \u001b]8;id=734831;file://c:\\Users\\krawc\\OneDrive\\Documents\\code\\pythons\\predictor\\.venv\\Lib\\site-packages\\soccerdata\\whoscored.py\u001b\\\u001b[2mwhoscored.py\u001b[0m\u001b]8;;\u001b\\\u001b[2m:\u001b[0m\u001b]8;id=609818;file://c:\\Users\\krawc\\OneDrive\\Documents\\code\\pythons\\predictor\\.venv\\Lib\\site-packages\\soccerdata\\whoscored.py#327\u001b\\\u001b[2m327\u001b[0m\u001b]8;;\u001b\\\n"
      ]
     },
     "metadata": {},
     "output_type": "display_data"
    },
    {
     "data": {
      "text/html": [
       "<pre style=\"white-space:pre;overflow-x:auto;line-height:normal;font-family:Menlo,'DejaVu Sans Mono',consolas,'Courier New',monospace\"><span style=\"color: #7fbfbf; text-decoration-color: #7fbfbf\">[10/12/23 10:37:40] </span><span style=\"color: #000080; text-decoration-color: #000080\">INFO    </span> Scraping game schedule for Saturday, Apr <span style=\"color: #008080; text-decoration-color: #008080; font-weight: bold\">15</span> <span style=\"color: #008080; text-decoration-color: #008080; font-weight: bold\">2023</span>                      <a href=\"file://c:\\Users\\krawc\\OneDrive\\Documents\\code\\pythons\\predictor\\.venv\\Lib\\site-packages\\soccerdata\\whoscored.py\" target=\"_blank\"><span style=\"color: #7f7f7f; text-decoration-color: #7f7f7f\">whoscored.py</span></a><span style=\"color: #7f7f7f; text-decoration-color: #7f7f7f\">:</span><a href=\"file://c:\\Users\\krawc\\OneDrive\\Documents\\code\\pythons\\predictor\\.venv\\Lib\\site-packages\\soccerdata\\whoscored.py#327\" target=\"_blank\"><span style=\"color: #7f7f7f; text-decoration-color: #7f7f7f\">327</span></a>\n",
       "</pre>\n"
      ],
      "text/plain": [
       "\u001b[2;36m[10/12/23 10:37:40]\u001b[0m\u001b[2;36m \u001b[0m\u001b[34mINFO    \u001b[0m Scraping game schedule for Saturday, Apr \u001b[1;36m15\u001b[0m \u001b[1;36m2023\u001b[0m                      \u001b]8;id=363469;file://c:\\Users\\krawc\\OneDrive\\Documents\\code\\pythons\\predictor\\.venv\\Lib\\site-packages\\soccerdata\\whoscored.py\u001b\\\u001b[2mwhoscored.py\u001b[0m\u001b]8;;\u001b\\\u001b[2m:\u001b[0m\u001b]8;id=564028;file://c:\\Users\\krawc\\OneDrive\\Documents\\code\\pythons\\predictor\\.venv\\Lib\\site-packages\\soccerdata\\whoscored.py#327\u001b\\\u001b[2m327\u001b[0m\u001b]8;;\u001b\\\n"
      ]
     },
     "metadata": {},
     "output_type": "display_data"
    },
    {
     "data": {
      "text/html": [
       "<pre style=\"white-space:pre;overflow-x:auto;line-height:normal;font-family:Menlo,'DejaVu Sans Mono',consolas,'Courier New',monospace\"><span style=\"color: #7fbfbf; text-decoration-color: #7fbfbf\">[10/12/23 10:37:42] </span><span style=\"color: #000080; text-decoration-color: #000080\">INFO    </span> Scraping game schedule for Sunday, Apr <span style=\"color: #008080; text-decoration-color: #008080; font-weight: bold\">16</span> <span style=\"color: #008080; text-decoration-color: #008080; font-weight: bold\">2023</span>                        <a href=\"file://c:\\Users\\krawc\\OneDrive\\Documents\\code\\pythons\\predictor\\.venv\\Lib\\site-packages\\soccerdata\\whoscored.py\" target=\"_blank\"><span style=\"color: #7f7f7f; text-decoration-color: #7f7f7f\">whoscored.py</span></a><span style=\"color: #7f7f7f; text-decoration-color: #7f7f7f\">:</span><a href=\"file://c:\\Users\\krawc\\OneDrive\\Documents\\code\\pythons\\predictor\\.venv\\Lib\\site-packages\\soccerdata\\whoscored.py#327\" target=\"_blank\"><span style=\"color: #7f7f7f; text-decoration-color: #7f7f7f\">327</span></a>\n",
       "</pre>\n"
      ],
      "text/plain": [
       "\u001b[2;36m[10/12/23 10:37:42]\u001b[0m\u001b[2;36m \u001b[0m\u001b[34mINFO    \u001b[0m Scraping game schedule for Sunday, Apr \u001b[1;36m16\u001b[0m \u001b[1;36m2023\u001b[0m                        \u001b]8;id=612857;file://c:\\Users\\krawc\\OneDrive\\Documents\\code\\pythons\\predictor\\.venv\\Lib\\site-packages\\soccerdata\\whoscored.py\u001b\\\u001b[2mwhoscored.py\u001b[0m\u001b]8;;\u001b\\\u001b[2m:\u001b[0m\u001b]8;id=256146;file://c:\\Users\\krawc\\OneDrive\\Documents\\code\\pythons\\predictor\\.venv\\Lib\\site-packages\\soccerdata\\whoscored.py#327\u001b\\\u001b[2m327\u001b[0m\u001b]8;;\u001b\\\n"
      ]
     },
     "metadata": {},
     "output_type": "display_data"
    },
    {
     "data": {
      "text/html": [
       "<pre style=\"white-space:pre;overflow-x:auto;line-height:normal;font-family:Menlo,'DejaVu Sans Mono',consolas,'Courier New',monospace\"><span style=\"color: #7fbfbf; text-decoration-color: #7fbfbf\">                    </span><span style=\"color: #000080; text-decoration-color: #000080\">INFO    </span> Scraping game schedule for Monday, Apr <span style=\"color: #008080; text-decoration-color: #008080; font-weight: bold\">17</span> <span style=\"color: #008080; text-decoration-color: #008080; font-weight: bold\">2023</span>                        <a href=\"file://c:\\Users\\krawc\\OneDrive\\Documents\\code\\pythons\\predictor\\.venv\\Lib\\site-packages\\soccerdata\\whoscored.py\" target=\"_blank\"><span style=\"color: #7f7f7f; text-decoration-color: #7f7f7f\">whoscored.py</span></a><span style=\"color: #7f7f7f; text-decoration-color: #7f7f7f\">:</span><a href=\"file://c:\\Users\\krawc\\OneDrive\\Documents\\code\\pythons\\predictor\\.venv\\Lib\\site-packages\\soccerdata\\whoscored.py#327\" target=\"_blank\"><span style=\"color: #7f7f7f; text-decoration-color: #7f7f7f\">327</span></a>\n",
       "</pre>\n"
      ],
      "text/plain": [
       "\u001b[2;36m                   \u001b[0m\u001b[2;36m \u001b[0m\u001b[34mINFO    \u001b[0m Scraping game schedule for Monday, Apr \u001b[1;36m17\u001b[0m \u001b[1;36m2023\u001b[0m                        \u001b]8;id=991601;file://c:\\Users\\krawc\\OneDrive\\Documents\\code\\pythons\\predictor\\.venv\\Lib\\site-packages\\soccerdata\\whoscored.py\u001b\\\u001b[2mwhoscored.py\u001b[0m\u001b]8;;\u001b\\\u001b[2m:\u001b[0m\u001b]8;id=479311;file://c:\\Users\\krawc\\OneDrive\\Documents\\code\\pythons\\predictor\\.venv\\Lib\\site-packages\\soccerdata\\whoscored.py#327\u001b\\\u001b[2m327\u001b[0m\u001b]8;;\u001b\\\n"
      ]
     },
     "metadata": {},
     "output_type": "display_data"
    },
    {
     "data": {
      "text/html": [
       "<pre style=\"white-space:pre;overflow-x:auto;line-height:normal;font-family:Menlo,'DejaVu Sans Mono',consolas,'Courier New',monospace\"><span style=\"color: #7fbfbf; text-decoration-color: #7fbfbf\">[10/12/23 10:37:43] </span><span style=\"color: #000080; text-decoration-color: #000080\">INFO    </span> Scraping game schedule for Friday, Apr <span style=\"color: #008080; text-decoration-color: #008080; font-weight: bold\">21</span> <span style=\"color: #008080; text-decoration-color: #008080; font-weight: bold\">2023</span>                        <a href=\"file://c:\\Users\\krawc\\OneDrive\\Documents\\code\\pythons\\predictor\\.venv\\Lib\\site-packages\\soccerdata\\whoscored.py\" target=\"_blank\"><span style=\"color: #7f7f7f; text-decoration-color: #7f7f7f\">whoscored.py</span></a><span style=\"color: #7f7f7f; text-decoration-color: #7f7f7f\">:</span><a href=\"file://c:\\Users\\krawc\\OneDrive\\Documents\\code\\pythons\\predictor\\.venv\\Lib\\site-packages\\soccerdata\\whoscored.py#327\" target=\"_blank\"><span style=\"color: #7f7f7f; text-decoration-color: #7f7f7f\">327</span></a>\n",
       "</pre>\n"
      ],
      "text/plain": [
       "\u001b[2;36m[10/12/23 10:37:43]\u001b[0m\u001b[2;36m \u001b[0m\u001b[34mINFO    \u001b[0m Scraping game schedule for Friday, Apr \u001b[1;36m21\u001b[0m \u001b[1;36m2023\u001b[0m                        \u001b]8;id=555570;file://c:\\Users\\krawc\\OneDrive\\Documents\\code\\pythons\\predictor\\.venv\\Lib\\site-packages\\soccerdata\\whoscored.py\u001b\\\u001b[2mwhoscored.py\u001b[0m\u001b]8;;\u001b\\\u001b[2m:\u001b[0m\u001b]8;id=952721;file://c:\\Users\\krawc\\OneDrive\\Documents\\code\\pythons\\predictor\\.venv\\Lib\\site-packages\\soccerdata\\whoscored.py#327\u001b\\\u001b[2m327\u001b[0m\u001b]8;;\u001b\\\n"
      ]
     },
     "metadata": {},
     "output_type": "display_data"
    },
    {
     "data": {
      "text/html": [
       "<pre style=\"white-space:pre;overflow-x:auto;line-height:normal;font-family:Menlo,'DejaVu Sans Mono',consolas,'Courier New',monospace\"><span style=\"color: #7fbfbf; text-decoration-color: #7fbfbf\">                    </span><span style=\"color: #000080; text-decoration-color: #000080\">INFO    </span> Scraping game schedule for Saturday, Apr <span style=\"color: #008080; text-decoration-color: #008080; font-weight: bold\">22</span> <span style=\"color: #008080; text-decoration-color: #008080; font-weight: bold\">2023</span>                      <a href=\"file://c:\\Users\\krawc\\OneDrive\\Documents\\code\\pythons\\predictor\\.venv\\Lib\\site-packages\\soccerdata\\whoscored.py\" target=\"_blank\"><span style=\"color: #7f7f7f; text-decoration-color: #7f7f7f\">whoscored.py</span></a><span style=\"color: #7f7f7f; text-decoration-color: #7f7f7f\">:</span><a href=\"file://c:\\Users\\krawc\\OneDrive\\Documents\\code\\pythons\\predictor\\.venv\\Lib\\site-packages\\soccerdata\\whoscored.py#327\" target=\"_blank\"><span style=\"color: #7f7f7f; text-decoration-color: #7f7f7f\">327</span></a>\n",
       "</pre>\n"
      ],
      "text/plain": [
       "\u001b[2;36m                   \u001b[0m\u001b[2;36m \u001b[0m\u001b[34mINFO    \u001b[0m Scraping game schedule for Saturday, Apr \u001b[1;36m22\u001b[0m \u001b[1;36m2023\u001b[0m                      \u001b]8;id=540853;file://c:\\Users\\krawc\\OneDrive\\Documents\\code\\pythons\\predictor\\.venv\\Lib\\site-packages\\soccerdata\\whoscored.py\u001b\\\u001b[2mwhoscored.py\u001b[0m\u001b]8;;\u001b\\\u001b[2m:\u001b[0m\u001b]8;id=634155;file://c:\\Users\\krawc\\OneDrive\\Documents\\code\\pythons\\predictor\\.venv\\Lib\\site-packages\\soccerdata\\whoscored.py#327\u001b\\\u001b[2m327\u001b[0m\u001b]8;;\u001b\\\n"
      ]
     },
     "metadata": {},
     "output_type": "display_data"
    },
    {
     "data": {
      "text/html": [
       "<pre style=\"white-space:pre;overflow-x:auto;line-height:normal;font-family:Menlo,'DejaVu Sans Mono',consolas,'Courier New',monospace\"><span style=\"color: #7fbfbf; text-decoration-color: #7fbfbf\">[10/12/23 10:37:44] </span><span style=\"color: #000080; text-decoration-color: #000080\">INFO    </span> Scraping game schedule for Sunday, Apr <span style=\"color: #008080; text-decoration-color: #008080; font-weight: bold\">23</span> <span style=\"color: #008080; text-decoration-color: #008080; font-weight: bold\">2023</span>                        <a href=\"file://c:\\Users\\krawc\\OneDrive\\Documents\\code\\pythons\\predictor\\.venv\\Lib\\site-packages\\soccerdata\\whoscored.py\" target=\"_blank\"><span style=\"color: #7f7f7f; text-decoration-color: #7f7f7f\">whoscored.py</span></a><span style=\"color: #7f7f7f; text-decoration-color: #7f7f7f\">:</span><a href=\"file://c:\\Users\\krawc\\OneDrive\\Documents\\code\\pythons\\predictor\\.venv\\Lib\\site-packages\\soccerdata\\whoscored.py#327\" target=\"_blank\"><span style=\"color: #7f7f7f; text-decoration-color: #7f7f7f\">327</span></a>\n",
       "</pre>\n"
      ],
      "text/plain": [
       "\u001b[2;36m[10/12/23 10:37:44]\u001b[0m\u001b[2;36m \u001b[0m\u001b[34mINFO    \u001b[0m Scraping game schedule for Sunday, Apr \u001b[1;36m23\u001b[0m \u001b[1;36m2023\u001b[0m                        \u001b]8;id=764325;file://c:\\Users\\krawc\\OneDrive\\Documents\\code\\pythons\\predictor\\.venv\\Lib\\site-packages\\soccerdata\\whoscored.py\u001b\\\u001b[2mwhoscored.py\u001b[0m\u001b]8;;\u001b\\\u001b[2m:\u001b[0m\u001b]8;id=597236;file://c:\\Users\\krawc\\OneDrive\\Documents\\code\\pythons\\predictor\\.venv\\Lib\\site-packages\\soccerdata\\whoscored.py#327\u001b\\\u001b[2m327\u001b[0m\u001b]8;;\u001b\\\n"
      ]
     },
     "metadata": {},
     "output_type": "display_data"
    },
    {
     "data": {
      "text/html": [
       "<pre style=\"white-space:pre;overflow-x:auto;line-height:normal;font-family:Menlo,'DejaVu Sans Mono',consolas,'Courier New',monospace\"><span style=\"color: #7fbfbf; text-decoration-color: #7fbfbf\">[10/12/23 10:37:45] </span><span style=\"color: #000080; text-decoration-color: #000080\">INFO    </span> Scraping game schedule for Tuesday, Apr <span style=\"color: #008080; text-decoration-color: #008080; font-weight: bold\">25</span> <span style=\"color: #008080; text-decoration-color: #008080; font-weight: bold\">2023</span>                       <a href=\"file://c:\\Users\\krawc\\OneDrive\\Documents\\code\\pythons\\predictor\\.venv\\Lib\\site-packages\\soccerdata\\whoscored.py\" target=\"_blank\"><span style=\"color: #7f7f7f; text-decoration-color: #7f7f7f\">whoscored.py</span></a><span style=\"color: #7f7f7f; text-decoration-color: #7f7f7f\">:</span><a href=\"file://c:\\Users\\krawc\\OneDrive\\Documents\\code\\pythons\\predictor\\.venv\\Lib\\site-packages\\soccerdata\\whoscored.py#327\" target=\"_blank\"><span style=\"color: #7f7f7f; text-decoration-color: #7f7f7f\">327</span></a>\n",
       "</pre>\n"
      ],
      "text/plain": [
       "\u001b[2;36m[10/12/23 10:37:45]\u001b[0m\u001b[2;36m \u001b[0m\u001b[34mINFO    \u001b[0m Scraping game schedule for Tuesday, Apr \u001b[1;36m25\u001b[0m \u001b[1;36m2023\u001b[0m                       \u001b]8;id=354015;file://c:\\Users\\krawc\\OneDrive\\Documents\\code\\pythons\\predictor\\.venv\\Lib\\site-packages\\soccerdata\\whoscored.py\u001b\\\u001b[2mwhoscored.py\u001b[0m\u001b]8;;\u001b\\\u001b[2m:\u001b[0m\u001b]8;id=931314;file://c:\\Users\\krawc\\OneDrive\\Documents\\code\\pythons\\predictor\\.venv\\Lib\\site-packages\\soccerdata\\whoscored.py#327\u001b\\\u001b[2m327\u001b[0m\u001b]8;;\u001b\\\n"
      ]
     },
     "metadata": {},
     "output_type": "display_data"
    },
    {
     "data": {
      "text/html": [
       "<pre style=\"white-space:pre;overflow-x:auto;line-height:normal;font-family:Menlo,'DejaVu Sans Mono',consolas,'Courier New',monospace\"><span style=\"color: #7fbfbf; text-decoration-color: #7fbfbf\">[10/12/23 10:37:46] </span><span style=\"color: #000080; text-decoration-color: #000080\">INFO    </span> Scraping game schedule for Wednesday, Apr <span style=\"color: #008080; text-decoration-color: #008080; font-weight: bold\">26</span> <span style=\"color: #008080; text-decoration-color: #008080; font-weight: bold\">2023</span>                     <a href=\"file://c:\\Users\\krawc\\OneDrive\\Documents\\code\\pythons\\predictor\\.venv\\Lib\\site-packages\\soccerdata\\whoscored.py\" target=\"_blank\"><span style=\"color: #7f7f7f; text-decoration-color: #7f7f7f\">whoscored.py</span></a><span style=\"color: #7f7f7f; text-decoration-color: #7f7f7f\">:</span><a href=\"file://c:\\Users\\krawc\\OneDrive\\Documents\\code\\pythons\\predictor\\.venv\\Lib\\site-packages\\soccerdata\\whoscored.py#327\" target=\"_blank\"><span style=\"color: #7f7f7f; text-decoration-color: #7f7f7f\">327</span></a>\n",
       "</pre>\n"
      ],
      "text/plain": [
       "\u001b[2;36m[10/12/23 10:37:46]\u001b[0m\u001b[2;36m \u001b[0m\u001b[34mINFO    \u001b[0m Scraping game schedule for Wednesday, Apr \u001b[1;36m26\u001b[0m \u001b[1;36m2023\u001b[0m                     \u001b]8;id=415792;file://c:\\Users\\krawc\\OneDrive\\Documents\\code\\pythons\\predictor\\.venv\\Lib\\site-packages\\soccerdata\\whoscored.py\u001b\\\u001b[2mwhoscored.py\u001b[0m\u001b]8;;\u001b\\\u001b[2m:\u001b[0m\u001b]8;id=197347;file://c:\\Users\\krawc\\OneDrive\\Documents\\code\\pythons\\predictor\\.venv\\Lib\\site-packages\\soccerdata\\whoscored.py#327\u001b\\\u001b[2m327\u001b[0m\u001b]8;;\u001b\\\n"
      ]
     },
     "metadata": {},
     "output_type": "display_data"
    },
    {
     "data": {
      "text/html": [
       "<pre style=\"white-space:pre;overflow-x:auto;line-height:normal;font-family:Menlo,'DejaVu Sans Mono',consolas,'Courier New',monospace\"><span style=\"color: #7fbfbf; text-decoration-color: #7fbfbf\">[10/12/23 10:37:47] </span><span style=\"color: #000080; text-decoration-color: #000080\">INFO    </span> Scraping game schedule for Thursday, Apr <span style=\"color: #008080; text-decoration-color: #008080; font-weight: bold\">27</span> <span style=\"color: #008080; text-decoration-color: #008080; font-weight: bold\">2023</span>                      <a href=\"file://c:\\Users\\krawc\\OneDrive\\Documents\\code\\pythons\\predictor\\.venv\\Lib\\site-packages\\soccerdata\\whoscored.py\" target=\"_blank\"><span style=\"color: #7f7f7f; text-decoration-color: #7f7f7f\">whoscored.py</span></a><span style=\"color: #7f7f7f; text-decoration-color: #7f7f7f\">:</span><a href=\"file://c:\\Users\\krawc\\OneDrive\\Documents\\code\\pythons\\predictor\\.venv\\Lib\\site-packages\\soccerdata\\whoscored.py#327\" target=\"_blank\"><span style=\"color: #7f7f7f; text-decoration-color: #7f7f7f\">327</span></a>\n",
       "</pre>\n"
      ],
      "text/plain": [
       "\u001b[2;36m[10/12/23 10:37:47]\u001b[0m\u001b[2;36m \u001b[0m\u001b[34mINFO    \u001b[0m Scraping game schedule for Thursday, Apr \u001b[1;36m27\u001b[0m \u001b[1;36m2023\u001b[0m                      \u001b]8;id=950161;file://c:\\Users\\krawc\\OneDrive\\Documents\\code\\pythons\\predictor\\.venv\\Lib\\site-packages\\soccerdata\\whoscored.py\u001b\\\u001b[2mwhoscored.py\u001b[0m\u001b]8;;\u001b\\\u001b[2m:\u001b[0m\u001b]8;id=968697;file://c:\\Users\\krawc\\OneDrive\\Documents\\code\\pythons\\predictor\\.venv\\Lib\\site-packages\\soccerdata\\whoscored.py#327\u001b\\\u001b[2m327\u001b[0m\u001b]8;;\u001b\\\n"
      ]
     },
     "metadata": {},
     "output_type": "display_data"
    },
    {
     "data": {
      "text/html": [
       "<pre style=\"white-space:pre;overflow-x:auto;line-height:normal;font-family:Menlo,'DejaVu Sans Mono',consolas,'Courier New',monospace\"><span style=\"color: #7fbfbf; text-decoration-color: #7fbfbf\">[10/12/23 10:37:48] </span><span style=\"color: #000080; text-decoration-color: #000080\">INFO    </span> Scraping game schedule for Saturday, Apr <span style=\"color: #008080; text-decoration-color: #008080; font-weight: bold\">29</span> <span style=\"color: #008080; text-decoration-color: #008080; font-weight: bold\">2023</span>                      <a href=\"file://c:\\Users\\krawc\\OneDrive\\Documents\\code\\pythons\\predictor\\.venv\\Lib\\site-packages\\soccerdata\\whoscored.py\" target=\"_blank\"><span style=\"color: #7f7f7f; text-decoration-color: #7f7f7f\">whoscored.py</span></a><span style=\"color: #7f7f7f; text-decoration-color: #7f7f7f\">:</span><a href=\"file://c:\\Users\\krawc\\OneDrive\\Documents\\code\\pythons\\predictor\\.venv\\Lib\\site-packages\\soccerdata\\whoscored.py#327\" target=\"_blank\"><span style=\"color: #7f7f7f; text-decoration-color: #7f7f7f\">327</span></a>\n",
       "</pre>\n"
      ],
      "text/plain": [
       "\u001b[2;36m[10/12/23 10:37:48]\u001b[0m\u001b[2;36m \u001b[0m\u001b[34mINFO    \u001b[0m Scraping game schedule for Saturday, Apr \u001b[1;36m29\u001b[0m \u001b[1;36m2023\u001b[0m                      \u001b]8;id=552937;file://c:\\Users\\krawc\\OneDrive\\Documents\\code\\pythons\\predictor\\.venv\\Lib\\site-packages\\soccerdata\\whoscored.py\u001b\\\u001b[2mwhoscored.py\u001b[0m\u001b]8;;\u001b\\\u001b[2m:\u001b[0m\u001b]8;id=898078;file://c:\\Users\\krawc\\OneDrive\\Documents\\code\\pythons\\predictor\\.venv\\Lib\\site-packages\\soccerdata\\whoscored.py#327\u001b\\\u001b[2m327\u001b[0m\u001b]8;;\u001b\\\n"
      ]
     },
     "metadata": {},
     "output_type": "display_data"
    },
    {
     "data": {
      "text/html": [
       "<pre style=\"white-space:pre;overflow-x:auto;line-height:normal;font-family:Menlo,'DejaVu Sans Mono',consolas,'Courier New',monospace\"><span style=\"color: #7fbfbf; text-decoration-color: #7fbfbf\">[10/12/23 10:37:49] </span><span style=\"color: #000080; text-decoration-color: #000080\">INFO    </span> Scraping game schedule for Sunday, Apr <span style=\"color: #008080; text-decoration-color: #008080; font-weight: bold\">30</span> <span style=\"color: #008080; text-decoration-color: #008080; font-weight: bold\">2023</span>                        <a href=\"file://c:\\Users\\krawc\\OneDrive\\Documents\\code\\pythons\\predictor\\.venv\\Lib\\site-packages\\soccerdata\\whoscored.py\" target=\"_blank\"><span style=\"color: #7f7f7f; text-decoration-color: #7f7f7f\">whoscored.py</span></a><span style=\"color: #7f7f7f; text-decoration-color: #7f7f7f\">:</span><a href=\"file://c:\\Users\\krawc\\OneDrive\\Documents\\code\\pythons\\predictor\\.venv\\Lib\\site-packages\\soccerdata\\whoscored.py#327\" target=\"_blank\"><span style=\"color: #7f7f7f; text-decoration-color: #7f7f7f\">327</span></a>\n",
       "</pre>\n"
      ],
      "text/plain": [
       "\u001b[2;36m[10/12/23 10:37:49]\u001b[0m\u001b[2;36m \u001b[0m\u001b[34mINFO    \u001b[0m Scraping game schedule for Sunday, Apr \u001b[1;36m30\u001b[0m \u001b[1;36m2023\u001b[0m                        \u001b]8;id=115934;file://c:\\Users\\krawc\\OneDrive\\Documents\\code\\pythons\\predictor\\.venv\\Lib\\site-packages\\soccerdata\\whoscored.py\u001b\\\u001b[2mwhoscored.py\u001b[0m\u001b]8;;\u001b\\\u001b[2m:\u001b[0m\u001b]8;id=521743;file://c:\\Users\\krawc\\OneDrive\\Documents\\code\\pythons\\predictor\\.venv\\Lib\\site-packages\\soccerdata\\whoscored.py#327\u001b\\\u001b[2m327\u001b[0m\u001b]8;;\u001b\\\n"
      ]
     },
     "metadata": {},
     "output_type": "display_data"
    },
    {
     "data": {
      "text/html": [
       "<pre style=\"white-space:pre;overflow-x:auto;line-height:normal;font-family:Menlo,'DejaVu Sans Mono',consolas,'Courier New',monospace\"><span style=\"color: #7fbfbf; text-decoration-color: #7fbfbf\">[10/12/23 10:37:55] </span><span style=\"color: #000080; text-decoration-color: #000080\">INFO    </span> Scraping game schedule for Wednesday, Mar <span style=\"color: #008080; text-decoration-color: #008080; font-weight: bold\">1</span> <span style=\"color: #008080; text-decoration-color: #008080; font-weight: bold\">2023</span>                      <a href=\"file://c:\\Users\\krawc\\OneDrive\\Documents\\code\\pythons\\predictor\\.venv\\Lib\\site-packages\\soccerdata\\whoscored.py\" target=\"_blank\"><span style=\"color: #7f7f7f; text-decoration-color: #7f7f7f\">whoscored.py</span></a><span style=\"color: #7f7f7f; text-decoration-color: #7f7f7f\">:</span><a href=\"file://c:\\Users\\krawc\\OneDrive\\Documents\\code\\pythons\\predictor\\.venv\\Lib\\site-packages\\soccerdata\\whoscored.py#327\" target=\"_blank\"><span style=\"color: #7f7f7f; text-decoration-color: #7f7f7f\">327</span></a>\n",
       "</pre>\n"
      ],
      "text/plain": [
       "\u001b[2;36m[10/12/23 10:37:55]\u001b[0m\u001b[2;36m \u001b[0m\u001b[34mINFO    \u001b[0m Scraping game schedule for Wednesday, Mar \u001b[1;36m1\u001b[0m \u001b[1;36m2023\u001b[0m                      \u001b]8;id=134116;file://c:\\Users\\krawc\\OneDrive\\Documents\\code\\pythons\\predictor\\.venv\\Lib\\site-packages\\soccerdata\\whoscored.py\u001b\\\u001b[2mwhoscored.py\u001b[0m\u001b]8;;\u001b\\\u001b[2m:\u001b[0m\u001b]8;id=256282;file://c:\\Users\\krawc\\OneDrive\\Documents\\code\\pythons\\predictor\\.venv\\Lib\\site-packages\\soccerdata\\whoscored.py#327\u001b\\\u001b[2m327\u001b[0m\u001b]8;;\u001b\\\n"
      ]
     },
     "metadata": {},
     "output_type": "display_data"
    },
    {
     "data": {
      "text/html": [
       "<pre style=\"white-space:pre;overflow-x:auto;line-height:normal;font-family:Menlo,'DejaVu Sans Mono',consolas,'Courier New',monospace\"><span style=\"color: #7fbfbf; text-decoration-color: #7fbfbf\">[10/12/23 10:37:56] </span><span style=\"color: #000080; text-decoration-color: #000080\">INFO    </span> Scraping game schedule for Saturday, Mar <span style=\"color: #008080; text-decoration-color: #008080; font-weight: bold\">4</span> <span style=\"color: #008080; text-decoration-color: #008080; font-weight: bold\">2023</span>                       <a href=\"file://c:\\Users\\krawc\\OneDrive\\Documents\\code\\pythons\\predictor\\.venv\\Lib\\site-packages\\soccerdata\\whoscored.py\" target=\"_blank\"><span style=\"color: #7f7f7f; text-decoration-color: #7f7f7f\">whoscored.py</span></a><span style=\"color: #7f7f7f; text-decoration-color: #7f7f7f\">:</span><a href=\"file://c:\\Users\\krawc\\OneDrive\\Documents\\code\\pythons\\predictor\\.venv\\Lib\\site-packages\\soccerdata\\whoscored.py#327\" target=\"_blank\"><span style=\"color: #7f7f7f; text-decoration-color: #7f7f7f\">327</span></a>\n",
       "</pre>\n"
      ],
      "text/plain": [
       "\u001b[2;36m[10/12/23 10:37:56]\u001b[0m\u001b[2;36m \u001b[0m\u001b[34mINFO    \u001b[0m Scraping game schedule for Saturday, Mar \u001b[1;36m4\u001b[0m \u001b[1;36m2023\u001b[0m                       \u001b]8;id=340027;file://c:\\Users\\krawc\\OneDrive\\Documents\\code\\pythons\\predictor\\.venv\\Lib\\site-packages\\soccerdata\\whoscored.py\u001b\\\u001b[2mwhoscored.py\u001b[0m\u001b]8;;\u001b\\\u001b[2m:\u001b[0m\u001b]8;id=903354;file://c:\\Users\\krawc\\OneDrive\\Documents\\code\\pythons\\predictor\\.venv\\Lib\\site-packages\\soccerdata\\whoscored.py#327\u001b\\\u001b[2m327\u001b[0m\u001b]8;;\u001b\\\n"
      ]
     },
     "metadata": {},
     "output_type": "display_data"
    },
    {
     "data": {
      "text/html": [
       "<pre style=\"white-space:pre;overflow-x:auto;line-height:normal;font-family:Menlo,'DejaVu Sans Mono',consolas,'Courier New',monospace\"><span style=\"color: #7fbfbf; text-decoration-color: #7fbfbf\">[10/12/23 10:37:57] </span><span style=\"color: #000080; text-decoration-color: #000080\">INFO    </span> Scraping game schedule for Sunday, Mar <span style=\"color: #008080; text-decoration-color: #008080; font-weight: bold\">5</span> <span style=\"color: #008080; text-decoration-color: #008080; font-weight: bold\">2023</span>                         <a href=\"file://c:\\Users\\krawc\\OneDrive\\Documents\\code\\pythons\\predictor\\.venv\\Lib\\site-packages\\soccerdata\\whoscored.py\" target=\"_blank\"><span style=\"color: #7f7f7f; text-decoration-color: #7f7f7f\">whoscored.py</span></a><span style=\"color: #7f7f7f; text-decoration-color: #7f7f7f\">:</span><a href=\"file://c:\\Users\\krawc\\OneDrive\\Documents\\code\\pythons\\predictor\\.venv\\Lib\\site-packages\\soccerdata\\whoscored.py#327\" target=\"_blank\"><span style=\"color: #7f7f7f; text-decoration-color: #7f7f7f\">327</span></a>\n",
       "</pre>\n"
      ],
      "text/plain": [
       "\u001b[2;36m[10/12/23 10:37:57]\u001b[0m\u001b[2;36m \u001b[0m\u001b[34mINFO    \u001b[0m Scraping game schedule for Sunday, Mar \u001b[1;36m5\u001b[0m \u001b[1;36m2023\u001b[0m                         \u001b]8;id=966621;file://c:\\Users\\krawc\\OneDrive\\Documents\\code\\pythons\\predictor\\.venv\\Lib\\site-packages\\soccerdata\\whoscored.py\u001b\\\u001b[2mwhoscored.py\u001b[0m\u001b]8;;\u001b\\\u001b[2m:\u001b[0m\u001b]8;id=130949;file://c:\\Users\\krawc\\OneDrive\\Documents\\code\\pythons\\predictor\\.venv\\Lib\\site-packages\\soccerdata\\whoscored.py#327\u001b\\\u001b[2m327\u001b[0m\u001b]8;;\u001b\\\n"
      ]
     },
     "metadata": {},
     "output_type": "display_data"
    },
    {
     "data": {
      "text/html": [
       "<pre style=\"white-space:pre;overflow-x:auto;line-height:normal;font-family:Menlo,'DejaVu Sans Mono',consolas,'Courier New',monospace\"><span style=\"color: #7fbfbf; text-decoration-color: #7fbfbf\">[10/12/23 10:37:58] </span><span style=\"color: #000080; text-decoration-color: #000080\">INFO    </span> Scraping game schedule for Monday, Mar <span style=\"color: #008080; text-decoration-color: #008080; font-weight: bold\">6</span> <span style=\"color: #008080; text-decoration-color: #008080; font-weight: bold\">2023</span>                         <a href=\"file://c:\\Users\\krawc\\OneDrive\\Documents\\code\\pythons\\predictor\\.venv\\Lib\\site-packages\\soccerdata\\whoscored.py\" target=\"_blank\"><span style=\"color: #7f7f7f; text-decoration-color: #7f7f7f\">whoscored.py</span></a><span style=\"color: #7f7f7f; text-decoration-color: #7f7f7f\">:</span><a href=\"file://c:\\Users\\krawc\\OneDrive\\Documents\\code\\pythons\\predictor\\.venv\\Lib\\site-packages\\soccerdata\\whoscored.py#327\" target=\"_blank\"><span style=\"color: #7f7f7f; text-decoration-color: #7f7f7f\">327</span></a>\n",
       "</pre>\n"
      ],
      "text/plain": [
       "\u001b[2;36m[10/12/23 10:37:58]\u001b[0m\u001b[2;36m \u001b[0m\u001b[34mINFO    \u001b[0m Scraping game schedule for Monday, Mar \u001b[1;36m6\u001b[0m \u001b[1;36m2023\u001b[0m                         \u001b]8;id=869268;file://c:\\Users\\krawc\\OneDrive\\Documents\\code\\pythons\\predictor\\.venv\\Lib\\site-packages\\soccerdata\\whoscored.py\u001b\\\u001b[2mwhoscored.py\u001b[0m\u001b]8;;\u001b\\\u001b[2m:\u001b[0m\u001b]8;id=926375;file://c:\\Users\\krawc\\OneDrive\\Documents\\code\\pythons\\predictor\\.venv\\Lib\\site-packages\\soccerdata\\whoscored.py#327\u001b\\\u001b[2m327\u001b[0m\u001b]8;;\u001b\\\n"
      ]
     },
     "metadata": {},
     "output_type": "display_data"
    },
    {
     "data": {
      "text/html": [
       "<pre style=\"white-space:pre;overflow-x:auto;line-height:normal;font-family:Menlo,'DejaVu Sans Mono',consolas,'Courier New',monospace\"><span style=\"color: #7fbfbf; text-decoration-color: #7fbfbf\">                    </span><span style=\"color: #000080; text-decoration-color: #000080\">INFO    </span> Scraping game schedule for Saturday, Mar <span style=\"color: #008080; text-decoration-color: #008080; font-weight: bold\">11</span> <span style=\"color: #008080; text-decoration-color: #008080; font-weight: bold\">2023</span>                      <a href=\"file://c:\\Users\\krawc\\OneDrive\\Documents\\code\\pythons\\predictor\\.venv\\Lib\\site-packages\\soccerdata\\whoscored.py\" target=\"_blank\"><span style=\"color: #7f7f7f; text-decoration-color: #7f7f7f\">whoscored.py</span></a><span style=\"color: #7f7f7f; text-decoration-color: #7f7f7f\">:</span><a href=\"file://c:\\Users\\krawc\\OneDrive\\Documents\\code\\pythons\\predictor\\.venv\\Lib\\site-packages\\soccerdata\\whoscored.py#327\" target=\"_blank\"><span style=\"color: #7f7f7f; text-decoration-color: #7f7f7f\">327</span></a>\n",
       "</pre>\n"
      ],
      "text/plain": [
       "\u001b[2;36m                   \u001b[0m\u001b[2;36m \u001b[0m\u001b[34mINFO    \u001b[0m Scraping game schedule for Saturday, Mar \u001b[1;36m11\u001b[0m \u001b[1;36m2023\u001b[0m                      \u001b]8;id=456433;file://c:\\Users\\krawc\\OneDrive\\Documents\\code\\pythons\\predictor\\.venv\\Lib\\site-packages\\soccerdata\\whoscored.py\u001b\\\u001b[2mwhoscored.py\u001b[0m\u001b]8;;\u001b\\\u001b[2m:\u001b[0m\u001b]8;id=577729;file://c:\\Users\\krawc\\OneDrive\\Documents\\code\\pythons\\predictor\\.venv\\Lib\\site-packages\\soccerdata\\whoscored.py#327\u001b\\\u001b[2m327\u001b[0m\u001b]8;;\u001b\\\n"
      ]
     },
     "metadata": {},
     "output_type": "display_data"
    },
    {
     "data": {
      "text/html": [
       "<pre style=\"white-space:pre;overflow-x:auto;line-height:normal;font-family:Menlo,'DejaVu Sans Mono',consolas,'Courier New',monospace\"><span style=\"color: #7fbfbf; text-decoration-color: #7fbfbf\">[10/12/23 10:38:00] </span><span style=\"color: #000080; text-decoration-color: #000080\">INFO    </span> Scraping game schedule for Sunday, Mar <span style=\"color: #008080; text-decoration-color: #008080; font-weight: bold\">12</span> <span style=\"color: #008080; text-decoration-color: #008080; font-weight: bold\">2023</span>                        <a href=\"file://c:\\Users\\krawc\\OneDrive\\Documents\\code\\pythons\\predictor\\.venv\\Lib\\site-packages\\soccerdata\\whoscored.py\" target=\"_blank\"><span style=\"color: #7f7f7f; text-decoration-color: #7f7f7f\">whoscored.py</span></a><span style=\"color: #7f7f7f; text-decoration-color: #7f7f7f\">:</span><a href=\"file://c:\\Users\\krawc\\OneDrive\\Documents\\code\\pythons\\predictor\\.venv\\Lib\\site-packages\\soccerdata\\whoscored.py#327\" target=\"_blank\"><span style=\"color: #7f7f7f; text-decoration-color: #7f7f7f\">327</span></a>\n",
       "</pre>\n"
      ],
      "text/plain": [
       "\u001b[2;36m[10/12/23 10:38:00]\u001b[0m\u001b[2;36m \u001b[0m\u001b[34mINFO    \u001b[0m Scraping game schedule for Sunday, Mar \u001b[1;36m12\u001b[0m \u001b[1;36m2023\u001b[0m                        \u001b]8;id=305345;file://c:\\Users\\krawc\\OneDrive\\Documents\\code\\pythons\\predictor\\.venv\\Lib\\site-packages\\soccerdata\\whoscored.py\u001b\\\u001b[2mwhoscored.py\u001b[0m\u001b]8;;\u001b\\\u001b[2m:\u001b[0m\u001b]8;id=616753;file://c:\\Users\\krawc\\OneDrive\\Documents\\code\\pythons\\predictor\\.venv\\Lib\\site-packages\\soccerdata\\whoscored.py#327\u001b\\\u001b[2m327\u001b[0m\u001b]8;;\u001b\\\n"
      ]
     },
     "metadata": {},
     "output_type": "display_data"
    },
    {
     "data": {
      "text/html": [
       "<pre style=\"white-space:pre;overflow-x:auto;line-height:normal;font-family:Menlo,'DejaVu Sans Mono',consolas,'Courier New',monospace\"><span style=\"color: #7fbfbf; text-decoration-color: #7fbfbf\">[10/12/23 10:38:01] </span><span style=\"color: #000080; text-decoration-color: #000080\">INFO    </span> Scraping game schedule for Wednesday, Mar <span style=\"color: #008080; text-decoration-color: #008080; font-weight: bold\">15</span> <span style=\"color: #008080; text-decoration-color: #008080; font-weight: bold\">2023</span>                     <a href=\"file://c:\\Users\\krawc\\OneDrive\\Documents\\code\\pythons\\predictor\\.venv\\Lib\\site-packages\\soccerdata\\whoscored.py\" target=\"_blank\"><span style=\"color: #7f7f7f; text-decoration-color: #7f7f7f\">whoscored.py</span></a><span style=\"color: #7f7f7f; text-decoration-color: #7f7f7f\">:</span><a href=\"file://c:\\Users\\krawc\\OneDrive\\Documents\\code\\pythons\\predictor\\.venv\\Lib\\site-packages\\soccerdata\\whoscored.py#327\" target=\"_blank\"><span style=\"color: #7f7f7f; text-decoration-color: #7f7f7f\">327</span></a>\n",
       "</pre>\n"
      ],
      "text/plain": [
       "\u001b[2;36m[10/12/23 10:38:01]\u001b[0m\u001b[2;36m \u001b[0m\u001b[34mINFO    \u001b[0m Scraping game schedule for Wednesday, Mar \u001b[1;36m15\u001b[0m \u001b[1;36m2023\u001b[0m                     \u001b]8;id=425083;file://c:\\Users\\krawc\\OneDrive\\Documents\\code\\pythons\\predictor\\.venv\\Lib\\site-packages\\soccerdata\\whoscored.py\u001b\\\u001b[2mwhoscored.py\u001b[0m\u001b]8;;\u001b\\\u001b[2m:\u001b[0m\u001b]8;id=568498;file://c:\\Users\\krawc\\OneDrive\\Documents\\code\\pythons\\predictor\\.venv\\Lib\\site-packages\\soccerdata\\whoscored.py#327\u001b\\\u001b[2m327\u001b[0m\u001b]8;;\u001b\\\n"
      ]
     },
     "metadata": {},
     "output_type": "display_data"
    },
    {
     "data": {
      "text/html": [
       "<pre style=\"white-space:pre;overflow-x:auto;line-height:normal;font-family:Menlo,'DejaVu Sans Mono',consolas,'Courier New',monospace\"><span style=\"color: #7fbfbf; text-decoration-color: #7fbfbf\">                    </span><span style=\"color: #000080; text-decoration-color: #000080\">INFO    </span> Scraping game schedule for Friday, Mar <span style=\"color: #008080; text-decoration-color: #008080; font-weight: bold\">17</span> <span style=\"color: #008080; text-decoration-color: #008080; font-weight: bold\">2023</span>                        <a href=\"file://c:\\Users\\krawc\\OneDrive\\Documents\\code\\pythons\\predictor\\.venv\\Lib\\site-packages\\soccerdata\\whoscored.py\" target=\"_blank\"><span style=\"color: #7f7f7f; text-decoration-color: #7f7f7f\">whoscored.py</span></a><span style=\"color: #7f7f7f; text-decoration-color: #7f7f7f\">:</span><a href=\"file://c:\\Users\\krawc\\OneDrive\\Documents\\code\\pythons\\predictor\\.venv\\Lib\\site-packages\\soccerdata\\whoscored.py#327\" target=\"_blank\"><span style=\"color: #7f7f7f; text-decoration-color: #7f7f7f\">327</span></a>\n",
       "</pre>\n"
      ],
      "text/plain": [
       "\u001b[2;36m                   \u001b[0m\u001b[2;36m \u001b[0m\u001b[34mINFO    \u001b[0m Scraping game schedule for Friday, Mar \u001b[1;36m17\u001b[0m \u001b[1;36m2023\u001b[0m                        \u001b]8;id=717755;file://c:\\Users\\krawc\\OneDrive\\Documents\\code\\pythons\\predictor\\.venv\\Lib\\site-packages\\soccerdata\\whoscored.py\u001b\\\u001b[2mwhoscored.py\u001b[0m\u001b]8;;\u001b\\\u001b[2m:\u001b[0m\u001b]8;id=957321;file://c:\\Users\\krawc\\OneDrive\\Documents\\code\\pythons\\predictor\\.venv\\Lib\\site-packages\\soccerdata\\whoscored.py#327\u001b\\\u001b[2m327\u001b[0m\u001b]8;;\u001b\\\n"
      ]
     },
     "metadata": {},
     "output_type": "display_data"
    },
    {
     "data": {
      "text/html": [
       "<pre style=\"white-space:pre;overflow-x:auto;line-height:normal;font-family:Menlo,'DejaVu Sans Mono',consolas,'Courier New',monospace\"><span style=\"color: #7fbfbf; text-decoration-color: #7fbfbf\">[10/12/23 10:38:02] </span><span style=\"color: #000080; text-decoration-color: #000080\">INFO    </span> Scraping game schedule for Saturday, Mar <span style=\"color: #008080; text-decoration-color: #008080; font-weight: bold\">18</span> <span style=\"color: #008080; text-decoration-color: #008080; font-weight: bold\">2023</span>                      <a href=\"file://c:\\Users\\krawc\\OneDrive\\Documents\\code\\pythons\\predictor\\.venv\\Lib\\site-packages\\soccerdata\\whoscored.py\" target=\"_blank\"><span style=\"color: #7f7f7f; text-decoration-color: #7f7f7f\">whoscored.py</span></a><span style=\"color: #7f7f7f; text-decoration-color: #7f7f7f\">:</span><a href=\"file://c:\\Users\\krawc\\OneDrive\\Documents\\code\\pythons\\predictor\\.venv\\Lib\\site-packages\\soccerdata\\whoscored.py#327\" target=\"_blank\"><span style=\"color: #7f7f7f; text-decoration-color: #7f7f7f\">327</span></a>\n",
       "</pre>\n"
      ],
      "text/plain": [
       "\u001b[2;36m[10/12/23 10:38:02]\u001b[0m\u001b[2;36m \u001b[0m\u001b[34mINFO    \u001b[0m Scraping game schedule for Saturday, Mar \u001b[1;36m18\u001b[0m \u001b[1;36m2023\u001b[0m                      \u001b]8;id=529847;file://c:\\Users\\krawc\\OneDrive\\Documents\\code\\pythons\\predictor\\.venv\\Lib\\site-packages\\soccerdata\\whoscored.py\u001b\\\u001b[2mwhoscored.py\u001b[0m\u001b]8;;\u001b\\\u001b[2m:\u001b[0m\u001b]8;id=418842;file://c:\\Users\\krawc\\OneDrive\\Documents\\code\\pythons\\predictor\\.venv\\Lib\\site-packages\\soccerdata\\whoscored.py#327\u001b\\\u001b[2m327\u001b[0m\u001b]8;;\u001b\\\n"
      ]
     },
     "metadata": {},
     "output_type": "display_data"
    },
    {
     "data": {
      "text/html": [
       "<pre style=\"white-space:pre;overflow-x:auto;line-height:normal;font-family:Menlo,'DejaVu Sans Mono',consolas,'Courier New',monospace\"><span style=\"color: #7fbfbf; text-decoration-color: #7fbfbf\">[10/12/23 10:38:03] </span><span style=\"color: #000080; text-decoration-color: #000080\">INFO    </span> Scraping game schedule for Sunday, Mar <span style=\"color: #008080; text-decoration-color: #008080; font-weight: bold\">19</span> <span style=\"color: #008080; text-decoration-color: #008080; font-weight: bold\">2023</span>                        <a href=\"file://c:\\Users\\krawc\\OneDrive\\Documents\\code\\pythons\\predictor\\.venv\\Lib\\site-packages\\soccerdata\\whoscored.py\" target=\"_blank\"><span style=\"color: #7f7f7f; text-decoration-color: #7f7f7f\">whoscored.py</span></a><span style=\"color: #7f7f7f; text-decoration-color: #7f7f7f\">:</span><a href=\"file://c:\\Users\\krawc\\OneDrive\\Documents\\code\\pythons\\predictor\\.venv\\Lib\\site-packages\\soccerdata\\whoscored.py#327\" target=\"_blank\"><span style=\"color: #7f7f7f; text-decoration-color: #7f7f7f\">327</span></a>\n",
       "</pre>\n"
      ],
      "text/plain": [
       "\u001b[2;36m[10/12/23 10:38:03]\u001b[0m\u001b[2;36m \u001b[0m\u001b[34mINFO    \u001b[0m Scraping game schedule for Sunday, Mar \u001b[1;36m19\u001b[0m \u001b[1;36m2023\u001b[0m                        \u001b]8;id=296207;file://c:\\Users\\krawc\\OneDrive\\Documents\\code\\pythons\\predictor\\.venv\\Lib\\site-packages\\soccerdata\\whoscored.py\u001b\\\u001b[2mwhoscored.py\u001b[0m\u001b]8;;\u001b\\\u001b[2m:\u001b[0m\u001b]8;id=774592;file://c:\\Users\\krawc\\OneDrive\\Documents\\code\\pythons\\predictor\\.venv\\Lib\\site-packages\\soccerdata\\whoscored.py#327\u001b\\\u001b[2m327\u001b[0m\u001b]8;;\u001b\\\n"
      ]
     },
     "metadata": {},
     "output_type": "display_data"
    },
    {
     "data": {
      "text/html": [
       "<pre style=\"white-space:pre;overflow-x:auto;line-height:normal;font-family:Menlo,'DejaVu Sans Mono',consolas,'Courier New',monospace\"><span style=\"color: #7fbfbf; text-decoration-color: #7fbfbf\">[10/12/23 10:38:09] </span><span style=\"color: #000080; text-decoration-color: #000080\">INFO    </span> Scraping game schedule for Friday, Feb <span style=\"color: #008080; text-decoration-color: #008080; font-weight: bold\">3</span> <span style=\"color: #008080; text-decoration-color: #008080; font-weight: bold\">2023</span>                         <a href=\"file://c:\\Users\\krawc\\OneDrive\\Documents\\code\\pythons\\predictor\\.venv\\Lib\\site-packages\\soccerdata\\whoscored.py\" target=\"_blank\"><span style=\"color: #7f7f7f; text-decoration-color: #7f7f7f\">whoscored.py</span></a><span style=\"color: #7f7f7f; text-decoration-color: #7f7f7f\">:</span><a href=\"file://c:\\Users\\krawc\\OneDrive\\Documents\\code\\pythons\\predictor\\.venv\\Lib\\site-packages\\soccerdata\\whoscored.py#327\" target=\"_blank\"><span style=\"color: #7f7f7f; text-decoration-color: #7f7f7f\">327</span></a>\n",
       "</pre>\n"
      ],
      "text/plain": [
       "\u001b[2;36m[10/12/23 10:38:09]\u001b[0m\u001b[2;36m \u001b[0m\u001b[34mINFO    \u001b[0m Scraping game schedule for Friday, Feb \u001b[1;36m3\u001b[0m \u001b[1;36m2023\u001b[0m                         \u001b]8;id=544913;file://c:\\Users\\krawc\\OneDrive\\Documents\\code\\pythons\\predictor\\.venv\\Lib\\site-packages\\soccerdata\\whoscored.py\u001b\\\u001b[2mwhoscored.py\u001b[0m\u001b]8;;\u001b\\\u001b[2m:\u001b[0m\u001b]8;id=747454;file://c:\\Users\\krawc\\OneDrive\\Documents\\code\\pythons\\predictor\\.venv\\Lib\\site-packages\\soccerdata\\whoscored.py#327\u001b\\\u001b[2m327\u001b[0m\u001b]8;;\u001b\\\n"
      ]
     },
     "metadata": {},
     "output_type": "display_data"
    },
    {
     "data": {
      "text/html": [
       "<pre style=\"white-space:pre;overflow-x:auto;line-height:normal;font-family:Menlo,'DejaVu Sans Mono',consolas,'Courier New',monospace\"><span style=\"color: #7fbfbf; text-decoration-color: #7fbfbf\">                    </span><span style=\"color: #000080; text-decoration-color: #000080\">INFO    </span> Scraping game schedule for Saturday, Feb <span style=\"color: #008080; text-decoration-color: #008080; font-weight: bold\">4</span> <span style=\"color: #008080; text-decoration-color: #008080; font-weight: bold\">2023</span>                       <a href=\"file://c:\\Users\\krawc\\OneDrive\\Documents\\code\\pythons\\predictor\\.venv\\Lib\\site-packages\\soccerdata\\whoscored.py\" target=\"_blank\"><span style=\"color: #7f7f7f; text-decoration-color: #7f7f7f\">whoscored.py</span></a><span style=\"color: #7f7f7f; text-decoration-color: #7f7f7f\">:</span><a href=\"file://c:\\Users\\krawc\\OneDrive\\Documents\\code\\pythons\\predictor\\.venv\\Lib\\site-packages\\soccerdata\\whoscored.py#327\" target=\"_blank\"><span style=\"color: #7f7f7f; text-decoration-color: #7f7f7f\">327</span></a>\n",
       "</pre>\n"
      ],
      "text/plain": [
       "\u001b[2;36m                   \u001b[0m\u001b[2;36m \u001b[0m\u001b[34mINFO    \u001b[0m Scraping game schedule for Saturday, Feb \u001b[1;36m4\u001b[0m \u001b[1;36m2023\u001b[0m                       \u001b]8;id=879103;file://c:\\Users\\krawc\\OneDrive\\Documents\\code\\pythons\\predictor\\.venv\\Lib\\site-packages\\soccerdata\\whoscored.py\u001b\\\u001b[2mwhoscored.py\u001b[0m\u001b]8;;\u001b\\\u001b[2m:\u001b[0m\u001b]8;id=288214;file://c:\\Users\\krawc\\OneDrive\\Documents\\code\\pythons\\predictor\\.venv\\Lib\\site-packages\\soccerdata\\whoscored.py#327\u001b\\\u001b[2m327\u001b[0m\u001b]8;;\u001b\\\n"
      ]
     },
     "metadata": {},
     "output_type": "display_data"
    },
    {
     "data": {
      "text/html": [
       "<pre style=\"white-space:pre;overflow-x:auto;line-height:normal;font-family:Menlo,'DejaVu Sans Mono',consolas,'Courier New',monospace\"><span style=\"color: #7fbfbf; text-decoration-color: #7fbfbf\">[10/12/23 10:38:11] </span><span style=\"color: #000080; text-decoration-color: #000080\">INFO    </span> Scraping game schedule for Sunday, Feb <span style=\"color: #008080; text-decoration-color: #008080; font-weight: bold\">5</span> <span style=\"color: #008080; text-decoration-color: #008080; font-weight: bold\">2023</span>                         <a href=\"file://c:\\Users\\krawc\\OneDrive\\Documents\\code\\pythons\\predictor\\.venv\\Lib\\site-packages\\soccerdata\\whoscored.py\" target=\"_blank\"><span style=\"color: #7f7f7f; text-decoration-color: #7f7f7f\">whoscored.py</span></a><span style=\"color: #7f7f7f; text-decoration-color: #7f7f7f\">:</span><a href=\"file://c:\\Users\\krawc\\OneDrive\\Documents\\code\\pythons\\predictor\\.venv\\Lib\\site-packages\\soccerdata\\whoscored.py#327\" target=\"_blank\"><span style=\"color: #7f7f7f; text-decoration-color: #7f7f7f\">327</span></a>\n",
       "</pre>\n"
      ],
      "text/plain": [
       "\u001b[2;36m[10/12/23 10:38:11]\u001b[0m\u001b[2;36m \u001b[0m\u001b[34mINFO    \u001b[0m Scraping game schedule for Sunday, Feb \u001b[1;36m5\u001b[0m \u001b[1;36m2023\u001b[0m                         \u001b]8;id=950818;file://c:\\Users\\krawc\\OneDrive\\Documents\\code\\pythons\\predictor\\.venv\\Lib\\site-packages\\soccerdata\\whoscored.py\u001b\\\u001b[2mwhoscored.py\u001b[0m\u001b]8;;\u001b\\\u001b[2m:\u001b[0m\u001b]8;id=893037;file://c:\\Users\\krawc\\OneDrive\\Documents\\code\\pythons\\predictor\\.venv\\Lib\\site-packages\\soccerdata\\whoscored.py#327\u001b\\\u001b[2m327\u001b[0m\u001b]8;;\u001b\\\n"
      ]
     },
     "metadata": {},
     "output_type": "display_data"
    },
    {
     "data": {
      "text/html": [
       "<pre style=\"white-space:pre;overflow-x:auto;line-height:normal;font-family:Menlo,'DejaVu Sans Mono',consolas,'Courier New',monospace\"><span style=\"color: #7fbfbf; text-decoration-color: #7fbfbf\">                    </span><span style=\"color: #000080; text-decoration-color: #000080\">INFO    </span> Scraping game schedule for Wednesday, Feb <span style=\"color: #008080; text-decoration-color: #008080; font-weight: bold\">8</span> <span style=\"color: #008080; text-decoration-color: #008080; font-weight: bold\">2023</span>                      <a href=\"file://c:\\Users\\krawc\\OneDrive\\Documents\\code\\pythons\\predictor\\.venv\\Lib\\site-packages\\soccerdata\\whoscored.py\" target=\"_blank\"><span style=\"color: #7f7f7f; text-decoration-color: #7f7f7f\">whoscored.py</span></a><span style=\"color: #7f7f7f; text-decoration-color: #7f7f7f\">:</span><a href=\"file://c:\\Users\\krawc\\OneDrive\\Documents\\code\\pythons\\predictor\\.venv\\Lib\\site-packages\\soccerdata\\whoscored.py#327\" target=\"_blank\"><span style=\"color: #7f7f7f; text-decoration-color: #7f7f7f\">327</span></a>\n",
       "</pre>\n"
      ],
      "text/plain": [
       "\u001b[2;36m                   \u001b[0m\u001b[2;36m \u001b[0m\u001b[34mINFO    \u001b[0m Scraping game schedule for Wednesday, Feb \u001b[1;36m8\u001b[0m \u001b[1;36m2023\u001b[0m                      \u001b]8;id=322091;file://c:\\Users\\krawc\\OneDrive\\Documents\\code\\pythons\\predictor\\.venv\\Lib\\site-packages\\soccerdata\\whoscored.py\u001b\\\u001b[2mwhoscored.py\u001b[0m\u001b]8;;\u001b\\\u001b[2m:\u001b[0m\u001b]8;id=432712;file://c:\\Users\\krawc\\OneDrive\\Documents\\code\\pythons\\predictor\\.venv\\Lib\\site-packages\\soccerdata\\whoscored.py#327\u001b\\\u001b[2m327\u001b[0m\u001b]8;;\u001b\\\n"
      ]
     },
     "metadata": {},
     "output_type": "display_data"
    },
    {
     "data": {
      "text/html": [
       "<pre style=\"white-space:pre;overflow-x:auto;line-height:normal;font-family:Menlo,'DejaVu Sans Mono',consolas,'Courier New',monospace\"><span style=\"color: #7fbfbf; text-decoration-color: #7fbfbf\">                    </span><span style=\"color: #000080; text-decoration-color: #000080\">INFO    </span> Scraping game schedule for Saturday, Feb <span style=\"color: #008080; text-decoration-color: #008080; font-weight: bold\">11</span> <span style=\"color: #008080; text-decoration-color: #008080; font-weight: bold\">2023</span>                      <a href=\"file://c:\\Users\\krawc\\OneDrive\\Documents\\code\\pythons\\predictor\\.venv\\Lib\\site-packages\\soccerdata\\whoscored.py\" target=\"_blank\"><span style=\"color: #7f7f7f; text-decoration-color: #7f7f7f\">whoscored.py</span></a><span style=\"color: #7f7f7f; text-decoration-color: #7f7f7f\">:</span><a href=\"file://c:\\Users\\krawc\\OneDrive\\Documents\\code\\pythons\\predictor\\.venv\\Lib\\site-packages\\soccerdata\\whoscored.py#327\" target=\"_blank\"><span style=\"color: #7f7f7f; text-decoration-color: #7f7f7f\">327</span></a>\n",
       "</pre>\n"
      ],
      "text/plain": [
       "\u001b[2;36m                   \u001b[0m\u001b[2;36m \u001b[0m\u001b[34mINFO    \u001b[0m Scraping game schedule for Saturday, Feb \u001b[1;36m11\u001b[0m \u001b[1;36m2023\u001b[0m                      \u001b]8;id=469653;file://c:\\Users\\krawc\\OneDrive\\Documents\\code\\pythons\\predictor\\.venv\\Lib\\site-packages\\soccerdata\\whoscored.py\u001b\\\u001b[2mwhoscored.py\u001b[0m\u001b]8;;\u001b\\\u001b[2m:\u001b[0m\u001b]8;id=904588;file://c:\\Users\\krawc\\OneDrive\\Documents\\code\\pythons\\predictor\\.venv\\Lib\\site-packages\\soccerdata\\whoscored.py#327\u001b\\\u001b[2m327\u001b[0m\u001b]8;;\u001b\\\n"
      ]
     },
     "metadata": {},
     "output_type": "display_data"
    },
    {
     "data": {
      "text/html": [
       "<pre style=\"white-space:pre;overflow-x:auto;line-height:normal;font-family:Menlo,'DejaVu Sans Mono',consolas,'Courier New',monospace\"><span style=\"color: #7fbfbf; text-decoration-color: #7fbfbf\">[10/12/23 10:38:14] </span><span style=\"color: #000080; text-decoration-color: #000080\">INFO    </span> Scraping game schedule for Sunday, Feb <span style=\"color: #008080; text-decoration-color: #008080; font-weight: bold\">12</span> <span style=\"color: #008080; text-decoration-color: #008080; font-weight: bold\">2023</span>                        <a href=\"file://c:\\Users\\krawc\\OneDrive\\Documents\\code\\pythons\\predictor\\.venv\\Lib\\site-packages\\soccerdata\\whoscored.py\" target=\"_blank\"><span style=\"color: #7f7f7f; text-decoration-color: #7f7f7f\">whoscored.py</span></a><span style=\"color: #7f7f7f; text-decoration-color: #7f7f7f\">:</span><a href=\"file://c:\\Users\\krawc\\OneDrive\\Documents\\code\\pythons\\predictor\\.venv\\Lib\\site-packages\\soccerdata\\whoscored.py#327\" target=\"_blank\"><span style=\"color: #7f7f7f; text-decoration-color: #7f7f7f\">327</span></a>\n",
       "</pre>\n"
      ],
      "text/plain": [
       "\u001b[2;36m[10/12/23 10:38:14]\u001b[0m\u001b[2;36m \u001b[0m\u001b[34mINFO    \u001b[0m Scraping game schedule for Sunday, Feb \u001b[1;36m12\u001b[0m \u001b[1;36m2023\u001b[0m                        \u001b]8;id=194271;file://c:\\Users\\krawc\\OneDrive\\Documents\\code\\pythons\\predictor\\.venv\\Lib\\site-packages\\soccerdata\\whoscored.py\u001b\\\u001b[2mwhoscored.py\u001b[0m\u001b]8;;\u001b\\\u001b[2m:\u001b[0m\u001b]8;id=107741;file://c:\\Users\\krawc\\OneDrive\\Documents\\code\\pythons\\predictor\\.venv\\Lib\\site-packages\\soccerdata\\whoscored.py#327\u001b\\\u001b[2m327\u001b[0m\u001b]8;;\u001b\\\n"
      ]
     },
     "metadata": {},
     "output_type": "display_data"
    },
    {
     "data": {
      "text/html": [
       "<pre style=\"white-space:pre;overflow-x:auto;line-height:normal;font-family:Menlo,'DejaVu Sans Mono',consolas,'Courier New',monospace\"><span style=\"color: #7fbfbf; text-decoration-color: #7fbfbf\">                    </span><span style=\"color: #000080; text-decoration-color: #000080\">INFO    </span> Scraping game schedule for Monday, Feb <span style=\"color: #008080; text-decoration-color: #008080; font-weight: bold\">13</span> <span style=\"color: #008080; text-decoration-color: #008080; font-weight: bold\">2023</span>                        <a href=\"file://c:\\Users\\krawc\\OneDrive\\Documents\\code\\pythons\\predictor\\.venv\\Lib\\site-packages\\soccerdata\\whoscored.py\" target=\"_blank\"><span style=\"color: #7f7f7f; text-decoration-color: #7f7f7f\">whoscored.py</span></a><span style=\"color: #7f7f7f; text-decoration-color: #7f7f7f\">:</span><a href=\"file://c:\\Users\\krawc\\OneDrive\\Documents\\code\\pythons\\predictor\\.venv\\Lib\\site-packages\\soccerdata\\whoscored.py#327\" target=\"_blank\"><span style=\"color: #7f7f7f; text-decoration-color: #7f7f7f\">327</span></a>\n",
       "</pre>\n"
      ],
      "text/plain": [
       "\u001b[2;36m                   \u001b[0m\u001b[2;36m \u001b[0m\u001b[34mINFO    \u001b[0m Scraping game schedule for Monday, Feb \u001b[1;36m13\u001b[0m \u001b[1;36m2023\u001b[0m                        \u001b]8;id=90015;file://c:\\Users\\krawc\\OneDrive\\Documents\\code\\pythons\\predictor\\.venv\\Lib\\site-packages\\soccerdata\\whoscored.py\u001b\\\u001b[2mwhoscored.py\u001b[0m\u001b]8;;\u001b\\\u001b[2m:\u001b[0m\u001b]8;id=10413;file://c:\\Users\\krawc\\OneDrive\\Documents\\code\\pythons\\predictor\\.venv\\Lib\\site-packages\\soccerdata\\whoscored.py#327\u001b\\\u001b[2m327\u001b[0m\u001b]8;;\u001b\\\n"
      ]
     },
     "metadata": {},
     "output_type": "display_data"
    },
    {
     "data": {
      "text/html": [
       "<pre style=\"white-space:pre;overflow-x:auto;line-height:normal;font-family:Menlo,'DejaVu Sans Mono',consolas,'Courier New',monospace\"><span style=\"color: #7fbfbf; text-decoration-color: #7fbfbf\">[10/12/23 10:38:15] </span><span style=\"color: #000080; text-decoration-color: #000080\">INFO    </span> Scraping game schedule for Wednesday, Feb <span style=\"color: #008080; text-decoration-color: #008080; font-weight: bold\">15</span> <span style=\"color: #008080; text-decoration-color: #008080; font-weight: bold\">2023</span>                     <a href=\"file://c:\\Users\\krawc\\OneDrive\\Documents\\code\\pythons\\predictor\\.venv\\Lib\\site-packages\\soccerdata\\whoscored.py\" target=\"_blank\"><span style=\"color: #7f7f7f; text-decoration-color: #7f7f7f\">whoscored.py</span></a><span style=\"color: #7f7f7f; text-decoration-color: #7f7f7f\">:</span><a href=\"file://c:\\Users\\krawc\\OneDrive\\Documents\\code\\pythons\\predictor\\.venv\\Lib\\site-packages\\soccerdata\\whoscored.py#327\" target=\"_blank\"><span style=\"color: #7f7f7f; text-decoration-color: #7f7f7f\">327</span></a>\n",
       "</pre>\n"
      ],
      "text/plain": [
       "\u001b[2;36m[10/12/23 10:38:15]\u001b[0m\u001b[2;36m \u001b[0m\u001b[34mINFO    \u001b[0m Scraping game schedule for Wednesday, Feb \u001b[1;36m15\u001b[0m \u001b[1;36m2023\u001b[0m                     \u001b]8;id=688671;file://c:\\Users\\krawc\\OneDrive\\Documents\\code\\pythons\\predictor\\.venv\\Lib\\site-packages\\soccerdata\\whoscored.py\u001b\\\u001b[2mwhoscored.py\u001b[0m\u001b]8;;\u001b\\\u001b[2m:\u001b[0m\u001b]8;id=486714;file://c:\\Users\\krawc\\OneDrive\\Documents\\code\\pythons\\predictor\\.venv\\Lib\\site-packages\\soccerdata\\whoscored.py#327\u001b\\\u001b[2m327\u001b[0m\u001b]8;;\u001b\\\n"
      ]
     },
     "metadata": {},
     "output_type": "display_data"
    },
    {
     "data": {
      "text/html": [
       "<pre style=\"white-space:pre;overflow-x:auto;line-height:normal;font-family:Menlo,'DejaVu Sans Mono',consolas,'Courier New',monospace\"><span style=\"color: #7fbfbf; text-decoration-color: #7fbfbf\">                    </span><span style=\"color: #000080; text-decoration-color: #000080\">INFO    </span> Scraping game schedule for Saturday, Feb <span style=\"color: #008080; text-decoration-color: #008080; font-weight: bold\">18</span> <span style=\"color: #008080; text-decoration-color: #008080; font-weight: bold\">2023</span>                      <a href=\"file://c:\\Users\\krawc\\OneDrive\\Documents\\code\\pythons\\predictor\\.venv\\Lib\\site-packages\\soccerdata\\whoscored.py\" target=\"_blank\"><span style=\"color: #7f7f7f; text-decoration-color: #7f7f7f\">whoscored.py</span></a><span style=\"color: #7f7f7f; text-decoration-color: #7f7f7f\">:</span><a href=\"file://c:\\Users\\krawc\\OneDrive\\Documents\\code\\pythons\\predictor\\.venv\\Lib\\site-packages\\soccerdata\\whoscored.py#327\" target=\"_blank\"><span style=\"color: #7f7f7f; text-decoration-color: #7f7f7f\">327</span></a>\n",
       "</pre>\n"
      ],
      "text/plain": [
       "\u001b[2;36m                   \u001b[0m\u001b[2;36m \u001b[0m\u001b[34mINFO    \u001b[0m Scraping game schedule for Saturday, Feb \u001b[1;36m18\u001b[0m \u001b[1;36m2023\u001b[0m                      \u001b]8;id=965589;file://c:\\Users\\krawc\\OneDrive\\Documents\\code\\pythons\\predictor\\.venv\\Lib\\site-packages\\soccerdata\\whoscored.py\u001b\\\u001b[2mwhoscored.py\u001b[0m\u001b]8;;\u001b\\\u001b[2m:\u001b[0m\u001b]8;id=51510;file://c:\\Users\\krawc\\OneDrive\\Documents\\code\\pythons\\predictor\\.venv\\Lib\\site-packages\\soccerdata\\whoscored.py#327\u001b\\\u001b[2m327\u001b[0m\u001b]8;;\u001b\\\n"
      ]
     },
     "metadata": {},
     "output_type": "display_data"
    },
    {
     "data": {
      "text/html": [
       "<pre style=\"white-space:pre;overflow-x:auto;line-height:normal;font-family:Menlo,'DejaVu Sans Mono',consolas,'Courier New',monospace\"><span style=\"color: #7fbfbf; text-decoration-color: #7fbfbf\">[10/12/23 10:38:17] </span><span style=\"color: #000080; text-decoration-color: #000080\">INFO    </span> Scraping game schedule for Sunday, Feb <span style=\"color: #008080; text-decoration-color: #008080; font-weight: bold\">19</span> <span style=\"color: #008080; text-decoration-color: #008080; font-weight: bold\">2023</span>                        <a href=\"file://c:\\Users\\krawc\\OneDrive\\Documents\\code\\pythons\\predictor\\.venv\\Lib\\site-packages\\soccerdata\\whoscored.py\" target=\"_blank\"><span style=\"color: #7f7f7f; text-decoration-color: #7f7f7f\">whoscored.py</span></a><span style=\"color: #7f7f7f; text-decoration-color: #7f7f7f\">:</span><a href=\"file://c:\\Users\\krawc\\OneDrive\\Documents\\code\\pythons\\predictor\\.venv\\Lib\\site-packages\\soccerdata\\whoscored.py#327\" target=\"_blank\"><span style=\"color: #7f7f7f; text-decoration-color: #7f7f7f\">327</span></a>\n",
       "</pre>\n"
      ],
      "text/plain": [
       "\u001b[2;36m[10/12/23 10:38:17]\u001b[0m\u001b[2;36m \u001b[0m\u001b[34mINFO    \u001b[0m Scraping game schedule for Sunday, Feb \u001b[1;36m19\u001b[0m \u001b[1;36m2023\u001b[0m                        \u001b]8;id=157137;file://c:\\Users\\krawc\\OneDrive\\Documents\\code\\pythons\\predictor\\.venv\\Lib\\site-packages\\soccerdata\\whoscored.py\u001b\\\u001b[2mwhoscored.py\u001b[0m\u001b]8;;\u001b\\\u001b[2m:\u001b[0m\u001b]8;id=289073;file://c:\\Users\\krawc\\OneDrive\\Documents\\code\\pythons\\predictor\\.venv\\Lib\\site-packages\\soccerdata\\whoscored.py#327\u001b\\\u001b[2m327\u001b[0m\u001b]8;;\u001b\\\n"
      ]
     },
     "metadata": {},
     "output_type": "display_data"
    },
    {
     "data": {
      "text/html": [
       "<pre style=\"white-space:pre;overflow-x:auto;line-height:normal;font-family:Menlo,'DejaVu Sans Mono',consolas,'Courier New',monospace\"><span style=\"color: #7fbfbf; text-decoration-color: #7fbfbf\">                    </span><span style=\"color: #000080; text-decoration-color: #000080\">INFO    </span> Scraping game schedule for Friday, Feb <span style=\"color: #008080; text-decoration-color: #008080; font-weight: bold\">24</span> <span style=\"color: #008080; text-decoration-color: #008080; font-weight: bold\">2023</span>                        <a href=\"file://c:\\Users\\krawc\\OneDrive\\Documents\\code\\pythons\\predictor\\.venv\\Lib\\site-packages\\soccerdata\\whoscored.py\" target=\"_blank\"><span style=\"color: #7f7f7f; text-decoration-color: #7f7f7f\">whoscored.py</span></a><span style=\"color: #7f7f7f; text-decoration-color: #7f7f7f\">:</span><a href=\"file://c:\\Users\\krawc\\OneDrive\\Documents\\code\\pythons\\predictor\\.venv\\Lib\\site-packages\\soccerdata\\whoscored.py#327\" target=\"_blank\"><span style=\"color: #7f7f7f; text-decoration-color: #7f7f7f\">327</span></a>\n",
       "</pre>\n"
      ],
      "text/plain": [
       "\u001b[2;36m                   \u001b[0m\u001b[2;36m \u001b[0m\u001b[34mINFO    \u001b[0m Scraping game schedule for Friday, Feb \u001b[1;36m24\u001b[0m \u001b[1;36m2023\u001b[0m                        \u001b]8;id=372632;file://c:\\Users\\krawc\\OneDrive\\Documents\\code\\pythons\\predictor\\.venv\\Lib\\site-packages\\soccerdata\\whoscored.py\u001b\\\u001b[2mwhoscored.py\u001b[0m\u001b]8;;\u001b\\\u001b[2m:\u001b[0m\u001b]8;id=911097;file://c:\\Users\\krawc\\OneDrive\\Documents\\code\\pythons\\predictor\\.venv\\Lib\\site-packages\\soccerdata\\whoscored.py#327\u001b\\\u001b[2m327\u001b[0m\u001b]8;;\u001b\\\n"
      ]
     },
     "metadata": {},
     "output_type": "display_data"
    },
    {
     "data": {
      "text/html": [
       "<pre style=\"white-space:pre;overflow-x:auto;line-height:normal;font-family:Menlo,'DejaVu Sans Mono',consolas,'Courier New',monospace\"><span style=\"color: #7fbfbf; text-decoration-color: #7fbfbf\">[10/12/23 10:38:18] </span><span style=\"color: #000080; text-decoration-color: #000080\">INFO    </span> Scraping game schedule for Saturday, Feb <span style=\"color: #008080; text-decoration-color: #008080; font-weight: bold\">25</span> <span style=\"color: #008080; text-decoration-color: #008080; font-weight: bold\">2023</span>                      <a href=\"file://c:\\Users\\krawc\\OneDrive\\Documents\\code\\pythons\\predictor\\.venv\\Lib\\site-packages\\soccerdata\\whoscored.py\" target=\"_blank\"><span style=\"color: #7f7f7f; text-decoration-color: #7f7f7f\">whoscored.py</span></a><span style=\"color: #7f7f7f; text-decoration-color: #7f7f7f\">:</span><a href=\"file://c:\\Users\\krawc\\OneDrive\\Documents\\code\\pythons\\predictor\\.venv\\Lib\\site-packages\\soccerdata\\whoscored.py#327\" target=\"_blank\"><span style=\"color: #7f7f7f; text-decoration-color: #7f7f7f\">327</span></a>\n",
       "</pre>\n"
      ],
      "text/plain": [
       "\u001b[2;36m[10/12/23 10:38:18]\u001b[0m\u001b[2;36m \u001b[0m\u001b[34mINFO    \u001b[0m Scraping game schedule for Saturday, Feb \u001b[1;36m25\u001b[0m \u001b[1;36m2023\u001b[0m                      \u001b]8;id=19;file://c:\\Users\\krawc\\OneDrive\\Documents\\code\\pythons\\predictor\\.venv\\Lib\\site-packages\\soccerdata\\whoscored.py\u001b\\\u001b[2mwhoscored.py\u001b[0m\u001b]8;;\u001b\\\u001b[2m:\u001b[0m\u001b]8;id=878072;file://c:\\Users\\krawc\\OneDrive\\Documents\\code\\pythons\\predictor\\.venv\\Lib\\site-packages\\soccerdata\\whoscored.py#327\u001b\\\u001b[2m327\u001b[0m\u001b]8;;\u001b\\\n"
      ]
     },
     "metadata": {},
     "output_type": "display_data"
    },
    {
     "data": {
      "text/html": [
       "<pre style=\"white-space:pre;overflow-x:auto;line-height:normal;font-family:Menlo,'DejaVu Sans Mono',consolas,'Courier New',monospace\"><span style=\"color: #7fbfbf; text-decoration-color: #7fbfbf\">[10/12/23 10:38:19] </span><span style=\"color: #000080; text-decoration-color: #000080\">INFO    </span> Scraping game schedule for Sunday, Feb <span style=\"color: #008080; text-decoration-color: #008080; font-weight: bold\">26</span> <span style=\"color: #008080; text-decoration-color: #008080; font-weight: bold\">2023</span>                        <a href=\"file://c:\\Users\\krawc\\OneDrive\\Documents\\code\\pythons\\predictor\\.venv\\Lib\\site-packages\\soccerdata\\whoscored.py\" target=\"_blank\"><span style=\"color: #7f7f7f; text-decoration-color: #7f7f7f\">whoscored.py</span></a><span style=\"color: #7f7f7f; text-decoration-color: #7f7f7f\">:</span><a href=\"file://c:\\Users\\krawc\\OneDrive\\Documents\\code\\pythons\\predictor\\.venv\\Lib\\site-packages\\soccerdata\\whoscored.py#327\" target=\"_blank\"><span style=\"color: #7f7f7f; text-decoration-color: #7f7f7f\">327</span></a>\n",
       "</pre>\n"
      ],
      "text/plain": [
       "\u001b[2;36m[10/12/23 10:38:19]\u001b[0m\u001b[2;36m \u001b[0m\u001b[34mINFO    \u001b[0m Scraping game schedule for Sunday, Feb \u001b[1;36m26\u001b[0m \u001b[1;36m2023\u001b[0m                        \u001b]8;id=786541;file://c:\\Users\\krawc\\OneDrive\\Documents\\code\\pythons\\predictor\\.venv\\Lib\\site-packages\\soccerdata\\whoscored.py\u001b\\\u001b[2mwhoscored.py\u001b[0m\u001b]8;;\u001b\\\u001b[2m:\u001b[0m\u001b]8;id=521761;file://c:\\Users\\krawc\\OneDrive\\Documents\\code\\pythons\\predictor\\.venv\\Lib\\site-packages\\soccerdata\\whoscored.py#327\u001b\\\u001b[2m327\u001b[0m\u001b]8;;\u001b\\\n"
      ]
     },
     "metadata": {},
     "output_type": "display_data"
    },
    {
     "data": {
      "text/html": [
       "<pre style=\"white-space:pre;overflow-x:auto;line-height:normal;font-family:Menlo,'DejaVu Sans Mono',consolas,'Courier New',monospace\"><span style=\"color: #7fbfbf; text-decoration-color: #7fbfbf\">[10/12/23 10:38:25] </span><span style=\"color: #000080; text-decoration-color: #000080\">INFO    </span> Scraping game schedule for Sunday, Jan <span style=\"color: #008080; text-decoration-color: #008080; font-weight: bold\">1</span> <span style=\"color: #008080; text-decoration-color: #008080; font-weight: bold\">2023</span>                         <a href=\"file://c:\\Users\\krawc\\OneDrive\\Documents\\code\\pythons\\predictor\\.venv\\Lib\\site-packages\\soccerdata\\whoscored.py\" target=\"_blank\"><span style=\"color: #7f7f7f; text-decoration-color: #7f7f7f\">whoscored.py</span></a><span style=\"color: #7f7f7f; text-decoration-color: #7f7f7f\">:</span><a href=\"file://c:\\Users\\krawc\\OneDrive\\Documents\\code\\pythons\\predictor\\.venv\\Lib\\site-packages\\soccerdata\\whoscored.py#327\" target=\"_blank\"><span style=\"color: #7f7f7f; text-decoration-color: #7f7f7f\">327</span></a>\n",
       "</pre>\n"
      ],
      "text/plain": [
       "\u001b[2;36m[10/12/23 10:38:25]\u001b[0m\u001b[2;36m \u001b[0m\u001b[34mINFO    \u001b[0m Scraping game schedule for Sunday, Jan \u001b[1;36m1\u001b[0m \u001b[1;36m2023\u001b[0m                         \u001b]8;id=621655;file://c:\\Users\\krawc\\OneDrive\\Documents\\code\\pythons\\predictor\\.venv\\Lib\\site-packages\\soccerdata\\whoscored.py\u001b\\\u001b[2mwhoscored.py\u001b[0m\u001b]8;;\u001b\\\u001b[2m:\u001b[0m\u001b]8;id=381066;file://c:\\Users\\krawc\\OneDrive\\Documents\\code\\pythons\\predictor\\.venv\\Lib\\site-packages\\soccerdata\\whoscored.py#327\u001b\\\u001b[2m327\u001b[0m\u001b]8;;\u001b\\\n"
      ]
     },
     "metadata": {},
     "output_type": "display_data"
    },
    {
     "data": {
      "text/html": [
       "<pre style=\"white-space:pre;overflow-x:auto;line-height:normal;font-family:Menlo,'DejaVu Sans Mono',consolas,'Courier New',monospace\"><span style=\"color: #7fbfbf; text-decoration-color: #7fbfbf\">                    </span><span style=\"color: #000080; text-decoration-color: #000080\">INFO    </span> Scraping game schedule for Monday, Jan <span style=\"color: #008080; text-decoration-color: #008080; font-weight: bold\">2</span> <span style=\"color: #008080; text-decoration-color: #008080; font-weight: bold\">2023</span>                         <a href=\"file://c:\\Users\\krawc\\OneDrive\\Documents\\code\\pythons\\predictor\\.venv\\Lib\\site-packages\\soccerdata\\whoscored.py\" target=\"_blank\"><span style=\"color: #7f7f7f; text-decoration-color: #7f7f7f\">whoscored.py</span></a><span style=\"color: #7f7f7f; text-decoration-color: #7f7f7f\">:</span><a href=\"file://c:\\Users\\krawc\\OneDrive\\Documents\\code\\pythons\\predictor\\.venv\\Lib\\site-packages\\soccerdata\\whoscored.py#327\" target=\"_blank\"><span style=\"color: #7f7f7f; text-decoration-color: #7f7f7f\">327</span></a>\n",
       "</pre>\n"
      ],
      "text/plain": [
       "\u001b[2;36m                   \u001b[0m\u001b[2;36m \u001b[0m\u001b[34mINFO    \u001b[0m Scraping game schedule for Monday, Jan \u001b[1;36m2\u001b[0m \u001b[1;36m2023\u001b[0m                         \u001b]8;id=857831;file://c:\\Users\\krawc\\OneDrive\\Documents\\code\\pythons\\predictor\\.venv\\Lib\\site-packages\\soccerdata\\whoscored.py\u001b\\\u001b[2mwhoscored.py\u001b[0m\u001b]8;;\u001b\\\u001b[2m:\u001b[0m\u001b]8;id=118621;file://c:\\Users\\krawc\\OneDrive\\Documents\\code\\pythons\\predictor\\.venv\\Lib\\site-packages\\soccerdata\\whoscored.py#327\u001b\\\u001b[2m327\u001b[0m\u001b]8;;\u001b\\\n"
      ]
     },
     "metadata": {},
     "output_type": "display_data"
    },
    {
     "data": {
      "text/html": [
       "<pre style=\"white-space:pre;overflow-x:auto;line-height:normal;font-family:Menlo,'DejaVu Sans Mono',consolas,'Courier New',monospace\"><span style=\"color: #7fbfbf; text-decoration-color: #7fbfbf\">[10/12/23 10:38:26] </span><span style=\"color: #000080; text-decoration-color: #000080\">INFO    </span> Scraping game schedule for Tuesday, Jan <span style=\"color: #008080; text-decoration-color: #008080; font-weight: bold\">3</span> <span style=\"color: #008080; text-decoration-color: #008080; font-weight: bold\">2023</span>                        <a href=\"file://c:\\Users\\krawc\\OneDrive\\Documents\\code\\pythons\\predictor\\.venv\\Lib\\site-packages\\soccerdata\\whoscored.py\" target=\"_blank\"><span style=\"color: #7f7f7f; text-decoration-color: #7f7f7f\">whoscored.py</span></a><span style=\"color: #7f7f7f; text-decoration-color: #7f7f7f\">:</span><a href=\"file://c:\\Users\\krawc\\OneDrive\\Documents\\code\\pythons\\predictor\\.venv\\Lib\\site-packages\\soccerdata\\whoscored.py#327\" target=\"_blank\"><span style=\"color: #7f7f7f; text-decoration-color: #7f7f7f\">327</span></a>\n",
       "</pre>\n"
      ],
      "text/plain": [
       "\u001b[2;36m[10/12/23 10:38:26]\u001b[0m\u001b[2;36m \u001b[0m\u001b[34mINFO    \u001b[0m Scraping game schedule for Tuesday, Jan \u001b[1;36m3\u001b[0m \u001b[1;36m2023\u001b[0m                        \u001b]8;id=301921;file://c:\\Users\\krawc\\OneDrive\\Documents\\code\\pythons\\predictor\\.venv\\Lib\\site-packages\\soccerdata\\whoscored.py\u001b\\\u001b[2mwhoscored.py\u001b[0m\u001b]8;;\u001b\\\u001b[2m:\u001b[0m\u001b]8;id=767019;file://c:\\Users\\krawc\\OneDrive\\Documents\\code\\pythons\\predictor\\.venv\\Lib\\site-packages\\soccerdata\\whoscored.py#327\u001b\\\u001b[2m327\u001b[0m\u001b]8;;\u001b\\\n"
      ]
     },
     "metadata": {},
     "output_type": "display_data"
    },
    {
     "data": {
      "text/html": [
       "<pre style=\"white-space:pre;overflow-x:auto;line-height:normal;font-family:Menlo,'DejaVu Sans Mono',consolas,'Courier New',monospace\"><span style=\"color: #7fbfbf; text-decoration-color: #7fbfbf\">[10/12/23 10:38:27] </span><span style=\"color: #000080; text-decoration-color: #000080\">INFO    </span> Scraping game schedule for Wednesday, Jan <span style=\"color: #008080; text-decoration-color: #008080; font-weight: bold\">4</span> <span style=\"color: #008080; text-decoration-color: #008080; font-weight: bold\">2023</span>                      <a href=\"file://c:\\Users\\krawc\\OneDrive\\Documents\\code\\pythons\\predictor\\.venv\\Lib\\site-packages\\soccerdata\\whoscored.py\" target=\"_blank\"><span style=\"color: #7f7f7f; text-decoration-color: #7f7f7f\">whoscored.py</span></a><span style=\"color: #7f7f7f; text-decoration-color: #7f7f7f\">:</span><a href=\"file://c:\\Users\\krawc\\OneDrive\\Documents\\code\\pythons\\predictor\\.venv\\Lib\\site-packages\\soccerdata\\whoscored.py#327\" target=\"_blank\"><span style=\"color: #7f7f7f; text-decoration-color: #7f7f7f\">327</span></a>\n",
       "</pre>\n"
      ],
      "text/plain": [
       "\u001b[2;36m[10/12/23 10:38:27]\u001b[0m\u001b[2;36m \u001b[0m\u001b[34mINFO    \u001b[0m Scraping game schedule for Wednesday, Jan \u001b[1;36m4\u001b[0m \u001b[1;36m2023\u001b[0m                      \u001b]8;id=864398;file://c:\\Users\\krawc\\OneDrive\\Documents\\code\\pythons\\predictor\\.venv\\Lib\\site-packages\\soccerdata\\whoscored.py\u001b\\\u001b[2mwhoscored.py\u001b[0m\u001b]8;;\u001b\\\u001b[2m:\u001b[0m\u001b]8;id=109564;file://c:\\Users\\krawc\\OneDrive\\Documents\\code\\pythons\\predictor\\.venv\\Lib\\site-packages\\soccerdata\\whoscored.py#327\u001b\\\u001b[2m327\u001b[0m\u001b]8;;\u001b\\\n"
      ]
     },
     "metadata": {},
     "output_type": "display_data"
    },
    {
     "data": {
      "text/html": [
       "<pre style=\"white-space:pre;overflow-x:auto;line-height:normal;font-family:Menlo,'DejaVu Sans Mono',consolas,'Courier New',monospace\"><span style=\"color: #7fbfbf; text-decoration-color: #7fbfbf\">[10/12/23 10:38:28] </span><span style=\"color: #000080; text-decoration-color: #000080\">INFO    </span> Scraping game schedule for Thursday, Jan <span style=\"color: #008080; text-decoration-color: #008080; font-weight: bold\">5</span> <span style=\"color: #008080; text-decoration-color: #008080; font-weight: bold\">2023</span>                       <a href=\"file://c:\\Users\\krawc\\OneDrive\\Documents\\code\\pythons\\predictor\\.venv\\Lib\\site-packages\\soccerdata\\whoscored.py\" target=\"_blank\"><span style=\"color: #7f7f7f; text-decoration-color: #7f7f7f\">whoscored.py</span></a><span style=\"color: #7f7f7f; text-decoration-color: #7f7f7f\">:</span><a href=\"file://c:\\Users\\krawc\\OneDrive\\Documents\\code\\pythons\\predictor\\.venv\\Lib\\site-packages\\soccerdata\\whoscored.py#327\" target=\"_blank\"><span style=\"color: #7f7f7f; text-decoration-color: #7f7f7f\">327</span></a>\n",
       "</pre>\n"
      ],
      "text/plain": [
       "\u001b[2;36m[10/12/23 10:38:28]\u001b[0m\u001b[2;36m \u001b[0m\u001b[34mINFO    \u001b[0m Scraping game schedule for Thursday, Jan \u001b[1;36m5\u001b[0m \u001b[1;36m2023\u001b[0m                       \u001b]8;id=122958;file://c:\\Users\\krawc\\OneDrive\\Documents\\code\\pythons\\predictor\\.venv\\Lib\\site-packages\\soccerdata\\whoscored.py\u001b\\\u001b[2mwhoscored.py\u001b[0m\u001b]8;;\u001b\\\u001b[2m:\u001b[0m\u001b]8;id=270826;file://c:\\Users\\krawc\\OneDrive\\Documents\\code\\pythons\\predictor\\.venv\\Lib\\site-packages\\soccerdata\\whoscored.py#327\u001b\\\u001b[2m327\u001b[0m\u001b]8;;\u001b\\\n"
      ]
     },
     "metadata": {},
     "output_type": "display_data"
    },
    {
     "data": {
      "text/html": [
       "<pre style=\"white-space:pre;overflow-x:auto;line-height:normal;font-family:Menlo,'DejaVu Sans Mono',consolas,'Courier New',monospace\"><span style=\"color: #7fbfbf; text-decoration-color: #7fbfbf\">                    </span><span style=\"color: #000080; text-decoration-color: #000080\">INFO    </span> Scraping game schedule for Thursday, Jan <span style=\"color: #008080; text-decoration-color: #008080; font-weight: bold\">12</span> <span style=\"color: #008080; text-decoration-color: #008080; font-weight: bold\">2023</span>                      <a href=\"file://c:\\Users\\krawc\\OneDrive\\Documents\\code\\pythons\\predictor\\.venv\\Lib\\site-packages\\soccerdata\\whoscored.py\" target=\"_blank\"><span style=\"color: #7f7f7f; text-decoration-color: #7f7f7f\">whoscored.py</span></a><span style=\"color: #7f7f7f; text-decoration-color: #7f7f7f\">:</span><a href=\"file://c:\\Users\\krawc\\OneDrive\\Documents\\code\\pythons\\predictor\\.venv\\Lib\\site-packages\\soccerdata\\whoscored.py#327\" target=\"_blank\"><span style=\"color: #7f7f7f; text-decoration-color: #7f7f7f\">327</span></a>\n",
       "</pre>\n"
      ],
      "text/plain": [
       "\u001b[2;36m                   \u001b[0m\u001b[2;36m \u001b[0m\u001b[34mINFO    \u001b[0m Scraping game schedule for Thursday, Jan \u001b[1;36m12\u001b[0m \u001b[1;36m2023\u001b[0m                      \u001b]8;id=925242;file://c:\\Users\\krawc\\OneDrive\\Documents\\code\\pythons\\predictor\\.venv\\Lib\\site-packages\\soccerdata\\whoscored.py\u001b\\\u001b[2mwhoscored.py\u001b[0m\u001b]8;;\u001b\\\u001b[2m:\u001b[0m\u001b]8;id=574097;file://c:\\Users\\krawc\\OneDrive\\Documents\\code\\pythons\\predictor\\.venv\\Lib\\site-packages\\soccerdata\\whoscored.py#327\u001b\\\u001b[2m327\u001b[0m\u001b]8;;\u001b\\\n"
      ]
     },
     "metadata": {},
     "output_type": "display_data"
    },
    {
     "data": {
      "text/html": [
       "<pre style=\"white-space:pre;overflow-x:auto;line-height:normal;font-family:Menlo,'DejaVu Sans Mono',consolas,'Courier New',monospace\"><span style=\"color: #7fbfbf; text-decoration-color: #7fbfbf\">                    </span><span style=\"color: #000080; text-decoration-color: #000080\">INFO    </span> Scraping game schedule for Friday, Jan <span style=\"color: #008080; text-decoration-color: #008080; font-weight: bold\">13</span> <span style=\"color: #008080; text-decoration-color: #008080; font-weight: bold\">2023</span>                        <a href=\"file://c:\\Users\\krawc\\OneDrive\\Documents\\code\\pythons\\predictor\\.venv\\Lib\\site-packages\\soccerdata\\whoscored.py\" target=\"_blank\"><span style=\"color: #7f7f7f; text-decoration-color: #7f7f7f\">whoscored.py</span></a><span style=\"color: #7f7f7f; text-decoration-color: #7f7f7f\">:</span><a href=\"file://c:\\Users\\krawc\\OneDrive\\Documents\\code\\pythons\\predictor\\.venv\\Lib\\site-packages\\soccerdata\\whoscored.py#327\" target=\"_blank\"><span style=\"color: #7f7f7f; text-decoration-color: #7f7f7f\">327</span></a>\n",
       "</pre>\n"
      ],
      "text/plain": [
       "\u001b[2;36m                   \u001b[0m\u001b[2;36m \u001b[0m\u001b[34mINFO    \u001b[0m Scraping game schedule for Friday, Jan \u001b[1;36m13\u001b[0m \u001b[1;36m2023\u001b[0m                        \u001b]8;id=819231;file://c:\\Users\\krawc\\OneDrive\\Documents\\code\\pythons\\predictor\\.venv\\Lib\\site-packages\\soccerdata\\whoscored.py\u001b\\\u001b[2mwhoscored.py\u001b[0m\u001b]8;;\u001b\\\u001b[2m:\u001b[0m\u001b]8;id=372845;file://c:\\Users\\krawc\\OneDrive\\Documents\\code\\pythons\\predictor\\.venv\\Lib\\site-packages\\soccerdata\\whoscored.py#327\u001b\\\u001b[2m327\u001b[0m\u001b]8;;\u001b\\\n"
      ]
     },
     "metadata": {},
     "output_type": "display_data"
    },
    {
     "data": {
      "text/html": [
       "<pre style=\"white-space:pre;overflow-x:auto;line-height:normal;font-family:Menlo,'DejaVu Sans Mono',consolas,'Courier New',monospace\"><span style=\"color: #7fbfbf; text-decoration-color: #7fbfbf\">[10/12/23 10:38:29] </span><span style=\"color: #000080; text-decoration-color: #000080\">INFO    </span> Scraping game schedule for Saturday, Jan <span style=\"color: #008080; text-decoration-color: #008080; font-weight: bold\">14</span> <span style=\"color: #008080; text-decoration-color: #008080; font-weight: bold\">2023</span>                      <a href=\"file://c:\\Users\\krawc\\OneDrive\\Documents\\code\\pythons\\predictor\\.venv\\Lib\\site-packages\\soccerdata\\whoscored.py\" target=\"_blank\"><span style=\"color: #7f7f7f; text-decoration-color: #7f7f7f\">whoscored.py</span></a><span style=\"color: #7f7f7f; text-decoration-color: #7f7f7f\">:</span><a href=\"file://c:\\Users\\krawc\\OneDrive\\Documents\\code\\pythons\\predictor\\.venv\\Lib\\site-packages\\soccerdata\\whoscored.py#327\" target=\"_blank\"><span style=\"color: #7f7f7f; text-decoration-color: #7f7f7f\">327</span></a>\n",
       "</pre>\n"
      ],
      "text/plain": [
       "\u001b[2;36m[10/12/23 10:38:29]\u001b[0m\u001b[2;36m \u001b[0m\u001b[34mINFO    \u001b[0m Scraping game schedule for Saturday, Jan \u001b[1;36m14\u001b[0m \u001b[1;36m2023\u001b[0m                      \u001b]8;id=113884;file://c:\\Users\\krawc\\OneDrive\\Documents\\code\\pythons\\predictor\\.venv\\Lib\\site-packages\\soccerdata\\whoscored.py\u001b\\\u001b[2mwhoscored.py\u001b[0m\u001b]8;;\u001b\\\u001b[2m:\u001b[0m\u001b]8;id=212087;file://c:\\Users\\krawc\\OneDrive\\Documents\\code\\pythons\\predictor\\.venv\\Lib\\site-packages\\soccerdata\\whoscored.py#327\u001b\\\u001b[2m327\u001b[0m\u001b]8;;\u001b\\\n"
      ]
     },
     "metadata": {},
     "output_type": "display_data"
    },
    {
     "data": {
      "text/html": [
       "<pre style=\"white-space:pre;overflow-x:auto;line-height:normal;font-family:Menlo,'DejaVu Sans Mono',consolas,'Courier New',monospace\"><span style=\"color: #7fbfbf; text-decoration-color: #7fbfbf\">[10/12/23 10:38:30] </span><span style=\"color: #000080; text-decoration-color: #000080\">INFO    </span> Scraping game schedule for Sunday, Jan <span style=\"color: #008080; text-decoration-color: #008080; font-weight: bold\">15</span> <span style=\"color: #008080; text-decoration-color: #008080; font-weight: bold\">2023</span>                        <a href=\"file://c:\\Users\\krawc\\OneDrive\\Documents\\code\\pythons\\predictor\\.venv\\Lib\\site-packages\\soccerdata\\whoscored.py\" target=\"_blank\"><span style=\"color: #7f7f7f; text-decoration-color: #7f7f7f\">whoscored.py</span></a><span style=\"color: #7f7f7f; text-decoration-color: #7f7f7f\">:</span><a href=\"file://c:\\Users\\krawc\\OneDrive\\Documents\\code\\pythons\\predictor\\.venv\\Lib\\site-packages\\soccerdata\\whoscored.py#327\" target=\"_blank\"><span style=\"color: #7f7f7f; text-decoration-color: #7f7f7f\">327</span></a>\n",
       "</pre>\n"
      ],
      "text/plain": [
       "\u001b[2;36m[10/12/23 10:38:30]\u001b[0m\u001b[2;36m \u001b[0m\u001b[34mINFO    \u001b[0m Scraping game schedule for Sunday, Jan \u001b[1;36m15\u001b[0m \u001b[1;36m2023\u001b[0m                        \u001b]8;id=667672;file://c:\\Users\\krawc\\OneDrive\\Documents\\code\\pythons\\predictor\\.venv\\Lib\\site-packages\\soccerdata\\whoscored.py\u001b\\\u001b[2mwhoscored.py\u001b[0m\u001b]8;;\u001b\\\u001b[2m:\u001b[0m\u001b]8;id=475933;file://c:\\Users\\krawc\\OneDrive\\Documents\\code\\pythons\\predictor\\.venv\\Lib\\site-packages\\soccerdata\\whoscored.py#327\u001b\\\u001b[2m327\u001b[0m\u001b]8;;\u001b\\\n"
      ]
     },
     "metadata": {},
     "output_type": "display_data"
    },
    {
     "data": {
      "text/html": [
       "<pre style=\"white-space:pre;overflow-x:auto;line-height:normal;font-family:Menlo,'DejaVu Sans Mono',consolas,'Courier New',monospace\"><span style=\"color: #7fbfbf; text-decoration-color: #7fbfbf\">[10/12/23 10:38:31] </span><span style=\"color: #000080; text-decoration-color: #000080\">INFO    </span> Scraping game schedule for Wednesday, Jan <span style=\"color: #008080; text-decoration-color: #008080; font-weight: bold\">18</span> <span style=\"color: #008080; text-decoration-color: #008080; font-weight: bold\">2023</span>                     <a href=\"file://c:\\Users\\krawc\\OneDrive\\Documents\\code\\pythons\\predictor\\.venv\\Lib\\site-packages\\soccerdata\\whoscored.py\" target=\"_blank\"><span style=\"color: #7f7f7f; text-decoration-color: #7f7f7f\">whoscored.py</span></a><span style=\"color: #7f7f7f; text-decoration-color: #7f7f7f\">:</span><a href=\"file://c:\\Users\\krawc\\OneDrive\\Documents\\code\\pythons\\predictor\\.venv\\Lib\\site-packages\\soccerdata\\whoscored.py#327\" target=\"_blank\"><span style=\"color: #7f7f7f; text-decoration-color: #7f7f7f\">327</span></a>\n",
       "</pre>\n"
      ],
      "text/plain": [
       "\u001b[2;36m[10/12/23 10:38:31]\u001b[0m\u001b[2;36m \u001b[0m\u001b[34mINFO    \u001b[0m Scraping game schedule for Wednesday, Jan \u001b[1;36m18\u001b[0m \u001b[1;36m2023\u001b[0m                     \u001b]8;id=461228;file://c:\\Users\\krawc\\OneDrive\\Documents\\code\\pythons\\predictor\\.venv\\Lib\\site-packages\\soccerdata\\whoscored.py\u001b\\\u001b[2mwhoscored.py\u001b[0m\u001b]8;;\u001b\\\u001b[2m:\u001b[0m\u001b]8;id=562260;file://c:\\Users\\krawc\\OneDrive\\Documents\\code\\pythons\\predictor\\.venv\\Lib\\site-packages\\soccerdata\\whoscored.py#327\u001b\\\u001b[2m327\u001b[0m\u001b]8;;\u001b\\\n"
      ]
     },
     "metadata": {},
     "output_type": "display_data"
    },
    {
     "data": {
      "text/html": [
       "<pre style=\"white-space:pre;overflow-x:auto;line-height:normal;font-family:Menlo,'DejaVu Sans Mono',consolas,'Courier New',monospace\"><span style=\"color: #7fbfbf; text-decoration-color: #7fbfbf\">[10/12/23 10:38:32] </span><span style=\"color: #000080; text-decoration-color: #000080\">INFO    </span> Scraping game schedule for Thursday, Jan <span style=\"color: #008080; text-decoration-color: #008080; font-weight: bold\">19</span> <span style=\"color: #008080; text-decoration-color: #008080; font-weight: bold\">2023</span>                      <a href=\"file://c:\\Users\\krawc\\OneDrive\\Documents\\code\\pythons\\predictor\\.venv\\Lib\\site-packages\\soccerdata\\whoscored.py\" target=\"_blank\"><span style=\"color: #7f7f7f; text-decoration-color: #7f7f7f\">whoscored.py</span></a><span style=\"color: #7f7f7f; text-decoration-color: #7f7f7f\">:</span><a href=\"file://c:\\Users\\krawc\\OneDrive\\Documents\\code\\pythons\\predictor\\.venv\\Lib\\site-packages\\soccerdata\\whoscored.py#327\" target=\"_blank\"><span style=\"color: #7f7f7f; text-decoration-color: #7f7f7f\">327</span></a>\n",
       "</pre>\n"
      ],
      "text/plain": [
       "\u001b[2;36m[10/12/23 10:38:32]\u001b[0m\u001b[2;36m \u001b[0m\u001b[34mINFO    \u001b[0m Scraping game schedule for Thursday, Jan \u001b[1;36m19\u001b[0m \u001b[1;36m2023\u001b[0m                      \u001b]8;id=628365;file://c:\\Users\\krawc\\OneDrive\\Documents\\code\\pythons\\predictor\\.venv\\Lib\\site-packages\\soccerdata\\whoscored.py\u001b\\\u001b[2mwhoscored.py\u001b[0m\u001b]8;;\u001b\\\u001b[2m:\u001b[0m\u001b]8;id=432304;file://c:\\Users\\krawc\\OneDrive\\Documents\\code\\pythons\\predictor\\.venv\\Lib\\site-packages\\soccerdata\\whoscored.py#327\u001b\\\u001b[2m327\u001b[0m\u001b]8;;\u001b\\\n"
      ]
     },
     "metadata": {},
     "output_type": "display_data"
    },
    {
     "data": {
      "text/html": [
       "<pre style=\"white-space:pre;overflow-x:auto;line-height:normal;font-family:Menlo,'DejaVu Sans Mono',consolas,'Courier New',monospace\"><span style=\"color: #7fbfbf; text-decoration-color: #7fbfbf\">                    </span><span style=\"color: #000080; text-decoration-color: #000080\">INFO    </span> Scraping game schedule for Saturday, Jan <span style=\"color: #008080; text-decoration-color: #008080; font-weight: bold\">21</span> <span style=\"color: #008080; text-decoration-color: #008080; font-weight: bold\">2023</span>                      <a href=\"file://c:\\Users\\krawc\\OneDrive\\Documents\\code\\pythons\\predictor\\.venv\\Lib\\site-packages\\soccerdata\\whoscored.py\" target=\"_blank\"><span style=\"color: #7f7f7f; text-decoration-color: #7f7f7f\">whoscored.py</span></a><span style=\"color: #7f7f7f; text-decoration-color: #7f7f7f\">:</span><a href=\"file://c:\\Users\\krawc\\OneDrive\\Documents\\code\\pythons\\predictor\\.venv\\Lib\\site-packages\\soccerdata\\whoscored.py#327\" target=\"_blank\"><span style=\"color: #7f7f7f; text-decoration-color: #7f7f7f\">327</span></a>\n",
       "</pre>\n"
      ],
      "text/plain": [
       "\u001b[2;36m                   \u001b[0m\u001b[2;36m \u001b[0m\u001b[34mINFO    \u001b[0m Scraping game schedule for Saturday, Jan \u001b[1;36m21\u001b[0m \u001b[1;36m2023\u001b[0m                      \u001b]8;id=189353;file://c:\\Users\\krawc\\OneDrive\\Documents\\code\\pythons\\predictor\\.venv\\Lib\\site-packages\\soccerdata\\whoscored.py\u001b\\\u001b[2mwhoscored.py\u001b[0m\u001b]8;;\u001b\\\u001b[2m:\u001b[0m\u001b]8;id=162060;file://c:\\Users\\krawc\\OneDrive\\Documents\\code\\pythons\\predictor\\.venv\\Lib\\site-packages\\soccerdata\\whoscored.py#327\u001b\\\u001b[2m327\u001b[0m\u001b]8;;\u001b\\\n"
      ]
     },
     "metadata": {},
     "output_type": "display_data"
    },
    {
     "data": {
      "text/html": [
       "<pre style=\"white-space:pre;overflow-x:auto;line-height:normal;font-family:Menlo,'DejaVu Sans Mono',consolas,'Courier New',monospace\"><span style=\"color: #7fbfbf; text-decoration-color: #7fbfbf\">[10/12/23 10:38:33] </span><span style=\"color: #000080; text-decoration-color: #000080\">INFO    </span> Scraping game schedule for Sunday, Jan <span style=\"color: #008080; text-decoration-color: #008080; font-weight: bold\">22</span> <span style=\"color: #008080; text-decoration-color: #008080; font-weight: bold\">2023</span>                        <a href=\"file://c:\\Users\\krawc\\OneDrive\\Documents\\code\\pythons\\predictor\\.venv\\Lib\\site-packages\\soccerdata\\whoscored.py\" target=\"_blank\"><span style=\"color: #7f7f7f; text-decoration-color: #7f7f7f\">whoscored.py</span></a><span style=\"color: #7f7f7f; text-decoration-color: #7f7f7f\">:</span><a href=\"file://c:\\Users\\krawc\\OneDrive\\Documents\\code\\pythons\\predictor\\.venv\\Lib\\site-packages\\soccerdata\\whoscored.py#327\" target=\"_blank\"><span style=\"color: #7f7f7f; text-decoration-color: #7f7f7f\">327</span></a>\n",
       "</pre>\n"
      ],
      "text/plain": [
       "\u001b[2;36m[10/12/23 10:38:33]\u001b[0m\u001b[2;36m \u001b[0m\u001b[34mINFO    \u001b[0m Scraping game schedule for Sunday, Jan \u001b[1;36m22\u001b[0m \u001b[1;36m2023\u001b[0m                        \u001b]8;id=895442;file://c:\\Users\\krawc\\OneDrive\\Documents\\code\\pythons\\predictor\\.venv\\Lib\\site-packages\\soccerdata\\whoscored.py\u001b\\\u001b[2mwhoscored.py\u001b[0m\u001b]8;;\u001b\\\u001b[2m:\u001b[0m\u001b]8;id=612446;file://c:\\Users\\krawc\\OneDrive\\Documents\\code\\pythons\\predictor\\.venv\\Lib\\site-packages\\soccerdata\\whoscored.py#327\u001b\\\u001b[2m327\u001b[0m\u001b]8;;\u001b\\\n"
      ]
     },
     "metadata": {},
     "output_type": "display_data"
    },
    {
     "data": {
      "text/html": [
       "<pre style=\"white-space:pre;overflow-x:auto;line-height:normal;font-family:Menlo,'DejaVu Sans Mono',consolas,'Courier New',monospace\"><span style=\"color: #7fbfbf; text-decoration-color: #7fbfbf\">[10/12/23 10:38:34] </span><span style=\"color: #000080; text-decoration-color: #000080\">INFO    </span> Scraping game schedule for Monday, Jan <span style=\"color: #008080; text-decoration-color: #008080; font-weight: bold\">23</span> <span style=\"color: #008080; text-decoration-color: #008080; font-weight: bold\">2023</span>                        <a href=\"file://c:\\Users\\krawc\\OneDrive\\Documents\\code\\pythons\\predictor\\.venv\\Lib\\site-packages\\soccerdata\\whoscored.py\" target=\"_blank\"><span style=\"color: #7f7f7f; text-decoration-color: #7f7f7f\">whoscored.py</span></a><span style=\"color: #7f7f7f; text-decoration-color: #7f7f7f\">:</span><a href=\"file://c:\\Users\\krawc\\OneDrive\\Documents\\code\\pythons\\predictor\\.venv\\Lib\\site-packages\\soccerdata\\whoscored.py#327\" target=\"_blank\"><span style=\"color: #7f7f7f; text-decoration-color: #7f7f7f\">327</span></a>\n",
       "</pre>\n"
      ],
      "text/plain": [
       "\u001b[2;36m[10/12/23 10:38:34]\u001b[0m\u001b[2;36m \u001b[0m\u001b[34mINFO    \u001b[0m Scraping game schedule for Monday, Jan \u001b[1;36m23\u001b[0m \u001b[1;36m2023\u001b[0m                        \u001b]8;id=233112;file://c:\\Users\\krawc\\OneDrive\\Documents\\code\\pythons\\predictor\\.venv\\Lib\\site-packages\\soccerdata\\whoscored.py\u001b\\\u001b[2mwhoscored.py\u001b[0m\u001b]8;;\u001b\\\u001b[2m:\u001b[0m\u001b]8;id=903762;file://c:\\Users\\krawc\\OneDrive\\Documents\\code\\pythons\\predictor\\.venv\\Lib\\site-packages\\soccerdata\\whoscored.py#327\u001b\\\u001b[2m327\u001b[0m\u001b]8;;\u001b\\\n"
      ]
     },
     "metadata": {},
     "output_type": "display_data"
    },
    {
     "data": {
      "text/html": [
       "<pre style=\"white-space:pre;overflow-x:auto;line-height:normal;font-family:Menlo,'DejaVu Sans Mono',consolas,'Courier New',monospace\"><span style=\"color: #7fbfbf; text-decoration-color: #7fbfbf\">[10/12/23 10:38:40] </span><span style=\"color: #000080; text-decoration-color: #000080\">INFO    </span> Scraping game schedule for Monday, Dec <span style=\"color: #008080; text-decoration-color: #008080; font-weight: bold\">26</span> <span style=\"color: #008080; text-decoration-color: #008080; font-weight: bold\">2022</span>                        <a href=\"file://c:\\Users\\krawc\\OneDrive\\Documents\\code\\pythons\\predictor\\.venv\\Lib\\site-packages\\soccerdata\\whoscored.py\" target=\"_blank\"><span style=\"color: #7f7f7f; text-decoration-color: #7f7f7f\">whoscored.py</span></a><span style=\"color: #7f7f7f; text-decoration-color: #7f7f7f\">:</span><a href=\"file://c:\\Users\\krawc\\OneDrive\\Documents\\code\\pythons\\predictor\\.venv\\Lib\\site-packages\\soccerdata\\whoscored.py#327\" target=\"_blank\"><span style=\"color: #7f7f7f; text-decoration-color: #7f7f7f\">327</span></a>\n",
       "</pre>\n"
      ],
      "text/plain": [
       "\u001b[2;36m[10/12/23 10:38:40]\u001b[0m\u001b[2;36m \u001b[0m\u001b[34mINFO    \u001b[0m Scraping game schedule for Monday, Dec \u001b[1;36m26\u001b[0m \u001b[1;36m2022\u001b[0m                        \u001b]8;id=270259;file://c:\\Users\\krawc\\OneDrive\\Documents\\code\\pythons\\predictor\\.venv\\Lib\\site-packages\\soccerdata\\whoscored.py\u001b\\\u001b[2mwhoscored.py\u001b[0m\u001b]8;;\u001b\\\u001b[2m:\u001b[0m\u001b]8;id=461099;file://c:\\Users\\krawc\\OneDrive\\Documents\\code\\pythons\\predictor\\.venv\\Lib\\site-packages\\soccerdata\\whoscored.py#327\u001b\\\u001b[2m327\u001b[0m\u001b]8;;\u001b\\\n"
      ]
     },
     "metadata": {},
     "output_type": "display_data"
    },
    {
     "data": {
      "text/html": [
       "<pre style=\"white-space:pre;overflow-x:auto;line-height:normal;font-family:Menlo,'DejaVu Sans Mono',consolas,'Courier New',monospace\"><span style=\"color: #7fbfbf; text-decoration-color: #7fbfbf\">[10/12/23 10:38:42] </span><span style=\"color: #000080; text-decoration-color: #000080\">INFO    </span> Scraping game schedule for Tuesday, Dec <span style=\"color: #008080; text-decoration-color: #008080; font-weight: bold\">27</span> <span style=\"color: #008080; text-decoration-color: #008080; font-weight: bold\">2022</span>                       <a href=\"file://c:\\Users\\krawc\\OneDrive\\Documents\\code\\pythons\\predictor\\.venv\\Lib\\site-packages\\soccerdata\\whoscored.py\" target=\"_blank\"><span style=\"color: #7f7f7f; text-decoration-color: #7f7f7f\">whoscored.py</span></a><span style=\"color: #7f7f7f; text-decoration-color: #7f7f7f\">:</span><a href=\"file://c:\\Users\\krawc\\OneDrive\\Documents\\code\\pythons\\predictor\\.venv\\Lib\\site-packages\\soccerdata\\whoscored.py#327\" target=\"_blank\"><span style=\"color: #7f7f7f; text-decoration-color: #7f7f7f\">327</span></a>\n",
       "</pre>\n"
      ],
      "text/plain": [
       "\u001b[2;36m[10/12/23 10:38:42]\u001b[0m\u001b[2;36m \u001b[0m\u001b[34mINFO    \u001b[0m Scraping game schedule for Tuesday, Dec \u001b[1;36m27\u001b[0m \u001b[1;36m2022\u001b[0m                       \u001b]8;id=815488;file://c:\\Users\\krawc\\OneDrive\\Documents\\code\\pythons\\predictor\\.venv\\Lib\\site-packages\\soccerdata\\whoscored.py\u001b\\\u001b[2mwhoscored.py\u001b[0m\u001b]8;;\u001b\\\u001b[2m:\u001b[0m\u001b]8;id=109529;file://c:\\Users\\krawc\\OneDrive\\Documents\\code\\pythons\\predictor\\.venv\\Lib\\site-packages\\soccerdata\\whoscored.py#327\u001b\\\u001b[2m327\u001b[0m\u001b]8;;\u001b\\\n"
      ]
     },
     "metadata": {},
     "output_type": "display_data"
    },
    {
     "data": {
      "text/html": [
       "<pre style=\"white-space:pre;overflow-x:auto;line-height:normal;font-family:Menlo,'DejaVu Sans Mono',consolas,'Courier New',monospace\"><span style=\"color: #7fbfbf; text-decoration-color: #7fbfbf\">                    </span><span style=\"color: #000080; text-decoration-color: #000080\">INFO    </span> Scraping game schedule for Wednesday, Dec <span style=\"color: #008080; text-decoration-color: #008080; font-weight: bold\">28</span> <span style=\"color: #008080; text-decoration-color: #008080; font-weight: bold\">2022</span>                     <a href=\"file://c:\\Users\\krawc\\OneDrive\\Documents\\code\\pythons\\predictor\\.venv\\Lib\\site-packages\\soccerdata\\whoscored.py\" target=\"_blank\"><span style=\"color: #7f7f7f; text-decoration-color: #7f7f7f\">whoscored.py</span></a><span style=\"color: #7f7f7f; text-decoration-color: #7f7f7f\">:</span><a href=\"file://c:\\Users\\krawc\\OneDrive\\Documents\\code\\pythons\\predictor\\.venv\\Lib\\site-packages\\soccerdata\\whoscored.py#327\" target=\"_blank\"><span style=\"color: #7f7f7f; text-decoration-color: #7f7f7f\">327</span></a>\n",
       "</pre>\n"
      ],
      "text/plain": [
       "\u001b[2;36m                   \u001b[0m\u001b[2;36m \u001b[0m\u001b[34mINFO    \u001b[0m Scraping game schedule for Wednesday, Dec \u001b[1;36m28\u001b[0m \u001b[1;36m2022\u001b[0m                     \u001b]8;id=371413;file://c:\\Users\\krawc\\OneDrive\\Documents\\code\\pythons\\predictor\\.venv\\Lib\\site-packages\\soccerdata\\whoscored.py\u001b\\\u001b[2mwhoscored.py\u001b[0m\u001b]8;;\u001b\\\u001b[2m:\u001b[0m\u001b]8;id=359371;file://c:\\Users\\krawc\\OneDrive\\Documents\\code\\pythons\\predictor\\.venv\\Lib\\site-packages\\soccerdata\\whoscored.py#327\u001b\\\u001b[2m327\u001b[0m\u001b]8;;\u001b\\\n"
      ]
     },
     "metadata": {},
     "output_type": "display_data"
    },
    {
     "data": {
      "text/html": [
       "<pre style=\"white-space:pre;overflow-x:auto;line-height:normal;font-family:Menlo,'DejaVu Sans Mono',consolas,'Courier New',monospace\"><span style=\"color: #7fbfbf; text-decoration-color: #7fbfbf\">[10/12/23 10:38:43] </span><span style=\"color: #000080; text-decoration-color: #000080\">INFO    </span> Scraping game schedule for Friday, Dec <span style=\"color: #008080; text-decoration-color: #008080; font-weight: bold\">30</span> <span style=\"color: #008080; text-decoration-color: #008080; font-weight: bold\">2022</span>                        <a href=\"file://c:\\Users\\krawc\\OneDrive\\Documents\\code\\pythons\\predictor\\.venv\\Lib\\site-packages\\soccerdata\\whoscored.py\" target=\"_blank\"><span style=\"color: #7f7f7f; text-decoration-color: #7f7f7f\">whoscored.py</span></a><span style=\"color: #7f7f7f; text-decoration-color: #7f7f7f\">:</span><a href=\"file://c:\\Users\\krawc\\OneDrive\\Documents\\code\\pythons\\predictor\\.venv\\Lib\\site-packages\\soccerdata\\whoscored.py#327\" target=\"_blank\"><span style=\"color: #7f7f7f; text-decoration-color: #7f7f7f\">327</span></a>\n",
       "</pre>\n"
      ],
      "text/plain": [
       "\u001b[2;36m[10/12/23 10:38:43]\u001b[0m\u001b[2;36m \u001b[0m\u001b[34mINFO    \u001b[0m Scraping game schedule for Friday, Dec \u001b[1;36m30\u001b[0m \u001b[1;36m2022\u001b[0m                        \u001b]8;id=409140;file://c:\\Users\\krawc\\OneDrive\\Documents\\code\\pythons\\predictor\\.venv\\Lib\\site-packages\\soccerdata\\whoscored.py\u001b\\\u001b[2mwhoscored.py\u001b[0m\u001b]8;;\u001b\\\u001b[2m:\u001b[0m\u001b]8;id=207164;file://c:\\Users\\krawc\\OneDrive\\Documents\\code\\pythons\\predictor\\.venv\\Lib\\site-packages\\soccerdata\\whoscored.py#327\u001b\\\u001b[2m327\u001b[0m\u001b]8;;\u001b\\\n"
      ]
     },
     "metadata": {},
     "output_type": "display_data"
    },
    {
     "data": {
      "text/html": [
       "<pre style=\"white-space:pre;overflow-x:auto;line-height:normal;font-family:Menlo,'DejaVu Sans Mono',consolas,'Courier New',monospace\"><span style=\"color: #7fbfbf; text-decoration-color: #7fbfbf\">                    </span><span style=\"color: #000080; text-decoration-color: #000080\">INFO    </span> Scraping game schedule for Saturday, Dec <span style=\"color: #008080; text-decoration-color: #008080; font-weight: bold\">31</span> <span style=\"color: #008080; text-decoration-color: #008080; font-weight: bold\">2022</span>                      <a href=\"file://c:\\Users\\krawc\\OneDrive\\Documents\\code\\pythons\\predictor\\.venv\\Lib\\site-packages\\soccerdata\\whoscored.py\" target=\"_blank\"><span style=\"color: #7f7f7f; text-decoration-color: #7f7f7f\">whoscored.py</span></a><span style=\"color: #7f7f7f; text-decoration-color: #7f7f7f\">:</span><a href=\"file://c:\\Users\\krawc\\OneDrive\\Documents\\code\\pythons\\predictor\\.venv\\Lib\\site-packages\\soccerdata\\whoscored.py#327\" target=\"_blank\"><span style=\"color: #7f7f7f; text-decoration-color: #7f7f7f\">327</span></a>\n",
       "</pre>\n"
      ],
      "text/plain": [
       "\u001b[2;36m                   \u001b[0m\u001b[2;36m \u001b[0m\u001b[34mINFO    \u001b[0m Scraping game schedule for Saturday, Dec \u001b[1;36m31\u001b[0m \u001b[1;36m2022\u001b[0m                      \u001b]8;id=380564;file://c:\\Users\\krawc\\OneDrive\\Documents\\code\\pythons\\predictor\\.venv\\Lib\\site-packages\\soccerdata\\whoscored.py\u001b\\\u001b[2mwhoscored.py\u001b[0m\u001b]8;;\u001b\\\u001b[2m:\u001b[0m\u001b]8;id=409977;file://c:\\Users\\krawc\\OneDrive\\Documents\\code\\pythons\\predictor\\.venv\\Lib\\site-packages\\soccerdata\\whoscored.py#327\u001b\\\u001b[2m327\u001b[0m\u001b]8;;\u001b\\\n"
      ]
     },
     "metadata": {},
     "output_type": "display_data"
    },
    {
     "data": {
      "text/html": [
       "<pre style=\"white-space:pre;overflow-x:auto;line-height:normal;font-family:Menlo,'DejaVu Sans Mono',consolas,'Courier New',monospace\"><span style=\"color: #7fbfbf; text-decoration-color: #7fbfbf\">[10/12/23 10:38:50] </span><span style=\"color: #000080; text-decoration-color: #000080\">INFO    </span> Scraping game schedule for Saturday, Nov <span style=\"color: #008080; text-decoration-color: #008080; font-weight: bold\">5</span> <span style=\"color: #008080; text-decoration-color: #008080; font-weight: bold\">2022</span>                       <a href=\"file://c:\\Users\\krawc\\OneDrive\\Documents\\code\\pythons\\predictor\\.venv\\Lib\\site-packages\\soccerdata\\whoscored.py\" target=\"_blank\"><span style=\"color: #7f7f7f; text-decoration-color: #7f7f7f\">whoscored.py</span></a><span style=\"color: #7f7f7f; text-decoration-color: #7f7f7f\">:</span><a href=\"file://c:\\Users\\krawc\\OneDrive\\Documents\\code\\pythons\\predictor\\.venv\\Lib\\site-packages\\soccerdata\\whoscored.py#327\" target=\"_blank\"><span style=\"color: #7f7f7f; text-decoration-color: #7f7f7f\">327</span></a>\n",
       "</pre>\n"
      ],
      "text/plain": [
       "\u001b[2;36m[10/12/23 10:38:50]\u001b[0m\u001b[2;36m \u001b[0m\u001b[34mINFO    \u001b[0m Scraping game schedule for Saturday, Nov \u001b[1;36m5\u001b[0m \u001b[1;36m2022\u001b[0m                       \u001b]8;id=509708;file://c:\\Users\\krawc\\OneDrive\\Documents\\code\\pythons\\predictor\\.venv\\Lib\\site-packages\\soccerdata\\whoscored.py\u001b\\\u001b[2mwhoscored.py\u001b[0m\u001b]8;;\u001b\\\u001b[2m:\u001b[0m\u001b]8;id=157756;file://c:\\Users\\krawc\\OneDrive\\Documents\\code\\pythons\\predictor\\.venv\\Lib\\site-packages\\soccerdata\\whoscored.py#327\u001b\\\u001b[2m327\u001b[0m\u001b]8;;\u001b\\\n"
      ]
     },
     "metadata": {},
     "output_type": "display_data"
    },
    {
     "data": {
      "text/html": [
       "<pre style=\"white-space:pre;overflow-x:auto;line-height:normal;font-family:Menlo,'DejaVu Sans Mono',consolas,'Courier New',monospace\"><span style=\"color: #7fbfbf; text-decoration-color: #7fbfbf\">[10/12/23 10:38:52] </span><span style=\"color: #000080; text-decoration-color: #000080\">INFO    </span> Scraping game schedule for Sunday, Nov <span style=\"color: #008080; text-decoration-color: #008080; font-weight: bold\">6</span> <span style=\"color: #008080; text-decoration-color: #008080; font-weight: bold\">2022</span>                         <a href=\"file://c:\\Users\\krawc\\OneDrive\\Documents\\code\\pythons\\predictor\\.venv\\Lib\\site-packages\\soccerdata\\whoscored.py\" target=\"_blank\"><span style=\"color: #7f7f7f; text-decoration-color: #7f7f7f\">whoscored.py</span></a><span style=\"color: #7f7f7f; text-decoration-color: #7f7f7f\">:</span><a href=\"file://c:\\Users\\krawc\\OneDrive\\Documents\\code\\pythons\\predictor\\.venv\\Lib\\site-packages\\soccerdata\\whoscored.py#327\" target=\"_blank\"><span style=\"color: #7f7f7f; text-decoration-color: #7f7f7f\">327</span></a>\n",
       "</pre>\n"
      ],
      "text/plain": [
       "\u001b[2;36m[10/12/23 10:38:52]\u001b[0m\u001b[2;36m \u001b[0m\u001b[34mINFO    \u001b[0m Scraping game schedule for Sunday, Nov \u001b[1;36m6\u001b[0m \u001b[1;36m2022\u001b[0m                         \u001b]8;id=577573;file://c:\\Users\\krawc\\OneDrive\\Documents\\code\\pythons\\predictor\\.venv\\Lib\\site-packages\\soccerdata\\whoscored.py\u001b\\\u001b[2mwhoscored.py\u001b[0m\u001b]8;;\u001b\\\u001b[2m:\u001b[0m\u001b]8;id=203993;file://c:\\Users\\krawc\\OneDrive\\Documents\\code\\pythons\\predictor\\.venv\\Lib\\site-packages\\soccerdata\\whoscored.py#327\u001b\\\u001b[2m327\u001b[0m\u001b]8;;\u001b\\\n"
      ]
     },
     "metadata": {},
     "output_type": "display_data"
    },
    {
     "data": {
      "text/html": [
       "<pre style=\"white-space:pre;overflow-x:auto;line-height:normal;font-family:Menlo,'DejaVu Sans Mono',consolas,'Courier New',monospace\"><span style=\"color: #7fbfbf; text-decoration-color: #7fbfbf\">[10/12/23 10:38:53] </span><span style=\"color: #000080; text-decoration-color: #000080\">INFO    </span> Scraping game schedule for Saturday, Nov <span style=\"color: #008080; text-decoration-color: #008080; font-weight: bold\">12</span> <span style=\"color: #008080; text-decoration-color: #008080; font-weight: bold\">2022</span>                      <a href=\"file://c:\\Users\\krawc\\OneDrive\\Documents\\code\\pythons\\predictor\\.venv\\Lib\\site-packages\\soccerdata\\whoscored.py\" target=\"_blank\"><span style=\"color: #7f7f7f; text-decoration-color: #7f7f7f\">whoscored.py</span></a><span style=\"color: #7f7f7f; text-decoration-color: #7f7f7f\">:</span><a href=\"file://c:\\Users\\krawc\\OneDrive\\Documents\\code\\pythons\\predictor\\.venv\\Lib\\site-packages\\soccerdata\\whoscored.py#327\" target=\"_blank\"><span style=\"color: #7f7f7f; text-decoration-color: #7f7f7f\">327</span></a>\n",
       "</pre>\n"
      ],
      "text/plain": [
       "\u001b[2;36m[10/12/23 10:38:53]\u001b[0m\u001b[2;36m \u001b[0m\u001b[34mINFO    \u001b[0m Scraping game schedule for Saturday, Nov \u001b[1;36m12\u001b[0m \u001b[1;36m2022\u001b[0m                      \u001b]8;id=326833;file://c:\\Users\\krawc\\OneDrive\\Documents\\code\\pythons\\predictor\\.venv\\Lib\\site-packages\\soccerdata\\whoscored.py\u001b\\\u001b[2mwhoscored.py\u001b[0m\u001b]8;;\u001b\\\u001b[2m:\u001b[0m\u001b]8;id=13987;file://c:\\Users\\krawc\\OneDrive\\Documents\\code\\pythons\\predictor\\.venv\\Lib\\site-packages\\soccerdata\\whoscored.py#327\u001b\\\u001b[2m327\u001b[0m\u001b]8;;\u001b\\\n"
      ]
     },
     "metadata": {},
     "output_type": "display_data"
    },
    {
     "data": {
      "text/html": [
       "<pre style=\"white-space:pre;overflow-x:auto;line-height:normal;font-family:Menlo,'DejaVu Sans Mono',consolas,'Courier New',monospace\"><span style=\"color: #7fbfbf; text-decoration-color: #7fbfbf\">[10/12/23 10:38:56] </span><span style=\"color: #000080; text-decoration-color: #000080\">INFO    </span> Scraping game schedule for Sunday, Nov <span style=\"color: #008080; text-decoration-color: #008080; font-weight: bold\">13</span> <span style=\"color: #008080; text-decoration-color: #008080; font-weight: bold\">2022</span>                        <a href=\"file://c:\\Users\\krawc\\OneDrive\\Documents\\code\\pythons\\predictor\\.venv\\Lib\\site-packages\\soccerdata\\whoscored.py\" target=\"_blank\"><span style=\"color: #7f7f7f; text-decoration-color: #7f7f7f\">whoscored.py</span></a><span style=\"color: #7f7f7f; text-decoration-color: #7f7f7f\">:</span><a href=\"file://c:\\Users\\krawc\\OneDrive\\Documents\\code\\pythons\\predictor\\.venv\\Lib\\site-packages\\soccerdata\\whoscored.py#327\" target=\"_blank\"><span style=\"color: #7f7f7f; text-decoration-color: #7f7f7f\">327</span></a>\n",
       "</pre>\n"
      ],
      "text/plain": [
       "\u001b[2;36m[10/12/23 10:38:56]\u001b[0m\u001b[2;36m \u001b[0m\u001b[34mINFO    \u001b[0m Scraping game schedule for Sunday, Nov \u001b[1;36m13\u001b[0m \u001b[1;36m2022\u001b[0m                        \u001b]8;id=942005;file://c:\\Users\\krawc\\OneDrive\\Documents\\code\\pythons\\predictor\\.venv\\Lib\\site-packages\\soccerdata\\whoscored.py\u001b\\\u001b[2mwhoscored.py\u001b[0m\u001b]8;;\u001b\\\u001b[2m:\u001b[0m\u001b]8;id=624579;file://c:\\Users\\krawc\\OneDrive\\Documents\\code\\pythons\\predictor\\.venv\\Lib\\site-packages\\soccerdata\\whoscored.py#327\u001b\\\u001b[2m327\u001b[0m\u001b]8;;\u001b\\\n"
      ]
     },
     "metadata": {},
     "output_type": "display_data"
    },
    {
     "data": {
      "text/html": [
       "<pre style=\"white-space:pre;overflow-x:auto;line-height:normal;font-family:Menlo,'DejaVu Sans Mono',consolas,'Courier New',monospace\"><span style=\"color: #7fbfbf; text-decoration-color: #7fbfbf\">[10/12/23 10:39:02] </span><span style=\"color: #000080; text-decoration-color: #000080\">INFO    </span> Scraping game schedule for Saturday, Oct <span style=\"color: #008080; text-decoration-color: #008080; font-weight: bold\">1</span> <span style=\"color: #008080; text-decoration-color: #008080; font-weight: bold\">2022</span>                       <a href=\"file://c:\\Users\\krawc\\OneDrive\\Documents\\code\\pythons\\predictor\\.venv\\Lib\\site-packages\\soccerdata\\whoscored.py\" target=\"_blank\"><span style=\"color: #7f7f7f; text-decoration-color: #7f7f7f\">whoscored.py</span></a><span style=\"color: #7f7f7f; text-decoration-color: #7f7f7f\">:</span><a href=\"file://c:\\Users\\krawc\\OneDrive\\Documents\\code\\pythons\\predictor\\.venv\\Lib\\site-packages\\soccerdata\\whoscored.py#327\" target=\"_blank\"><span style=\"color: #7f7f7f; text-decoration-color: #7f7f7f\">327</span></a>\n",
       "</pre>\n"
      ],
      "text/plain": [
       "\u001b[2;36m[10/12/23 10:39:02]\u001b[0m\u001b[2;36m \u001b[0m\u001b[34mINFO    \u001b[0m Scraping game schedule for Saturday, Oct \u001b[1;36m1\u001b[0m \u001b[1;36m2022\u001b[0m                       \u001b]8;id=549309;file://c:\\Users\\krawc\\OneDrive\\Documents\\code\\pythons\\predictor\\.venv\\Lib\\site-packages\\soccerdata\\whoscored.py\u001b\\\u001b[2mwhoscored.py\u001b[0m\u001b]8;;\u001b\\\u001b[2m:\u001b[0m\u001b]8;id=385403;file://c:\\Users\\krawc\\OneDrive\\Documents\\code\\pythons\\predictor\\.venv\\Lib\\site-packages\\soccerdata\\whoscored.py#327\u001b\\\u001b[2m327\u001b[0m\u001b]8;;\u001b\\\n"
      ]
     },
     "metadata": {},
     "output_type": "display_data"
    },
    {
     "data": {
      "text/html": [
       "<pre style=\"white-space:pre;overflow-x:auto;line-height:normal;font-family:Menlo,'DejaVu Sans Mono',consolas,'Courier New',monospace\"><span style=\"color: #7fbfbf; text-decoration-color: #7fbfbf\">[10/12/23 10:39:04] </span><span style=\"color: #000080; text-decoration-color: #000080\">INFO    </span> Scraping game schedule for Sunday, Oct <span style=\"color: #008080; text-decoration-color: #008080; font-weight: bold\">2</span> <span style=\"color: #008080; text-decoration-color: #008080; font-weight: bold\">2022</span>                         <a href=\"file://c:\\Users\\krawc\\OneDrive\\Documents\\code\\pythons\\predictor\\.venv\\Lib\\site-packages\\soccerdata\\whoscored.py\" target=\"_blank\"><span style=\"color: #7f7f7f; text-decoration-color: #7f7f7f\">whoscored.py</span></a><span style=\"color: #7f7f7f; text-decoration-color: #7f7f7f\">:</span><a href=\"file://c:\\Users\\krawc\\OneDrive\\Documents\\code\\pythons\\predictor\\.venv\\Lib\\site-packages\\soccerdata\\whoscored.py#327\" target=\"_blank\"><span style=\"color: #7f7f7f; text-decoration-color: #7f7f7f\">327</span></a>\n",
       "</pre>\n"
      ],
      "text/plain": [
       "\u001b[2;36m[10/12/23 10:39:04]\u001b[0m\u001b[2;36m \u001b[0m\u001b[34mINFO    \u001b[0m Scraping game schedule for Sunday, Oct \u001b[1;36m2\u001b[0m \u001b[1;36m2022\u001b[0m                         \u001b]8;id=700133;file://c:\\Users\\krawc\\OneDrive\\Documents\\code\\pythons\\predictor\\.venv\\Lib\\site-packages\\soccerdata\\whoscored.py\u001b\\\u001b[2mwhoscored.py\u001b[0m\u001b]8;;\u001b\\\u001b[2m:\u001b[0m\u001b]8;id=445404;file://c:\\Users\\krawc\\OneDrive\\Documents\\code\\pythons\\predictor\\.venv\\Lib\\site-packages\\soccerdata\\whoscored.py#327\u001b\\\u001b[2m327\u001b[0m\u001b]8;;\u001b\\\n"
      ]
     },
     "metadata": {},
     "output_type": "display_data"
    },
    {
     "data": {
      "text/html": [
       "<pre style=\"white-space:pre;overflow-x:auto;line-height:normal;font-family:Menlo,'DejaVu Sans Mono',consolas,'Courier New',monospace\"><span style=\"color: #7fbfbf; text-decoration-color: #7fbfbf\">                    </span><span style=\"color: #000080; text-decoration-color: #000080\">INFO    </span> Scraping game schedule for Monday, Oct <span style=\"color: #008080; text-decoration-color: #008080; font-weight: bold\">3</span> <span style=\"color: #008080; text-decoration-color: #008080; font-weight: bold\">2022</span>                         <a href=\"file://c:\\Users\\krawc\\OneDrive\\Documents\\code\\pythons\\predictor\\.venv\\Lib\\site-packages\\soccerdata\\whoscored.py\" target=\"_blank\"><span style=\"color: #7f7f7f; text-decoration-color: #7f7f7f\">whoscored.py</span></a><span style=\"color: #7f7f7f; text-decoration-color: #7f7f7f\">:</span><a href=\"file://c:\\Users\\krawc\\OneDrive\\Documents\\code\\pythons\\predictor\\.venv\\Lib\\site-packages\\soccerdata\\whoscored.py#327\" target=\"_blank\"><span style=\"color: #7f7f7f; text-decoration-color: #7f7f7f\">327</span></a>\n",
       "</pre>\n"
      ],
      "text/plain": [
       "\u001b[2;36m                   \u001b[0m\u001b[2;36m \u001b[0m\u001b[34mINFO    \u001b[0m Scraping game schedule for Monday, Oct \u001b[1;36m3\u001b[0m \u001b[1;36m2022\u001b[0m                         \u001b]8;id=320167;file://c:\\Users\\krawc\\OneDrive\\Documents\\code\\pythons\\predictor\\.venv\\Lib\\site-packages\\soccerdata\\whoscored.py\u001b\\\u001b[2mwhoscored.py\u001b[0m\u001b]8;;\u001b\\\u001b[2m:\u001b[0m\u001b]8;id=622956;file://c:\\Users\\krawc\\OneDrive\\Documents\\code\\pythons\\predictor\\.venv\\Lib\\site-packages\\soccerdata\\whoscored.py#327\u001b\\\u001b[2m327\u001b[0m\u001b]8;;\u001b\\\n"
      ]
     },
     "metadata": {},
     "output_type": "display_data"
    },
    {
     "data": {
      "text/html": [
       "<pre style=\"white-space:pre;overflow-x:auto;line-height:normal;font-family:Menlo,'DejaVu Sans Mono',consolas,'Courier New',monospace\"><span style=\"color: #7fbfbf; text-decoration-color: #7fbfbf\">[10/12/23 10:39:05] </span><span style=\"color: #000080; text-decoration-color: #000080\">INFO    </span> Scraping game schedule for Saturday, Oct <span style=\"color: #008080; text-decoration-color: #008080; font-weight: bold\">8</span> <span style=\"color: #008080; text-decoration-color: #008080; font-weight: bold\">2022</span>                       <a href=\"file://c:\\Users\\krawc\\OneDrive\\Documents\\code\\pythons\\predictor\\.venv\\Lib\\site-packages\\soccerdata\\whoscored.py\" target=\"_blank\"><span style=\"color: #7f7f7f; text-decoration-color: #7f7f7f\">whoscored.py</span></a><span style=\"color: #7f7f7f; text-decoration-color: #7f7f7f\">:</span><a href=\"file://c:\\Users\\krawc\\OneDrive\\Documents\\code\\pythons\\predictor\\.venv\\Lib\\site-packages\\soccerdata\\whoscored.py#327\" target=\"_blank\"><span style=\"color: #7f7f7f; text-decoration-color: #7f7f7f\">327</span></a>\n",
       "</pre>\n"
      ],
      "text/plain": [
       "\u001b[2;36m[10/12/23 10:39:05]\u001b[0m\u001b[2;36m \u001b[0m\u001b[34mINFO    \u001b[0m Scraping game schedule for Saturday, Oct \u001b[1;36m8\u001b[0m \u001b[1;36m2022\u001b[0m                       \u001b]8;id=553475;file://c:\\Users\\krawc\\OneDrive\\Documents\\code\\pythons\\predictor\\.venv\\Lib\\site-packages\\soccerdata\\whoscored.py\u001b\\\u001b[2mwhoscored.py\u001b[0m\u001b]8;;\u001b\\\u001b[2m:\u001b[0m\u001b]8;id=332806;file://c:\\Users\\krawc\\OneDrive\\Documents\\code\\pythons\\predictor\\.venv\\Lib\\site-packages\\soccerdata\\whoscored.py#327\u001b\\\u001b[2m327\u001b[0m\u001b]8;;\u001b\\\n"
      ]
     },
     "metadata": {},
     "output_type": "display_data"
    },
    {
     "data": {
      "text/html": [
       "<pre style=\"white-space:pre;overflow-x:auto;line-height:normal;font-family:Menlo,'DejaVu Sans Mono',consolas,'Courier New',monospace\"><span style=\"color: #7fbfbf; text-decoration-color: #7fbfbf\">[10/12/23 10:39:06] </span><span style=\"color: #000080; text-decoration-color: #000080\">INFO    </span> Scraping game schedule for Sunday, Oct <span style=\"color: #008080; text-decoration-color: #008080; font-weight: bold\">9</span> <span style=\"color: #008080; text-decoration-color: #008080; font-weight: bold\">2022</span>                         <a href=\"file://c:\\Users\\krawc\\OneDrive\\Documents\\code\\pythons\\predictor\\.venv\\Lib\\site-packages\\soccerdata\\whoscored.py\" target=\"_blank\"><span style=\"color: #7f7f7f; text-decoration-color: #7f7f7f\">whoscored.py</span></a><span style=\"color: #7f7f7f; text-decoration-color: #7f7f7f\">:</span><a href=\"file://c:\\Users\\krawc\\OneDrive\\Documents\\code\\pythons\\predictor\\.venv\\Lib\\site-packages\\soccerdata\\whoscored.py#327\" target=\"_blank\"><span style=\"color: #7f7f7f; text-decoration-color: #7f7f7f\">327</span></a>\n",
       "</pre>\n"
      ],
      "text/plain": [
       "\u001b[2;36m[10/12/23 10:39:06]\u001b[0m\u001b[2;36m \u001b[0m\u001b[34mINFO    \u001b[0m Scraping game schedule for Sunday, Oct \u001b[1;36m9\u001b[0m \u001b[1;36m2022\u001b[0m                         \u001b]8;id=955668;file://c:\\Users\\krawc\\OneDrive\\Documents\\code\\pythons\\predictor\\.venv\\Lib\\site-packages\\soccerdata\\whoscored.py\u001b\\\u001b[2mwhoscored.py\u001b[0m\u001b]8;;\u001b\\\u001b[2m:\u001b[0m\u001b]8;id=568388;file://c:\\Users\\krawc\\OneDrive\\Documents\\code\\pythons\\predictor\\.venv\\Lib\\site-packages\\soccerdata\\whoscored.py#327\u001b\\\u001b[2m327\u001b[0m\u001b]8;;\u001b\\\n"
      ]
     },
     "metadata": {},
     "output_type": "display_data"
    },
    {
     "data": {
      "text/html": [
       "<pre style=\"white-space:pre;overflow-x:auto;line-height:normal;font-family:Menlo,'DejaVu Sans Mono',consolas,'Courier New',monospace\"><span style=\"color: #7fbfbf; text-decoration-color: #7fbfbf\">[10/12/23 10:39:07] </span><span style=\"color: #000080; text-decoration-color: #000080\">INFO    </span> Scraping game schedule for Monday, Oct <span style=\"color: #008080; text-decoration-color: #008080; font-weight: bold\">10</span> <span style=\"color: #008080; text-decoration-color: #008080; font-weight: bold\">2022</span>                        <a href=\"file://c:\\Users\\krawc\\OneDrive\\Documents\\code\\pythons\\predictor\\.venv\\Lib\\site-packages\\soccerdata\\whoscored.py\" target=\"_blank\"><span style=\"color: #7f7f7f; text-decoration-color: #7f7f7f\">whoscored.py</span></a><span style=\"color: #7f7f7f; text-decoration-color: #7f7f7f\">:</span><a href=\"file://c:\\Users\\krawc\\OneDrive\\Documents\\code\\pythons\\predictor\\.venv\\Lib\\site-packages\\soccerdata\\whoscored.py#327\" target=\"_blank\"><span style=\"color: #7f7f7f; text-decoration-color: #7f7f7f\">327</span></a>\n",
       "</pre>\n"
      ],
      "text/plain": [
       "\u001b[2;36m[10/12/23 10:39:07]\u001b[0m\u001b[2;36m \u001b[0m\u001b[34mINFO    \u001b[0m Scraping game schedule for Monday, Oct \u001b[1;36m10\u001b[0m \u001b[1;36m2022\u001b[0m                        \u001b]8;id=803083;file://c:\\Users\\krawc\\OneDrive\\Documents\\code\\pythons\\predictor\\.venv\\Lib\\site-packages\\soccerdata\\whoscored.py\u001b\\\u001b[2mwhoscored.py\u001b[0m\u001b]8;;\u001b\\\u001b[2m:\u001b[0m\u001b]8;id=808540;file://c:\\Users\\krawc\\OneDrive\\Documents\\code\\pythons\\predictor\\.venv\\Lib\\site-packages\\soccerdata\\whoscored.py#327\u001b\\\u001b[2m327\u001b[0m\u001b]8;;\u001b\\\n"
      ]
     },
     "metadata": {},
     "output_type": "display_data"
    },
    {
     "data": {
      "text/html": [
       "<pre style=\"white-space:pre;overflow-x:auto;line-height:normal;font-family:Menlo,'DejaVu Sans Mono',consolas,'Courier New',monospace\"><span style=\"color: #7fbfbf; text-decoration-color: #7fbfbf\">[10/12/23 10:39:08] </span><span style=\"color: #000080; text-decoration-color: #000080\">INFO    </span> Scraping game schedule for Friday, Oct <span style=\"color: #008080; text-decoration-color: #008080; font-weight: bold\">14</span> <span style=\"color: #008080; text-decoration-color: #008080; font-weight: bold\">2022</span>                        <a href=\"file://c:\\Users\\krawc\\OneDrive\\Documents\\code\\pythons\\predictor\\.venv\\Lib\\site-packages\\soccerdata\\whoscored.py\" target=\"_blank\"><span style=\"color: #7f7f7f; text-decoration-color: #7f7f7f\">whoscored.py</span></a><span style=\"color: #7f7f7f; text-decoration-color: #7f7f7f\">:</span><a href=\"file://c:\\Users\\krawc\\OneDrive\\Documents\\code\\pythons\\predictor\\.venv\\Lib\\site-packages\\soccerdata\\whoscored.py#327\" target=\"_blank\"><span style=\"color: #7f7f7f; text-decoration-color: #7f7f7f\">327</span></a>\n",
       "</pre>\n"
      ],
      "text/plain": [
       "\u001b[2;36m[10/12/23 10:39:08]\u001b[0m\u001b[2;36m \u001b[0m\u001b[34mINFO    \u001b[0m Scraping game schedule for Friday, Oct \u001b[1;36m14\u001b[0m \u001b[1;36m2022\u001b[0m                        \u001b]8;id=35916;file://c:\\Users\\krawc\\OneDrive\\Documents\\code\\pythons\\predictor\\.venv\\Lib\\site-packages\\soccerdata\\whoscored.py\u001b\\\u001b[2mwhoscored.py\u001b[0m\u001b]8;;\u001b\\\u001b[2m:\u001b[0m\u001b]8;id=828077;file://c:\\Users\\krawc\\OneDrive\\Documents\\code\\pythons\\predictor\\.venv\\Lib\\site-packages\\soccerdata\\whoscored.py#327\u001b\\\u001b[2m327\u001b[0m\u001b]8;;\u001b\\\n"
      ]
     },
     "metadata": {},
     "output_type": "display_data"
    },
    {
     "data": {
      "text/html": [
       "<pre style=\"white-space:pre;overflow-x:auto;line-height:normal;font-family:Menlo,'DejaVu Sans Mono',consolas,'Courier New',monospace\"><span style=\"color: #7fbfbf; text-decoration-color: #7fbfbf\">                    </span><span style=\"color: #000080; text-decoration-color: #000080\">INFO    </span> Scraping game schedule for Saturday, Oct <span style=\"color: #008080; text-decoration-color: #008080; font-weight: bold\">15</span> <span style=\"color: #008080; text-decoration-color: #008080; font-weight: bold\">2022</span>                      <a href=\"file://c:\\Users\\krawc\\OneDrive\\Documents\\code\\pythons\\predictor\\.venv\\Lib\\site-packages\\soccerdata\\whoscored.py\" target=\"_blank\"><span style=\"color: #7f7f7f; text-decoration-color: #7f7f7f\">whoscored.py</span></a><span style=\"color: #7f7f7f; text-decoration-color: #7f7f7f\">:</span><a href=\"file://c:\\Users\\krawc\\OneDrive\\Documents\\code\\pythons\\predictor\\.venv\\Lib\\site-packages\\soccerdata\\whoscored.py#327\" target=\"_blank\"><span style=\"color: #7f7f7f; text-decoration-color: #7f7f7f\">327</span></a>\n",
       "</pre>\n"
      ],
      "text/plain": [
       "\u001b[2;36m                   \u001b[0m\u001b[2;36m \u001b[0m\u001b[34mINFO    \u001b[0m Scraping game schedule for Saturday, Oct \u001b[1;36m15\u001b[0m \u001b[1;36m2022\u001b[0m                      \u001b]8;id=23785;file://c:\\Users\\krawc\\OneDrive\\Documents\\code\\pythons\\predictor\\.venv\\Lib\\site-packages\\soccerdata\\whoscored.py\u001b\\\u001b[2mwhoscored.py\u001b[0m\u001b]8;;\u001b\\\u001b[2m:\u001b[0m\u001b]8;id=262092;file://c:\\Users\\krawc\\OneDrive\\Documents\\code\\pythons\\predictor\\.venv\\Lib\\site-packages\\soccerdata\\whoscored.py#327\u001b\\\u001b[2m327\u001b[0m\u001b]8;;\u001b\\\n"
      ]
     },
     "metadata": {},
     "output_type": "display_data"
    },
    {
     "data": {
      "text/html": [
       "<pre style=\"white-space:pre;overflow-x:auto;line-height:normal;font-family:Menlo,'DejaVu Sans Mono',consolas,'Courier New',monospace\"><span style=\"color: #7fbfbf; text-decoration-color: #7fbfbf\">[10/12/23 10:39:10] </span><span style=\"color: #000080; text-decoration-color: #000080\">INFO    </span> Scraping game schedule for Sunday, Oct <span style=\"color: #008080; text-decoration-color: #008080; font-weight: bold\">16</span> <span style=\"color: #008080; text-decoration-color: #008080; font-weight: bold\">2022</span>                        <a href=\"file://c:\\Users\\krawc\\OneDrive\\Documents\\code\\pythons\\predictor\\.venv\\Lib\\site-packages\\soccerdata\\whoscored.py\" target=\"_blank\"><span style=\"color: #7f7f7f; text-decoration-color: #7f7f7f\">whoscored.py</span></a><span style=\"color: #7f7f7f; text-decoration-color: #7f7f7f\">:</span><a href=\"file://c:\\Users\\krawc\\OneDrive\\Documents\\code\\pythons\\predictor\\.venv\\Lib\\site-packages\\soccerdata\\whoscored.py#327\" target=\"_blank\"><span style=\"color: #7f7f7f; text-decoration-color: #7f7f7f\">327</span></a>\n",
       "</pre>\n"
      ],
      "text/plain": [
       "\u001b[2;36m[10/12/23 10:39:10]\u001b[0m\u001b[2;36m \u001b[0m\u001b[34mINFO    \u001b[0m Scraping game schedule for Sunday, Oct \u001b[1;36m16\u001b[0m \u001b[1;36m2022\u001b[0m                        \u001b]8;id=806414;file://c:\\Users\\krawc\\OneDrive\\Documents\\code\\pythons\\predictor\\.venv\\Lib\\site-packages\\soccerdata\\whoscored.py\u001b\\\u001b[2mwhoscored.py\u001b[0m\u001b]8;;\u001b\\\u001b[2m:\u001b[0m\u001b]8;id=87896;file://c:\\Users\\krawc\\OneDrive\\Documents\\code\\pythons\\predictor\\.venv\\Lib\\site-packages\\soccerdata\\whoscored.py#327\u001b\\\u001b[2m327\u001b[0m\u001b]8;;\u001b\\\n"
      ]
     },
     "metadata": {},
     "output_type": "display_data"
    },
    {
     "data": {
      "text/html": [
       "<pre style=\"white-space:pre;overflow-x:auto;line-height:normal;font-family:Menlo,'DejaVu Sans Mono',consolas,'Courier New',monospace\"><span style=\"color: #7fbfbf; text-decoration-color: #7fbfbf\">[10/12/23 10:39:11] </span><span style=\"color: #000080; text-decoration-color: #000080\">INFO    </span> Scraping game schedule for Tuesday, Oct <span style=\"color: #008080; text-decoration-color: #008080; font-weight: bold\">18</span> <span style=\"color: #008080; text-decoration-color: #008080; font-weight: bold\">2022</span>                       <a href=\"file://c:\\Users\\krawc\\OneDrive\\Documents\\code\\pythons\\predictor\\.venv\\Lib\\site-packages\\soccerdata\\whoscored.py\" target=\"_blank\"><span style=\"color: #7f7f7f; text-decoration-color: #7f7f7f\">whoscored.py</span></a><span style=\"color: #7f7f7f; text-decoration-color: #7f7f7f\">:</span><a href=\"file://c:\\Users\\krawc\\OneDrive\\Documents\\code\\pythons\\predictor\\.venv\\Lib\\site-packages\\soccerdata\\whoscored.py#327\" target=\"_blank\"><span style=\"color: #7f7f7f; text-decoration-color: #7f7f7f\">327</span></a>\n",
       "</pre>\n"
      ],
      "text/plain": [
       "\u001b[2;36m[10/12/23 10:39:11]\u001b[0m\u001b[2;36m \u001b[0m\u001b[34mINFO    \u001b[0m Scraping game schedule for Tuesday, Oct \u001b[1;36m18\u001b[0m \u001b[1;36m2022\u001b[0m                       \u001b]8;id=428696;file://c:\\Users\\krawc\\OneDrive\\Documents\\code\\pythons\\predictor\\.venv\\Lib\\site-packages\\soccerdata\\whoscored.py\u001b\\\u001b[2mwhoscored.py\u001b[0m\u001b]8;;\u001b\\\u001b[2m:\u001b[0m\u001b]8;id=123243;file://c:\\Users\\krawc\\OneDrive\\Documents\\code\\pythons\\predictor\\.venv\\Lib\\site-packages\\soccerdata\\whoscored.py#327\u001b\\\u001b[2m327\u001b[0m\u001b]8;;\u001b\\\n"
      ]
     },
     "metadata": {},
     "output_type": "display_data"
    },
    {
     "data": {
      "text/html": [
       "<pre style=\"white-space:pre;overflow-x:auto;line-height:normal;font-family:Menlo,'DejaVu Sans Mono',consolas,'Courier New',monospace\"><span style=\"color: #7fbfbf; text-decoration-color: #7fbfbf\">[10/12/23 10:39:12] </span><span style=\"color: #000080; text-decoration-color: #000080\">INFO    </span> Scraping game schedule for Wednesday, Oct <span style=\"color: #008080; text-decoration-color: #008080; font-weight: bold\">19</span> <span style=\"color: #008080; text-decoration-color: #008080; font-weight: bold\">2022</span>                     <a href=\"file://c:\\Users\\krawc\\OneDrive\\Documents\\code\\pythons\\predictor\\.venv\\Lib\\site-packages\\soccerdata\\whoscored.py\" target=\"_blank\"><span style=\"color: #7f7f7f; text-decoration-color: #7f7f7f\">whoscored.py</span></a><span style=\"color: #7f7f7f; text-decoration-color: #7f7f7f\">:</span><a href=\"file://c:\\Users\\krawc\\OneDrive\\Documents\\code\\pythons\\predictor\\.venv\\Lib\\site-packages\\soccerdata\\whoscored.py#327\" target=\"_blank\"><span style=\"color: #7f7f7f; text-decoration-color: #7f7f7f\">327</span></a>\n",
       "</pre>\n"
      ],
      "text/plain": [
       "\u001b[2;36m[10/12/23 10:39:12]\u001b[0m\u001b[2;36m \u001b[0m\u001b[34mINFO    \u001b[0m Scraping game schedule for Wednesday, Oct \u001b[1;36m19\u001b[0m \u001b[1;36m2022\u001b[0m                     \u001b]8;id=607098;file://c:\\Users\\krawc\\OneDrive\\Documents\\code\\pythons\\predictor\\.venv\\Lib\\site-packages\\soccerdata\\whoscored.py\u001b\\\u001b[2mwhoscored.py\u001b[0m\u001b]8;;\u001b\\\u001b[2m:\u001b[0m\u001b]8;id=243626;file://c:\\Users\\krawc\\OneDrive\\Documents\\code\\pythons\\predictor\\.venv\\Lib\\site-packages\\soccerdata\\whoscored.py#327\u001b\\\u001b[2m327\u001b[0m\u001b]8;;\u001b\\\n"
      ]
     },
     "metadata": {},
     "output_type": "display_data"
    },
    {
     "data": {
      "text/html": [
       "<pre style=\"white-space:pre;overflow-x:auto;line-height:normal;font-family:Menlo,'DejaVu Sans Mono',consolas,'Courier New',monospace\"><span style=\"color: #7fbfbf; text-decoration-color: #7fbfbf\">[10/12/23 10:39:13] </span><span style=\"color: #000080; text-decoration-color: #000080\">INFO    </span> Scraping game schedule for Thursday, Oct <span style=\"color: #008080; text-decoration-color: #008080; font-weight: bold\">20</span> <span style=\"color: #008080; text-decoration-color: #008080; font-weight: bold\">2022</span>                      <a href=\"file://c:\\Users\\krawc\\OneDrive\\Documents\\code\\pythons\\predictor\\.venv\\Lib\\site-packages\\soccerdata\\whoscored.py\" target=\"_blank\"><span style=\"color: #7f7f7f; text-decoration-color: #7f7f7f\">whoscored.py</span></a><span style=\"color: #7f7f7f; text-decoration-color: #7f7f7f\">:</span><a href=\"file://c:\\Users\\krawc\\OneDrive\\Documents\\code\\pythons\\predictor\\.venv\\Lib\\site-packages\\soccerdata\\whoscored.py#327\" target=\"_blank\"><span style=\"color: #7f7f7f; text-decoration-color: #7f7f7f\">327</span></a>\n",
       "</pre>\n"
      ],
      "text/plain": [
       "\u001b[2;36m[10/12/23 10:39:13]\u001b[0m\u001b[2;36m \u001b[0m\u001b[34mINFO    \u001b[0m Scraping game schedule for Thursday, Oct \u001b[1;36m20\u001b[0m \u001b[1;36m2022\u001b[0m                      \u001b]8;id=162596;file://c:\\Users\\krawc\\OneDrive\\Documents\\code\\pythons\\predictor\\.venv\\Lib\\site-packages\\soccerdata\\whoscored.py\u001b\\\u001b[2mwhoscored.py\u001b[0m\u001b]8;;\u001b\\\u001b[2m:\u001b[0m\u001b]8;id=757111;file://c:\\Users\\krawc\\OneDrive\\Documents\\code\\pythons\\predictor\\.venv\\Lib\\site-packages\\soccerdata\\whoscored.py#327\u001b\\\u001b[2m327\u001b[0m\u001b]8;;\u001b\\\n"
      ]
     },
     "metadata": {},
     "output_type": "display_data"
    },
    {
     "data": {
      "text/html": [
       "<pre style=\"white-space:pre;overflow-x:auto;line-height:normal;font-family:Menlo,'DejaVu Sans Mono',consolas,'Courier New',monospace\"><span style=\"color: #7fbfbf; text-decoration-color: #7fbfbf\">[10/12/23 10:39:14] </span><span style=\"color: #000080; text-decoration-color: #000080\">INFO    </span> Scraping game schedule for Saturday, Oct <span style=\"color: #008080; text-decoration-color: #008080; font-weight: bold\">22</span> <span style=\"color: #008080; text-decoration-color: #008080; font-weight: bold\">2022</span>                      <a href=\"file://c:\\Users\\krawc\\OneDrive\\Documents\\code\\pythons\\predictor\\.venv\\Lib\\site-packages\\soccerdata\\whoscored.py\" target=\"_blank\"><span style=\"color: #7f7f7f; text-decoration-color: #7f7f7f\">whoscored.py</span></a><span style=\"color: #7f7f7f; text-decoration-color: #7f7f7f\">:</span><a href=\"file://c:\\Users\\krawc\\OneDrive\\Documents\\code\\pythons\\predictor\\.venv\\Lib\\site-packages\\soccerdata\\whoscored.py#327\" target=\"_blank\"><span style=\"color: #7f7f7f; text-decoration-color: #7f7f7f\">327</span></a>\n",
       "</pre>\n"
      ],
      "text/plain": [
       "\u001b[2;36m[10/12/23 10:39:14]\u001b[0m\u001b[2;36m \u001b[0m\u001b[34mINFO    \u001b[0m Scraping game schedule for Saturday, Oct \u001b[1;36m22\u001b[0m \u001b[1;36m2022\u001b[0m                      \u001b]8;id=998797;file://c:\\Users\\krawc\\OneDrive\\Documents\\code\\pythons\\predictor\\.venv\\Lib\\site-packages\\soccerdata\\whoscored.py\u001b\\\u001b[2mwhoscored.py\u001b[0m\u001b]8;;\u001b\\\u001b[2m:\u001b[0m\u001b]8;id=947878;file://c:\\Users\\krawc\\OneDrive\\Documents\\code\\pythons\\predictor\\.venv\\Lib\\site-packages\\soccerdata\\whoscored.py#327\u001b\\\u001b[2m327\u001b[0m\u001b]8;;\u001b\\\n"
      ]
     },
     "metadata": {},
     "output_type": "display_data"
    },
    {
     "data": {
      "text/html": [
       "<pre style=\"white-space:pre;overflow-x:auto;line-height:normal;font-family:Menlo,'DejaVu Sans Mono',consolas,'Courier New',monospace\"><span style=\"color: #7fbfbf; text-decoration-color: #7fbfbf\">[10/12/23 10:39:16] </span><span style=\"color: #000080; text-decoration-color: #000080\">INFO    </span> Scraping game schedule for Sunday, Oct <span style=\"color: #008080; text-decoration-color: #008080; font-weight: bold\">23</span> <span style=\"color: #008080; text-decoration-color: #008080; font-weight: bold\">2022</span>                        <a href=\"file://c:\\Users\\krawc\\OneDrive\\Documents\\code\\pythons\\predictor\\.venv\\Lib\\site-packages\\soccerdata\\whoscored.py\" target=\"_blank\"><span style=\"color: #7f7f7f; text-decoration-color: #7f7f7f\">whoscored.py</span></a><span style=\"color: #7f7f7f; text-decoration-color: #7f7f7f\">:</span><a href=\"file://c:\\Users\\krawc\\OneDrive\\Documents\\code\\pythons\\predictor\\.venv\\Lib\\site-packages\\soccerdata\\whoscored.py#327\" target=\"_blank\"><span style=\"color: #7f7f7f; text-decoration-color: #7f7f7f\">327</span></a>\n",
       "</pre>\n"
      ],
      "text/plain": [
       "\u001b[2;36m[10/12/23 10:39:16]\u001b[0m\u001b[2;36m \u001b[0m\u001b[34mINFO    \u001b[0m Scraping game schedule for Sunday, Oct \u001b[1;36m23\u001b[0m \u001b[1;36m2022\u001b[0m                        \u001b]8;id=519585;file://c:\\Users\\krawc\\OneDrive\\Documents\\code\\pythons\\predictor\\.venv\\Lib\\site-packages\\soccerdata\\whoscored.py\u001b\\\u001b[2mwhoscored.py\u001b[0m\u001b]8;;\u001b\\\u001b[2m:\u001b[0m\u001b]8;id=685389;file://c:\\Users\\krawc\\OneDrive\\Documents\\code\\pythons\\predictor\\.venv\\Lib\\site-packages\\soccerdata\\whoscored.py#327\u001b\\\u001b[2m327\u001b[0m\u001b]8;;\u001b\\\n"
      ]
     },
     "metadata": {},
     "output_type": "display_data"
    },
    {
     "data": {
      "text/html": [
       "<pre style=\"white-space:pre;overflow-x:auto;line-height:normal;font-family:Menlo,'DejaVu Sans Mono',consolas,'Courier New',monospace\"><span style=\"color: #7fbfbf; text-decoration-color: #7fbfbf\">[10/12/23 10:39:17] </span><span style=\"color: #000080; text-decoration-color: #000080\">INFO    </span> Scraping game schedule for Monday, Oct <span style=\"color: #008080; text-decoration-color: #008080; font-weight: bold\">24</span> <span style=\"color: #008080; text-decoration-color: #008080; font-weight: bold\">2022</span>                        <a href=\"file://c:\\Users\\krawc\\OneDrive\\Documents\\code\\pythons\\predictor\\.venv\\Lib\\site-packages\\soccerdata\\whoscored.py\" target=\"_blank\"><span style=\"color: #7f7f7f; text-decoration-color: #7f7f7f\">whoscored.py</span></a><span style=\"color: #7f7f7f; text-decoration-color: #7f7f7f\">:</span><a href=\"file://c:\\Users\\krawc\\OneDrive\\Documents\\code\\pythons\\predictor\\.venv\\Lib\\site-packages\\soccerdata\\whoscored.py#327\" target=\"_blank\"><span style=\"color: #7f7f7f; text-decoration-color: #7f7f7f\">327</span></a>\n",
       "</pre>\n"
      ],
      "text/plain": [
       "\u001b[2;36m[10/12/23 10:39:17]\u001b[0m\u001b[2;36m \u001b[0m\u001b[34mINFO    \u001b[0m Scraping game schedule for Monday, Oct \u001b[1;36m24\u001b[0m \u001b[1;36m2022\u001b[0m                        \u001b]8;id=934476;file://c:\\Users\\krawc\\OneDrive\\Documents\\code\\pythons\\predictor\\.venv\\Lib\\site-packages\\soccerdata\\whoscored.py\u001b\\\u001b[2mwhoscored.py\u001b[0m\u001b]8;;\u001b\\\u001b[2m:\u001b[0m\u001b]8;id=71508;file://c:\\Users\\krawc\\OneDrive\\Documents\\code\\pythons\\predictor\\.venv\\Lib\\site-packages\\soccerdata\\whoscored.py#327\u001b\\\u001b[2m327\u001b[0m\u001b]8;;\u001b\\\n"
      ]
     },
     "metadata": {},
     "output_type": "display_data"
    },
    {
     "data": {
      "text/html": [
       "<pre style=\"white-space:pre;overflow-x:auto;line-height:normal;font-family:Menlo,'DejaVu Sans Mono',consolas,'Courier New',monospace\"><span style=\"color: #7fbfbf; text-decoration-color: #7fbfbf\">                    </span><span style=\"color: #000080; text-decoration-color: #000080\">INFO    </span> Scraping game schedule for Saturday, Oct <span style=\"color: #008080; text-decoration-color: #008080; font-weight: bold\">29</span> <span style=\"color: #008080; text-decoration-color: #008080; font-weight: bold\">2022</span>                      <a href=\"file://c:\\Users\\krawc\\OneDrive\\Documents\\code\\pythons\\predictor\\.venv\\Lib\\site-packages\\soccerdata\\whoscored.py\" target=\"_blank\"><span style=\"color: #7f7f7f; text-decoration-color: #7f7f7f\">whoscored.py</span></a><span style=\"color: #7f7f7f; text-decoration-color: #7f7f7f\">:</span><a href=\"file://c:\\Users\\krawc\\OneDrive\\Documents\\code\\pythons\\predictor\\.venv\\Lib\\site-packages\\soccerdata\\whoscored.py#327\" target=\"_blank\"><span style=\"color: #7f7f7f; text-decoration-color: #7f7f7f\">327</span></a>\n",
       "</pre>\n"
      ],
      "text/plain": [
       "\u001b[2;36m                   \u001b[0m\u001b[2;36m \u001b[0m\u001b[34mINFO    \u001b[0m Scraping game schedule for Saturday, Oct \u001b[1;36m29\u001b[0m \u001b[1;36m2022\u001b[0m                      \u001b]8;id=444606;file://c:\\Users\\krawc\\OneDrive\\Documents\\code\\pythons\\predictor\\.venv\\Lib\\site-packages\\soccerdata\\whoscored.py\u001b\\\u001b[2mwhoscored.py\u001b[0m\u001b]8;;\u001b\\\u001b[2m:\u001b[0m\u001b]8;id=606492;file://c:\\Users\\krawc\\OneDrive\\Documents\\code\\pythons\\predictor\\.venv\\Lib\\site-packages\\soccerdata\\whoscored.py#327\u001b\\\u001b[2m327\u001b[0m\u001b]8;;\u001b\\\n"
      ]
     },
     "metadata": {},
     "output_type": "display_data"
    },
    {
     "data": {
      "text/html": [
       "<pre style=\"white-space:pre;overflow-x:auto;line-height:normal;font-family:Menlo,'DejaVu Sans Mono',consolas,'Courier New',monospace\"><span style=\"color: #7fbfbf; text-decoration-color: #7fbfbf\">[10/12/23 10:39:19] </span><span style=\"color: #000080; text-decoration-color: #000080\">INFO    </span> Scraping game schedule for Sunday, Oct <span style=\"color: #008080; text-decoration-color: #008080; font-weight: bold\">30</span> <span style=\"color: #008080; text-decoration-color: #008080; font-weight: bold\">2022</span>                        <a href=\"file://c:\\Users\\krawc\\OneDrive\\Documents\\code\\pythons\\predictor\\.venv\\Lib\\site-packages\\soccerdata\\whoscored.py\" target=\"_blank\"><span style=\"color: #7f7f7f; text-decoration-color: #7f7f7f\">whoscored.py</span></a><span style=\"color: #7f7f7f; text-decoration-color: #7f7f7f\">:</span><a href=\"file://c:\\Users\\krawc\\OneDrive\\Documents\\code\\pythons\\predictor\\.venv\\Lib\\site-packages\\soccerdata\\whoscored.py#327\" target=\"_blank\"><span style=\"color: #7f7f7f; text-decoration-color: #7f7f7f\">327</span></a>\n",
       "</pre>\n"
      ],
      "text/plain": [
       "\u001b[2;36m[10/12/23 10:39:19]\u001b[0m\u001b[2;36m \u001b[0m\u001b[34mINFO    \u001b[0m Scraping game schedule for Sunday, Oct \u001b[1;36m30\u001b[0m \u001b[1;36m2022\u001b[0m                        \u001b]8;id=25163;file://c:\\Users\\krawc\\OneDrive\\Documents\\code\\pythons\\predictor\\.venv\\Lib\\site-packages\\soccerdata\\whoscored.py\u001b\\\u001b[2mwhoscored.py\u001b[0m\u001b]8;;\u001b\\\u001b[2m:\u001b[0m\u001b]8;id=585147;file://c:\\Users\\krawc\\OneDrive\\Documents\\code\\pythons\\predictor\\.venv\\Lib\\site-packages\\soccerdata\\whoscored.py#327\u001b\\\u001b[2m327\u001b[0m\u001b]8;;\u001b\\\n"
      ]
     },
     "metadata": {},
     "output_type": "display_data"
    },
    {
     "data": {
      "text/html": [
       "<pre style=\"white-space:pre;overflow-x:auto;line-height:normal;font-family:Menlo,'DejaVu Sans Mono',consolas,'Courier New',monospace\"><span style=\"color: #7fbfbf; text-decoration-color: #7fbfbf\">[10/12/23 10:39:25] </span><span style=\"color: #000080; text-decoration-color: #000080\">INFO    </span> Scraping game schedule for Thursday, Sep <span style=\"color: #008080; text-decoration-color: #008080; font-weight: bold\">1</span> <span style=\"color: #008080; text-decoration-color: #008080; font-weight: bold\">2022</span>                       <a href=\"file://c:\\Users\\krawc\\OneDrive\\Documents\\code\\pythons\\predictor\\.venv\\Lib\\site-packages\\soccerdata\\whoscored.py\" target=\"_blank\"><span style=\"color: #7f7f7f; text-decoration-color: #7f7f7f\">whoscored.py</span></a><span style=\"color: #7f7f7f; text-decoration-color: #7f7f7f\">:</span><a href=\"file://c:\\Users\\krawc\\OneDrive\\Documents\\code\\pythons\\predictor\\.venv\\Lib\\site-packages\\soccerdata\\whoscored.py#327\" target=\"_blank\"><span style=\"color: #7f7f7f; text-decoration-color: #7f7f7f\">327</span></a>\n",
       "</pre>\n"
      ],
      "text/plain": [
       "\u001b[2;36m[10/12/23 10:39:25]\u001b[0m\u001b[2;36m \u001b[0m\u001b[34mINFO    \u001b[0m Scraping game schedule for Thursday, Sep \u001b[1;36m1\u001b[0m \u001b[1;36m2022\u001b[0m                       \u001b]8;id=776049;file://c:\\Users\\krawc\\OneDrive\\Documents\\code\\pythons\\predictor\\.venv\\Lib\\site-packages\\soccerdata\\whoscored.py\u001b\\\u001b[2mwhoscored.py\u001b[0m\u001b]8;;\u001b\\\u001b[2m:\u001b[0m\u001b]8;id=190541;file://c:\\Users\\krawc\\OneDrive\\Documents\\code\\pythons\\predictor\\.venv\\Lib\\site-packages\\soccerdata\\whoscored.py#327\u001b\\\u001b[2m327\u001b[0m\u001b]8;;\u001b\\\n"
      ]
     },
     "metadata": {},
     "output_type": "display_data"
    },
    {
     "data": {
      "text/html": [
       "<pre style=\"white-space:pre;overflow-x:auto;line-height:normal;font-family:Menlo,'DejaVu Sans Mono',consolas,'Courier New',monospace\"><span style=\"color: #7fbfbf; text-decoration-color: #7fbfbf\">[10/12/23 10:39:26] </span><span style=\"color: #000080; text-decoration-color: #000080\">INFO    </span> Scraping game schedule for Saturday, Sep <span style=\"color: #008080; text-decoration-color: #008080; font-weight: bold\">3</span> <span style=\"color: #008080; text-decoration-color: #008080; font-weight: bold\">2022</span>                       <a href=\"file://c:\\Users\\krawc\\OneDrive\\Documents\\code\\pythons\\predictor\\.venv\\Lib\\site-packages\\soccerdata\\whoscored.py\" target=\"_blank\"><span style=\"color: #7f7f7f; text-decoration-color: #7f7f7f\">whoscored.py</span></a><span style=\"color: #7f7f7f; text-decoration-color: #7f7f7f\">:</span><a href=\"file://c:\\Users\\krawc\\OneDrive\\Documents\\code\\pythons\\predictor\\.venv\\Lib\\site-packages\\soccerdata\\whoscored.py#327\" target=\"_blank\"><span style=\"color: #7f7f7f; text-decoration-color: #7f7f7f\">327</span></a>\n",
       "</pre>\n"
      ],
      "text/plain": [
       "\u001b[2;36m[10/12/23 10:39:26]\u001b[0m\u001b[2;36m \u001b[0m\u001b[34mINFO    \u001b[0m Scraping game schedule for Saturday, Sep \u001b[1;36m3\u001b[0m \u001b[1;36m2022\u001b[0m                       \u001b]8;id=608411;file://c:\\Users\\krawc\\OneDrive\\Documents\\code\\pythons\\predictor\\.venv\\Lib\\site-packages\\soccerdata\\whoscored.py\u001b\\\u001b[2mwhoscored.py\u001b[0m\u001b]8;;\u001b\\\u001b[2m:\u001b[0m\u001b]8;id=538622;file://c:\\Users\\krawc\\OneDrive\\Documents\\code\\pythons\\predictor\\.venv\\Lib\\site-packages\\soccerdata\\whoscored.py#327\u001b\\\u001b[2m327\u001b[0m\u001b]8;;\u001b\\\n"
      ]
     },
     "metadata": {},
     "output_type": "display_data"
    },
    {
     "data": {
      "text/html": [
       "<pre style=\"white-space:pre;overflow-x:auto;line-height:normal;font-family:Menlo,'DejaVu Sans Mono',consolas,'Courier New',monospace\"><span style=\"color: #7fbfbf; text-decoration-color: #7fbfbf\">[10/12/23 10:39:28] </span><span style=\"color: #000080; text-decoration-color: #000080\">INFO    </span> Scraping game schedule for Sunday, Sep <span style=\"color: #008080; text-decoration-color: #008080; font-weight: bold\">4</span> <span style=\"color: #008080; text-decoration-color: #008080; font-weight: bold\">2022</span>                         <a href=\"file://c:\\Users\\krawc\\OneDrive\\Documents\\code\\pythons\\predictor\\.venv\\Lib\\site-packages\\soccerdata\\whoscored.py\" target=\"_blank\"><span style=\"color: #7f7f7f; text-decoration-color: #7f7f7f\">whoscored.py</span></a><span style=\"color: #7f7f7f; text-decoration-color: #7f7f7f\">:</span><a href=\"file://c:\\Users\\krawc\\OneDrive\\Documents\\code\\pythons\\predictor\\.venv\\Lib\\site-packages\\soccerdata\\whoscored.py#327\" target=\"_blank\"><span style=\"color: #7f7f7f; text-decoration-color: #7f7f7f\">327</span></a>\n",
       "</pre>\n"
      ],
      "text/plain": [
       "\u001b[2;36m[10/12/23 10:39:28]\u001b[0m\u001b[2;36m \u001b[0m\u001b[34mINFO    \u001b[0m Scraping game schedule for Sunday, Sep \u001b[1;36m4\u001b[0m \u001b[1;36m2022\u001b[0m                         \u001b]8;id=173421;file://c:\\Users\\krawc\\OneDrive\\Documents\\code\\pythons\\predictor\\.venv\\Lib\\site-packages\\soccerdata\\whoscored.py\u001b\\\u001b[2mwhoscored.py\u001b[0m\u001b]8;;\u001b\\\u001b[2m:\u001b[0m\u001b]8;id=765150;file://c:\\Users\\krawc\\OneDrive\\Documents\\code\\pythons\\predictor\\.venv\\Lib\\site-packages\\soccerdata\\whoscored.py#327\u001b\\\u001b[2m327\u001b[0m\u001b]8;;\u001b\\\n"
      ]
     },
     "metadata": {},
     "output_type": "display_data"
    },
    {
     "data": {
      "text/html": [
       "<pre style=\"white-space:pre;overflow-x:auto;line-height:normal;font-family:Menlo,'DejaVu Sans Mono',consolas,'Courier New',monospace\"><span style=\"color: #7fbfbf; text-decoration-color: #7fbfbf\">[10/12/23 10:39:29] </span><span style=\"color: #000080; text-decoration-color: #000080\">INFO    </span> Scraping game schedule for Friday, Sep <span style=\"color: #008080; text-decoration-color: #008080; font-weight: bold\">16</span> <span style=\"color: #008080; text-decoration-color: #008080; font-weight: bold\">2022</span>                        <a href=\"file://c:\\Users\\krawc\\OneDrive\\Documents\\code\\pythons\\predictor\\.venv\\Lib\\site-packages\\soccerdata\\whoscored.py\" target=\"_blank\"><span style=\"color: #7f7f7f; text-decoration-color: #7f7f7f\">whoscored.py</span></a><span style=\"color: #7f7f7f; text-decoration-color: #7f7f7f\">:</span><a href=\"file://c:\\Users\\krawc\\OneDrive\\Documents\\code\\pythons\\predictor\\.venv\\Lib\\site-packages\\soccerdata\\whoscored.py#327\" target=\"_blank\"><span style=\"color: #7f7f7f; text-decoration-color: #7f7f7f\">327</span></a>\n",
       "</pre>\n"
      ],
      "text/plain": [
       "\u001b[2;36m[10/12/23 10:39:29]\u001b[0m\u001b[2;36m \u001b[0m\u001b[34mINFO    \u001b[0m Scraping game schedule for Friday, Sep \u001b[1;36m16\u001b[0m \u001b[1;36m2022\u001b[0m                        \u001b]8;id=481753;file://c:\\Users\\krawc\\OneDrive\\Documents\\code\\pythons\\predictor\\.venv\\Lib\\site-packages\\soccerdata\\whoscored.py\u001b\\\u001b[2mwhoscored.py\u001b[0m\u001b]8;;\u001b\\\u001b[2m:\u001b[0m\u001b]8;id=878223;file://c:\\Users\\krawc\\OneDrive\\Documents\\code\\pythons\\predictor\\.venv\\Lib\\site-packages\\soccerdata\\whoscored.py#327\u001b\\\u001b[2m327\u001b[0m\u001b]8;;\u001b\\\n"
      ]
     },
     "metadata": {},
     "output_type": "display_data"
    },
    {
     "data": {
      "text/html": [
       "<pre style=\"white-space:pre;overflow-x:auto;line-height:normal;font-family:Menlo,'DejaVu Sans Mono',consolas,'Courier New',monospace\"><span style=\"color: #7fbfbf; text-decoration-color: #7fbfbf\">[10/12/23 10:39:30] </span><span style=\"color: #000080; text-decoration-color: #000080\">INFO    </span> Scraping game schedule for Saturday, Sep <span style=\"color: #008080; text-decoration-color: #008080; font-weight: bold\">17</span> <span style=\"color: #008080; text-decoration-color: #008080; font-weight: bold\">2022</span>                      <a href=\"file://c:\\Users\\krawc\\OneDrive\\Documents\\code\\pythons\\predictor\\.venv\\Lib\\site-packages\\soccerdata\\whoscored.py\" target=\"_blank\"><span style=\"color: #7f7f7f; text-decoration-color: #7f7f7f\">whoscored.py</span></a><span style=\"color: #7f7f7f; text-decoration-color: #7f7f7f\">:</span><a href=\"file://c:\\Users\\krawc\\OneDrive\\Documents\\code\\pythons\\predictor\\.venv\\Lib\\site-packages\\soccerdata\\whoscored.py#327\" target=\"_blank\"><span style=\"color: #7f7f7f; text-decoration-color: #7f7f7f\">327</span></a>\n",
       "</pre>\n"
      ],
      "text/plain": [
       "\u001b[2;36m[10/12/23 10:39:30]\u001b[0m\u001b[2;36m \u001b[0m\u001b[34mINFO    \u001b[0m Scraping game schedule for Saturday, Sep \u001b[1;36m17\u001b[0m \u001b[1;36m2022\u001b[0m                      \u001b]8;id=127758;file://c:\\Users\\krawc\\OneDrive\\Documents\\code\\pythons\\predictor\\.venv\\Lib\\site-packages\\soccerdata\\whoscored.py\u001b\\\u001b[2mwhoscored.py\u001b[0m\u001b]8;;\u001b\\\u001b[2m:\u001b[0m\u001b]8;id=162014;file://c:\\Users\\krawc\\OneDrive\\Documents\\code\\pythons\\predictor\\.venv\\Lib\\site-packages\\soccerdata\\whoscored.py#327\u001b\\\u001b[2m327\u001b[0m\u001b]8;;\u001b\\\n"
      ]
     },
     "metadata": {},
     "output_type": "display_data"
    },
    {
     "data": {
      "text/html": [
       "<pre style=\"white-space:pre;overflow-x:auto;line-height:normal;font-family:Menlo,'DejaVu Sans Mono',consolas,'Courier New',monospace\"><span style=\"color: #7fbfbf; text-decoration-color: #7fbfbf\">[10/12/23 10:39:31] </span><span style=\"color: #000080; text-decoration-color: #000080\">INFO    </span> Scraping game schedule for Sunday, Sep <span style=\"color: #008080; text-decoration-color: #008080; font-weight: bold\">18</span> <span style=\"color: #008080; text-decoration-color: #008080; font-weight: bold\">2022</span>                        <a href=\"file://c:\\Users\\krawc\\OneDrive\\Documents\\code\\pythons\\predictor\\.venv\\Lib\\site-packages\\soccerdata\\whoscored.py\" target=\"_blank\"><span style=\"color: #7f7f7f; text-decoration-color: #7f7f7f\">whoscored.py</span></a><span style=\"color: #7f7f7f; text-decoration-color: #7f7f7f\">:</span><a href=\"file://c:\\Users\\krawc\\OneDrive\\Documents\\code\\pythons\\predictor\\.venv\\Lib\\site-packages\\soccerdata\\whoscored.py#327\" target=\"_blank\"><span style=\"color: #7f7f7f; text-decoration-color: #7f7f7f\">327</span></a>\n",
       "</pre>\n"
      ],
      "text/plain": [
       "\u001b[2;36m[10/12/23 10:39:31]\u001b[0m\u001b[2;36m \u001b[0m\u001b[34mINFO    \u001b[0m Scraping game schedule for Sunday, Sep \u001b[1;36m18\u001b[0m \u001b[1;36m2022\u001b[0m                        \u001b]8;id=788064;file://c:\\Users\\krawc\\OneDrive\\Documents\\code\\pythons\\predictor\\.venv\\Lib\\site-packages\\soccerdata\\whoscored.py\u001b\\\u001b[2mwhoscored.py\u001b[0m\u001b]8;;\u001b\\\u001b[2m:\u001b[0m\u001b]8;id=558106;file://c:\\Users\\krawc\\OneDrive\\Documents\\code\\pythons\\predictor\\.venv\\Lib\\site-packages\\soccerdata\\whoscored.py#327\u001b\\\u001b[2m327\u001b[0m\u001b]8;;\u001b\\\n"
      ]
     },
     "metadata": {},
     "output_type": "display_data"
    },
    {
     "data": {
      "text/html": [
       "<pre style=\"white-space:pre;overflow-x:auto;line-height:normal;font-family:Menlo,'DejaVu Sans Mono',consolas,'Courier New',monospace\"><span style=\"color: #7fbfbf; text-decoration-color: #7fbfbf\">[10/12/23 10:39:36] </span><span style=\"color: #000080; text-decoration-color: #000080\">INFO    </span> Scraping game schedule for Friday, Aug <span style=\"color: #008080; text-decoration-color: #008080; font-weight: bold\">5</span> <span style=\"color: #008080; text-decoration-color: #008080; font-weight: bold\">2022</span>                         <a href=\"file://c:\\Users\\krawc\\OneDrive\\Documents\\code\\pythons\\predictor\\.venv\\Lib\\site-packages\\soccerdata\\whoscored.py\" target=\"_blank\"><span style=\"color: #7f7f7f; text-decoration-color: #7f7f7f\">whoscored.py</span></a><span style=\"color: #7f7f7f; text-decoration-color: #7f7f7f\">:</span><a href=\"file://c:\\Users\\krawc\\OneDrive\\Documents\\code\\pythons\\predictor\\.venv\\Lib\\site-packages\\soccerdata\\whoscored.py#327\" target=\"_blank\"><span style=\"color: #7f7f7f; text-decoration-color: #7f7f7f\">327</span></a>\n",
       "</pre>\n"
      ],
      "text/plain": [
       "\u001b[2;36m[10/12/23 10:39:36]\u001b[0m\u001b[2;36m \u001b[0m\u001b[34mINFO    \u001b[0m Scraping game schedule for Friday, Aug \u001b[1;36m5\u001b[0m \u001b[1;36m2022\u001b[0m                         \u001b]8;id=564004;file://c:\\Users\\krawc\\OneDrive\\Documents\\code\\pythons\\predictor\\.venv\\Lib\\site-packages\\soccerdata\\whoscored.py\u001b\\\u001b[2mwhoscored.py\u001b[0m\u001b]8;;\u001b\\\u001b[2m:\u001b[0m\u001b]8;id=795524;file://c:\\Users\\krawc\\OneDrive\\Documents\\code\\pythons\\predictor\\.venv\\Lib\\site-packages\\soccerdata\\whoscored.py#327\u001b\\\u001b[2m327\u001b[0m\u001b]8;;\u001b\\\n"
      ]
     },
     "metadata": {},
     "output_type": "display_data"
    },
    {
     "data": {
      "text/html": [
       "<pre style=\"white-space:pre;overflow-x:auto;line-height:normal;font-family:Menlo,'DejaVu Sans Mono',consolas,'Courier New',monospace\"><span style=\"color: #7fbfbf; text-decoration-color: #7fbfbf\">[10/12/23 10:39:37] </span><span style=\"color: #000080; text-decoration-color: #000080\">INFO    </span> Scraping game schedule for Saturday, Aug <span style=\"color: #008080; text-decoration-color: #008080; font-weight: bold\">6</span> <span style=\"color: #008080; text-decoration-color: #008080; font-weight: bold\">2022</span>                       <a href=\"file://c:\\Users\\krawc\\OneDrive\\Documents\\code\\pythons\\predictor\\.venv\\Lib\\site-packages\\soccerdata\\whoscored.py\" target=\"_blank\"><span style=\"color: #7f7f7f; text-decoration-color: #7f7f7f\">whoscored.py</span></a><span style=\"color: #7f7f7f; text-decoration-color: #7f7f7f\">:</span><a href=\"file://c:\\Users\\krawc\\OneDrive\\Documents\\code\\pythons\\predictor\\.venv\\Lib\\site-packages\\soccerdata\\whoscored.py#327\" target=\"_blank\"><span style=\"color: #7f7f7f; text-decoration-color: #7f7f7f\">327</span></a>\n",
       "</pre>\n"
      ],
      "text/plain": [
       "\u001b[2;36m[10/12/23 10:39:37]\u001b[0m\u001b[2;36m \u001b[0m\u001b[34mINFO    \u001b[0m Scraping game schedule for Saturday, Aug \u001b[1;36m6\u001b[0m \u001b[1;36m2022\u001b[0m                       \u001b]8;id=902911;file://c:\\Users\\krawc\\OneDrive\\Documents\\code\\pythons\\predictor\\.venv\\Lib\\site-packages\\soccerdata\\whoscored.py\u001b\\\u001b[2mwhoscored.py\u001b[0m\u001b]8;;\u001b\\\u001b[2m:\u001b[0m\u001b]8;id=514045;file://c:\\Users\\krawc\\OneDrive\\Documents\\code\\pythons\\predictor\\.venv\\Lib\\site-packages\\soccerdata\\whoscored.py#327\u001b\\\u001b[2m327\u001b[0m\u001b]8;;\u001b\\\n"
      ]
     },
     "metadata": {},
     "output_type": "display_data"
    },
    {
     "data": {
      "text/html": [
       "<pre style=\"white-space:pre;overflow-x:auto;line-height:normal;font-family:Menlo,'DejaVu Sans Mono',consolas,'Courier New',monospace\"><span style=\"color: #7fbfbf; text-decoration-color: #7fbfbf\">[10/12/23 10:39:39] </span><span style=\"color: #000080; text-decoration-color: #000080\">INFO    </span> Scraping game schedule for Sunday, Aug <span style=\"color: #008080; text-decoration-color: #008080; font-weight: bold\">7</span> <span style=\"color: #008080; text-decoration-color: #008080; font-weight: bold\">2022</span>                         <a href=\"file://c:\\Users\\krawc\\OneDrive\\Documents\\code\\pythons\\predictor\\.venv\\Lib\\site-packages\\soccerdata\\whoscored.py\" target=\"_blank\"><span style=\"color: #7f7f7f; text-decoration-color: #7f7f7f\">whoscored.py</span></a><span style=\"color: #7f7f7f; text-decoration-color: #7f7f7f\">:</span><a href=\"file://c:\\Users\\krawc\\OneDrive\\Documents\\code\\pythons\\predictor\\.venv\\Lib\\site-packages\\soccerdata\\whoscored.py#327\" target=\"_blank\"><span style=\"color: #7f7f7f; text-decoration-color: #7f7f7f\">327</span></a>\n",
       "</pre>\n"
      ],
      "text/plain": [
       "\u001b[2;36m[10/12/23 10:39:39]\u001b[0m\u001b[2;36m \u001b[0m\u001b[34mINFO    \u001b[0m Scraping game schedule for Sunday, Aug \u001b[1;36m7\u001b[0m \u001b[1;36m2022\u001b[0m                         \u001b]8;id=426931;file://c:\\Users\\krawc\\OneDrive\\Documents\\code\\pythons\\predictor\\.venv\\Lib\\site-packages\\soccerdata\\whoscored.py\u001b\\\u001b[2mwhoscored.py\u001b[0m\u001b]8;;\u001b\\\u001b[2m:\u001b[0m\u001b]8;id=630529;file://c:\\Users\\krawc\\OneDrive\\Documents\\code\\pythons\\predictor\\.venv\\Lib\\site-packages\\soccerdata\\whoscored.py#327\u001b\\\u001b[2m327\u001b[0m\u001b]8;;\u001b\\\n"
      ]
     },
     "metadata": {},
     "output_type": "display_data"
    },
    {
     "data": {
      "text/html": [
       "<pre style=\"white-space:pre;overflow-x:auto;line-height:normal;font-family:Menlo,'DejaVu Sans Mono',consolas,'Courier New',monospace\"><span style=\"color: #7fbfbf; text-decoration-color: #7fbfbf\">[10/12/23 10:39:40] </span><span style=\"color: #000080; text-decoration-color: #000080\">INFO    </span> Scraping game schedule for Saturday, Aug <span style=\"color: #008080; text-decoration-color: #008080; font-weight: bold\">13</span> <span style=\"color: #008080; text-decoration-color: #008080; font-weight: bold\">2022</span>                      <a href=\"file://c:\\Users\\krawc\\OneDrive\\Documents\\code\\pythons\\predictor\\.venv\\Lib\\site-packages\\soccerdata\\whoscored.py\" target=\"_blank\"><span style=\"color: #7f7f7f; text-decoration-color: #7f7f7f\">whoscored.py</span></a><span style=\"color: #7f7f7f; text-decoration-color: #7f7f7f\">:</span><a href=\"file://c:\\Users\\krawc\\OneDrive\\Documents\\code\\pythons\\predictor\\.venv\\Lib\\site-packages\\soccerdata\\whoscored.py#327\" target=\"_blank\"><span style=\"color: #7f7f7f; text-decoration-color: #7f7f7f\">327</span></a>\n",
       "</pre>\n"
      ],
      "text/plain": [
       "\u001b[2;36m[10/12/23 10:39:40]\u001b[0m\u001b[2;36m \u001b[0m\u001b[34mINFO    \u001b[0m Scraping game schedule for Saturday, Aug \u001b[1;36m13\u001b[0m \u001b[1;36m2022\u001b[0m                      \u001b]8;id=737416;file://c:\\Users\\krawc\\OneDrive\\Documents\\code\\pythons\\predictor\\.venv\\Lib\\site-packages\\soccerdata\\whoscored.py\u001b\\\u001b[2mwhoscored.py\u001b[0m\u001b]8;;\u001b\\\u001b[2m:\u001b[0m\u001b]8;id=777019;file://c:\\Users\\krawc\\OneDrive\\Documents\\code\\pythons\\predictor\\.venv\\Lib\\site-packages\\soccerdata\\whoscored.py#327\u001b\\\u001b[2m327\u001b[0m\u001b]8;;\u001b\\\n"
      ]
     },
     "metadata": {},
     "output_type": "display_data"
    },
    {
     "data": {
      "text/html": [
       "<pre style=\"white-space:pre;overflow-x:auto;line-height:normal;font-family:Menlo,'DejaVu Sans Mono',consolas,'Courier New',monospace\"><span style=\"color: #7fbfbf; text-decoration-color: #7fbfbf\">[10/12/23 10:39:42] </span><span style=\"color: #000080; text-decoration-color: #000080\">INFO    </span> Scraping game schedule for Sunday, Aug <span style=\"color: #008080; text-decoration-color: #008080; font-weight: bold\">14</span> <span style=\"color: #008080; text-decoration-color: #008080; font-weight: bold\">2022</span>                        <a href=\"file://c:\\Users\\krawc\\OneDrive\\Documents\\code\\pythons\\predictor\\.venv\\Lib\\site-packages\\soccerdata\\whoscored.py\" target=\"_blank\"><span style=\"color: #7f7f7f; text-decoration-color: #7f7f7f\">whoscored.py</span></a><span style=\"color: #7f7f7f; text-decoration-color: #7f7f7f\">:</span><a href=\"file://c:\\Users\\krawc\\OneDrive\\Documents\\code\\pythons\\predictor\\.venv\\Lib\\site-packages\\soccerdata\\whoscored.py#327\" target=\"_blank\"><span style=\"color: #7f7f7f; text-decoration-color: #7f7f7f\">327</span></a>\n",
       "</pre>\n"
      ],
      "text/plain": [
       "\u001b[2;36m[10/12/23 10:39:42]\u001b[0m\u001b[2;36m \u001b[0m\u001b[34mINFO    \u001b[0m Scraping game schedule for Sunday, Aug \u001b[1;36m14\u001b[0m \u001b[1;36m2022\u001b[0m                        \u001b]8;id=533854;file://c:\\Users\\krawc\\OneDrive\\Documents\\code\\pythons\\predictor\\.venv\\Lib\\site-packages\\soccerdata\\whoscored.py\u001b\\\u001b[2mwhoscored.py\u001b[0m\u001b]8;;\u001b\\\u001b[2m:\u001b[0m\u001b]8;id=621593;file://c:\\Users\\krawc\\OneDrive\\Documents\\code\\pythons\\predictor\\.venv\\Lib\\site-packages\\soccerdata\\whoscored.py#327\u001b\\\u001b[2m327\u001b[0m\u001b]8;;\u001b\\\n"
      ]
     },
     "metadata": {},
     "output_type": "display_data"
    },
    {
     "data": {
      "text/html": [
       "<pre style=\"white-space:pre;overflow-x:auto;line-height:normal;font-family:Menlo,'DejaVu Sans Mono',consolas,'Courier New',monospace\"><span style=\"color: #7fbfbf; text-decoration-color: #7fbfbf\">[10/12/23 10:39:43] </span><span style=\"color: #000080; text-decoration-color: #000080\">INFO    </span> Scraping game schedule for Monday, Aug <span style=\"color: #008080; text-decoration-color: #008080; font-weight: bold\">15</span> <span style=\"color: #008080; text-decoration-color: #008080; font-weight: bold\">2022</span>                        <a href=\"file://c:\\Users\\krawc\\OneDrive\\Documents\\code\\pythons\\predictor\\.venv\\Lib\\site-packages\\soccerdata\\whoscored.py\" target=\"_blank\"><span style=\"color: #7f7f7f; text-decoration-color: #7f7f7f\">whoscored.py</span></a><span style=\"color: #7f7f7f; text-decoration-color: #7f7f7f\">:</span><a href=\"file://c:\\Users\\krawc\\OneDrive\\Documents\\code\\pythons\\predictor\\.venv\\Lib\\site-packages\\soccerdata\\whoscored.py#327\" target=\"_blank\"><span style=\"color: #7f7f7f; text-decoration-color: #7f7f7f\">327</span></a>\n",
       "</pre>\n"
      ],
      "text/plain": [
       "\u001b[2;36m[10/12/23 10:39:43]\u001b[0m\u001b[2;36m \u001b[0m\u001b[34mINFO    \u001b[0m Scraping game schedule for Monday, Aug \u001b[1;36m15\u001b[0m \u001b[1;36m2022\u001b[0m                        \u001b]8;id=150677;file://c:\\Users\\krawc\\OneDrive\\Documents\\code\\pythons\\predictor\\.venv\\Lib\\site-packages\\soccerdata\\whoscored.py\u001b\\\u001b[2mwhoscored.py\u001b[0m\u001b]8;;\u001b\\\u001b[2m:\u001b[0m\u001b]8;id=711379;file://c:\\Users\\krawc\\OneDrive\\Documents\\code\\pythons\\predictor\\.venv\\Lib\\site-packages\\soccerdata\\whoscored.py#327\u001b\\\u001b[2m327\u001b[0m\u001b]8;;\u001b\\\n"
      ]
     },
     "metadata": {},
     "output_type": "display_data"
    },
    {
     "data": {
      "text/html": [
       "<pre style=\"white-space:pre;overflow-x:auto;line-height:normal;font-family:Menlo,'DejaVu Sans Mono',consolas,'Courier New',monospace\"><span style=\"color: #7fbfbf; text-decoration-color: #7fbfbf\">                    </span><span style=\"color: #000080; text-decoration-color: #000080\">INFO    </span> Scraping game schedule for Saturday, Aug <span style=\"color: #008080; text-decoration-color: #008080; font-weight: bold\">20</span> <span style=\"color: #008080; text-decoration-color: #008080; font-weight: bold\">2022</span>                      <a href=\"file://c:\\Users\\krawc\\OneDrive\\Documents\\code\\pythons\\predictor\\.venv\\Lib\\site-packages\\soccerdata\\whoscored.py\" target=\"_blank\"><span style=\"color: #7f7f7f; text-decoration-color: #7f7f7f\">whoscored.py</span></a><span style=\"color: #7f7f7f; text-decoration-color: #7f7f7f\">:</span><a href=\"file://c:\\Users\\krawc\\OneDrive\\Documents\\code\\pythons\\predictor\\.venv\\Lib\\site-packages\\soccerdata\\whoscored.py#327\" target=\"_blank\"><span style=\"color: #7f7f7f; text-decoration-color: #7f7f7f\">327</span></a>\n",
       "</pre>\n"
      ],
      "text/plain": [
       "\u001b[2;36m                   \u001b[0m\u001b[2;36m \u001b[0m\u001b[34mINFO    \u001b[0m Scraping game schedule for Saturday, Aug \u001b[1;36m20\u001b[0m \u001b[1;36m2022\u001b[0m                      \u001b]8;id=524612;file://c:\\Users\\krawc\\OneDrive\\Documents\\code\\pythons\\predictor\\.venv\\Lib\\site-packages\\soccerdata\\whoscored.py\u001b\\\u001b[2mwhoscored.py\u001b[0m\u001b]8;;\u001b\\\u001b[2m:\u001b[0m\u001b]8;id=687905;file://c:\\Users\\krawc\\OneDrive\\Documents\\code\\pythons\\predictor\\.venv\\Lib\\site-packages\\soccerdata\\whoscored.py#327\u001b\\\u001b[2m327\u001b[0m\u001b]8;;\u001b\\\n"
      ]
     },
     "metadata": {},
     "output_type": "display_data"
    },
    {
     "data": {
      "text/html": [
       "<pre style=\"white-space:pre;overflow-x:auto;line-height:normal;font-family:Menlo,'DejaVu Sans Mono',consolas,'Courier New',monospace\"><span style=\"color: #7fbfbf; text-decoration-color: #7fbfbf\">[10/12/23 10:39:44] </span><span style=\"color: #000080; text-decoration-color: #000080\">INFO    </span> Scraping game schedule for Sunday, Aug <span style=\"color: #008080; text-decoration-color: #008080; font-weight: bold\">21</span> <span style=\"color: #008080; text-decoration-color: #008080; font-weight: bold\">2022</span>                        <a href=\"file://c:\\Users\\krawc\\OneDrive\\Documents\\code\\pythons\\predictor\\.venv\\Lib\\site-packages\\soccerdata\\whoscored.py\" target=\"_blank\"><span style=\"color: #7f7f7f; text-decoration-color: #7f7f7f\">whoscored.py</span></a><span style=\"color: #7f7f7f; text-decoration-color: #7f7f7f\">:</span><a href=\"file://c:\\Users\\krawc\\OneDrive\\Documents\\code\\pythons\\predictor\\.venv\\Lib\\site-packages\\soccerdata\\whoscored.py#327\" target=\"_blank\"><span style=\"color: #7f7f7f; text-decoration-color: #7f7f7f\">327</span></a>\n",
       "</pre>\n"
      ],
      "text/plain": [
       "\u001b[2;36m[10/12/23 10:39:44]\u001b[0m\u001b[2;36m \u001b[0m\u001b[34mINFO    \u001b[0m Scraping game schedule for Sunday, Aug \u001b[1;36m21\u001b[0m \u001b[1;36m2022\u001b[0m                        \u001b]8;id=227514;file://c:\\Users\\krawc\\OneDrive\\Documents\\code\\pythons\\predictor\\.venv\\Lib\\site-packages\\soccerdata\\whoscored.py\u001b\\\u001b[2mwhoscored.py\u001b[0m\u001b]8;;\u001b\\\u001b[2m:\u001b[0m\u001b]8;id=49816;file://c:\\Users\\krawc\\OneDrive\\Documents\\code\\pythons\\predictor\\.venv\\Lib\\site-packages\\soccerdata\\whoscored.py#327\u001b\\\u001b[2m327\u001b[0m\u001b]8;;\u001b\\\n"
      ]
     },
     "metadata": {},
     "output_type": "display_data"
    },
    {
     "data": {
      "text/html": [
       "<pre style=\"white-space:pre;overflow-x:auto;line-height:normal;font-family:Menlo,'DejaVu Sans Mono',consolas,'Courier New',monospace\"><span style=\"color: #7fbfbf; text-decoration-color: #7fbfbf\">[10/12/23 10:39:45] </span><span style=\"color: #000080; text-decoration-color: #000080\">INFO    </span> Scraping game schedule for Monday, Aug <span style=\"color: #008080; text-decoration-color: #008080; font-weight: bold\">22</span> <span style=\"color: #008080; text-decoration-color: #008080; font-weight: bold\">2022</span>                        <a href=\"file://c:\\Users\\krawc\\OneDrive\\Documents\\code\\pythons\\predictor\\.venv\\Lib\\site-packages\\soccerdata\\whoscored.py\" target=\"_blank\"><span style=\"color: #7f7f7f; text-decoration-color: #7f7f7f\">whoscored.py</span></a><span style=\"color: #7f7f7f; text-decoration-color: #7f7f7f\">:</span><a href=\"file://c:\\Users\\krawc\\OneDrive\\Documents\\code\\pythons\\predictor\\.venv\\Lib\\site-packages\\soccerdata\\whoscored.py#327\" target=\"_blank\"><span style=\"color: #7f7f7f; text-decoration-color: #7f7f7f\">327</span></a>\n",
       "</pre>\n"
      ],
      "text/plain": [
       "\u001b[2;36m[10/12/23 10:39:45]\u001b[0m\u001b[2;36m \u001b[0m\u001b[34mINFO    \u001b[0m Scraping game schedule for Monday, Aug \u001b[1;36m22\u001b[0m \u001b[1;36m2022\u001b[0m                        \u001b]8;id=717337;file://c:\\Users\\krawc\\OneDrive\\Documents\\code\\pythons\\predictor\\.venv\\Lib\\site-packages\\soccerdata\\whoscored.py\u001b\\\u001b[2mwhoscored.py\u001b[0m\u001b]8;;\u001b\\\u001b[2m:\u001b[0m\u001b]8;id=791705;file://c:\\Users\\krawc\\OneDrive\\Documents\\code\\pythons\\predictor\\.venv\\Lib\\site-packages\\soccerdata\\whoscored.py#327\u001b\\\u001b[2m327\u001b[0m\u001b]8;;\u001b\\\n"
      ]
     },
     "metadata": {},
     "output_type": "display_data"
    },
    {
     "data": {
      "text/html": [
       "<pre style=\"white-space:pre;overflow-x:auto;line-height:normal;font-family:Menlo,'DejaVu Sans Mono',consolas,'Courier New',monospace\"><span style=\"color: #7fbfbf; text-decoration-color: #7fbfbf\">[10/12/23 10:39:46] </span><span style=\"color: #000080; text-decoration-color: #000080\">INFO    </span> Scraping game schedule for Saturday, Aug <span style=\"color: #008080; text-decoration-color: #008080; font-weight: bold\">27</span> <span style=\"color: #008080; text-decoration-color: #008080; font-weight: bold\">2022</span>                      <a href=\"file://c:\\Users\\krawc\\OneDrive\\Documents\\code\\pythons\\predictor\\.venv\\Lib\\site-packages\\soccerdata\\whoscored.py\" target=\"_blank\"><span style=\"color: #7f7f7f; text-decoration-color: #7f7f7f\">whoscored.py</span></a><span style=\"color: #7f7f7f; text-decoration-color: #7f7f7f\">:</span><a href=\"file://c:\\Users\\krawc\\OneDrive\\Documents\\code\\pythons\\predictor\\.venv\\Lib\\site-packages\\soccerdata\\whoscored.py#327\" target=\"_blank\"><span style=\"color: #7f7f7f; text-decoration-color: #7f7f7f\">327</span></a>\n",
       "</pre>\n"
      ],
      "text/plain": [
       "\u001b[2;36m[10/12/23 10:39:46]\u001b[0m\u001b[2;36m \u001b[0m\u001b[34mINFO    \u001b[0m Scraping game schedule for Saturday, Aug \u001b[1;36m27\u001b[0m \u001b[1;36m2022\u001b[0m                      \u001b]8;id=75147;file://c:\\Users\\krawc\\OneDrive\\Documents\\code\\pythons\\predictor\\.venv\\Lib\\site-packages\\soccerdata\\whoscored.py\u001b\\\u001b[2mwhoscored.py\u001b[0m\u001b]8;;\u001b\\\u001b[2m:\u001b[0m\u001b]8;id=856413;file://c:\\Users\\krawc\\OneDrive\\Documents\\code\\pythons\\predictor\\.venv\\Lib\\site-packages\\soccerdata\\whoscored.py#327\u001b\\\u001b[2m327\u001b[0m\u001b]8;;\u001b\\\n"
      ]
     },
     "metadata": {},
     "output_type": "display_data"
    },
    {
     "data": {
      "text/html": [
       "<pre style=\"white-space:pre;overflow-x:auto;line-height:normal;font-family:Menlo,'DejaVu Sans Mono',consolas,'Courier New',monospace\"><span style=\"color: #7fbfbf; text-decoration-color: #7fbfbf\">[10/12/23 10:39:48] </span><span style=\"color: #000080; text-decoration-color: #000080\">INFO    </span> Scraping game schedule for Sunday, Aug <span style=\"color: #008080; text-decoration-color: #008080; font-weight: bold\">28</span> <span style=\"color: #008080; text-decoration-color: #008080; font-weight: bold\">2022</span>                        <a href=\"file://c:\\Users\\krawc\\OneDrive\\Documents\\code\\pythons\\predictor\\.venv\\Lib\\site-packages\\soccerdata\\whoscored.py\" target=\"_blank\"><span style=\"color: #7f7f7f; text-decoration-color: #7f7f7f\">whoscored.py</span></a><span style=\"color: #7f7f7f; text-decoration-color: #7f7f7f\">:</span><a href=\"file://c:\\Users\\krawc\\OneDrive\\Documents\\code\\pythons\\predictor\\.venv\\Lib\\site-packages\\soccerdata\\whoscored.py#327\" target=\"_blank\"><span style=\"color: #7f7f7f; text-decoration-color: #7f7f7f\">327</span></a>\n",
       "</pre>\n"
      ],
      "text/plain": [
       "\u001b[2;36m[10/12/23 10:39:48]\u001b[0m\u001b[2;36m \u001b[0m\u001b[34mINFO    \u001b[0m Scraping game schedule for Sunday, Aug \u001b[1;36m28\u001b[0m \u001b[1;36m2022\u001b[0m                        \u001b]8;id=988824;file://c:\\Users\\krawc\\OneDrive\\Documents\\code\\pythons\\predictor\\.venv\\Lib\\site-packages\\soccerdata\\whoscored.py\u001b\\\u001b[2mwhoscored.py\u001b[0m\u001b]8;;\u001b\\\u001b[2m:\u001b[0m\u001b]8;id=431245;file://c:\\Users\\krawc\\OneDrive\\Documents\\code\\pythons\\predictor\\.venv\\Lib\\site-packages\\soccerdata\\whoscored.py#327\u001b\\\u001b[2m327\u001b[0m\u001b]8;;\u001b\\\n"
      ]
     },
     "metadata": {},
     "output_type": "display_data"
    },
    {
     "data": {
      "text/html": [
       "<pre style=\"white-space:pre;overflow-x:auto;line-height:normal;font-family:Menlo,'DejaVu Sans Mono',consolas,'Courier New',monospace\"><span style=\"color: #7fbfbf; text-decoration-color: #7fbfbf\">[10/12/23 10:39:49] </span><span style=\"color: #000080; text-decoration-color: #000080\">INFO    </span> Scraping game schedule for Tuesday, Aug <span style=\"color: #008080; text-decoration-color: #008080; font-weight: bold\">30</span> <span style=\"color: #008080; text-decoration-color: #008080; font-weight: bold\">2022</span>                       <a href=\"file://c:\\Users\\krawc\\OneDrive\\Documents\\code\\pythons\\predictor\\.venv\\Lib\\site-packages\\soccerdata\\whoscored.py\" target=\"_blank\"><span style=\"color: #7f7f7f; text-decoration-color: #7f7f7f\">whoscored.py</span></a><span style=\"color: #7f7f7f; text-decoration-color: #7f7f7f\">:</span><a href=\"file://c:\\Users\\krawc\\OneDrive\\Documents\\code\\pythons\\predictor\\.venv\\Lib\\site-packages\\soccerdata\\whoscored.py#327\" target=\"_blank\"><span style=\"color: #7f7f7f; text-decoration-color: #7f7f7f\">327</span></a>\n",
       "</pre>\n"
      ],
      "text/plain": [
       "\u001b[2;36m[10/12/23 10:39:49]\u001b[0m\u001b[2;36m \u001b[0m\u001b[34mINFO    \u001b[0m Scraping game schedule for Tuesday, Aug \u001b[1;36m30\u001b[0m \u001b[1;36m2022\u001b[0m                       \u001b]8;id=363659;file://c:\\Users\\krawc\\OneDrive\\Documents\\code\\pythons\\predictor\\.venv\\Lib\\site-packages\\soccerdata\\whoscored.py\u001b\\\u001b[2mwhoscored.py\u001b[0m\u001b]8;;\u001b\\\u001b[2m:\u001b[0m\u001b]8;id=225282;file://c:\\Users\\krawc\\OneDrive\\Documents\\code\\pythons\\predictor\\.venv\\Lib\\site-packages\\soccerdata\\whoscored.py#327\u001b\\\u001b[2m327\u001b[0m\u001b]8;;\u001b\\\n"
      ]
     },
     "metadata": {},
     "output_type": "display_data"
    },
    {
     "data": {
      "text/html": [
       "<pre style=\"white-space:pre;overflow-x:auto;line-height:normal;font-family:Menlo,'DejaVu Sans Mono',consolas,'Courier New',monospace\"><span style=\"color: #7fbfbf; text-decoration-color: #7fbfbf\">[10/12/23 10:39:50] </span><span style=\"color: #000080; text-decoration-color: #000080\">INFO    </span> Scraping game schedule for Wednesday, Aug <span style=\"color: #008080; text-decoration-color: #008080; font-weight: bold\">31</span> <span style=\"color: #008080; text-decoration-color: #008080; font-weight: bold\">2022</span>                     <a href=\"file://c:\\Users\\krawc\\OneDrive\\Documents\\code\\pythons\\predictor\\.venv\\Lib\\site-packages\\soccerdata\\whoscored.py\" target=\"_blank\"><span style=\"color: #7f7f7f; text-decoration-color: #7f7f7f\">whoscored.py</span></a><span style=\"color: #7f7f7f; text-decoration-color: #7f7f7f\">:</span><a href=\"file://c:\\Users\\krawc\\OneDrive\\Documents\\code\\pythons\\predictor\\.venv\\Lib\\site-packages\\soccerdata\\whoscored.py#327\" target=\"_blank\"><span style=\"color: #7f7f7f; text-decoration-color: #7f7f7f\">327</span></a>\n",
       "</pre>\n"
      ],
      "text/plain": [
       "\u001b[2;36m[10/12/23 10:39:50]\u001b[0m\u001b[2;36m \u001b[0m\u001b[34mINFO    \u001b[0m Scraping game schedule for Wednesday, Aug \u001b[1;36m31\u001b[0m \u001b[1;36m2022\u001b[0m                     \u001b]8;id=520547;file://c:\\Users\\krawc\\OneDrive\\Documents\\code\\pythons\\predictor\\.venv\\Lib\\site-packages\\soccerdata\\whoscored.py\u001b\\\u001b[2mwhoscored.py\u001b[0m\u001b]8;;\u001b\\\u001b[2m:\u001b[0m\u001b]8;id=990675;file://c:\\Users\\krawc\\OneDrive\\Documents\\code\\pythons\\predictor\\.venv\\Lib\\site-packages\\soccerdata\\whoscored.py#327\u001b\\\u001b[2m327\u001b[0m\u001b]8;;\u001b\\\n"
      ]
     },
     "metadata": {},
     "output_type": "display_data"
    },
    {
     "data": {
      "text/html": [
       "<pre style=\"white-space:pre;overflow-x:auto;line-height:normal;font-family:Menlo,'DejaVu Sans Mono',consolas,'Courier New',monospace\"><span style=\"color: #7fbfbf; text-decoration-color: #7fbfbf\">[10/12/23 10:39:51] </span><span style=\"color: #000080; text-decoration-color: #000080\">INFO    </span> <span style=\"font-weight: bold\">[</span><span style=\"color: #008080; text-decoration-color: #008080; font-weight: bold\">1</span>/<span style=\"color: #008080; text-decoration-color: #008080; font-weight: bold\">1</span><span style=\"font-weight: bold\">]</span> Retrieving game with <span style=\"color: #808000; text-decoration-color: #808000\">id</span>=<span style=\"color: #008080; text-decoration-color: #008080; font-weight: bold\">1640674</span>                                 <a href=\"file://c:\\Users\\krawc\\OneDrive\\Documents\\code\\pythons\\predictor\\.venv\\Lib\\site-packages\\soccerdata\\whoscored.py\" target=\"_blank\"><span style=\"color: #7f7f7f; text-decoration-color: #7f7f7f\">whoscored.py</span></a><span style=\"color: #7f7f7f; text-decoration-color: #7f7f7f\">:</span><a href=\"file://c:\\Users\\krawc\\OneDrive\\Documents\\code\\pythons\\predictor\\.venv\\Lib\\site-packages\\soccerdata\\whoscored.py#693\" target=\"_blank\"><span style=\"color: #7f7f7f; text-decoration-color: #7f7f7f\">693</span></a>\n",
       "</pre>\n"
      ],
      "text/plain": [
       "\u001b[2;36m[10/12/23 10:39:51]\u001b[0m\u001b[2;36m \u001b[0m\u001b[34mINFO    \u001b[0m \u001b[1m[\u001b[0m\u001b[1;36m1\u001b[0m/\u001b[1;36m1\u001b[0m\u001b[1m]\u001b[0m Retrieving game with \u001b[33mid\u001b[0m=\u001b[1;36m1640674\u001b[0m                                 \u001b]8;id=833929;file://c:\\Users\\krawc\\OneDrive\\Documents\\code\\pythons\\predictor\\.venv\\Lib\\site-packages\\soccerdata\\whoscored.py\u001b\\\u001b[2mwhoscored.py\u001b[0m\u001b]8;;\u001b\\\u001b[2m:\u001b[0m\u001b]8;id=283212;file://c:\\Users\\krawc\\OneDrive\\Documents\\code\\pythons\\predictor\\.venv\\Lib\\site-packages\\soccerdata\\whoscored.py#693\u001b\\\u001b[2m693\u001b[0m\u001b]8;;\u001b\\\n"
      ]
     },
     "metadata": {},
     "output_type": "display_data"
    },
    {
     "ename": "AttributeError",
     "evalue": "'OptaLoader' object has no attribute 'head'",
     "output_type": "error",
     "traceback": [
      "\u001b[1;31m---------------------------------------------------------------------------\u001b[0m",
      "\u001b[1;31mAttributeError\u001b[0m                            Traceback (most recent call last)",
      "\u001b[1;32mc:\\Users\\krawc\\OneDrive\\Documents\\code\\pythons\\predictor\\whoscored.ipynb Cell 6\u001b[0m line \u001b[0;36m2\n\u001b[0;32m      <a href='vscode-notebook-cell:/c%3A/Users/krawc/OneDrive/Documents/code/pythons/predictor/whoscored.ipynb#W3sZmlsZQ%3D%3D?line=0'>1</a>\u001b[0m events \u001b[39m=\u001b[39m ws\u001b[39m.\u001b[39mread_events(match_id\u001b[39m=\u001b[39m\u001b[39m1640674\u001b[39m,force_cache\u001b[39m=\u001b[39m\u001b[39mTrue\u001b[39;00m,output_fmt\u001b[39m=\u001b[39m\u001b[39m'\u001b[39m\u001b[39mloader\u001b[39m\u001b[39m'\u001b[39m)\n\u001b[1;32m----> <a href='vscode-notebook-cell:/c%3A/Users/krawc/OneDrive/Documents/code/pythons/predictor/whoscored.ipynb#W3sZmlsZQ%3D%3D?line=1'>2</a>\u001b[0m events\u001b[39m.\u001b[39;49mhead()\n",
      "\u001b[1;31mAttributeError\u001b[0m: 'OptaLoader' object has no attribute 'head'"
     ]
    }
   ],
   "source": [
    "events = ws.read_events(match_id=1640674,force_cache=True,output_fmt='loader')\n",
    "# events.head()"
   ]
  },
  {
   "cell_type": "code",
   "execution_count": 44,
   "metadata": {},
   "outputs": [
    {
     "data": {
      "text/html": [
       "<div>\n",
       "<style scoped>\n",
       "    .dataframe tbody tr th:only-of-type {\n",
       "        vertical-align: middle;\n",
       "    }\n",
       "\n",
       "    .dataframe tbody tr th {\n",
       "        vertical-align: top;\n",
       "    }\n",
       "\n",
       "    .dataframe thead th {\n",
       "        text-align: right;\n",
       "    }\n",
       "</style>\n",
       "<table border=\"1\" class=\"dataframe\">\n",
       "  <thead>\n",
       "    <tr style=\"text-align: right;\">\n",
       "      <th></th>\n",
       "      <th>game_id</th>\n",
       "      <th>event_id</th>\n",
       "      <th>period_id</th>\n",
       "      <th>team_id</th>\n",
       "      <th>player_id</th>\n",
       "      <th>type_id</th>\n",
       "      <th>timestamp</th>\n",
       "      <th>minute</th>\n",
       "      <th>second</th>\n",
       "      <th>outcome</th>\n",
       "      <th>start_x</th>\n",
       "      <th>start_y</th>\n",
       "      <th>end_x</th>\n",
       "      <th>end_y</th>\n",
       "      <th>qualifiers</th>\n",
       "      <th>related_player_id</th>\n",
       "      <th>touch</th>\n",
       "      <th>goal</th>\n",
       "      <th>shot</th>\n",
       "      <th>type_name</th>\n",
       "    </tr>\n",
       "  </thead>\n",
       "  <tbody>\n",
       "    <tr>\n",
       "      <th>0</th>\n",
       "      <td>1640674</td>\n",
       "      <td>2442234163</td>\n",
       "      <td>1</td>\n",
       "      <td>13</td>\n",
       "      <td>NaN</td>\n",
       "      <td>32</td>\n",
       "      <td>2022-08-05 20:00:00</td>\n",
       "      <td>0</td>\n",
       "      <td>0</td>\n",
       "      <td>True</td>\n",
       "      <td>0.0</td>\n",
       "      <td>0.0</td>\n",
       "      <td>0.0</td>\n",
       "      <td>0.0</td>\n",
       "      <td>{}</td>\n",
       "      <td>NaN</td>\n",
       "      <td>False</td>\n",
       "      <td>False</td>\n",
       "      <td>False</td>\n",
       "      <td>start</td>\n",
       "    </tr>\n",
       "    <tr>\n",
       "      <th>1</th>\n",
       "      <td>1640674</td>\n",
       "      <td>2442234161</td>\n",
       "      <td>1</td>\n",
       "      <td>162</td>\n",
       "      <td>NaN</td>\n",
       "      <td>32</td>\n",
       "      <td>2022-08-05 20:00:00</td>\n",
       "      <td>0</td>\n",
       "      <td>0</td>\n",
       "      <td>True</td>\n",
       "      <td>0.0</td>\n",
       "      <td>0.0</td>\n",
       "      <td>0.0</td>\n",
       "      <td>0.0</td>\n",
       "      <td>{}</td>\n",
       "      <td>NaN</td>\n",
       "      <td>False</td>\n",
       "      <td>False</td>\n",
       "      <td>False</td>\n",
       "      <td>start</td>\n",
       "    </tr>\n",
       "    <tr>\n",
       "      <th>2</th>\n",
       "      <td>1640674</td>\n",
       "      <td>2442234185</td>\n",
       "      <td>1</td>\n",
       "      <td>162</td>\n",
       "      <td>332403.0</td>\n",
       "      <td>1</td>\n",
       "      <td>2022-08-05 20:00:00</td>\n",
       "      <td>0</td>\n",
       "      <td>0</td>\n",
       "      <td>True</td>\n",
       "      <td>49.9</td>\n",
       "      <td>50.0</td>\n",
       "      <td>31.4</td>\n",
       "      <td>50.7</td>\n",
       "      <td>{178: True, 56: 'Back', 213: '3.1', 140: '31.4...</td>\n",
       "      <td>NaN</td>\n",
       "      <td>True</td>\n",
       "      <td>False</td>\n",
       "      <td>False</td>\n",
       "      <td>pass</td>\n",
       "    </tr>\n",
       "    <tr>\n",
       "      <th>3</th>\n",
       "      <td>1640674</td>\n",
       "      <td>2442234199</td>\n",
       "      <td>1</td>\n",
       "      <td>162</td>\n",
       "      <td>231135.0</td>\n",
       "      <td>1</td>\n",
       "      <td>2022-08-05 20:00:02</td>\n",
       "      <td>0</td>\n",
       "      <td>2</td>\n",
       "      <td>True</td>\n",
       "      <td>31.8</td>\n",
       "      <td>53.7</td>\n",
       "      <td>33.5</td>\n",
       "      <td>75.1</td>\n",
       "      <td>{213: '1.4', 178: True, 141: '75.1', 212: '14....</td>\n",
       "      <td>NaN</td>\n",
       "      <td>True</td>\n",
       "      <td>False</td>\n",
       "      <td>False</td>\n",
       "      <td>pass</td>\n",
       "    </tr>\n",
       "    <tr>\n",
       "      <th>4</th>\n",
       "      <td>1640674</td>\n",
       "      <td>2442234213</td>\n",
       "      <td>1</td>\n",
       "      <td>162</td>\n",
       "      <td>374631.0</td>\n",
       "      <td>1</td>\n",
       "      <td>2022-08-05 20:00:04</td>\n",
       "      <td>0</td>\n",
       "      <td>4</td>\n",
       "      <td>True</td>\n",
       "      <td>36.5</td>\n",
       "      <td>81.8</td>\n",
       "      <td>43.6</td>\n",
       "      <td>67.2</td>\n",
       "      <td>{178: True, 56: 'Back', 212: '12.4', 141: '67....</td>\n",
       "      <td>NaN</td>\n",
       "      <td>True</td>\n",
       "      <td>False</td>\n",
       "      <td>False</td>\n",
       "      <td>pass</td>\n",
       "    </tr>\n",
       "    <tr>\n",
       "      <th>...</th>\n",
       "      <td>...</td>\n",
       "      <td>...</td>\n",
       "      <td>...</td>\n",
       "      <td>...</td>\n",
       "      <td>...</td>\n",
       "      <td>...</td>\n",
       "      <td>...</td>\n",
       "      <td>...</td>\n",
       "      <td>...</td>\n",
       "      <td>...</td>\n",
       "      <td>...</td>\n",
       "      <td>...</td>\n",
       "      <td>...</td>\n",
       "      <td>...</td>\n",
       "      <td>...</td>\n",
       "      <td>...</td>\n",
       "      <td>...</td>\n",
       "      <td>...</td>\n",
       "      <td>...</td>\n",
       "      <td>...</td>\n",
       "    </tr>\n",
       "    <tr>\n",
       "      <th>1700</th>\n",
       "      <td>1640674</td>\n",
       "      <td>2442300931</td>\n",
       "      <td>2</td>\n",
       "      <td>162</td>\n",
       "      <td>NaN</td>\n",
       "      <td>30</td>\n",
       "      <td>2022-08-05 21:35:35</td>\n",
       "      <td>95</td>\n",
       "      <td>35</td>\n",
       "      <td>True</td>\n",
       "      <td>0.0</td>\n",
       "      <td>0.0</td>\n",
       "      <td>0.0</td>\n",
       "      <td>0.0</td>\n",
       "      <td>{}</td>\n",
       "      <td>NaN</td>\n",
       "      <td>False</td>\n",
       "      <td>False</td>\n",
       "      <td>False</td>\n",
       "      <td>end</td>\n",
       "    </tr>\n",
       "    <tr>\n",
       "      <th>1701</th>\n",
       "      <td>1640674</td>\n",
       "      <td>2442301021</td>\n",
       "      <td>14</td>\n",
       "      <td>162</td>\n",
       "      <td>NaN</td>\n",
       "      <td>30</td>\n",
       "      <td>2022-08-05 20:05:00</td>\n",
       "      <td>5</td>\n",
       "      <td>0</td>\n",
       "      <td>True</td>\n",
       "      <td>0.0</td>\n",
       "      <td>0.0</td>\n",
       "      <td>0.0</td>\n",
       "      <td>0.0</td>\n",
       "      <td>{}</td>\n",
       "      <td>NaN</td>\n",
       "      <td>False</td>\n",
       "      <td>False</td>\n",
       "      <td>False</td>\n",
       "      <td>end</td>\n",
       "    </tr>\n",
       "    <tr>\n",
       "      <th>1702</th>\n",
       "      <td>1640674</td>\n",
       "      <td>2442301033</td>\n",
       "      <td>14</td>\n",
       "      <td>13</td>\n",
       "      <td>NaN</td>\n",
       "      <td>30</td>\n",
       "      <td>2022-08-05 20:05:00</td>\n",
       "      <td>5</td>\n",
       "      <td>0</td>\n",
       "      <td>True</td>\n",
       "      <td>0.0</td>\n",
       "      <td>0.0</td>\n",
       "      <td>0.0</td>\n",
       "      <td>0.0</td>\n",
       "      <td>{}</td>\n",
       "      <td>NaN</td>\n",
       "      <td>False</td>\n",
       "      <td>False</td>\n",
       "      <td>False</td>\n",
       "      <td>end</td>\n",
       "    </tr>\n",
       "    <tr>\n",
       "      <th>1703</th>\n",
       "      <td>1640674</td>\n",
       "      <td>2442202525</td>\n",
       "      <td>16</td>\n",
       "      <td>162</td>\n",
       "      <td>NaN</td>\n",
       "      <td>34</td>\n",
       "      <td>2022-08-05 20:00:00</td>\n",
       "      <td>0</td>\n",
       "      <td>0</td>\n",
       "      <td>True</td>\n",
       "      <td>0.0</td>\n",
       "      <td>0.0</td>\n",
       "      <td>0.0</td>\n",
       "      <td>0.0</td>\n",
       "      <td>{59: '13, 17, 3, 15, 16, 6, 9, 28, 22, 10, 11,...</td>\n",
       "      <td>NaN</td>\n",
       "      <td>False</td>\n",
       "      <td>False</td>\n",
       "      <td>False</td>\n",
       "      <td>team set up</td>\n",
       "    </tr>\n",
       "    <tr>\n",
       "      <th>1704</th>\n",
       "      <td>1640674</td>\n",
       "      <td>2442202541</td>\n",
       "      <td>16</td>\n",
       "      <td>13</td>\n",
       "      <td>NaN</td>\n",
       "      <td>34</td>\n",
       "      <td>2022-08-05 20:00:00</td>\n",
       "      <td>0</td>\n",
       "      <td>0</td>\n",
       "      <td>True</td>\n",
       "      <td>0.0</td>\n",
       "      <td>0.0</td>\n",
       "      <td>0.0</td>\n",
       "      <td>0.0</td>\n",
       "      <td>{59: '1, 4, 35, 5, 12, 6, 8, 34, 9, 7, 11, 3, ...</td>\n",
       "      <td>NaN</td>\n",
       "      <td>False</td>\n",
       "      <td>False</td>\n",
       "      <td>False</td>\n",
       "      <td>team set up</td>\n",
       "    </tr>\n",
       "  </tbody>\n",
       "</table>\n",
       "<p>1705 rows × 20 columns</p>\n",
       "</div>"
      ],
      "text/plain": [
       "      game_id    event_id  period_id  team_id  player_id  type_id  \\\n",
       "0     1640674  2442234163          1       13        NaN       32   \n",
       "1     1640674  2442234161          1      162        NaN       32   \n",
       "2     1640674  2442234185          1      162   332403.0        1   \n",
       "3     1640674  2442234199          1      162   231135.0        1   \n",
       "4     1640674  2442234213          1      162   374631.0        1   \n",
       "...       ...         ...        ...      ...        ...      ...   \n",
       "1700  1640674  2442300931          2      162        NaN       30   \n",
       "1701  1640674  2442301021         14      162        NaN       30   \n",
       "1702  1640674  2442301033         14       13        NaN       30   \n",
       "1703  1640674  2442202525         16      162        NaN       34   \n",
       "1704  1640674  2442202541         16       13        NaN       34   \n",
       "\n",
       "               timestamp  minute  second  outcome  start_x  start_y  end_x  \\\n",
       "0    2022-08-05 20:00:00       0       0     True      0.0      0.0    0.0   \n",
       "1    2022-08-05 20:00:00       0       0     True      0.0      0.0    0.0   \n",
       "2    2022-08-05 20:00:00       0       0     True     49.9     50.0   31.4   \n",
       "3    2022-08-05 20:00:02       0       2     True     31.8     53.7   33.5   \n",
       "4    2022-08-05 20:00:04       0       4     True     36.5     81.8   43.6   \n",
       "...                  ...     ...     ...      ...      ...      ...    ...   \n",
       "1700 2022-08-05 21:35:35      95      35     True      0.0      0.0    0.0   \n",
       "1701 2022-08-05 20:05:00       5       0     True      0.0      0.0    0.0   \n",
       "1702 2022-08-05 20:05:00       5       0     True      0.0      0.0    0.0   \n",
       "1703 2022-08-05 20:00:00       0       0     True      0.0      0.0    0.0   \n",
       "1704 2022-08-05 20:00:00       0       0     True      0.0      0.0    0.0   \n",
       "\n",
       "      end_y                                         qualifiers  \\\n",
       "0       0.0                                                 {}   \n",
       "1       0.0                                                 {}   \n",
       "2      50.7  {178: True, 56: 'Back', 213: '3.1', 140: '31.4...   \n",
       "3      75.1  {213: '1.4', 178: True, 141: '75.1', 212: '14....   \n",
       "4      67.2  {178: True, 56: 'Back', 212: '12.4', 141: '67....   \n",
       "...     ...                                                ...   \n",
       "1700    0.0                                                 {}   \n",
       "1701    0.0                                                 {}   \n",
       "1702    0.0                                                 {}   \n",
       "1703    0.0  {59: '13, 17, 3, 15, 16, 6, 9, 28, 22, 10, 11,...   \n",
       "1704    0.0  {59: '1, 4, 35, 5, 12, 6, 8, 34, 9, 7, 11, 3, ...   \n",
       "\n",
       "      related_player_id  touch   goal   shot    type_name  \n",
       "0                   NaN  False  False  False        start  \n",
       "1                   NaN  False  False  False        start  \n",
       "2                   NaN   True  False  False         pass  \n",
       "3                   NaN   True  False  False         pass  \n",
       "4                   NaN   True  False  False         pass  \n",
       "...                 ...    ...    ...    ...          ...  \n",
       "1700                NaN  False  False  False          end  \n",
       "1701                NaN  False  False  False          end  \n",
       "1702                NaN  False  False  False          end  \n",
       "1703                NaN  False  False  False  team set up  \n",
       "1704                NaN  False  False  False  team set up  \n",
       "\n",
       "[1705 rows x 20 columns]"
      ]
     },
     "execution_count": 44,
     "metadata": {},
     "output_type": "execute_result"
    }
   ],
   "source": [
    "# OptaLoader.competitions()\n",
    "# OptaLoader.games()\n",
    "# OptaLoader.teams()\n",
    "# OptaLoader.players()\n",
    "# OptaLoader.events()\n",
    "events.events(1640674)"
   ]
  },
  {
   "cell_type": "code",
   "execution_count": 65,
   "metadata": {},
   "outputs": [
    {
     "data": {
      "text/plain": [
       "WindowsPath('~/soccerdata/data/WhoScored')"
      ]
     },
     "execution_count": 65,
     "metadata": {},
     "output_type": "execute_result"
    }
   ],
   "source": [
    "events.games(2,9075)\n",
    "events.games(252,9075)\n",
    "#  'competition_id' and 'season_id'\n",
    "events.root\n"
   ]
  },
  {
   "cell_type": "code",
   "execution_count": 71,
   "metadata": {},
   "outputs": [],
   "source": [
    "# Once you have downloaded the raw JSON data, you can parse it using the OptaLoader with:\n",
    "from socceraction.data.opta import OptaLoader\n",
    "path=r\"C:\\Users\\krawc\\soccerdata\\data\\WhoScored\\matches\"\n",
    "path2=r'C:\\Users\\krawc\\OneDrive\\Documents\\code\\pythons\\predictor\\~\\soccerdata\\data\\WhoScored\\events\\ENG-Premier League_2223'\n",
    "path3=r'C:\\Users\\krawc\\OneDrive\\Documents\\code\\pythons\\predictor\\data\\WhoScored'\n",
    "rt=\"data/whoscored\"\n",
    "from pathlib import Path\n",
    "path3=Path(path3)\n",
    "# root\n",
    "# ├── {competition_id}-{season_id}-{game_id}.json\n",
    "# 2-9075-1640674.json\n",
    "feeds={'whoscored': 'events\\\\{competition_id}_{season_id}\\\\{game_id}.json'}\n",
    "api = OptaLoader(root=path3, parser=\"whoscored\"\n",
    "                #  ,feeds=feeds\n",
    "                 )"
   ]
  },
  {
   "cell_type": "code",
   "execution_count": 73,
   "metadata": {},
   "outputs": [
    {
     "data": {
      "text/plain": [
       "{'whoscored': '{competition_id}-{season_id}-{game_id}.json'}"
      ]
     },
     "execution_count": 73,
     "metadata": {},
     "output_type": "execute_result"
    }
   ],
   "source": [
    "api.players(1640674)\n"
   ]
  },
  {
   "cell_type": "code",
   "execution_count": null,
   "metadata": {},
   "outputs": [],
   "source": [
    "events = ws.read_events(match_id=1485184, output_fmt=\"raw\")\n",
    "\n",
    "import json\n",
    "print(json.dumps(events[1485184][0], indent=2))\n",
    "\n",
    "actions = ws.read_events(match_id=1485184, output_fmt='spadl')\n",
    "actions.head()\n",
    "\n",
    "atomic_actions = ws.read_events(match_id=1485184, output_fmt='atomic-spadl')\n",
    "atomic_actions.head()"
   ]
  },
  {
   "cell_type": "code",
   "execution_count": null,
   "metadata": {},
   "outputs": [],
   "source": [
    "# Scrape all games and return a socceration.data.opta.OptaLoader\n",
    "loader = ws.read_events(output_fmt='loader')\n",
    "\n",
    "# Now use this loader to load the data\n",
    "print(\"Games:\")\n",
    "df_games = loader.games(competition_id=\"ENG-Premier League\", season_id=\"2021\")\n",
    "display(df_games.head())\n",
    "\n",
    "print(\"Teams:\")\n",
    "df_teams = loader.teams(game_id=1485184)\n",
    "display(df_teams.head())\n",
    "\n",
    "print(\"Players:\")\n",
    "df_players = loader.players(game_id=1485184)\n",
    "display(df_players.head())\n",
    "\n",
    "print(\"Events:\")\n",
    "df_events = loader.events(game_id=1485184)\n",
    "display(df_events.head())\n",
    "\n",
    "# You can use the socceraction package to convert the events\n",
    "# to SPADL and to compute xT or VAEP action values"
   ]
  },
  {
   "cell_type": "code",
   "execution_count": 1,
   "metadata": {},
   "outputs": [
    {
     "name": "stderr",
     "output_type": "stream",
     "text": [
      "C:\\Users\\krawc\\AppData\\Local\\Temp\\ipykernel_8824\\3153560931.py:6: DtypeWarning: Columns (2) have mixed types. Specify dtype option on import or set low_memory=False.\n",
      "  wsfile = pd.read_csv(r\"C:\\Users\\krawc\\Downloads\\WhoScoredFinal1.csv\")\n"
     ]
    },
    {
     "data": {
      "text/html": [
       "<div>\n",
       "<style scoped>\n",
       "    .dataframe tbody tr th:only-of-type {\n",
       "        vertical-align: middle;\n",
       "    }\n",
       "\n",
       "    .dataframe tbody tr th {\n",
       "        vertical-align: top;\n",
       "    }\n",
       "\n",
       "    .dataframe thead th {\n",
       "        text-align: right;\n",
       "    }\n",
       "</style>\n",
       "<table border=\"1\" class=\"dataframe\">\n",
       "  <thead>\n",
       "    <tr style=\"text-align: right;\">\n",
       "      <th></th>\n",
       "      <th>ranking</th>\n",
       "      <th>seasonId</th>\n",
       "      <th>seasonName</th>\n",
       "      <th>tournamentId</th>\n",
       "      <th>tournamentRegionId</th>\n",
       "      <th>tournamentRegionCode</th>\n",
       "      <th>tournamentRegionName</th>\n",
       "      <th>regionCode</th>\n",
       "      <th>tournamentName</th>\n",
       "      <th>tournamentShortName</th>\n",
       "      <th>...</th>\n",
       "      <th>keyPassFreekick</th>\n",
       "      <th>keyPassThrowin</th>\n",
       "      <th>keyPassOther</th>\n",
       "      <th>assistCross</th>\n",
       "      <th>assistCorner</th>\n",
       "      <th>assistThroughball</th>\n",
       "      <th>assistFreekick</th>\n",
       "      <th>assistThrowin</th>\n",
       "      <th>assistOther</th>\n",
       "      <th>assist</th>\n",
       "    </tr>\n",
       "  </thead>\n",
       "  <tbody>\n",
       "    <tr>\n",
       "      <th>0</th>\n",
       "      <td>1</td>\n",
       "      <td>4246</td>\n",
       "      <td>2016</td>\n",
       "      <td>124</td>\n",
       "      <td>247</td>\n",
       "      <td>cint</td>\n",
       "      <td>International</td>\n",
       "      <td>gb-wls</td>\n",
       "      <td>European Championship</td>\n",
       "      <td>UEC</td>\n",
       "      <td>...</td>\n",
       "      <td>NaN</td>\n",
       "      <td>NaN</td>\n",
       "      <td>NaN</td>\n",
       "      <td>NaN</td>\n",
       "      <td>NaN</td>\n",
       "      <td>NaN</td>\n",
       "      <td>NaN</td>\n",
       "      <td>NaN</td>\n",
       "      <td>NaN</td>\n",
       "      <td>NaN</td>\n",
       "    </tr>\n",
       "    <tr>\n",
       "      <th>1</th>\n",
       "      <td>2</td>\n",
       "      <td>4246</td>\n",
       "      <td>2016</td>\n",
       "      <td>124</td>\n",
       "      <td>247</td>\n",
       "      <td>cint</td>\n",
       "      <td>International</td>\n",
       "      <td>fr</td>\n",
       "      <td>European Championship</td>\n",
       "      <td>UEC</td>\n",
       "      <td>...</td>\n",
       "      <td>NaN</td>\n",
       "      <td>NaN</td>\n",
       "      <td>NaN</td>\n",
       "      <td>NaN</td>\n",
       "      <td>NaN</td>\n",
       "      <td>NaN</td>\n",
       "      <td>NaN</td>\n",
       "      <td>NaN</td>\n",
       "      <td>NaN</td>\n",
       "      <td>NaN</td>\n",
       "    </tr>\n",
       "    <tr>\n",
       "      <th>2</th>\n",
       "      <td>3</td>\n",
       "      <td>4246</td>\n",
       "      <td>2016</td>\n",
       "      <td>124</td>\n",
       "      <td>247</td>\n",
       "      <td>cint</td>\n",
       "      <td>International</td>\n",
       "      <td>hr</td>\n",
       "      <td>European Championship</td>\n",
       "      <td>UEC</td>\n",
       "      <td>...</td>\n",
       "      <td>NaN</td>\n",
       "      <td>NaN</td>\n",
       "      <td>NaN</td>\n",
       "      <td>NaN</td>\n",
       "      <td>NaN</td>\n",
       "      <td>NaN</td>\n",
       "      <td>NaN</td>\n",
       "      <td>NaN</td>\n",
       "      <td>NaN</td>\n",
       "      <td>NaN</td>\n",
       "    </tr>\n",
       "    <tr>\n",
       "      <th>3</th>\n",
       "      <td>4</td>\n",
       "      <td>4246</td>\n",
       "      <td>2016</td>\n",
       "      <td>124</td>\n",
       "      <td>247</td>\n",
       "      <td>cint</td>\n",
       "      <td>International</td>\n",
       "      <td>be</td>\n",
       "      <td>European Championship</td>\n",
       "      <td>UEC</td>\n",
       "      <td>...</td>\n",
       "      <td>NaN</td>\n",
       "      <td>NaN</td>\n",
       "      <td>NaN</td>\n",
       "      <td>NaN</td>\n",
       "      <td>NaN</td>\n",
       "      <td>NaN</td>\n",
       "      <td>NaN</td>\n",
       "      <td>NaN</td>\n",
       "      <td>NaN</td>\n",
       "      <td>NaN</td>\n",
       "    </tr>\n",
       "    <tr>\n",
       "      <th>4</th>\n",
       "      <td>5</td>\n",
       "      <td>4246</td>\n",
       "      <td>2016</td>\n",
       "      <td>124</td>\n",
       "      <td>247</td>\n",
       "      <td>cint</td>\n",
       "      <td>International</td>\n",
       "      <td>de</td>\n",
       "      <td>European Championship</td>\n",
       "      <td>UEC</td>\n",
       "      <td>...</td>\n",
       "      <td>NaN</td>\n",
       "      <td>NaN</td>\n",
       "      <td>NaN</td>\n",
       "      <td>NaN</td>\n",
       "      <td>NaN</td>\n",
       "      <td>NaN</td>\n",
       "      <td>NaN</td>\n",
       "      <td>NaN</td>\n",
       "      <td>NaN</td>\n",
       "      <td>NaN</td>\n",
       "    </tr>\n",
       "    <tr>\n",
       "      <th>...</th>\n",
       "      <td>...</td>\n",
       "      <td>...</td>\n",
       "      <td>...</td>\n",
       "      <td>...</td>\n",
       "      <td>...</td>\n",
       "      <td>...</td>\n",
       "      <td>...</td>\n",
       "      <td>...</td>\n",
       "      <td>...</td>\n",
       "      <td>...</td>\n",
       "      <td>...</td>\n",
       "      <td>...</td>\n",
       "      <td>...</td>\n",
       "      <td>...</td>\n",
       "      <td>...</td>\n",
       "      <td>...</td>\n",
       "      <td>...</td>\n",
       "      <td>...</td>\n",
       "      <td>...</td>\n",
       "      <td>...</td>\n",
       "      <td>...</td>\n",
       "    </tr>\n",
       "    <tr>\n",
       "      <th>241282</th>\n",
       "      <td>162</td>\n",
       "      <td>3635</td>\n",
       "      <td>2013</td>\n",
       "      <td>123</td>\n",
       "      <td>247</td>\n",
       "      <td>cint</td>\n",
       "      <td>International</td>\n",
       "      <td>gb-eng</td>\n",
       "      <td>EURO U-21</td>\n",
       "      <td>IEU</td>\n",
       "      <td>...</td>\n",
       "      <td>0.0</td>\n",
       "      <td>0.0</td>\n",
       "      <td>0.5</td>\n",
       "      <td>0.0</td>\n",
       "      <td>0.0</td>\n",
       "      <td>0.0</td>\n",
       "      <td>0.0</td>\n",
       "      <td>0.0</td>\n",
       "      <td>0.0</td>\n",
       "      <td>0.0</td>\n",
       "    </tr>\n",
       "    <tr>\n",
       "      <th>241283</th>\n",
       "      <td>163</td>\n",
       "      <td>3635</td>\n",
       "      <td>2013</td>\n",
       "      <td>123</td>\n",
       "      <td>247</td>\n",
       "      <td>cint</td>\n",
       "      <td>International</td>\n",
       "      <td>de</td>\n",
       "      <td>EURO U-21</td>\n",
       "      <td>IEU</td>\n",
       "      <td>...</td>\n",
       "      <td>0.0</td>\n",
       "      <td>0.0</td>\n",
       "      <td>1.0</td>\n",
       "      <td>0.0</td>\n",
       "      <td>0.0</td>\n",
       "      <td>0.0</td>\n",
       "      <td>0.0</td>\n",
       "      <td>0.0</td>\n",
       "      <td>0.0</td>\n",
       "      <td>0.0</td>\n",
       "    </tr>\n",
       "    <tr>\n",
       "      <th>241284</th>\n",
       "      <td>164</td>\n",
       "      <td>3635</td>\n",
       "      <td>2013</td>\n",
       "      <td>123</td>\n",
       "      <td>247</td>\n",
       "      <td>cint</td>\n",
       "      <td>International</td>\n",
       "      <td>gb-eng</td>\n",
       "      <td>EURO U-21</td>\n",
       "      <td>IEU</td>\n",
       "      <td>...</td>\n",
       "      <td>0.0</td>\n",
       "      <td>0.0</td>\n",
       "      <td>0.0</td>\n",
       "      <td>0.0</td>\n",
       "      <td>0.0</td>\n",
       "      <td>0.0</td>\n",
       "      <td>0.0</td>\n",
       "      <td>0.0</td>\n",
       "      <td>0.0</td>\n",
       "      <td>0.0</td>\n",
       "    </tr>\n",
       "    <tr>\n",
       "      <th>241285</th>\n",
       "      <td>165</td>\n",
       "      <td>3635</td>\n",
       "      <td>2013</td>\n",
       "      <td>123</td>\n",
       "      <td>247</td>\n",
       "      <td>cint</td>\n",
       "      <td>International</td>\n",
       "      <td>de</td>\n",
       "      <td>EURO U-21</td>\n",
       "      <td>IEU</td>\n",
       "      <td>...</td>\n",
       "      <td>0.0</td>\n",
       "      <td>0.0</td>\n",
       "      <td>0.0</td>\n",
       "      <td>0.0</td>\n",
       "      <td>0.0</td>\n",
       "      <td>0.0</td>\n",
       "      <td>0.0</td>\n",
       "      <td>0.0</td>\n",
       "      <td>0.0</td>\n",
       "      <td>0.0</td>\n",
       "    </tr>\n",
       "    <tr>\n",
       "      <th>241286</th>\n",
       "      <td>166</td>\n",
       "      <td>3635</td>\n",
       "      <td>2013</td>\n",
       "      <td>123</td>\n",
       "      <td>247</td>\n",
       "      <td>cint</td>\n",
       "      <td>International</td>\n",
       "      <td>de</td>\n",
       "      <td>EURO U-21</td>\n",
       "      <td>IEU</td>\n",
       "      <td>...</td>\n",
       "      <td>0.0</td>\n",
       "      <td>0.0</td>\n",
       "      <td>0.0</td>\n",
       "      <td>0.0</td>\n",
       "      <td>0.0</td>\n",
       "      <td>0.0</td>\n",
       "      <td>0.0</td>\n",
       "      <td>0.0</td>\n",
       "      <td>0.0</td>\n",
       "      <td>0.0</td>\n",
       "    </tr>\n",
       "  </tbody>\n",
       "</table>\n",
       "<p>241287 rows × 153 columns</p>\n",
       "</div>"
      ],
      "text/plain": [
       "        ranking  seasonId seasonName  tournamentId  tournamentRegionId  \\\n",
       "0             1      4246       2016           124                 247   \n",
       "1             2      4246       2016           124                 247   \n",
       "2             3      4246       2016           124                 247   \n",
       "3             4      4246       2016           124                 247   \n",
       "4             5      4246       2016           124                 247   \n",
       "...         ...       ...        ...           ...                 ...   \n",
       "241282      162      3635       2013           123                 247   \n",
       "241283      163      3635       2013           123                 247   \n",
       "241284      164      3635       2013           123                 247   \n",
       "241285      165      3635       2013           123                 247   \n",
       "241286      166      3635       2013           123                 247   \n",
       "\n",
       "       tournamentRegionCode tournamentRegionName regionCode  \\\n",
       "0                      cint        International     gb-wls   \n",
       "1                      cint        International         fr   \n",
       "2                      cint        International         hr   \n",
       "3                      cint        International         be   \n",
       "4                      cint        International         de   \n",
       "...                     ...                  ...        ...   \n",
       "241282                 cint        International     gb-eng   \n",
       "241283                 cint        International         de   \n",
       "241284                 cint        International     gb-eng   \n",
       "241285                 cint        International         de   \n",
       "241286                 cint        International         de   \n",
       "\n",
       "               tournamentName tournamentShortName  ... keyPassFreekick  \\\n",
       "0       European Championship                 UEC  ...             NaN   \n",
       "1       European Championship                 UEC  ...             NaN   \n",
       "2       European Championship                 UEC  ...             NaN   \n",
       "3       European Championship                 UEC  ...             NaN   \n",
       "4       European Championship                 UEC  ...             NaN   \n",
       "...                       ...                 ...  ...             ...   \n",
       "241282              EURO U-21                 IEU  ...             0.0   \n",
       "241283              EURO U-21                 IEU  ...             0.0   \n",
       "241284              EURO U-21                 IEU  ...             0.0   \n",
       "241285              EURO U-21                 IEU  ...             0.0   \n",
       "241286              EURO U-21                 IEU  ...             0.0   \n",
       "\n",
       "       keyPassThrowin  keyPassOther  assistCross  assistCorner  \\\n",
       "0                 NaN           NaN          NaN           NaN   \n",
       "1                 NaN           NaN          NaN           NaN   \n",
       "2                 NaN           NaN          NaN           NaN   \n",
       "3                 NaN           NaN          NaN           NaN   \n",
       "4                 NaN           NaN          NaN           NaN   \n",
       "...               ...           ...          ...           ...   \n",
       "241282            0.0           0.5          0.0           0.0   \n",
       "241283            0.0           1.0          0.0           0.0   \n",
       "241284            0.0           0.0          0.0           0.0   \n",
       "241285            0.0           0.0          0.0           0.0   \n",
       "241286            0.0           0.0          0.0           0.0   \n",
       "\n",
       "        assistThroughball assistFreekick assistThrowin assistOther  assist  \n",
       "0                     NaN            NaN           NaN         NaN     NaN  \n",
       "1                     NaN            NaN           NaN         NaN     NaN  \n",
       "2                     NaN            NaN           NaN         NaN     NaN  \n",
       "3                     NaN            NaN           NaN         NaN     NaN  \n",
       "4                     NaN            NaN           NaN         NaN     NaN  \n",
       "...                   ...            ...           ...         ...     ...  \n",
       "241282                0.0            0.0           0.0         0.0     0.0  \n",
       "241283                0.0            0.0           0.0         0.0     0.0  \n",
       "241284                0.0            0.0           0.0         0.0     0.0  \n",
       "241285                0.0            0.0           0.0         0.0     0.0  \n",
       "241286                0.0            0.0           0.0         0.0     0.0  \n",
       "\n",
       "[241287 rows x 153 columns]"
      ]
     },
     "execution_count": 1,
     "metadata": {},
     "output_type": "execute_result"
    }
   ],
   "source": [
    "\n",
    "import pandas as pd\n",
    "import matplotlib.pyplot as plt\n",
    "import seaborn as sns\n",
    "import numpy as np\n",
    "\n",
    "wsfile = pd.read_csv(r\"C:\\Users\\krawc\\Downloads\\WhoScoredFinal1.csv\")\n",
    "wsfile"
   ]
  },
  {
   "cell_type": "code",
   "execution_count": 23,
   "metadata": {},
   "outputs": [
    {
     "data": {
      "text/html": [
       "<div>\n",
       "<style scoped>\n",
       "    .dataframe tbody tr th:only-of-type {\n",
       "        vertical-align: middle;\n",
       "    }\n",
       "\n",
       "    .dataframe tbody tr th {\n",
       "        vertical-align: top;\n",
       "    }\n",
       "\n",
       "    .dataframe thead th {\n",
       "        text-align: right;\n",
       "    }\n",
       "</style>\n",
       "<table border=\"1\" class=\"dataframe\">\n",
       "  <thead>\n",
       "    <tr style=\"text-align: right;\">\n",
       "      <th></th>\n",
       "      <th>ranking</th>\n",
       "      <th>seasonId</th>\n",
       "      <th>seasonName</th>\n",
       "      <th>tournamentId</th>\n",
       "      <th>tournamentRegionId</th>\n",
       "      <th>tournamentRegionCode</th>\n",
       "      <th>tournamentRegionName</th>\n",
       "      <th>regionCode</th>\n",
       "      <th>tournamentName</th>\n",
       "      <th>tournamentShortName</th>\n",
       "      <th>...</th>\n",
       "      <th>keyPassFreekick</th>\n",
       "      <th>keyPassThrowin</th>\n",
       "      <th>keyPassOther</th>\n",
       "      <th>assistCross</th>\n",
       "      <th>assistCorner</th>\n",
       "      <th>assistThroughball</th>\n",
       "      <th>assistFreekick</th>\n",
       "      <th>assistThrowin</th>\n",
       "      <th>assistOther</th>\n",
       "      <th>assist</th>\n",
       "    </tr>\n",
       "  </thead>\n",
       "  <tbody>\n",
       "    <tr>\n",
       "      <th>102409</th>\n",
       "      <td>2</td>\n",
       "      <td>5826</td>\n",
       "      <td>2015/2016</td>\n",
       "      <td>2</td>\n",
       "      <td>252</td>\n",
       "      <td>gb-eng</td>\n",
       "      <td>England</td>\n",
       "      <td>fr</td>\n",
       "      <td>Premier League</td>\n",
       "      <td>EPL</td>\n",
       "      <td>...</td>\n",
       "      <td>NaN</td>\n",
       "      <td>NaN</td>\n",
       "      <td>NaN</td>\n",
       "      <td>NaN</td>\n",
       "      <td>NaN</td>\n",
       "      <td>NaN</td>\n",
       "      <td>NaN</td>\n",
       "      <td>NaN</td>\n",
       "      <td>NaN</td>\n",
       "      <td>NaN</td>\n",
       "    </tr>\n",
       "    <tr>\n",
       "      <th>102707</th>\n",
       "      <td>2</td>\n",
       "      <td>5826</td>\n",
       "      <td>2015/2016</td>\n",
       "      <td>2</td>\n",
       "      <td>252</td>\n",
       "      <td>gb-eng</td>\n",
       "      <td>England</td>\n",
       "      <td>fr</td>\n",
       "      <td>Premier League</td>\n",
       "      <td>EPL</td>\n",
       "      <td>...</td>\n",
       "      <td>0.6</td>\n",
       "      <td>0.0</td>\n",
       "      <td>1.566667</td>\n",
       "      <td>0.166667</td>\n",
       "      <td>0.033333</td>\n",
       "      <td>0.1</td>\n",
       "      <td>0.066667</td>\n",
       "      <td>0.0</td>\n",
       "      <td>0.1</td>\n",
       "      <td>0.4</td>\n",
       "    </tr>\n",
       "  </tbody>\n",
       "</table>\n",
       "<p>2 rows × 153 columns</p>\n",
       "</div>"
      ],
      "text/plain": [
       "        ranking  seasonId seasonName  tournamentId  tournamentRegionId  \\\n",
       "102409        2      5826  2015/2016             2                 252   \n",
       "102707        2      5826  2015/2016             2                 252   \n",
       "\n",
       "       tournamentRegionCode tournamentRegionName regionCode  tournamentName  \\\n",
       "102409               gb-eng              England         fr  Premier League   \n",
       "102707               gb-eng              England         fr  Premier League   \n",
       "\n",
       "       tournamentShortName  ... keyPassFreekick keyPassThrowin  keyPassOther  \\\n",
       "102409                 EPL  ...             NaN            NaN           NaN   \n",
       "102707                 EPL  ...             0.6            0.0      1.566667   \n",
       "\n",
       "        assistCross  assistCorner  assistThroughball assistFreekick  \\\n",
       "102409          NaN           NaN                NaN            NaN   \n",
       "102707     0.166667      0.033333                0.1       0.066667   \n",
       "\n",
       "       assistThrowin assistOther  assist  \n",
       "102409           NaN         NaN     NaN  \n",
       "102707           0.0         0.1     0.4  \n",
       "\n",
       "[2 rows x 153 columns]"
      ]
     },
     "execution_count": 23,
     "metadata": {},
     "output_type": "execute_result"
    }
   ],
   "source": [
    "wsfile.tournamentName.value_counts()\n",
    "c1=wsfile.tournamentName=='Premier League'\n",
    "c1=wsfile.tournamentId==2\n",
    "c2=wsfile.seasonName=='2015/2016'\n",
    "c3=wsfile.name=='Dimitri Payet'\n",
    "     \n",
    "pl1516=wsfile[c1&c2&c3]\n",
    "pl1516"
   ]
  },
  {
   "cell_type": "code",
   "execution_count": 14,
   "metadata": {},
   "outputs": [
    {
     "data": {
      "text/plain": [
       "array(['ranking', 'seasonId', 'seasonName', 'tournamentId',\n",
       "       'tournamentRegionId', 'tournamentRegionCode',\n",
       "       'tournamentRegionName', 'regionCode', 'tournamentName',\n",
       "       'tournamentShortName', 'firstName', 'lastName', 'playerId',\n",
       "       'isActive', 'isOpta', 'teamId', 'teamName', 'teamRegionName',\n",
       "       'playedPositions', 'age', 'height', 'weight', 'positionText',\n",
       "       'apps', 'subOn', 'minsPlayed', 'rating', 'goal_x', 'assistTotal_x',\n",
       "       'yellowCard_x', 'redCard_x', 'shotsPerGame_x', 'aerialWonPerGame',\n",
       "       'manOfTheMatch', 'isManOfTheMatch', 'playedPositionsShort', 'name',\n",
       "       'passSuccess_x', 'tacklePerGame', 'interceptionPerGame',\n",
       "       'foulsPerGame', 'offsideWonPerGame', 'clearancePerGame',\n",
       "       'wasDribbledPerGame', 'outfielderBlockPerGame', 'goalOwn_x',\n",
       "       'goal_y', 'assistTotal_y', 'shotsPerGame_y', 'keyPassPerGame_x',\n",
       "       'dribbleWonPerGame', 'foulGivenPerGame', 'offsideGivenPerGame',\n",
       "       'dispossessedPerGame', 'turnoverPerGame', 'assistTotal',\n",
       "       'keyPassPerGame_y', 'totalPassesPerGame', 'accurateCrossesPerGame',\n",
       "       'accurateLongPassPerGame', 'accurateThroughBallPerGame',\n",
       "       'passSuccess_y', 'tackleWonTotal', 'tackleTotalAttempted',\n",
       "       'challengeLost', 'interceptionAll', 'foulGiven', 'foulCommitted',\n",
       "       'yellowCard_y', 'redCard_y', 'offsideGiven', 'clearanceTotal',\n",
       "       'passCrossBlockedDefensive', 'outfielderBlockedPass',\n",
       "       'outfielderBlock', 'saveSixYardBox', 'savePenaltyArea', 'saveObox',\n",
       "       'saveTotal', 'shotSixYardBox', 'shotPenaltyArea', 'shotOboxTotal',\n",
       "       'shotsTotal_x', 'shotsTotal_x.1', 'shotOpenPlay', 'shotCounter',\n",
       "       'shotSetPiece', 'penaltyTaken', 'shotsTotal_y', 'shotsTotal_y.1',\n",
       "       'shotOnTarget', 'shotOffTarget', 'shotOnPost', 'shotBlocked',\n",
       "       'shotsTotal_x.2', 'shotsTotal_x.3', 'shotRightFoot',\n",
       "       'shotLeftFoot', 'shotHead', 'shotObp', 'shotsTotal_y.2',\n",
       "       'shotsTotal_y.3', 'goalSixYardBox', 'goalPenaltyArea', 'goalObox',\n",
       "       'goalTotal_x', 'goalOwn_y', 'goalOpenPlay', 'goalCounter',\n",
       "       'goalSetPiece', 'penaltyScored', 'goalNormal', 'goalTotal_y',\n",
       "       'goalTotal', 'goalRightFoot', 'goalLeftFoot', 'goalHead',\n",
       "       'goalObp', 'dribbleLost', 'dribbleTotal', 'dribbleWon', 'turnover',\n",
       "       'dispossessed', 'duelAerialLost', 'duelAerialTotal',\n",
       "       'duelAerialWon', 'passTotal', 'passLongBallAccurate',\n",
       "       'passLongBallInaccurate', 'shortPassAccurate',\n",
       "       'shortPassInaccurate', 'passCornerAccurate',\n",
       "       'passCornerInaccurate', 'passFreekickAccurate',\n",
       "       'passFreekickInaccurate', 'passCrossInaccurate',\n",
       "       'passCrossAccurate', 'keyPassLong', 'keyPassShort',\n",
       "       'keyPassesTotal', 'keyPassCross', 'keyPassCorner',\n",
       "       'keyPassThroughball', 'keyPassFreekick', 'keyPassThrowin',\n",
       "       'keyPassOther', 'assistCross', 'assistCorner', 'assistThroughball',\n",
       "       'assistFreekick', 'assistThrowin', 'assistOther', 'assist'],\n",
       "      dtype=object)"
      ]
     },
     "execution_count": 14,
     "metadata": {},
     "output_type": "execute_result"
    }
   ],
   "source": [
    "wsfile.columns.values"
   ]
  },
  {
   "cell_type": "code",
   "execution_count": 40,
   "metadata": {},
   "outputs": [
    {
     "data": {
      "text/plain": [
       "keyPassCorner         1.133333\n",
       "keyPassThroughball         0.2\n",
       "keyPassFreekick            0.6\n",
       "keyPassThrowin             0.0\n",
       "keyPassOther          1.566667\n",
       "assistCross           0.166667\n",
       "assistCorner          0.033333\n",
       "assistThroughball          0.1\n",
       "assistFreekick        0.066667\n",
       "assistThrowin              0.0\n",
       "assistOther                0.1\n",
       "assist                     0.4\n",
       "Name: 102707, dtype: object"
      ]
     },
     "execution_count": 40,
     "metadata": {},
     "output_type": "execute_result"
    }
   ],
   "source": [
    "pl1516.iloc[1,141:].dropna()"
   ]
  },
  {
   "cell_type": "code",
   "execution_count": null,
   "metadata": {},
   "outputs": [],
   "source": [
    "# OptaLoader.competitions()\n",
    "\n",
    "# OptaLoader.games()\n",
    "\n",
    "# OptaLoader.teams()\n",
    "\n",
    "# OptaLoader.players()\n",
    "\n",
    "# OptaLoader.events()\n",
    "import soccerdata as sd\n",
    "\n",
    "# Setup a scraper for the 2021/2022 Premier League season\n",
    "ws = sd.WhoScored(leagues=\"ENG-Premier League\", seasons=2021)\n",
    "# Scrape all games and return a OptaLoader object\n",
    "api = ws.read_events(output_fmt='loader')"
   ]
  }
 ],
 "metadata": {
  "kernelspec": {
   "display_name": ".venv",
   "language": "python",
   "name": "python3"
  },
  "language_info": {
   "codemirror_mode": {
    "name": "ipython",
    "version": 3
   },
   "file_extension": ".py",
   "mimetype": "text/x-python",
   "name": "python",
   "nbconvert_exporter": "python",
   "pygments_lexer": "ipython3",
   "version": "3.11.0"
  }
 },
 "nbformat": 4,
 "nbformat_minor": 2
}
