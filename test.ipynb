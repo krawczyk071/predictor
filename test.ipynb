{
 "cells": [
  {
   "cell_type": "code",
   "execution_count": 1,
   "metadata": {},
   "outputs": [],
   "source": [
    "import pandas as pd"
   ]
  },
  {
   "cell_type": "code",
   "execution_count": null,
   "metadata": {},
   "outputs": [],
   "source": [
    "https://github.com/openfootball/awesome-football\n",
    "https://github.com/jokecamp/FootballData\n",
    "\n",
    "# RapidAPI\n",
    "https://api-sports.io/\n",
    "https://github.com/elenasport/apisports\n",
    "\n",
    "# Predictions\n",
    "https://boggio-analytics.com/fp-api/\n",
    "\n",
    "\n",
    "# kaggle\n",
    "https://www.kaggle.com/datasets/ajinkyablaze/football-manager-data\n",
    "https://www.kaggle.com/datasets/stefanoleone992/ea-sports-fc-24-complete-player-dataset\n"
   ]
  }
 ],
 "metadata": {
  "kernelspec": {
   "display_name": ".venv",
   "language": "python",
   "name": "python3"
  },
  "language_info": {
   "codemirror_mode": {
    "name": "ipython",
    "version": 3
   },
   "file_extension": ".py",
   "mimetype": "text/x-python",
   "name": "python",
   "nbconvert_exporter": "python",
   "pygments_lexer": "ipython3",
   "version": "3.11.0"
  }
 },
 "nbformat": 4,
 "nbformat_minor": 2
}
