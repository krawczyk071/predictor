{
 "cells": [
  {
   "cell_type": "code",
   "execution_count": 1,
   "metadata": {},
   "outputs": [],
   "source": [
    "import pandas as pd"
   ]
  },
  {
   "cell_type": "code",
   "execution_count": null,
   "metadata": {},
   "outputs": [],
   "source": [
    "https://github.com/openfootball/awesome-football\n",
    "https://github.com/jokecamp/FootballData\n",
    "\n",
    "# RapidAPI\n",
    "https://api-sports.io/\n",
    "https://github.com/elenasport/apisports\n",
    "\n",
    "# Predictions\n",
    "https://boggio-analytics.com/fp-api/\n",
    "\n",
    "\n",
    "# kaggle\n",
    "https://www.kaggle.com/datasets/ajinkyablaze/football-manager-data\n",
    "https://www.kaggle.com/datasets/stefanoleone992/ea-sports-fc-24-complete-player-dataset\n"
   ]
  },
  {
   "cell_type": "code",
   "execution_count": null,
   "metadata": {},
   "outputs": [],
   "source": [
    "PROFILE\n",
    "seria5\n",
    "h2h 3 sezony\n",
    "ustawienie vs ustawienie przeciwnika, styl gry (opta radars) (ilosc podan,ilosc strzalow), quality index\n",
    "https://www.whoscored.com/Matches/1775718/Preview/Europe-Europa-League-2023-2024-Liverpool-Union-St-Gilloise\n",
    "miejsce w tabeli\n",
    "home away\n",
    "strzelane gole,puszczane gole\n",
    "jak dlugo trener\n",
    "Coach and referee stats\n",
    "kontuzja gwiazdy\n",
    "przerwa od ostatniego meczu\n",
    "prev game oponent\n",
    "*odds market, fotmob votes\n",
    "stage/etap sezonu\n",
    "czy dobry bramkarz\n",
    "transfermarkt\n",
    "attendance against - czy przeciwnik jest ciekawy BOOL - 1srednialigowa 2przeciwkonam\n",
    "\n",
    "GF GA Possession ExG\n",
    "\n",
    "BASIC - 3 poziomy danych do podobienst stylow\n",
    "pointsH/A Sh SoT GA GF Fls Off  \n",
    "\n"
   ]
  },
  {
   "cell_type": "code",
   "execution_count": null,
   "metadata": {},
   "outputs": [],
   "source": [
    "MATCHdata\n",
    "\n",
    "Possession\n",
    "Passing Accuracy\n",
    "Shots on Target\n",
    "Saves\n",
    "Cards\n",
    "\n",
    "Fouls\n",
    "Corners\n",
    "Crosses\n",
    "Touches\n",
    "\n",
    "Tackles\n",
    "Interceptions\n",
    "Aerials Won\n",
    "Clearances\n",
    "\n",
    "Offsides\n",
    "Goal Kicks\n",
    "Throw Ins\n",
    "Long Balls"
   ]
  },
  {
   "cell_type": "code",
   "execution_count": null,
   "metadata": {},
   "outputs": [],
   "source": [
    "TODO\n",
    "opta style graph laga speed/ilosc podan\n",
    "laga=PrgP/PrgC;Launched_Att,Long_Att,~P1/3,Off,\n",
    "\n",
    "https://www.youtube.com/watch?v=mBbQpaLWcLM&t=45s\n",
    "https://github.com/lanusStats/futbol-data-visualizacion/blob/main/archivos/streams-videos/introFbref_stream.ipynb\n",
    "\n",
    "\n",
    "opta radars for EPL\n",
    "https://www.youtube.com/watch?v=cXtC2EOQj6Q&list=PLSctmZJ-z2wNEsjkL9xMT4T-t-yEdof4N&index=5\n",
    "https://github.com/mckayjohns/youtube-videos\n",
    "https://plotly.com/python/radar-chart/\n",
    "\n",
    "adding gameid to historyDB\n",
    "\n",
    "\n",
    "3 modele to oczywistych1.2/zwyklych1.7/trudnych2.2/\n",
    "\n",
    "nie styl - JAKOSC - CO DECYDUJE\n",
    "bramkarz-obrona-pomoc-atak\n",
    "(PSxG-GA)/SoT; xGA; xG; Gls/xG\n",
    "; SoTA; SCA; ;\n",
    "\n",
    "bledy popelnione-wykorzystanie bledow\n",
    "taktyka-trener;elastycznosc-czy zawsze ten sam styl,%winsaggins theodds\n",
    "\n",
    "\n",
    "taktyka = Dist(shot) C1/3 CPA\n",
    "offence=Touches[Def3rd Mid3rd Att3rd]\n",
    "intensity=Touches\t\n",
    "wide=Sw Crs Take-Ons[Att]\n",
    "speed=PrgP/Poss\n",
    "stalefragmenty =  Dead,FK,TI,CK\n",
    "press=SCA_Def,Tackles[Def3rd Mid3rd Att3rd], oppRec, Fls AWon\n",
    "error=ChallengesLost TklW/TklAtt Err Mis Dis CrdY OG Alost\n",
    "succ= Int TklW ChaTkl Take-Ons[Att]\n",
    "\n",
    "STYLE\n",
    "dobrze gra przeciwko defensywnym/ parametry pow sredniej\n",
    "wylacza z gry gwaizde\n",
    "press/nopress"
   ]
  }
 ],
 "metadata": {
  "kernelspec": {
   "display_name": ".venv",
   "language": "python",
   "name": "python3"
  },
  "language_info": {
   "codemirror_mode": {
    "name": "ipython",
    "version": 3
   },
   "file_extension": ".py",
   "mimetype": "text/x-python",
   "name": "python",
   "nbconvert_exporter": "python",
   "pygments_lexer": "ipython3",
   "version": "3.11.0"
  }
 },
 "nbformat": 4,
 "nbformat_minor": 2
}
