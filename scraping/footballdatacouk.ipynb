{
 "cells": [
  {
   "cell_type": "code",
   "execution_count": 17,
   "metadata": {},
   "outputs": [],
   "source": [
    "import pandas as pd\n",
    "import soccerdata as sd\n"
   ]
  },
  {
   "cell_type": "code",
   "execution_count": 18,
   "metadata": {},
   "outputs": [],
   "source": [
    "# https://fbref.com/en/comps/9/Premier-League-Stats\n",
    "# team_stats = [\"standard\",\"keeper\",\"keeper_adv\",\"shooting\",\"passing\",\"passing_types\",\"goal_shot_creation\",\"defense\",\"possession\",\"playing_time\",\"misc\",]\n",
    "# team_match_stats = [\"schedule\",\"shooting\",\"keeper\",\"passing\",\"passing_types\",\"goal_shot_creation\",\"defense\",\"possession\",\"misc\"]\n",
    "# fbref = sd.FBref(leagues=['ENG-Premier League'], seasons=['2223'])\n",
    "# match_stats0=fbref.read_team_match_stats(stat_type=team_match_stats[0])\n",
    "# match_stats0\n"
   ]
  },
  {
   "cell_type": "code",
   "execution_count": 22,
   "metadata": {},
   "outputs": [],
   "source": [
    "# # GET MAPPING\n",
    "def make_mapping(fbref_vals,new_vals):\n",
    "    s1=set(fbref_vals)\n",
    "    s2=set(new_vals)\n",
    "    mapping=dict(zip(sorted(s2),sorted(s1)))\n",
    "    return mapping\n",
    "\n",
    "fbref_vals=['Brighton', 'Burnley', 'Manchester City', 'Wolves', 'Liverpool',\n",
    "       'Leicester City', 'Crystal Palace', 'Arsenal', 'Southampton',\n",
    "       'Tottenham', 'West Ham', 'Manchester Utd', 'Bournemouth', 'Watford',\n",
    "       'Everton', 'Chelsea', 'Newcastle Utd', 'Aston Villa', 'Norwich City',\n",
    "       'Sheffield Utd', 'Brighton', 'Burnley', 'Manchester City',\n",
    "       'Aston Villa', 'Wolves', 'Liverpool', 'Sheffield Utd', 'Leicester City',\n",
    "       'Crystal Palace', 'Arsenal', 'Southampton', 'Tottenham', 'West Ham',\n",
    "       'Manchester Utd', 'Everton', 'Chelsea', 'Newcastle Utd', 'West Brom',\n",
    "       'Leeds United', 'Fulham', 'Brighton', 'Burnley', 'Manchester City',\n",
    "       'Aston Villa', 'Leeds United', 'Wolves', 'Liverpool', 'Leicester City',\n",
    "       'Crystal Palace', 'Arsenal', 'Southampton', 'Tottenham', 'West Ham',\n",
    "       'Manchester Utd', 'Everton', 'Chelsea', 'Newcastle Utd', 'Brentford',\n",
    "       'Watford', 'Norwich City', 'Brighton', 'Manchester City', 'Aston Villa',\n",
    "       'Leeds United', 'Wolves', 'Liverpool', 'Leicester City',\n",
    "       'Crystal Palace', 'Arsenal', 'Southampton', 'Tottenham', 'West Ham',\n",
    "       'Brentford', 'Manchester Utd', 'Everton', 'Chelsea', 'Newcastle Utd',\n",
    "       'Fulham', \"Nott'ham Forest\", 'Bournemouth']\n",
    "\n",
    "# new_vals=hist['home_team'].values\n",
    "# mapping=make_mapping(fbref_vals,new_vals)\n",
    "\n",
    "map_hist2fbref={'Arsenal': 'Arsenal',\n",
    " 'Aston Villa': 'Aston Villa',\n",
    " 'Bournemouth': 'Bournemouth',\n",
    " 'Brentford': 'Brentford',\n",
    " 'Brighton': 'Brighton',\n",
    " 'Burnley': 'Burnley',\n",
    " 'Chelsea': 'Chelsea',\n",
    " 'Crystal Palace': 'Crystal Palace',\n",
    " 'Everton': 'Everton',\n",
    " 'Fulham': 'Fulham',\n",
    " 'Leeds': 'Leeds United',\n",
    " 'Leicester': 'Leicester City',\n",
    " 'Liverpool': 'Liverpool',\n",
    " 'Man City': 'Manchester City',\n",
    " 'Man United': 'Manchester Utd',\n",
    " 'Newcastle': 'Newcastle Utd',\n",
    " 'Norwich': 'Norwich City',\n",
    " \"Nott'm Forest\": \"Nott'ham Forest\",\n",
    " 'Sheffield United': 'Sheffield Utd',\n",
    " 'Southampton': 'Southampton',\n",
    " 'Tottenham': 'Tottenham',\n",
    " 'Watford': 'Watford',\n",
    " 'West Brom': 'West Brom',\n",
    " 'West Ham': 'West Ham',\n",
    " 'Wolves': 'Wolves'}\n"
   ]
  },
  {
   "cell_type": "code",
   "execution_count": 42,
   "metadata": {},
   "outputs": [],
   "source": [
    "def apply_maping_on_history(hist,map_hist2fbref):\n",
    "    # UPDATE HIST with mapping\n",
    "    hist['home_team']=hist['home_team'].map(map_hist2fbref)\n",
    "    hist['away_team']=hist['away_team'].map(map_hist2fbref)\n",
    "\n",
    "    new_game=hist['date'].dt.date.astype('string') +' ' + hist['home_team']+'-' + hist['away_team']\n",
    "\n",
    "    hist.index=hist.index.set_levels(new_game,level=2)\n",
    "\n",
    "    return hist\n",
    "    # # CHECK\n",
    "    # sfb=set(match_stats0.index.get_level_values(-1))\n",
    "    # sh=set(hist.index.get_level_values(-1))\n",
    "    # len(sh.difference(sfb))\n",
    "    \n",
    "def probs_form_odds(row):    \n",
    "    import shin\n",
    "    h,d,a=row\n",
    "    res=shin.calculate_implied_probabilities([h,d,a])\n",
    "    return res['implied_probabilities']\n",
    "\n",
    "def apply_probs_form_odds(df,three_cols):\n",
    "    new_three_cols=['p'+x for x in three_cols]\n",
    "    df[new_three_cols]=df[three_cols].apply(probs_form_odds,axis=1,result_type='expand')\n"
   ]
  },
  {
   "cell_type": "code",
   "execution_count": 43,
   "metadata": {},
   "outputs": [
    {
     "data": {
      "text/html": [
       "<pre style=\"white-space:pre;overflow-x:auto;line-height:normal;font-family:Menlo,'DejaVu Sans Mono',consolas,'Courier New',monospace\"><span style=\"color: #7fbfbf; text-decoration-color: #7fbfbf\">[10/20/23 13:23:55] </span><span style=\"color: #000080; text-decoration-color: #000080\">INFO    </span> Saving cached data to ~\\soccerdata\\data\\MatchHistory                     <a href=\"file://c:\\Users\\krawc\\OneDrive\\Documents\\code\\pythons\\predictor\\.venv\\Lib\\site-packages\\soccerdata\\_common.py\" target=\"_blank\"><span style=\"color: #7f7f7f; text-decoration-color: #7f7f7f\">_common.py</span></a><span style=\"color: #7f7f7f; text-decoration-color: #7f7f7f\">:</span><a href=\"file://c:\\Users\\krawc\\OneDrive\\Documents\\code\\pythons\\predictor\\.venv\\Lib\\site-packages\\soccerdata\\_common.py#89\" target=\"_blank\"><span style=\"color: #7f7f7f; text-decoration-color: #7f7f7f\">89</span></a>\n",
       "</pre>\n"
      ],
      "text/plain": [
       "\u001b[2;36m[10/20/23 13:23:55]\u001b[0m\u001b[2;36m \u001b[0m\u001b[34mINFO    \u001b[0m Saving cached data to ~\\soccerdata\\data\\MatchHistory                     \u001b]8;id=415481;file://c:\\Users\\krawc\\OneDrive\\Documents\\code\\pythons\\predictor\\.venv\\Lib\\site-packages\\soccerdata\\_common.py\u001b\\\u001b[2m_common.py\u001b[0m\u001b]8;;\u001b\\\u001b[2m:\u001b[0m\u001b]8;id=888623;file://c:\\Users\\krawc\\OneDrive\\Documents\\code\\pythons\\predictor\\.venv\\Lib\\site-packages\\soccerdata\\_common.py#89\u001b\\\u001b[2m89\u001b[0m\u001b]8;;\u001b\\\n"
      ]
     },
     "metadata": {},
     "output_type": "display_data"
    }
   ],
   "source": [
    "#football-data.co.uk\n",
    "seasons=list(range(19,23))\n",
    "mh = sd.MatchHistory(leagues=\"ENG-Premier League\", seasons=seasons)\n",
    "hist = mh.read_games()"
   ]
  },
  {
   "cell_type": "code",
   "execution_count": 44,
   "metadata": {},
   "outputs": [],
   "source": [
    "hist=apply_maping_on_history(hist,map_hist2fbref)\n",
    "\n",
    "# sc=['date', 'home_team', 'away_team','B365H', 'B365D', 'B365A','WHH', 'WHD', 'WHA','MaxH', 'MaxD', 'MaxA', 'AvgH', 'AvgD', 'AvgA',]\n",
    "# sel=hist[sc]\n",
    "\n",
    "apply_probs_form_odds(hist,['AvgH', 'AvgD', 'AvgA'])"
   ]
  },
  {
   "cell_type": "code",
   "execution_count": 45,
   "metadata": {},
   "outputs": [],
   "source": [
    "hist.to_csv('match_w_odds_1923.csv')"
   ]
  }
 ],
 "metadata": {
  "kernelspec": {
   "display_name": ".venv",
   "language": "python",
   "name": "python3"
  },
  "language_info": {
   "codemirror_mode": {
    "name": "ipython",
    "version": 3
   },
   "file_extension": ".py",
   "mimetype": "text/x-python",
   "name": "python",
   "nbconvert_exporter": "python",
   "pygments_lexer": "ipython3",
   "version": "3.11.0"
  }
 },
 "nbformat": 4,
 "nbformat_minor": 2
}
