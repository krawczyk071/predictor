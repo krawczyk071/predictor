{
 "cells": [
  {
   "cell_type": "code",
   "execution_count": null,
   "metadata": {},
   "outputs": [],
   "source": [
    "import pandas as pd\n",
    "import soccerdata as sd\n",
    "# https://fbref.com/en/comps/9/Premier-League-Stats\n",
    "team_stats = [\"standard\",\"keeper\",\"keeper_adv\",\"shooting\",\"passing\",\"passing_types\",\"goal_shot_creation\",\"defense\",\"possession\",\"playing_time\",\"misc\",]\n",
    "team_match_stats = [\"schedule\",\"shooting\",\"keeper\",\"passing\",\"passing_types\",\"goal_shot_creation\",\"defense\",\"possession\",\"misc\"]\n",
    "# fbref = sd.FBref(leagues=['ENG-Premier League'], seasons=['2122','2223'])\n",
    "ss=['1819', '1920', '2021', '2122', '2223']\n",
    "fbref = sd.FBref(leagues=['ENG-Premier League'], seasons=ss)\n"
   ]
  },
  {
   "cell_type": "code",
   "execution_count": null,
   "metadata": {},
   "outputs": [],
   "source": [
    "season_stats0 = fbref.read_team_season_stats(stat_type=team_stats[0])\n",
    "season_stats0"
   ]
  },
  {
   "cell_type": "code",
   "execution_count": null,
   "metadata": {},
   "outputs": [],
   "source": [
    "#0  \"standard\", xG PrgC PrgP, Gls Ast CrdY\n",
    "#1  \"keeper\",\"keeper_adv\", GA Saves ,PSxG,Launched_Att\n",
    "#3  \"shooting\", Sh SoT Dist FK \n",
    "#45  \"passing\",\"passing_types\", Cmp Att ShortAtt LongAtt TotDist PrgDist KP 1/3 PPA Sw CrsPA PrgP\n",
    "#6  \"goal_shot_creation\", SCA GCA SCA_TO(dribb) SCA_Def(press)\n",
    "#7  \"defense\", Tackles[Def3rd Mid3rd Att3rd TklW] Challenges(dribbl) ChallengesLost Blocks, Int Clr Err\n",
    "#8  \"possession\", Poss, Touches[Att 3rd] Take-Ons(dribbl)[Att] Carries[PrgC] Mis Dis Rec\n",
    "#9  \"playing_time\", \n",
    "#10  \"misc\", Fls Fld Off Crs Int TklW Recov Won Lost\n"
   ]
  },
  {
   "cell_type": "code",
   "execution_count": null,
   "metadata": {},
   "outputs": [],
   "source": [
    "season_stats1 = fbref.read_team_season_stats(stat_type=team_stats[1])\n",
    "season_stats2 = fbref.read_team_season_stats(stat_type=team_stats[2])\n",
    "season_stats3 = fbref.read_team_season_stats(stat_type=team_stats[3])\n",
    "season_stats4 = fbref.read_team_season_stats(stat_type=team_stats[4])\n",
    "season_stats5 = fbref.read_team_season_stats(stat_type=team_stats[5])\n",
    "season_stats6 = fbref.read_team_season_stats(stat_type=team_stats[6])\n",
    "season_stats7 = fbref.read_team_season_stats(stat_type=team_stats[7])\n",
    "season_stats8 = fbref.read_team_season_stats(stat_type=team_stats[8])\n",
    "\n",
    "season_stats10 = fbref.read_team_season_stats(stat_type=team_stats[10])\n"
   ]
  },
  {
   "cell_type": "code",
   "execution_count": null,
   "metadata": {},
   "outputs": [],
   "source": [
    "season_stats3opp = fbref.read_team_season_stats(stat_type=team_stats[3],opponent_stats=True)\n",
    "season_stats4opp = fbref.read_team_season_stats(stat_type=team_stats[4],opponent_stats=True)\n",
    "season_stats5opp = fbref.read_team_season_stats(stat_type=team_stats[5],opponent_stats=True)\n",
    "season_stats8opp = fbref.read_team_season_stats(stat_type=team_stats[8],opponent_stats=True)\n"
   ]
  },
  {
   "cell_type": "code",
   "execution_count": null,
   "metadata": {},
   "outputs": [],
   "source": [
    "t0=season_stats0.copy()\n",
    "t1=season_stats1.copy()\n",
    "t2=season_stats2.copy()\n",
    "t3=season_stats3.copy()\n",
    "t4=season_stats4.copy()\n",
    "t5=season_stats5.copy()\n",
    "t6=season_stats6.copy()\n",
    "t7=season_stats7.copy()\n",
    "t8=season_stats8.copy()\n",
    "t10=season_stats10.copy()\n",
    "t3opp=season_stats3opp.copy()\n",
    "t4opp=season_stats4opp.copy()\n",
    "t5opp=season_stats5opp.copy()\n",
    "t8opp=season_stats8opp.copy()\n"
   ]
  },
  {
   "cell_type": "code",
   "execution_count": null,
   "metadata": {},
   "outputs": [],
   "source": [
    "def clean0(t0:pd.DataFrame,keep_top_info=False):\n",
    "    t0=t0.droplevel(level=[0])\n",
    "    try:\n",
    "        t0=t0.drop('Per 90 Minutes', axis=1,level=0)\n",
    "    except:\n",
    "        pass\n",
    "    if keep_top_info:\n",
    "        t0.columns=[' '.join(col).strip() for col in t0.columns.values]\n",
    "    else:\n",
    "        t0.columns=pd.MultiIndex.from_tuples([col if col[1] else (col[0],col[0]) for col in t0.columns.values])\n",
    "        t0=t0.droplevel(level=[0],axis=1)\n",
    "    try:\n",
    "        t0=t0.drop('url',axis=1)\n",
    "    except:\n",
    "        pass\n",
    "    return t0\n",
    "# df.columns = [' '.join(col).strip() for col in df.columns.values]\n",
    "# shooting.columns=[col[1] if col[1] else col[0] for col in shooting.columns.values]\n",
    "\n"
   ]
  },
  {
   "cell_type": "code",
   "execution_count": null,
   "metadata": {},
   "outputs": [],
   "source": [
    "def fix_cols_sca(t6):\n",
    "    l0=t6.columns.get_level_values(0)\n",
    "    l1=t6.columns.get_level_values(1)\n",
    "    m0={ 'GCA':'', 'GCA Types':'GCA', 'SCA':'', 'SCA Types':'SCA','90s':'90s', 'players_used':'players_used', 'url':'url'}\n",
    "    l0=l0.map(m0)\n",
    "    t6.columns=pd.MultiIndex.from_arrays([l0,l1])\n",
    "    return t6\n"
   ]
  },
  {
   "cell_type": "code",
   "execution_count": null,
   "metadata": {},
   "outputs": [],
   "source": [
    "\n",
    "t1=clean0(t1)\n",
    "t1=t1.rename({'PKatt':'GPKatt'},axis=1)\n",
    "t1.columns = [*t1.columns[:-1], 'PKSave%']\n",
    "\n",
    "t2=t2['Expected'].droplevel(level=[0])\n",
    "t3=clean0(t3)\n",
    "t4=clean0(t4,keep_top_info=True)\n",
    "t4=t4.rename({'1/3':'P1/3'},axis=1)\n",
    "t5=clean0(t5)\n",
    "t5=t5.rename({'Att':'PAtt','Live':'PLive','FK':'PFK'},axis=1)\n",
    "fix_cols_sca(t6)\n",
    "t6=clean0(t6,keep_top_info=True)\n",
    "t7=clean0(t7,keep_top_info=True)\n",
    "t8=clean0(t8)\n",
    "t10=clean0(t10)\n",
    "\n",
    "t3opp=clean0(t3opp)\n",
    "t3opp.columns=['opp_'+x for x in t3opp.columns]\n",
    "t3opp.index=pd.MultiIndex.from_tuples([(x[0],x[1][3:]) for x in t3opp.index])\n",
    "t4opp=clean0(t4opp,keep_top_info=True)\n",
    "t4opp=t4opp.rename({'1/3':'P1/3'},axis=1)\n",
    "t4opp.columns=['opp_'+x for x in t4opp.columns]\n",
    "t4opp.index=pd.MultiIndex.from_tuples([(x[0],x[1][3:]) for x in t4opp.index])\n",
    "t5opp=clean0(t5opp)\n",
    "t5opp=t5opp.rename({'Att':'PAtt','Live':'PLive','FK':'PFK'},axis=1)\n",
    "t5opp.columns=['opp_'+x for x in t5opp.columns]\n",
    "t5opp.index=pd.MultiIndex.from_tuples([(x[0],x[1][3:]) for x in t5opp.index])\n",
    "t8opp=clean0(t8opp)\n",
    "t8opp.columns=['opp_'+x for x in t8opp.columns]\n",
    "t8opp.index=pd.MultiIndex.from_tuples([(x[0],x[1][3:]) for x in t8opp.index])\n"
   ]
  },
  {
   "cell_type": "code",
   "execution_count": null,
   "metadata": {},
   "outputs": [],
   "source": [
    "to_concat = [t1,t2,t3,t4,t5,t6,t7,t8,t10,t3opp,t4opp,t5opp,t8opp]\n",
    "df=pd.concat(to_concat,axis=1)\n",
    "df=df.loc[:,~df.columns.duplicated()].copy()"
   ]
  },
  {
   "cell_type": "code",
   "execution_count": null,
   "metadata": {},
   "outputs": [],
   "source": [
    "cnames=df.columns.value_counts()\n",
    "dcnames=cnames[cnames>1]\n",
    "to_drop=['players_used','90s']\n",
    "same=['Off','Crs','Int']\n",
    "notsame=['Att','Live','FK','PKatt','1/3','Save%']\n",
    "dcnames\n",
    "# df[dcnames.index]\n"
   ]
  },
  {
   "cell_type": "code",
   "execution_count": null,
   "metadata": {},
   "outputs": [],
   "source": [
    "df.to_csv(\"teams5sb.csv\")\n"
   ]
  },
  {
   "cell_type": "code",
   "execution_count": null,
   "metadata": {},
   "outputs": [],
   "source": [
    "# season_table = fbref.read_schedule()\n",
    "df"
   ]
  },
  {
   "cell_type": "code",
   "execution_count": null,
   "metadata": {},
   "outputs": [],
   "source": [
    "r=range(15,24)\n",
    "l1=list(r)\n",
    "l2=[(l1[i],l1[i+1]if i<8 else x) for i,x in enumerate(l1)]\n",
    "[str(x)+str(y) for x,y in l2][:-1]"
   ]
  }
 ],
 "metadata": {
  "kernelspec": {
   "display_name": ".venv",
   "language": "python",
   "name": "python3"
  },
  "language_info": {
   "codemirror_mode": {
    "name": "ipython",
    "version": 3
   },
   "file_extension": ".py",
   "mimetype": "text/x-python",
   "name": "python",
   "nbconvert_exporter": "python",
   "pygments_lexer": "ipython3",
   "version": "3.11.0"
  }
 },
 "nbformat": 4,
 "nbformat_minor": 2
}
