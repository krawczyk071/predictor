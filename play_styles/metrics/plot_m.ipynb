{
 "cells": [
  {
   "cell_type": "code",
   "execution_count": 1,
   "metadata": {},
   "outputs": [
    {
     "data": {
      "text/html": [
       "<div>\n",
       "<style scoped>\n",
       "    .dataframe tbody tr th:only-of-type {\n",
       "        vertical-align: middle;\n",
       "    }\n",
       "\n",
       "    .dataframe tbody tr th {\n",
       "        vertical-align: top;\n",
       "    }\n",
       "\n",
       "    .dataframe thead th {\n",
       "        text-align: right;\n",
       "    }\n",
       "</style>\n",
       "<table border=\"1\" class=\"dataframe\">\n",
       "  <thead>\n",
       "    <tr style=\"text-align: right;\">\n",
       "      <th></th>\n",
       "      <th>goalie</th>\n",
       "      <th>defs</th>\n",
       "      <th>mids</th>\n",
       "      <th>atks</th>\n",
       "      <th>offdeff</th>\n",
       "      <th>intensity</th>\n",
       "      <th>dirspeed</th>\n",
       "      <th>deads</th>\n",
       "      <th>press</th>\n",
       "      <th>contra</th>\n",
       "      <th>buildup</th>\n",
       "      <th>progress</th>\n",
       "      <th>carr</th>\n",
       "      <th>wings</th>\n",
       "      <th>agresive</th>\n",
       "      <th>deferror</th>\n",
       "      <th>offsucc</th>\n",
       "    </tr>\n",
       "  </thead>\n",
       "  <tbody>\n",
       "    <tr>\n",
       "      <th>Arsenal</th>\n",
       "      <td>0.55</td>\n",
       "      <td>0.900</td>\n",
       "      <td>0.800</td>\n",
       "      <td>0.950</td>\n",
       "      <td>1.00</td>\n",
       "      <td>0.80</td>\n",
       "      <td>0.10</td>\n",
       "      <td>0.10</td>\n",
       "      <td>0.95</td>\n",
       "      <td>0.45</td>\n",
       "      <td>0.85</td>\n",
       "      <td>0.90</td>\n",
       "      <td>0.20</td>\n",
       "      <td>0.15</td>\n",
       "      <td>0.70</td>\n",
       "      <td>0.15</td>\n",
       "      <td>0.85</td>\n",
       "    </tr>\n",
       "    <tr>\n",
       "      <th>Aston Villa</th>\n",
       "      <td>0.60</td>\n",
       "      <td>0.525</td>\n",
       "      <td>0.550</td>\n",
       "      <td>0.750</td>\n",
       "      <td>0.25</td>\n",
       "      <td>0.35</td>\n",
       "      <td>0.55</td>\n",
       "      <td>0.70</td>\n",
       "      <td>0.60</td>\n",
       "      <td>0.70</td>\n",
       "      <td>0.60</td>\n",
       "      <td>0.30</td>\n",
       "      <td>0.95</td>\n",
       "      <td>0.30</td>\n",
       "      <td>0.55</td>\n",
       "      <td>0.95</td>\n",
       "      <td>0.05</td>\n",
       "    </tr>\n",
       "    <tr>\n",
       "      <th>Bournemouth</th>\n",
       "      <td>0.35</td>\n",
       "      <td>0.200</td>\n",
       "      <td>0.150</td>\n",
       "      <td>0.575</td>\n",
       "      <td>0.10</td>\n",
       "      <td>0.15</td>\n",
       "      <td>0.50</td>\n",
       "      <td>0.90</td>\n",
       "      <td>0.05</td>\n",
       "      <td>0.50</td>\n",
       "      <td>0.30</td>\n",
       "      <td>0.05</td>\n",
       "      <td>0.85</td>\n",
       "      <td>0.90</td>\n",
       "      <td>0.05</td>\n",
       "      <td>0.70</td>\n",
       "      <td>0.15</td>\n",
       "    </tr>\n",
       "    <tr>\n",
       "      <th>Brentford</th>\n",
       "      <td>0.85</td>\n",
       "      <td>0.750</td>\n",
       "      <td>0.650</td>\n",
       "      <td>0.800</td>\n",
       "      <td>0.35</td>\n",
       "      <td>0.10</td>\n",
       "      <td>1.00</td>\n",
       "      <td>0.85</td>\n",
       "      <td>0.45</td>\n",
       "      <td>0.75</td>\n",
       "      <td>0.10</td>\n",
       "      <td>0.80</td>\n",
       "      <td>0.05</td>\n",
       "      <td>0.65</td>\n",
       "      <td>0.10</td>\n",
       "      <td>0.80</td>\n",
       "      <td>0.70</td>\n",
       "    </tr>\n",
       "    <tr>\n",
       "      <th>Brighton</th>\n",
       "      <td>0.10</td>\n",
       "      <td>0.700</td>\n",
       "      <td>0.950</td>\n",
       "      <td>0.350</td>\n",
       "      <td>0.80</td>\n",
       "      <td>0.85</td>\n",
       "      <td>0.25</td>\n",
       "      <td>0.20</td>\n",
       "      <td>0.90</td>\n",
       "      <td>0.90</td>\n",
       "      <td>0.90</td>\n",
       "      <td>0.70</td>\n",
       "      <td>0.30</td>\n",
       "      <td>0.20</td>\n",
       "      <td>0.50</td>\n",
       "      <td>0.50</td>\n",
       "      <td>0.75</td>\n",
       "    </tr>\n",
       "    <tr>\n",
       "      <th>Chelsea</th>\n",
       "      <td>0.75</td>\n",
       "      <td>0.525</td>\n",
       "      <td>0.500</td>\n",
       "      <td>0.100</td>\n",
       "      <td>0.75</td>\n",
       "      <td>0.90</td>\n",
       "      <td>0.15</td>\n",
       "      <td>0.25</td>\n",
       "      <td>0.85</td>\n",
       "      <td>0.40</td>\n",
       "      <td>0.95</td>\n",
       "      <td>0.35</td>\n",
       "      <td>0.65</td>\n",
       "      <td>0.40</td>\n",
       "      <td>0.90</td>\n",
       "      <td>0.45</td>\n",
       "      <td>0.30</td>\n",
       "    </tr>\n",
       "    <tr>\n",
       "      <th>Crystal Palace</th>\n",
       "      <td>0.50</td>\n",
       "      <td>0.850</td>\n",
       "      <td>0.225</td>\n",
       "      <td>0.700</td>\n",
       "      <td>0.40</td>\n",
       "      <td>0.45</td>\n",
       "      <td>0.80</td>\n",
       "      <td>0.75</td>\n",
       "      <td>0.35</td>\n",
       "      <td>0.35</td>\n",
       "      <td>0.40</td>\n",
       "      <td>0.55</td>\n",
       "      <td>0.45</td>\n",
       "      <td>0.80</td>\n",
       "      <td>1.00</td>\n",
       "      <td>0.60</td>\n",
       "      <td>0.40</td>\n",
       "    </tr>\n",
       "    <tr>\n",
       "      <th>Everton</th>\n",
       "      <td>0.90</td>\n",
       "      <td>0.100</td>\n",
       "      <td>0.300</td>\n",
       "      <td>0.050</td>\n",
       "      <td>0.50</td>\n",
       "      <td>0.20</td>\n",
       "      <td>0.75</td>\n",
       "      <td>0.80</td>\n",
       "      <td>0.25</td>\n",
       "      <td>0.60</td>\n",
       "      <td>0.15</td>\n",
       "      <td>0.20</td>\n",
       "      <td>0.55</td>\n",
       "      <td>0.95</td>\n",
       "      <td>0.80</td>\n",
       "      <td>0.30</td>\n",
       "      <td>0.10</td>\n",
       "    </tr>\n",
       "    <tr>\n",
       "      <th>Fulham</th>\n",
       "      <td>0.95</td>\n",
       "      <td>0.250</td>\n",
       "      <td>0.350</td>\n",
       "      <td>0.850</td>\n",
       "      <td>0.60</td>\n",
       "      <td>0.55</td>\n",
       "      <td>0.30</td>\n",
       "      <td>0.60</td>\n",
       "      <td>0.55</td>\n",
       "      <td>0.25</td>\n",
       "      <td>0.20</td>\n",
       "      <td>0.60</td>\n",
       "      <td>0.80</td>\n",
       "      <td>0.60</td>\n",
       "      <td>0.95</td>\n",
       "      <td>0.85</td>\n",
       "      <td>0.60</td>\n",
       "    </tr>\n",
       "    <tr>\n",
       "      <th>Leeds United</th>\n",
       "      <td>0.15</td>\n",
       "      <td>0.050</td>\n",
       "      <td>0.400</td>\n",
       "      <td>0.450</td>\n",
       "      <td>0.70</td>\n",
       "      <td>0.40</td>\n",
       "      <td>0.95</td>\n",
       "      <td>0.95</td>\n",
       "      <td>0.80</td>\n",
       "      <td>0.15</td>\n",
       "      <td>0.55</td>\n",
       "      <td>0.95</td>\n",
       "      <td>0.15</td>\n",
       "      <td>0.45</td>\n",
       "      <td>0.45</td>\n",
       "      <td>1.00</td>\n",
       "      <td>0.50</td>\n",
       "    </tr>\n",
       "    <tr>\n",
       "      <th>Leicester City</th>\n",
       "      <td>0.20</td>\n",
       "      <td>0.300</td>\n",
       "      <td>0.600</td>\n",
       "      <td>0.575</td>\n",
       "      <td>0.20</td>\n",
       "      <td>0.65</td>\n",
       "      <td>0.70</td>\n",
       "      <td>0.45</td>\n",
       "      <td>0.30</td>\n",
       "      <td>0.65</td>\n",
       "      <td>0.75</td>\n",
       "      <td>0.10</td>\n",
       "      <td>0.35</td>\n",
       "      <td>0.10</td>\n",
       "      <td>0.20</td>\n",
       "      <td>0.55</td>\n",
       "      <td>0.55</td>\n",
       "    </tr>\n",
       "    <tr>\n",
       "      <th>Liverpool</th>\n",
       "      <td>1.00</td>\n",
       "      <td>0.600</td>\n",
       "      <td>0.900</td>\n",
       "      <td>0.650</td>\n",
       "      <td>0.85</td>\n",
       "      <td>0.95</td>\n",
       "      <td>0.45</td>\n",
       "      <td>0.15</td>\n",
       "      <td>1.00</td>\n",
       "      <td>0.85</td>\n",
       "      <td>0.70</td>\n",
       "      <td>0.75</td>\n",
       "      <td>0.10</td>\n",
       "      <td>0.35</td>\n",
       "      <td>0.15</td>\n",
       "      <td>0.25</td>\n",
       "      <td>1.00</td>\n",
       "    </tr>\n",
       "    <tr>\n",
       "      <th>Manchester City</th>\n",
       "      <td>0.45</td>\n",
       "      <td>1.000</td>\n",
       "      <td>1.000</td>\n",
       "      <td>1.000</td>\n",
       "      <td>0.95</td>\n",
       "      <td>1.00</td>\n",
       "      <td>0.05</td>\n",
       "      <td>0.05</td>\n",
       "      <td>0.70</td>\n",
       "      <td>0.55</td>\n",
       "      <td>1.00</td>\n",
       "      <td>0.15</td>\n",
       "      <td>0.60</td>\n",
       "      <td>0.05</td>\n",
       "      <td>0.30</td>\n",
       "      <td>0.05</td>\n",
       "      <td>0.95</td>\n",
       "    </tr>\n",
       "    <tr>\n",
       "      <th>Manchester Utd</th>\n",
       "      <td>0.65</td>\n",
       "      <td>0.650</td>\n",
       "      <td>0.750</td>\n",
       "      <td>0.150</td>\n",
       "      <td>0.65</td>\n",
       "      <td>0.75</td>\n",
       "      <td>0.40</td>\n",
       "      <td>0.30</td>\n",
       "      <td>0.65</td>\n",
       "      <td>1.00</td>\n",
       "      <td>0.80</td>\n",
       "      <td>0.65</td>\n",
       "      <td>0.40</td>\n",
       "      <td>0.25</td>\n",
       "      <td>0.85</td>\n",
       "      <td>0.10</td>\n",
       "      <td>0.65</td>\n",
       "    </tr>\n",
       "    <tr>\n",
       "      <th>Newcastle Utd</th>\n",
       "      <td>0.80</td>\n",
       "      <td>0.950</td>\n",
       "      <td>0.850</td>\n",
       "      <td>0.300</td>\n",
       "      <td>0.90</td>\n",
       "      <td>0.50</td>\n",
       "      <td>0.90</td>\n",
       "      <td>0.50</td>\n",
       "      <td>0.75</td>\n",
       "      <td>0.80</td>\n",
       "      <td>0.50</td>\n",
       "      <td>1.00</td>\n",
       "      <td>0.25</td>\n",
       "      <td>0.75</td>\n",
       "      <td>0.60</td>\n",
       "      <td>0.35</td>\n",
       "      <td>0.90</td>\n",
       "    </tr>\n",
       "    <tr>\n",
       "      <th>Nott'ham Forest</th>\n",
       "      <td>0.30</td>\n",
       "      <td>0.150</td>\n",
       "      <td>0.225</td>\n",
       "      <td>0.400</td>\n",
       "      <td>0.05</td>\n",
       "      <td>0.05</td>\n",
       "      <td>0.85</td>\n",
       "      <td>1.00</td>\n",
       "      <td>0.15</td>\n",
       "      <td>0.20</td>\n",
       "      <td>0.05</td>\n",
       "      <td>0.25</td>\n",
       "      <td>0.90</td>\n",
       "      <td>0.55</td>\n",
       "      <td>0.75</td>\n",
       "      <td>0.20</td>\n",
       "      <td>0.20</td>\n",
       "    </tr>\n",
       "    <tr>\n",
       "      <th>Southampton</th>\n",
       "      <td>0.05</td>\n",
       "      <td>0.350</td>\n",
       "      <td>0.100</td>\n",
       "      <td>0.500</td>\n",
       "      <td>0.45</td>\n",
       "      <td>0.30</td>\n",
       "      <td>0.60</td>\n",
       "      <td>0.65</td>\n",
       "      <td>0.40</td>\n",
       "      <td>0.30</td>\n",
       "      <td>0.45</td>\n",
       "      <td>0.45</td>\n",
       "      <td>1.00</td>\n",
       "      <td>0.85</td>\n",
       "      <td>0.65</td>\n",
       "      <td>0.75</td>\n",
       "      <td>0.45</td>\n",
       "    </tr>\n",
       "    <tr>\n",
       "      <th>Tottenham</th>\n",
       "      <td>0.25</td>\n",
       "      <td>0.800</td>\n",
       "      <td>0.700</td>\n",
       "      <td>0.900</td>\n",
       "      <td>0.30</td>\n",
       "      <td>0.70</td>\n",
       "      <td>0.20</td>\n",
       "      <td>0.35</td>\n",
       "      <td>0.20</td>\n",
       "      <td>0.95</td>\n",
       "      <td>0.65</td>\n",
       "      <td>0.40</td>\n",
       "      <td>0.70</td>\n",
       "      <td>0.50</td>\n",
       "      <td>0.40</td>\n",
       "      <td>0.65</td>\n",
       "      <td>0.80</td>\n",
       "    </tr>\n",
       "    <tr>\n",
       "      <th>West Ham</th>\n",
       "      <td>0.70</td>\n",
       "      <td>0.450</td>\n",
       "      <td>0.450</td>\n",
       "      <td>0.250</td>\n",
       "      <td>0.55</td>\n",
       "      <td>0.25</td>\n",
       "      <td>0.65</td>\n",
       "      <td>0.55</td>\n",
       "      <td>0.10</td>\n",
       "      <td>0.05</td>\n",
       "      <td>0.25</td>\n",
       "      <td>0.85</td>\n",
       "      <td>0.75</td>\n",
       "      <td>1.00</td>\n",
       "      <td>0.35</td>\n",
       "      <td>0.40</td>\n",
       "      <td>0.35</td>\n",
       "    </tr>\n",
       "    <tr>\n",
       "      <th>Wolves</th>\n",
       "      <td>0.40</td>\n",
       "      <td>0.400</td>\n",
       "      <td>0.050</td>\n",
       "      <td>0.200</td>\n",
       "      <td>0.15</td>\n",
       "      <td>0.60</td>\n",
       "      <td>0.35</td>\n",
       "      <td>0.40</td>\n",
       "      <td>0.50</td>\n",
       "      <td>0.10</td>\n",
       "      <td>0.35</td>\n",
       "      <td>0.50</td>\n",
       "      <td>0.50</td>\n",
       "      <td>0.70</td>\n",
       "      <td>0.25</td>\n",
       "      <td>0.90</td>\n",
       "      <td>0.25</td>\n",
       "    </tr>\n",
       "  </tbody>\n",
       "</table>\n",
       "</div>"
      ],
      "text/plain": [
       "                 goalie   defs   mids   atks  offdeff  intensity  dirspeed  \\\n",
       "Arsenal            0.55  0.900  0.800  0.950     1.00       0.80      0.10   \n",
       "Aston Villa        0.60  0.525  0.550  0.750     0.25       0.35      0.55   \n",
       "Bournemouth        0.35  0.200  0.150  0.575     0.10       0.15      0.50   \n",
       "Brentford          0.85  0.750  0.650  0.800     0.35       0.10      1.00   \n",
       "Brighton           0.10  0.700  0.950  0.350     0.80       0.85      0.25   \n",
       "Chelsea            0.75  0.525  0.500  0.100     0.75       0.90      0.15   \n",
       "Crystal Palace     0.50  0.850  0.225  0.700     0.40       0.45      0.80   \n",
       "Everton            0.90  0.100  0.300  0.050     0.50       0.20      0.75   \n",
       "Fulham             0.95  0.250  0.350  0.850     0.60       0.55      0.30   \n",
       "Leeds United       0.15  0.050  0.400  0.450     0.70       0.40      0.95   \n",
       "Leicester City     0.20  0.300  0.600  0.575     0.20       0.65      0.70   \n",
       "Liverpool          1.00  0.600  0.900  0.650     0.85       0.95      0.45   \n",
       "Manchester City    0.45  1.000  1.000  1.000     0.95       1.00      0.05   \n",
       "Manchester Utd     0.65  0.650  0.750  0.150     0.65       0.75      0.40   \n",
       "Newcastle Utd      0.80  0.950  0.850  0.300     0.90       0.50      0.90   \n",
       "Nott'ham Forest    0.30  0.150  0.225  0.400     0.05       0.05      0.85   \n",
       "Southampton        0.05  0.350  0.100  0.500     0.45       0.30      0.60   \n",
       "Tottenham          0.25  0.800  0.700  0.900     0.30       0.70      0.20   \n",
       "West Ham           0.70  0.450  0.450  0.250     0.55       0.25      0.65   \n",
       "Wolves             0.40  0.400  0.050  0.200     0.15       0.60      0.35   \n",
       "\n",
       "                 deads  press  contra  buildup  progress  carr  wings  \\\n",
       "Arsenal           0.10   0.95    0.45     0.85      0.90  0.20   0.15   \n",
       "Aston Villa       0.70   0.60    0.70     0.60      0.30  0.95   0.30   \n",
       "Bournemouth       0.90   0.05    0.50     0.30      0.05  0.85   0.90   \n",
       "Brentford         0.85   0.45    0.75     0.10      0.80  0.05   0.65   \n",
       "Brighton          0.20   0.90    0.90     0.90      0.70  0.30   0.20   \n",
       "Chelsea           0.25   0.85    0.40     0.95      0.35  0.65   0.40   \n",
       "Crystal Palace    0.75   0.35    0.35     0.40      0.55  0.45   0.80   \n",
       "Everton           0.80   0.25    0.60     0.15      0.20  0.55   0.95   \n",
       "Fulham            0.60   0.55    0.25     0.20      0.60  0.80   0.60   \n",
       "Leeds United      0.95   0.80    0.15     0.55      0.95  0.15   0.45   \n",
       "Leicester City    0.45   0.30    0.65     0.75      0.10  0.35   0.10   \n",
       "Liverpool         0.15   1.00    0.85     0.70      0.75  0.10   0.35   \n",
       "Manchester City   0.05   0.70    0.55     1.00      0.15  0.60   0.05   \n",
       "Manchester Utd    0.30   0.65    1.00     0.80      0.65  0.40   0.25   \n",
       "Newcastle Utd     0.50   0.75    0.80     0.50      1.00  0.25   0.75   \n",
       "Nott'ham Forest   1.00   0.15    0.20     0.05      0.25  0.90   0.55   \n",
       "Southampton       0.65   0.40    0.30     0.45      0.45  1.00   0.85   \n",
       "Tottenham         0.35   0.20    0.95     0.65      0.40  0.70   0.50   \n",
       "West Ham          0.55   0.10    0.05     0.25      0.85  0.75   1.00   \n",
       "Wolves            0.40   0.50    0.10     0.35      0.50  0.50   0.70   \n",
       "\n",
       "                 agresive  deferror  offsucc  \n",
       "Arsenal              0.70      0.15     0.85  \n",
       "Aston Villa          0.55      0.95     0.05  \n",
       "Bournemouth          0.05      0.70     0.15  \n",
       "Brentford            0.10      0.80     0.70  \n",
       "Brighton             0.50      0.50     0.75  \n",
       "Chelsea              0.90      0.45     0.30  \n",
       "Crystal Palace       1.00      0.60     0.40  \n",
       "Everton              0.80      0.30     0.10  \n",
       "Fulham               0.95      0.85     0.60  \n",
       "Leeds United         0.45      1.00     0.50  \n",
       "Leicester City       0.20      0.55     0.55  \n",
       "Liverpool            0.15      0.25     1.00  \n",
       "Manchester City      0.30      0.05     0.95  \n",
       "Manchester Utd       0.85      0.10     0.65  \n",
       "Newcastle Utd        0.60      0.35     0.90  \n",
       "Nott'ham Forest      0.75      0.20     0.20  \n",
       "Southampton          0.65      0.75     0.45  \n",
       "Tottenham            0.40      0.65     0.80  \n",
       "West Ham             0.35      0.40     0.35  \n",
       "Wolves               0.25      0.90     0.25  "
      ]
     },
     "execution_count": 1,
     "metadata": {},
     "output_type": "execute_result"
    }
   ],
   "source": [
    "import pandas as pd\n",
    "import matplotlib.pyplot as plt\n",
    "import seaborn as sns\n",
    "import numpy as np\n",
    "\n",
    "def import_files(newnum):\n",
    "    new_season = pd.read_csv(r\"C:\\Users\\krawc\\OneDrive\\Documents\\code\\pythons\\predictor\\data\\\\\"+f\"ranked_mets_{str(newnum)}.csv\", index_col=[0])\n",
    "    return new_season\n",
    "\n",
    "ranked=import_files(2223)\n",
    "ranked\n"
   ]
  },
  {
   "cell_type": "code",
   "execution_count": 2,
   "metadata": {},
   "outputs": [],
   "source": [
    "\n",
    "\n",
    "teamsA=['Arsenal','Tottenham','Manchester City','Chelsea']\n",
    "teamsB=['Newcastle Utd','Manchester Utd','Liverpool']\n",
    "teamsC=['Bournemouth','Southampton','West Ham' ]\n",
    "teamsD=['Leicester City', 'Everton', 'Brentford', 'Leeds United']\n",
    "\n",
    "\n",
    "tall=[\n",
    "'Manchester City','Chelsea','Arsenal','Manchester Utd','Brighton','Liverpool',\n",
    "'Tottenham','Leicester City','Wolves',\n",
    "'Newcastle Utd','Leeds United','Brentford',\n",
    "'West Ham','Fulham','Aston Villa',\n",
    "'Bournemouth','Everton','Southampton','Crystal Palace',\"Nott'ham Forest\",\n",
    "]\n",
    "\n",
    "\n",
    "quality=['defs','atks','mids','goalie',]\n",
    "\n",
    "style=[\n",
    "'agresive',\n",
    "'offdeff',\n",
    "'press',\n",
    "'intensity',\n",
    "'buildup',\n",
    "'progress',\n",
    "'contra',\n",
    "'carr',\n",
    "'deads',\n",
    "'dirspeed',\n",
    "'wings',\n",
    "]\n",
    "\n",
    "es=['deferror','offsucc']\n"
   ]
  },
  {
   "cell_type": "code",
   "execution_count": 3,
   "metadata": {},
   "outputs": [
    {
     "data": {
      "text/plain": [
       "<Axes: >"
      ]
     },
     "execution_count": 3,
     "metadata": {},
     "output_type": "execute_result"
    },
    {
     "data": {
      "image/png": "[encoded data removed]",
      "text/plain": [
       "<Figure size 2000x800 with 1 Axes>"
      ]
     },
     "metadata": {},
     "output_type": "display_data"
    }
   ],
   "source": [
    "fig = plt.subplots(figsize=(20, 8))\n",
    "sns.lineplot(data=ranked[style].transpose()[teamsA],estimator=None)"
   ]
  },
  {
   "cell_type": "code",
   "execution_count": 4,
   "metadata": {},
   "outputs": [
    {
     "data": {
      "text/html": [
       "<div>\n",
       "<style scoped>\n",
       "    .dataframe tbody tr th:only-of-type {\n",
       "        vertical-align: middle;\n",
       "    }\n",
       "\n",
       "    .dataframe tbody tr th {\n",
       "        vertical-align: top;\n",
       "    }\n",
       "\n",
       "    .dataframe thead th {\n",
       "        text-align: right;\n",
       "    }\n",
       "</style>\n",
       "<table border=\"1\" class=\"dataframe\">\n",
       "  <thead>\n",
       "    <tr style=\"text-align: right;\">\n",
       "      <th></th>\n",
       "      <th>index</th>\n",
       "      <th>variable</th>\n",
       "      <th>value</th>\n",
       "    </tr>\n",
       "  </thead>\n",
       "  <tbody>\n",
       "    <tr>\n",
       "      <th>0</th>\n",
       "      <td>Arsenal</td>\n",
       "      <td>goalie</td>\n",
       "      <td>0.55</td>\n",
       "    </tr>\n",
       "    <tr>\n",
       "      <th>5</th>\n",
       "      <td>Chelsea</td>\n",
       "      <td>goalie</td>\n",
       "      <td>0.75</td>\n",
       "    </tr>\n",
       "    <tr>\n",
       "      <th>12</th>\n",
       "      <td>Manchester City</td>\n",
       "      <td>goalie</td>\n",
       "      <td>0.45</td>\n",
       "    </tr>\n",
       "    <tr>\n",
       "      <th>17</th>\n",
       "      <td>Tottenham</td>\n",
       "      <td>goalie</td>\n",
       "      <td>0.25</td>\n",
       "    </tr>\n",
       "    <tr>\n",
       "      <th>20</th>\n",
       "      <td>Arsenal</td>\n",
       "      <td>defs</td>\n",
       "      <td>0.90</td>\n",
       "    </tr>\n",
       "    <tr>\n",
       "      <th>...</th>\n",
       "      <td>...</td>\n",
       "      <td>...</td>\n",
       "      <td>...</td>\n",
       "    </tr>\n",
       "    <tr>\n",
       "      <th>317</th>\n",
       "      <td>Tottenham</td>\n",
       "      <td>deferror</td>\n",
       "      <td>0.65</td>\n",
       "    </tr>\n",
       "    <tr>\n",
       "      <th>320</th>\n",
       "      <td>Arsenal</td>\n",
       "      <td>offsucc</td>\n",
       "      <td>0.85</td>\n",
       "    </tr>\n",
       "    <tr>\n",
       "      <th>325</th>\n",
       "      <td>Chelsea</td>\n",
       "      <td>offsucc</td>\n",
       "      <td>0.30</td>\n",
       "    </tr>\n",
       "    <tr>\n",
       "      <th>332</th>\n",
       "      <td>Manchester City</td>\n",
       "      <td>offsucc</td>\n",
       "      <td>0.95</td>\n",
       "    </tr>\n",
       "    <tr>\n",
       "      <th>337</th>\n",
       "      <td>Tottenham</td>\n",
       "      <td>offsucc</td>\n",
       "      <td>0.80</td>\n",
       "    </tr>\n",
       "  </tbody>\n",
       "</table>\n",
       "<p>68 rows × 3 columns</p>\n",
       "</div>"
      ],
      "text/plain": [
       "               index  variable  value\n",
       "0            Arsenal    goalie   0.55\n",
       "5            Chelsea    goalie   0.75\n",
       "12   Manchester City    goalie   0.45\n",
       "17         Tottenham    goalie   0.25\n",
       "20           Arsenal      defs   0.90\n",
       "..               ...       ...    ...\n",
       "317        Tottenham  deferror   0.65\n",
       "320          Arsenal   offsucc   0.85\n",
       "325          Chelsea   offsucc   0.30\n",
       "332  Manchester City   offsucc   0.95\n",
       "337        Tottenham   offsucc   0.80\n",
       "\n",
       "[68 rows x 3 columns]"
      ]
     },
     "execution_count": 4,
     "metadata": {},
     "output_type": "execute_result"
    }
   ],
   "source": [
    "data=ranked.reset_index()\n",
    "\n",
    "data=pd.melt(data, id_vars=data.columns[0], value_vars=data.columns[1:])\n",
    "\n",
    "data1=data[data['index'].isin(teamsA)]\n",
    "data2=data[data['variable'].isin(['goalie','defs','mids','atks'])]\n",
    "data1"
   ]
  },
  {
   "cell_type": "code",
   "execution_count": 5,
   "metadata": {},
   "outputs": [
    {
     "data": {
      "text/plain": [
       "<Axes: xlabel='variable', ylabel='value'>"
      ]
     },
     "execution_count": 5,
     "metadata": {},
     "output_type": "execute_result"
    },
    {
     "data": {
      "image/png": "[encoded data removed]",
      "text/plain": [
       "<Figure size 2000x800 with 1 Axes>"
      ]
     },
     "metadata": {},
     "output_type": "display_data"
    }
   ],
   "source": [
    "fig = plt.subplots(figsize=(20, 8))\n",
    "sns.barplot(data=data1,x='variable',y='value',hue='index')"
   ]
  },
  {
   "cell_type": "code",
   "execution_count": 6,
   "metadata": {},
   "outputs": [
    {
     "data": {
      "text/plain": [
       "<Axes: xlabel='variable', ylabel='value'>"
      ]
     },
     "execution_count": 6,
     "metadata": {},
     "output_type": "execute_result"
    },
    {
     "data": {
      "image/png": "[encoded data removed]",
      "text/plain": [
       "<Figure size 2000x800 with 1 Axes>"
      ]
     },
     "metadata": {},
     "output_type": "display_data"
    }
   ],
   "source": [
    "fig = plt.subplots(figsize=(20, 8))\n",
    "sns.barplot(data=data2,x='variable',y='value',hue='index',palette=\"Paired\")"
   ]
  },
  {
   "cell_type": "code",
   "execution_count": 7,
   "metadata": {},
   "outputs": [],
   "source": [
    "data=ranked.reset_index()\n",
    "\n",
    "data=pd.melt(data, id_vars=data.columns[0], value_vars=data.columns[1:])\n",
    "data=data[data['index'].isin(teamsD)]\n"
   ]
  },
  {
   "cell_type": "code",
   "execution_count": 8,
   "metadata": {},
   "outputs": [
    {
     "data": {
      "text/plain": [
       "<Axes: xlabel='variable', ylabel='value'>"
      ]
     },
     "execution_count": 8,
     "metadata": {},
     "output_type": "execute_result"
    },
    {
     "data": {
      "image/png": "[encoded data removed]",
      "text/plain": [
       "<Figure size 2000x800 with 1 Axes>"
      ]
     },
     "metadata": {},
     "output_type": "display_data"
    }
   ],
   "source": [
    "fig = plt.subplots(figsize=(20, 8))\n",
    "sns.barplot(data=data,x='variable',y='value',hue='index')"
   ]
  },
  {
   "cell_type": "code",
   "execution_count": 9,
   "metadata": {},
   "outputs": [],
   "source": [
    "import plotly.graph_objects as go\n",
    "from plotly.subplots import make_subplots\n",
    "\n",
    "def to_polar(df,team,cols):\n",
    "    df1=df.loc[team][cols].to_frame().reset_index()\n",
    "    df1.columns=['theta','r']\n",
    "    name=team\n",
    "    tr=go.Scatterpolar(r=df1.r, theta=df1.theta,fill='toself',name=name)\n",
    "    return name,df1,tr\n",
    "\n",
    "n1,df1,tr1=to_polar(ranked,'Arsenal',style)\n",
    "n2,df2,tr2=to_polar(ranked,'Chelsea',style)\n"
   ]
  },
  {
   "cell_type": "code",
   "execution_count": 10,
   "metadata": {},
   "outputs": [
    {
     "data": {
      "application/vnd.plotly.v1+json": {
       "config": {
        "plotlyServerURL": "https://plot.ly"
       },
       "data": [
        {
         "fill": "toself",
         "name": "Arsenal",
         "r": [
          0.7,
          1,
          0.95,
          0.8,
          0.85,
          0.9,
          0.45,
          0.2,
          0.1,
          0.1,
          0.15
         ],
         "theta": [
          "agresive",
          "offdeff",
          "press",
          "intensity",
          "buildup",
          "progress",
          "contra",
          "carr",
          "deads",
          "dirspeed",
          "wings"
         ],
         "type": "scatterpolar"
        },
        {
         "fill": "toself",
         "name": "Tottenham",
         "r": [
          0.4,
          0.3,
          0.2,
          0.7,
          0.65,
          0.4,
          0.95,
          0.7,
          0.35,
          0.2,
          0.5
         ],
         "theta": [
          "agresive",
          "offdeff",
          "press",
          "intensity",
          "buildup",
          "progress",
          "contra",
          "carr",
          "deads",
          "dirspeed",
          "wings"
         ],
         "type": "scatterpolar"
        }
       ],
       "layout": {
        "polar": {
         "radialaxis": {
          "visible": false
         }
        },
        "showlegend": true,
        "template": {
         "data": {
          "bar": [
           {
            "error_x": {
             "color": "#2a3f5f"
            },
            "error_y": {
             "color": "#2a3f5f"
            },
            "marker": {
             "line": {
              "color": "#E5ECF6",
              "width": 0.5
             },
             "pattern": {
              "fillmode": "overlay",
              "size": 10,
              "solidity": 0.2
             }
            },
            "type": "bar"
           }
          ],
          "barpolar": [
           {
            "marker": {
             "line": {
              "color": "#E5ECF6",
              "width": 0.5
             },
             "pattern": {
              "fillmode": "overlay",
              "size": 10,
              "solidity": 0.2
             }
            },
            "type": "barpolar"
           }
          ],
          "carpet": [
           {
            "aaxis": {
             "endlinecolor": "#2a3f5f",
             "gridcolor": "white",
             "linecolor": "white",
             "minorgridcolor": "white",
             "startlinecolor": "#2a3f5f"
            },
            "baxis": {
             "endlinecolor": "#2a3f5f",
             "gridcolor": "white",
             "linecolor": "white",
             "minorgridcolor": "white",
             "startlinecolor": "#2a3f5f"
            },
            "type": "carpet"
           }
          ],
          "choropleth": [
           {
            "colorbar": {
             "outlinewidth": 0,
             "ticks": ""
            },
            "type": "choropleth"
           }
          ],
          "contour": [
           {
            "colorbar": {
             "outlinewidth": 0,
             "ticks": ""
            },
            "colorscale": [
             [
              0,
              "#0d0887"
             ],
             [
              0.1111111111111111,
              "#46039f"
             ],
             [
              0.2222222222222222,
              "#7201a8"
             ],
             [
              0.3333333333333333,
              "#9c179e"
             ],
             [
              0.4444444444444444,
              "#bd3786"
             ],
             [
              0.5555555555555556,
              "#d8576b"
             ],
             [
              0.6666666666666666,
              "#ed7953"
             ],
             [
              0.7777777777777778,
              "#fb9f3a"
             ],
             [
              0.8888888888888888,
              "#fdca26"
             ],
             [
              1,
              "#f0f921"
             ]
            ],
            "type": "contour"
           }
          ],
          "contourcarpet": [
           {
            "colorbar": {
             "outlinewidth": 0,
             "ticks": ""
            },
            "type": "contourcarpet"
           }
          ],
          "heatmap": [
           {
            "colorbar": {
             "outlinewidth": 0,
             "ticks": ""
            },
            "colorscale": [
             [
              0,
              "#0d0887"
             ],
             [
              0.1111111111111111,
              "#46039f"
             ],
             [
              0.2222222222222222,
              "#7201a8"
             ],
             [
              0.3333333333333333,
              "#9c179e"
             ],
             [
              0.4444444444444444,
              "#bd3786"
             ],
             [
              0.5555555555555556,
              "#d8576b"
             ],
             [
              0.6666666666666666,
              "#ed7953"
             ],
             [
              0.7777777777777778,
              "#fb9f3a"
             ],
             [
              0.8888888888888888,
              "#fdca26"
             ],
             [
              1,
              "#f0f921"
             ]
            ],
            "type": "heatmap"
           }
          ],
          "heatmapgl": [
           {
            "colorbar": {
             "outlinewidth": 0,
             "ticks": ""
            },
            "colorscale": [
             [
              0,
              "#0d0887"
             ],
             [
              0.1111111111111111,
              "#46039f"
             ],
             [
              0.2222222222222222,
              "#7201a8"
             ],
             [
              0.3333333333333333,
              "#9c179e"
             ],
             [
              0.4444444444444444,
              "#bd3786"
             ],
             [
              0.5555555555555556,
              "#d8576b"
             ],
             [
              0.6666666666666666,
              "#ed7953"
             ],
             [
              0.7777777777777778,
              "#fb9f3a"
             ],
             [
              0.8888888888888888,
              "#fdca26"
             ],
             [
              1,
              "#f0f921"
             ]
            ],
            "type": "heatmapgl"
           }
          ],
          "histogram": [
           {
            "marker": {
             "pattern": {
              "fillmode": "overlay",
              "size": 10,
              "solidity": 0.2
             }
            },
            "type": "histogram"
           }
          ],
          "histogram2d": [
           {
            "colorbar": {
             "outlinewidth": 0,
             "ticks": ""
            },
            "colorscale": [
             [
              0,
              "#0d0887"
             ],
             [
              0.1111111111111111,
              "#46039f"
             ],
             [
              0.2222222222222222,
              "#7201a8"
             ],
             [
              0.3333333333333333,
              "#9c179e"
             ],
             [
              0.4444444444444444,
              "#bd3786"
             ],
             [
              0.5555555555555556,
              "#d8576b"
             ],
             [
              0.6666666666666666,
              "#ed7953"
             ],
             [
              0.7777777777777778,
              "#fb9f3a"
             ],
             [
              0.8888888888888888,
              "#fdca26"
             ],
             [
              1,
              "#f0f921"
             ]
            ],
            "type": "histogram2d"
           }
          ],
          "histogram2dcontour": [
           {
            "colorbar": {
             "outlinewidth": 0,
             "ticks": ""
            },
            "colorscale": [
             [
              0,
              "#0d0887"
             ],
             [
              0.1111111111111111,
              "#46039f"
             ],
             [
              0.2222222222222222,
              "#7201a8"
             ],
             [
              0.3333333333333333,
              "#9c179e"
             ],
             [
              0.4444444444444444,
              "#bd3786"
             ],
             [
              0.5555555555555556,
              "#d8576b"
             ],
             [
              0.6666666666666666,
              "#ed7953"
             ],
             [
              0.7777777777777778,
              "#fb9f3a"
             ],
             [
              0.8888888888888888,
              "#fdca26"
             ],
             [
              1,
              "#f0f921"
             ]
            ],
            "type": "histogram2dcontour"
           }
          ],
          "mesh3d": [
           {
            "colorbar": {
             "outlinewidth": 0,
             "ticks": ""
            },
            "type": "mesh3d"
           }
          ],
          "parcoords": [
           {
            "line": {
             "colorbar": {
              "outlinewidth": 0,
              "ticks": ""
             }
            },
            "type": "parcoords"
           }
          ],
          "pie": [
           {
            "automargin": true,
            "type": "pie"
           }
          ],
          "scatter": [
           {
            "fillpattern": {
             "fillmode": "overlay",
             "size": 10,
             "solidity": 0.2
            },
            "type": "scatter"
           }
          ],
          "scatter3d": [
           {
            "line": {
             "colorbar": {
              "outlinewidth": 0,
              "ticks": ""
             }
            },
            "marker": {
             "colorbar": {
              "outlinewidth": 0,
              "ticks": ""
             }
            },
            "type": "scatter3d"
           }
          ],
          "scattercarpet": [
           {
            "marker": {
             "colorbar": {
              "outlinewidth": 0,
              "ticks": ""
             }
            },
            "type": "scattercarpet"
           }
          ],
          "scattergeo": [
           {
            "marker": {
             "colorbar": {
              "outlinewidth": 0,
              "ticks": ""
             }
            },
            "type": "scattergeo"
           }
          ],
          "scattergl": [
           {
            "marker": {
             "colorbar": {
              "outlinewidth": 0,
              "ticks": ""
             }
            },
            "type": "scattergl"
           }
          ],
          "scattermapbox": [
           {
            "marker": {
             "colorbar": {
              "outlinewidth": 0,
              "ticks": ""
             }
            },
            "type": "scattermapbox"
           }
          ],
          "scatterpolar": [
           {
            "marker": {
             "colorbar": {
              "outlinewidth": 0,
              "ticks": ""
             }
            },
            "type": "scatterpolar"
           }
          ],
          "scatterpolargl": [
           {
            "marker": {
             "colorbar": {
              "outlinewidth": 0,
              "ticks": ""
             }
            },
            "type": "scatterpolargl"
           }
          ],
          "scatterternary": [
           {
            "marker": {
             "colorbar": {
              "outlinewidth": 0,
              "ticks": ""
             }
            },
            "type": "scatterternary"
           }
          ],
          "surface": [
           {
            "colorbar": {
             "outlinewidth": 0,
             "ticks": ""
            },
            "colorscale": [
             [
              0,
              "#0d0887"
             ],
             [
              0.1111111111111111,
              "#46039f"
             ],
             [
              0.2222222222222222,
              "#7201a8"
             ],
             [
              0.3333333333333333,
              "#9c179e"
             ],
             [
              0.4444444444444444,
              "#bd3786"
             ],
             [
              0.5555555555555556,
              "#d8576b"
             ],
             [
              0.6666666666666666,
              "#ed7953"
             ],
             [
              0.7777777777777778,
              "#fb9f3a"
             ],
             [
              0.8888888888888888,
              "#fdca26"
             ],
             [
              1,
              "#f0f921"
             ]
            ],
            "type": "surface"
           }
          ],
          "table": [
           {
            "cells": {
             "fill": {
              "color": "#EBF0F8"
             },
             "line": {
              "color": "white"
             }
            },
            "header": {
             "fill": {
              "color": "#C8D4E3"
             },
             "line": {
              "color": "white"
             }
            },
            "type": "table"
           }
          ]
         },
         "layout": {
          "annotationdefaults": {
           "arrowcolor": "#2a3f5f",
           "arrowhead": 0,
           "arrowwidth": 1
          },
          "autotypenumbers": "strict",
          "coloraxis": {
           "colorbar": {
            "outlinewidth": 0,
            "ticks": ""
           }
          },
          "colorscale": {
           "diverging": [
            [
             0,
             "#8e0152"
            ],
            [
             0.1,
             "#c51b7d"
            ],
            [
             0.2,
             "#de77ae"
            ],
            [
             0.3,
             "#f1b6da"
            ],
            [
             0.4,
             "#fde0ef"
            ],
            [
             0.5,
             "#f7f7f7"
            ],
            [
             0.6,
             "#e6f5d0"
            ],
            [
             0.7,
             "#b8e186"
            ],
            [
             0.8,
             "#7fbc41"
            ],
            [
             0.9,
             "#4d9221"
            ],
            [
             1,
             "#276419"
            ]
           ],
           "sequential": [
            [
             0,
             "#0d0887"
            ],
            [
             0.1111111111111111,
             "#46039f"
            ],
            [
             0.2222222222222222,
             "#7201a8"
            ],
            [
             0.3333333333333333,
             "#9c179e"
            ],
            [
             0.4444444444444444,
             "#bd3786"
            ],
            [
             0.5555555555555556,
             "#d8576b"
            ],
            [
             0.6666666666666666,
             "#ed7953"
            ],
            [
             0.7777777777777778,
             "#fb9f3a"
            ],
            [
             0.8888888888888888,
             "#fdca26"
            ],
            [
             1,
             "#f0f921"
            ]
           ],
           "sequentialminus": [
            [
             0,
             "#0d0887"
            ],
            [
             0.1111111111111111,
             "#46039f"
            ],
            [
             0.2222222222222222,
             "#7201a8"
            ],
            [
             0.3333333333333333,
             "#9c179e"
            ],
            [
             0.4444444444444444,
             "#bd3786"
            ],
            [
             0.5555555555555556,
             "#d8576b"
            ],
            [
             0.6666666666666666,
             "#ed7953"
            ],
            [
             0.7777777777777778,
             "#fb9f3a"
            ],
            [
             0.8888888888888888,
             "#fdca26"
            ],
            [
             1,
             "#f0f921"
            ]
           ]
          },
          "colorway": [
           "#636efa",
           "#EF553B",
           "#00cc96",
           "#ab63fa",
           "#FFA15A",
           "#19d3f3",
           "#FF6692",
           "#B6E880",
           "#FF97FF",
           "#FECB52"
          ],
          "font": {
           "color": "#2a3f5f"
          },
          "geo": {
           "bgcolor": "white",
           "lakecolor": "white",
           "landcolor": "#E5ECF6",
           "showlakes": true,
           "showland": true,
           "subunitcolor": "white"
          },
          "hoverlabel": {
           "align": "left"
          },
          "hovermode": "closest",
          "mapbox": {
           "style": "light"
          },
          "paper_bgcolor": "white",
          "plot_bgcolor": "#E5ECF6",
          "polar": {
           "angularaxis": {
            "gridcolor": "white",
            "linecolor": "white",
            "ticks": ""
           },
           "bgcolor": "#E5ECF6",
           "radialaxis": {
            "gridcolor": "white",
            "linecolor": "white",
            "ticks": ""
           }
          },
          "scene": {
           "xaxis": {
            "backgroundcolor": "#E5ECF6",
            "gridcolor": "white",
            "gridwidth": 2,
            "linecolor": "white",
            "showbackground": true,
            "ticks": "",
            "zerolinecolor": "white"
           },
           "yaxis": {
            "backgroundcolor": "#E5ECF6",
            "gridcolor": "white",
            "gridwidth": 2,
            "linecolor": "white",
            "showbackground": true,
            "ticks": "",
            "zerolinecolor": "white"
           },
           "zaxis": {
            "backgroundcolor": "#E5ECF6",
            "gridcolor": "white",
            "gridwidth": 2,
            "linecolor": "white",
            "showbackground": true,
            "ticks": "",
            "zerolinecolor": "white"
           }
          },
          "shapedefaults": {
           "line": {
            "color": "#2a3f5f"
           }
          },
          "ternary": {
           "aaxis": {
            "gridcolor": "white",
            "linecolor": "white",
            "ticks": ""
           },
           "baxis": {
            "gridcolor": "white",
            "linecolor": "white",
            "ticks": ""
           },
           "bgcolor": "#E5ECF6",
           "caxis": {
            "gridcolor": "white",
            "linecolor": "white",
            "ticks": ""
           }
          },
          "title": {
           "x": 0.05
          },
          "xaxis": {
           "automargin": true,
           "gridcolor": "white",
           "linecolor": "white",
           "ticks": "",
           "title": {
            "standoff": 15
           },
           "zerolinecolor": "white",
           "zerolinewidth": 2
          },
          "yaxis": {
           "automargin": true,
           "gridcolor": "white",
           "linecolor": "white",
           "ticks": "",
           "title": {
            "standoff": 15
           },
           "zerolinecolor": "white",
           "zerolinewidth": 2
          }
         }
        }
       }
      }
     },
     "metadata": {},
     "output_type": "display_data"
    }
   ],
   "source": [
    "fig = go.Figure()\n",
    "for team in teamsA[:2]:\n",
    "    fig.add_trace(to_polar(ranked,team,style)[2])\n",
    "\n",
    "fig.update_layout(polar={'radialaxis':{'visible':False}},showlegend=True)\n",
    "fig.show()"
   ]
  },
  {
   "cell_type": "code",
   "execution_count": 11,
   "metadata": {},
   "outputs": [
    {
     "data": {
      "application/vnd.plotly.v1+json": {
       "config": {
        "plotlyServerURL": "https://plot.ly"
       },
       "data": [
        {
         "fill": "toself",
         "name": "Manchester City",
         "r": [
          0.3,
          0.95,
          0.7,
          1,
          1,
          0.15,
          0.55,
          0.6,
          0.05,
          0.05,
          0.05
         ],
         "subplot": "polar",
         "theta": [
          "agresive",
          "offdeff",
          "press",
          "intensity",
          "buildup",
          "progress",
          "contra",
          "carr",
          "deads",
          "dirspeed",
          "wings"
         ],
         "type": "scatterpolar"
        },
        {
         "fill": "toself",
         "name": "Chelsea",
         "r": [
          0.9,
          0.75,
          0.85,
          0.9,
          0.95,
          0.35,
          0.4,
          0.65,
          0.25,
          0.15,
          0.4
         ],
         "subplot": "polar2",
         "theta": [
          "agresive",
          "offdeff",
          "press",
          "intensity",
          "buildup",
          "progress",
          "contra",
          "carr",
          "deads",
          "dirspeed",
          "wings"
         ],
         "type": "scatterpolar"
        },
        {
         "fill": "toself",
         "name": "Arsenal",
         "r": [
          0.7,
          1,
          0.95,
          0.8,
          0.85,
          0.9,
          0.45,
          0.2,
          0.1,
          0.1,
          0.15
         ],
         "subplot": "polar3",
         "theta": [
          "agresive",
          "offdeff",
          "press",
          "intensity",
          "buildup",
          "progress",
          "contra",
          "carr",
          "deads",
          "dirspeed",
          "wings"
         ],
         "type": "scatterpolar"
        },
        {
         "fill": "toself",
         "name": "Manchester Utd",
         "r": [
          0.85,
          0.65,
          0.65,
          0.75,
          0.8,
          0.65,
          1,
          0.4,
          0.3,
          0.4,
          0.25
         ],
         "subplot": "polar4",
         "theta": [
          "agresive",
          "offdeff",
          "press",
          "intensity",
          "buildup",
          "progress",
          "contra",
          "carr",
          "deads",
          "dirspeed",
          "wings"
         ],
         "type": "scatterpolar"
        },
        {
         "fill": "toself",
         "name": "Brighton",
         "r": [
          0.5,
          0.8,
          0.9,
          0.85,
          0.9,
          0.7,
          0.9,
          0.3,
          0.2,
          0.25,
          0.2
         ],
         "subplot": "polar5",
         "theta": [
          "agresive",
          "offdeff",
          "press",
          "intensity",
          "buildup",
          "progress",
          "contra",
          "carr",
          "deads",
          "dirspeed",
          "wings"
         ],
         "type": "scatterpolar"
        },
        {
         "fill": "toself",
         "name": "Liverpool",
         "r": [
          0.15,
          0.85,
          1,
          0.95,
          0.7,
          0.75,
          0.85,
          0.1,
          0.15,
          0.45,
          0.35
         ],
         "subplot": "polar6",
         "theta": [
          "agresive",
          "offdeff",
          "press",
          "intensity",
          "buildup",
          "progress",
          "contra",
          "carr",
          "deads",
          "dirspeed",
          "wings"
         ],
         "type": "scatterpolar"
        },
        {
         "fill": "toself",
         "name": "Tottenham",
         "r": [
          0.4,
          0.3,
          0.2,
          0.7,
          0.65,
          0.4,
          0.95,
          0.7,
          0.35,
          0.2,
          0.5
         ],
         "subplot": "polar7",
         "theta": [
          "agresive",
          "offdeff",
          "press",
          "intensity",
          "buildup",
          "progress",
          "contra",
          "carr",
          "deads",
          "dirspeed",
          "wings"
         ],
         "type": "scatterpolar"
        },
        {
         "fill": "toself",
         "name": "Leicester City",
         "r": [
          0.2,
          0.2,
          0.3,
          0.65,
          0.75,
          0.1,
          0.65,
          0.35,
          0.45,
          0.7,
          0.1
         ],
         "subplot": "polar8",
         "theta": [
          "agresive",
          "offdeff",
          "press",
          "intensity",
          "buildup",
          "progress",
          "contra",
          "carr",
          "deads",
          "dirspeed",
          "wings"
         ],
         "type": "scatterpolar"
        },
        {
         "fill": "toself",
         "name": "Wolves",
         "r": [
          0.25,
          0.15,
          0.5,
          0.6,
          0.35,
          0.5,
          0.1,
          0.5,
          0.4,
          0.35,
          0.7
         ],
         "subplot": "polar9",
         "theta": [
          "agresive",
          "offdeff",
          "press",
          "intensity",
          "buildup",
          "progress",
          "contra",
          "carr",
          "deads",
          "dirspeed",
          "wings"
         ],
         "type": "scatterpolar"
        },
        {
         "fill": "toself",
         "name": "Newcastle Utd",
         "r": [
          0.6,
          0.9,
          0.75,
          0.5,
          0.5,
          1,
          0.8,
          0.25,
          0.5,
          0.9,
          0.75
         ],
         "subplot": "polar10",
         "theta": [
          "agresive",
          "offdeff",
          "press",
          "intensity",
          "buildup",
          "progress",
          "contra",
          "carr",
          "deads",
          "dirspeed",
          "wings"
         ],
         "type": "scatterpolar"
        },
        {
         "fill": "toself",
         "name": "Leeds United",
         "r": [
          0.45,
          0.7,
          0.8,
          0.4,
          0.55,
          0.95,
          0.15,
          0.15,
          0.95,
          0.95,
          0.45
         ],
         "subplot": "polar11",
         "theta": [
          "agresive",
          "offdeff",
          "press",
          "intensity",
          "buildup",
          "progress",
          "contra",
          "carr",
          "deads",
          "dirspeed",
          "wings"
         ],
         "type": "scatterpolar"
        },
        {
         "fill": "toself",
         "name": "Brentford",
         "r": [
          0.1,
          0.35,
          0.45,
          0.1,
          0.1,
          0.8,
          0.75,
          0.05,
          0.85,
          1,
          0.65
         ],
         "subplot": "polar12",
         "theta": [
          "agresive",
          "offdeff",
          "press",
          "intensity",
          "buildup",
          "progress",
          "contra",
          "carr",
          "deads",
          "dirspeed",
          "wings"
         ],
         "type": "scatterpolar"
        },
        {
         "fill": "toself",
         "name": "West Ham",
         "r": [
          0.35,
          0.55,
          0.1,
          0.25,
          0.25,
          0.85,
          0.05,
          0.75,
          0.55,
          0.65,
          1
         ],
         "subplot": "polar13",
         "theta": [
          "agresive",
          "offdeff",
          "press",
          "intensity",
          "buildup",
          "progress",
          "contra",
          "carr",
          "deads",
          "dirspeed",
          "wings"
         ],
         "type": "scatterpolar"
        },
        {
         "fill": "toself",
         "name": "Fulham",
         "r": [
          0.95,
          0.6,
          0.55,
          0.55,
          0.2,
          0.6,
          0.25,
          0.8,
          0.6,
          0.3,
          0.6
         ],
         "subplot": "polar14",
         "theta": [
          "agresive",
          "offdeff",
          "press",
          "intensity",
          "buildup",
          "progress",
          "contra",
          "carr",
          "deads",
          "dirspeed",
          "wings"
         ],
         "type": "scatterpolar"
        },
        {
         "fill": "toself",
         "name": "Aston Villa",
         "r": [
          0.55,
          0.25,
          0.6,
          0.35,
          0.6,
          0.3,
          0.7,
          0.95,
          0.7,
          0.55,
          0.3
         ],
         "subplot": "polar15",
         "theta": [
          "agresive",
          "offdeff",
          "press",
          "intensity",
          "buildup",
          "progress",
          "contra",
          "carr",
          "deads",
          "dirspeed",
          "wings"
         ],
         "type": "scatterpolar"
        },
        {
         "fill": "toself",
         "name": "Bournemouth",
         "r": [
          0.05,
          0.1,
          0.05,
          0.15,
          0.3,
          0.05,
          0.5,
          0.85,
          0.9,
          0.5,
          0.9
         ],
         "subplot": "polar16",
         "theta": [
          "agresive",
          "offdeff",
          "press",
          "intensity",
          "buildup",
          "progress",
          "contra",
          "carr",
          "deads",
          "dirspeed",
          "wings"
         ],
         "type": "scatterpolar"
        },
        {
         "fill": "toself",
         "name": "Everton",
         "r": [
          0.8,
          0.5,
          0.25,
          0.2,
          0.15,
          0.2,
          0.6,
          0.55,
          0.8,
          0.75,
          0.95
         ],
         "subplot": "polar17",
         "theta": [
          "agresive",
          "offdeff",
          "press",
          "intensity",
          "buildup",
          "progress",
          "contra",
          "carr",
          "deads",
          "dirspeed",
          "wings"
         ],
         "type": "scatterpolar"
        },
        {
         "fill": "toself",
         "name": "Southampton",
         "r": [
          0.65,
          0.45,
          0.4,
          0.3,
          0.45,
          0.45,
          0.3,
          1,
          0.65,
          0.6,
          0.85
         ],
         "subplot": "polar18",
         "theta": [
          "agresive",
          "offdeff",
          "press",
          "intensity",
          "buildup",
          "progress",
          "contra",
          "carr",
          "deads",
          "dirspeed",
          "wings"
         ],
         "type": "scatterpolar"
        },
        {
         "fill": "toself",
         "name": "Crystal Palace",
         "r": [
          1,
          0.4,
          0.35,
          0.45,
          0.4,
          0.55,
          0.35,
          0.45,
          0.75,
          0.8,
          0.8
         ],
         "subplot": "polar19",
         "theta": [
          "agresive",
          "offdeff",
          "press",
          "intensity",
          "buildup",
          "progress",
          "contra",
          "carr",
          "deads",
          "dirspeed",
          "wings"
         ],
         "type": "scatterpolar"
        },
        {
         "fill": "toself",
         "name": "Nott'ham Forest",
         "r": [
          0.75,
          0.05,
          0.15,
          0.05,
          0.05,
          0.25,
          0.2,
          0.9,
          1,
          0.85,
          0.55
         ],
         "subplot": "polar20",
         "theta": [
          "agresive",
          "offdeff",
          "press",
          "intensity",
          "buildup",
          "progress",
          "contra",
          "carr",
          "deads",
          "dirspeed",
          "wings"
         ],
         "type": "scatterpolar"
        }
       ],
       "layout": {
        "autosize": false,
        "height": 1100,
        "polar": {
         "domain": {
          "x": [
           0,
           0.2888888888888889
          ],
          "y": [
           0.8938775510204082,
           1
          ]
         },
         "radialaxis": {
          "visible": false
         }
        },
        "polar10": {
         "domain": {
          "x": [
           0,
           0.2888888888888889
          ],
          "y": [
           0.4469387755102041,
           0.553061224489796
          ]
         }
        },
        "polar11": {
         "domain": {
          "x": [
           0.35555555555555557,
           0.6444444444444445
          ],
          "y": [
           0.4469387755102041,
           0.553061224489796
          ]
         }
        },
        "polar12": {
         "domain": {
          "x": [
           0.7111111111111111,
           1
          ],
          "y": [
           0.4469387755102041,
           0.553061224489796
          ]
         }
        },
        "polar13": {
         "domain": {
          "x": [
           0,
           0.2888888888888889
          ],
          "y": [
           0.2979591836734694,
           0.40408163265306124
          ]
         }
        },
        "polar14": {
         "domain": {
          "x": [
           0.35555555555555557,
           0.6444444444444445
          ],
          "y": [
           0.2979591836734694,
           0.40408163265306124
          ]
         }
        },
        "polar15": {
         "domain": {
          "x": [
           0.7111111111111111,
           1
          ],
          "y": [
           0.2979591836734694,
           0.40408163265306124
          ]
         }
        },
        "polar16": {
         "domain": {
          "x": [
           0,
           0.2888888888888889
          ],
          "y": [
           0.1489795918367347,
           0.25510204081632654
          ]
         }
        },
        "polar17": {
         "domain": {
          "x": [
           0.35555555555555557,
           0.6444444444444445
          ],
          "y": [
           0.1489795918367347,
           0.25510204081632654
          ]
         }
        },
        "polar18": {
         "domain": {
          "x": [
           0.7111111111111111,
           1
          ],
          "y": [
           0.1489795918367347,
           0.25510204081632654
          ]
         }
        },
        "polar19": {
         "domain": {
          "x": [
           0,
           0.2888888888888889
          ],
          "y": [
           0,
           0.10612244897959185
          ]
         }
        },
        "polar2": {
         "domain": {
          "x": [
           0.35555555555555557,
           0.6444444444444445
          ],
          "y": [
           0.8938775510204082,
           1
          ]
         }
        },
        "polar20": {
         "domain": {
          "x": [
           0.35555555555555557,
           0.6444444444444445
          ],
          "y": [
           0,
           0.10612244897959185
          ]
         }
        },
        "polar21": {
         "domain": {
          "x": [
           0.7111111111111111,
           1
          ],
          "y": [
           0,
           0.10612244897959185
          ]
         }
        },
        "polar3": {
         "domain": {
          "x": [
           0.7111111111111111,
           1
          ],
          "y": [
           0.8938775510204082,
           1
          ]
         }
        },
        "polar4": {
         "domain": {
          "x": [
           0,
           0.2888888888888889
          ],
          "y": [
           0.7448979591836735,
           0.8510204081632654
          ]
         }
        },
        "polar5": {
         "domain": {
          "x": [
           0.35555555555555557,
           0.6444444444444445
          ],
          "y": [
           0.7448979591836735,
           0.8510204081632654
          ]
         }
        },
        "polar6": {
         "domain": {
          "x": [
           0.7111111111111111,
           1
          ],
          "y": [
           0.7448979591836735,
           0.8510204081632654
          ]
         }
        },
        "polar7": {
         "domain": {
          "x": [
           0,
           0.2888888888888889
          ],
          "y": [
           0.5959183673469388,
           0.7020408163265307
          ]
         }
        },
        "polar8": {
         "domain": {
          "x": [
           0.35555555555555557,
           0.6444444444444445
          ],
          "y": [
           0.5959183673469388,
           0.7020408163265307
          ]
         }
        },
        "polar9": {
         "domain": {
          "x": [
           0.7111111111111111,
           1
          ],
          "y": [
           0.5959183673469388,
           0.7020408163265307
          ]
         }
        },
        "showlegend": true,
        "template": {
         "data": {
          "bar": [
           {
            "error_x": {
             "color": "#2a3f5f"
            },
            "error_y": {
             "color": "#2a3f5f"
            },
            "marker": {
             "line": {
              "color": "#E5ECF6",
              "width": 0.5
             },
             "pattern": {
              "fillmode": "overlay",
              "size": 10,
              "solidity": 0.2
             }
            },
            "type": "bar"
           }
          ],
          "barpolar": [
           {
            "marker": {
             "line": {
              "color": "#E5ECF6",
              "width": 0.5
             },
             "pattern": {
              "fillmode": "overlay",
              "size": 10,
              "solidity": 0.2
             }
            },
            "type": "barpolar"
           }
          ],
          "carpet": [
           {
            "aaxis": {
             "endlinecolor": "#2a3f5f",
             "gridcolor": "white",
             "linecolor": "white",
             "minorgridcolor": "white",
             "startlinecolor": "#2a3f5f"
            },
            "baxis": {
             "endlinecolor": "#2a3f5f",
             "gridcolor": "white",
             "linecolor": "white",
             "minorgridcolor": "white",
             "startlinecolor": "#2a3f5f"
            },
            "type": "carpet"
           }
          ],
          "choropleth": [
           {
            "colorbar": {
             "outlinewidth": 0,
             "ticks": ""
            },
            "type": "choropleth"
           }
          ],
          "contour": [
           {
            "colorbar": {
             "outlinewidth": 0,
             "ticks": ""
            },
            "colorscale": [
             [
              0,
              "#0d0887"
             ],
             [
              0.1111111111111111,
              "#46039f"
             ],
             [
              0.2222222222222222,
              "#7201a8"
             ],
             [
              0.3333333333333333,
              "#9c179e"
             ],
             [
              0.4444444444444444,
              "#bd3786"
             ],
             [
              0.5555555555555556,
              "#d8576b"
             ],
             [
              0.6666666666666666,
              "#ed7953"
             ],
             [
              0.7777777777777778,
              "#fb9f3a"
             ],
             [
              0.8888888888888888,
              "#fdca26"
             ],
             [
              1,
              "#f0f921"
             ]
            ],
            "type": "contour"
           }
          ],
          "contourcarpet": [
           {
            "colorbar": {
             "outlinewidth": 0,
             "ticks": ""
            },
            "type": "contourcarpet"
           }
          ],
          "heatmap": [
           {
            "colorbar": {
             "outlinewidth": 0,
             "ticks": ""
            },
            "colorscale": [
             [
              0,
              "#0d0887"
             ],
             [
              0.1111111111111111,
              "#46039f"
             ],
             [
              0.2222222222222222,
              "#7201a8"
             ],
             [
              0.3333333333333333,
              "#9c179e"
             ],
             [
              0.4444444444444444,
              "#bd3786"
             ],
             [
              0.5555555555555556,
              "#d8576b"
             ],
             [
              0.6666666666666666,
              "#ed7953"
             ],
             [
              0.7777777777777778,
              "#fb9f3a"
             ],
             [
              0.8888888888888888,
              "#fdca26"
             ],
             [
              1,
              "#f0f921"
             ]
            ],
            "type": "heatmap"
           }
          ],
          "heatmapgl": [
           {
            "colorbar": {
             "outlinewidth": 0,
             "ticks": ""
            },
            "colorscale": [
             [
              0,
              "#0d0887"
             ],
             [
              0.1111111111111111,
              "#46039f"
             ],
             [
              0.2222222222222222,
              "#7201a8"
             ],
             [
              0.3333333333333333,
              "#9c179e"
             ],
             [
              0.4444444444444444,
              "#bd3786"
             ],
             [
              0.5555555555555556,
              "#d8576b"
             ],
             [
              0.6666666666666666,
              "#ed7953"
             ],
             [
              0.7777777777777778,
              "#fb9f3a"
             ],
             [
              0.8888888888888888,
              "#fdca26"
             ],
             [
              1,
              "#f0f921"
             ]
            ],
            "type": "heatmapgl"
           }
          ],
          "histogram": [
           {
            "marker": {
             "pattern": {
              "fillmode": "overlay",
              "size": 10,
              "solidity": 0.2
             }
            },
            "type": "histogram"
           }
          ],
          "histogram2d": [
           {
            "colorbar": {
             "outlinewidth": 0,
             "ticks": ""
            },
            "colorscale": [
             [
              0,
              "#0d0887"
             ],
             [
              0.1111111111111111,
              "#46039f"
             ],
             [
              0.2222222222222222,
              "#7201a8"
             ],
             [
              0.3333333333333333,
              "#9c179e"
             ],
             [
              0.4444444444444444,
              "#bd3786"
             ],
             [
              0.5555555555555556,
              "#d8576b"
             ],
             [
              0.6666666666666666,
              "#ed7953"
             ],
             [
              0.7777777777777778,
              "#fb9f3a"
             ],
             [
              0.8888888888888888,
              "#fdca26"
             ],
             [
              1,
              "#f0f921"
             ]
            ],
            "type": "histogram2d"
           }
          ],
          "histogram2dcontour": [
           {
            "colorbar": {
             "outlinewidth": 0,
             "ticks": ""
            },
            "colorscale": [
             [
              0,
              "#0d0887"
             ],
             [
              0.1111111111111111,
              "#46039f"
             ],
             [
              0.2222222222222222,
              "#7201a8"
             ],
             [
              0.3333333333333333,
              "#9c179e"
             ],
             [
              0.4444444444444444,
              "#bd3786"
             ],
             [
              0.5555555555555556,
              "#d8576b"
             ],
             [
              0.6666666666666666,
              "#ed7953"
             ],
             [
              0.7777777777777778,
              "#fb9f3a"
             ],
             [
              0.8888888888888888,
              "#fdca26"
             ],
             [
              1,
              "#f0f921"
             ]
            ],
            "type": "histogram2dcontour"
           }
          ],
          "mesh3d": [
           {
            "colorbar": {
             "outlinewidth": 0,
             "ticks": ""
            },
            "type": "mesh3d"
           }
          ],
          "parcoords": [
           {
            "line": {
             "colorbar": {
              "outlinewidth": 0,
              "ticks": ""
             }
            },
            "type": "parcoords"
           }
          ],
          "pie": [
           {
            "automargin": true,
            "type": "pie"
           }
          ],
          "scatter": [
           {
            "fillpattern": {
             "fillmode": "overlay",
             "size": 10,
             "solidity": 0.2
            },
            "type": "scatter"
           }
          ],
          "scatter3d": [
           {
            "line": {
             "colorbar": {
              "outlinewidth": 0,
              "ticks": ""
             }
            },
            "marker": {
             "colorbar": {
              "outlinewidth": 0,
              "ticks": ""
             }
            },
            "type": "scatter3d"
           }
          ],
          "scattercarpet": [
           {
            "marker": {
             "colorbar": {
              "outlinewidth": 0,
              "ticks": ""
             }
            },
            "type": "scattercarpet"
           }
          ],
          "scattergeo": [
           {
            "marker": {
             "colorbar": {
              "outlinewidth": 0,
              "ticks": ""
             }
            },
            "type": "scattergeo"
           }
          ],
          "scattergl": [
           {
            "marker": {
             "colorbar": {
              "outlinewidth": 0,
              "ticks": ""
             }
            },
            "type": "scattergl"
           }
          ],
          "scattermapbox": [
           {
            "marker": {
             "colorbar": {
              "outlinewidth": 0,
              "ticks": ""
             }
            },
            "type": "scattermapbox"
           }
          ],
          "scatterpolar": [
           {
            "marker": {
             "colorbar": {
              "outlinewidth": 0,
              "ticks": ""
             }
            },
            "type": "scatterpolar"
           }
          ],
          "scatterpolargl": [
           {
            "marker": {
             "colorbar": {
              "outlinewidth": 0,
              "ticks": ""
             }
            },
            "type": "scatterpolargl"
           }
          ],
          "scatterternary": [
           {
            "marker": {
             "colorbar": {
              "outlinewidth": 0,
              "ticks": ""
             }
            },
            "type": "scatterternary"
           }
          ],
          "surface": [
           {
            "colorbar": {
             "outlinewidth": 0,
             "ticks": ""
            },
            "colorscale": [
             [
              0,
              "#0d0887"
             ],
             [
              0.1111111111111111,
              "#46039f"
             ],
             [
              0.2222222222222222,
              "#7201a8"
             ],
             [
              0.3333333333333333,
              "#9c179e"
             ],
             [
              0.4444444444444444,
              "#bd3786"
             ],
             [
              0.5555555555555556,
              "#d8576b"
             ],
             [
              0.6666666666666666,
              "#ed7953"
             ],
             [
              0.7777777777777778,
              "#fb9f3a"
             ],
             [
              0.8888888888888888,
              "#fdca26"
             ],
             [
              1,
              "#f0f921"
             ]
            ],
            "type": "surface"
           }
          ],
          "table": [
           {
            "cells": {
             "fill": {
              "color": "#EBF0F8"
             },
             "line": {
              "color": "white"
             }
            },
            "header": {
             "fill": {
              "color": "#C8D4E3"
             },
             "line": {
              "color": "white"
             }
            },
            "type": "table"
           }
          ]
         },
         "layout": {
          "annotationdefaults": {
           "arrowcolor": "#2a3f5f",
           "arrowhead": 0,
           "arrowwidth": 1
          },
          "autotypenumbers": "strict",
          "coloraxis": {
           "colorbar": {
            "outlinewidth": 0,
            "ticks": ""
           }
          },
          "colorscale": {
           "diverging": [
            [
             0,
             "#8e0152"
            ],
            [
             0.1,
             "#c51b7d"
            ],
            [
             0.2,
             "#de77ae"
            ],
            [
             0.3,
             "#f1b6da"
            ],
            [
             0.4,
             "#fde0ef"
            ],
            [
             0.5,
             "#f7f7f7"
            ],
            [
             0.6,
             "#e6f5d0"
            ],
            [
             0.7,
             "#b8e186"
            ],
            [
             0.8,
             "#7fbc41"
            ],
            [
             0.9,
             "#4d9221"
            ],
            [
             1,
             "#276419"
            ]
           ],
           "sequential": [
            [
             0,
             "#0d0887"
            ],
            [
             0.1111111111111111,
             "#46039f"
            ],
            [
             0.2222222222222222,
             "#7201a8"
            ],
            [
             0.3333333333333333,
             "#9c179e"
            ],
            [
             0.4444444444444444,
             "#bd3786"
            ],
            [
             0.5555555555555556,
             "#d8576b"
            ],
            [
             0.6666666666666666,
             "#ed7953"
            ],
            [
             0.7777777777777778,
             "#fb9f3a"
            ],
            [
             0.8888888888888888,
             "#fdca26"
            ],
            [
             1,
             "#f0f921"
            ]
           ],
           "sequentialminus": [
            [
             0,
             "#0d0887"
            ],
            [
             0.1111111111111111,
             "#46039f"
            ],
            [
             0.2222222222222222,
             "#7201a8"
            ],
            [
             0.3333333333333333,
             "#9c179e"
            ],
            [
             0.4444444444444444,
             "#bd3786"
            ],
            [
             0.5555555555555556,
             "#d8576b"
            ],
            [
             0.6666666666666666,
             "#ed7953"
            ],
            [
             0.7777777777777778,
             "#fb9f3a"
            ],
            [
             0.8888888888888888,
             "#fdca26"
            ],
            [
             1,
             "#f0f921"
            ]
           ]
          },
          "colorway": [
           "#636efa",
           "#EF553B",
           "#00cc96",
           "#ab63fa",
           "#FFA15A",
           "#19d3f3",
           "#FF6692",
           "#B6E880",
           "#FF97FF",
           "#FECB52"
          ],
          "font": {
           "color": "#2a3f5f"
          },
          "geo": {
           "bgcolor": "white",
           "lakecolor": "white",
           "landcolor": "#E5ECF6",
           "showlakes": true,
           "showland": true,
           "subunitcolor": "white"
          },
          "hoverlabel": {
           "align": "left"
          },
          "hovermode": "closest",
          "mapbox": {
           "style": "light"
          },
          "paper_bgcolor": "white",
          "plot_bgcolor": "#E5ECF6",
          "polar": {
           "angularaxis": {
            "gridcolor": "white",
            "linecolor": "white",
            "ticks": ""
           },
           "bgcolor": "#E5ECF6",
           "radialaxis": {
            "gridcolor": "white",
            "linecolor": "white",
            "ticks": ""
           }
          },
          "scene": {
           "xaxis": {
            "backgroundcolor": "#E5ECF6",
            "gridcolor": "white",
            "gridwidth": 2,
            "linecolor": "white",
            "showbackground": true,
            "ticks": "",
            "zerolinecolor": "white"
           },
           "yaxis": {
            "backgroundcolor": "#E5ECF6",
            "gridcolor": "white",
            "gridwidth": 2,
            "linecolor": "white",
            "showbackground": true,
            "ticks": "",
            "zerolinecolor": "white"
           },
           "zaxis": {
            "backgroundcolor": "#E5ECF6",
            "gridcolor": "white",
            "gridwidth": 2,
            "linecolor": "white",
            "showbackground": true,
            "ticks": "",
            "zerolinecolor": "white"
           }
          },
          "shapedefaults": {
           "line": {
            "color": "#2a3f5f"
           }
          },
          "ternary": {
           "aaxis": {
            "gridcolor": "white",
            "linecolor": "white",
            "ticks": ""
           },
           "baxis": {
            "gridcolor": "white",
            "linecolor": "white",
            "ticks": ""
           },
           "bgcolor": "#E5ECF6",
           "caxis": {
            "gridcolor": "white",
            "linecolor": "white",
            "ticks": ""
           }
          },
          "title": {
           "x": 0.05
          },
          "xaxis": {
           "automargin": true,
           "gridcolor": "white",
           "linecolor": "white",
           "ticks": "",
           "title": {
            "standoff": 15
           },
           "zerolinecolor": "white",
           "zerolinewidth": 2
          },
          "yaxis": {
           "automargin": true,
           "gridcolor": "white",
           "linecolor": "white",
           "ticks": "",
           "title": {
            "standoff": 15
           },
           "zerolinecolor": "white",
           "zerolinewidth": 2
          }
         }
        },
        "width": 800
       }
      }
     },
     "metadata": {},
     "output_type": "display_data"
    }
   ],
   "source": [
    "import math\n",
    "sel=tall\n",
    "colnum=3\n",
    "rnum=math.ceil(len(sel)/colnum)\n",
    "fig = make_subplots(rows=rnum, cols=colnum, specs=[[{'type': 'polar'}]*colnum]*rnum)\n",
    "\n",
    "for i,team in enumerate(sel,1):\n",
    "    rr=math.ceil(i/colnum)\n",
    "    cc=i%colnum if i%colnum!=0 else colnum\n",
    "    fig.add_trace(to_polar(ranked,team,style)[2],rr,cc)\n",
    "\n",
    "fig.update_layout(polar={'radialaxis':{'visible':False}},showlegend=True)\n",
    "fig.update_layout(\n",
    "    autosize=False,\n",
    "    width=800,\n",
    "    height=1100,\n",
    ")\n",
    "fig.show()"
   ]
  }
 ],
 "metadata": {
  "kernelspec": {
   "display_name": ".venv",
   "language": "python",
   "name": "python3"
  },
  "language_info": {
   "codemirror_mode": {
    "name": "ipython",
    "version": 3
   },
   "file_extension": ".py",
   "mimetype": "text/x-python",
   "name": "python",
   "nbconvert_exporter": "python",
   "pygments_lexer": "ipython3",
   "version": "3.11.0"
  }
 },
 "nbformat": 4,
 "nbformat_minor": 2
}
